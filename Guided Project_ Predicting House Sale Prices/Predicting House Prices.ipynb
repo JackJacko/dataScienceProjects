{
 "cells": [
  {
   "cell_type": "markdown",
   "metadata": {},
   "source": [
    "# Predicting house prices using a Linear Regressor model\n",
    "The goal of this project is to apply a Linear Regressor model to a dataset of house sale listings and predict the asking price."
   ]
  },
  {
   "cell_type": "code",
   "execution_count": 135,
   "metadata": {},
   "outputs": [],
   "source": [
    "import numpy as np\n",
    "import pandas as pd\n",
    "import matplotlib.pyplot as plt\n",
    "%matplotlib inline\n",
    "from sklearn.metrics import mean_squared_error\n",
    "from sklearn.model_selection import cross_val_score, KFold\n",
    "from sklearn.linear_model import LinearRegression"
   ]
  },
  {
   "cell_type": "markdown",
   "metadata": {},
   "source": [
    "## Data read-in\n",
    "A description of all the columns of the dataset can be found [here](https://ww2.amstat.org/publications/jse/v19n3/decock/DataDocumentation.txt)."
   ]
  },
  {
   "cell_type": "code",
   "execution_count": 136,
   "metadata": {},
   "outputs": [
    {
     "data": {
      "text/html": [
       "<div>\n",
       "<style scoped>\n",
       "    .dataframe tbody tr th:only-of-type {\n",
       "        vertical-align: middle;\n",
       "    }\n",
       "\n",
       "    .dataframe tbody tr th {\n",
       "        vertical-align: top;\n",
       "    }\n",
       "\n",
       "    .dataframe thead th {\n",
       "        text-align: right;\n",
       "    }\n",
       "</style>\n",
       "<table border=\"1\" class=\"dataframe\">\n",
       "  <thead>\n",
       "    <tr style=\"text-align: right;\">\n",
       "      <th></th>\n",
       "      <th>Order</th>\n",
       "      <th>PID</th>\n",
       "      <th>MS SubClass</th>\n",
       "      <th>MS Zoning</th>\n",
       "      <th>Lot Frontage</th>\n",
       "      <th>Lot Area</th>\n",
       "      <th>Street</th>\n",
       "      <th>Alley</th>\n",
       "      <th>Lot Shape</th>\n",
       "      <th>Land Contour</th>\n",
       "      <th>...</th>\n",
       "      <th>Pool Area</th>\n",
       "      <th>Pool QC</th>\n",
       "      <th>Fence</th>\n",
       "      <th>Misc Feature</th>\n",
       "      <th>Misc Val</th>\n",
       "      <th>Mo Sold</th>\n",
       "      <th>Yr Sold</th>\n",
       "      <th>Sale Type</th>\n",
       "      <th>Sale Condition</th>\n",
       "      <th>SalePrice</th>\n",
       "    </tr>\n",
       "  </thead>\n",
       "  <tbody>\n",
       "    <tr>\n",
       "      <th>0</th>\n",
       "      <td>1</td>\n",
       "      <td>526301100</td>\n",
       "      <td>20</td>\n",
       "      <td>RL</td>\n",
       "      <td>141.0</td>\n",
       "      <td>31770</td>\n",
       "      <td>Pave</td>\n",
       "      <td>NaN</td>\n",
       "      <td>IR1</td>\n",
       "      <td>Lvl</td>\n",
       "      <td>...</td>\n",
       "      <td>0</td>\n",
       "      <td>NaN</td>\n",
       "      <td>NaN</td>\n",
       "      <td>NaN</td>\n",
       "      <td>0</td>\n",
       "      <td>5</td>\n",
       "      <td>2010</td>\n",
       "      <td>WD</td>\n",
       "      <td>Normal</td>\n",
       "      <td>215000</td>\n",
       "    </tr>\n",
       "    <tr>\n",
       "      <th>1</th>\n",
       "      <td>2</td>\n",
       "      <td>526350040</td>\n",
       "      <td>20</td>\n",
       "      <td>RH</td>\n",
       "      <td>80.0</td>\n",
       "      <td>11622</td>\n",
       "      <td>Pave</td>\n",
       "      <td>NaN</td>\n",
       "      <td>Reg</td>\n",
       "      <td>Lvl</td>\n",
       "      <td>...</td>\n",
       "      <td>0</td>\n",
       "      <td>NaN</td>\n",
       "      <td>MnPrv</td>\n",
       "      <td>NaN</td>\n",
       "      <td>0</td>\n",
       "      <td>6</td>\n",
       "      <td>2010</td>\n",
       "      <td>WD</td>\n",
       "      <td>Normal</td>\n",
       "      <td>105000</td>\n",
       "    </tr>\n",
       "    <tr>\n",
       "      <th>2</th>\n",
       "      <td>3</td>\n",
       "      <td>526351010</td>\n",
       "      <td>20</td>\n",
       "      <td>RL</td>\n",
       "      <td>81.0</td>\n",
       "      <td>14267</td>\n",
       "      <td>Pave</td>\n",
       "      <td>NaN</td>\n",
       "      <td>IR1</td>\n",
       "      <td>Lvl</td>\n",
       "      <td>...</td>\n",
       "      <td>0</td>\n",
       "      <td>NaN</td>\n",
       "      <td>NaN</td>\n",
       "      <td>Gar2</td>\n",
       "      <td>12500</td>\n",
       "      <td>6</td>\n",
       "      <td>2010</td>\n",
       "      <td>WD</td>\n",
       "      <td>Normal</td>\n",
       "      <td>172000</td>\n",
       "    </tr>\n",
       "    <tr>\n",
       "      <th>3</th>\n",
       "      <td>4</td>\n",
       "      <td>526353030</td>\n",
       "      <td>20</td>\n",
       "      <td>RL</td>\n",
       "      <td>93.0</td>\n",
       "      <td>11160</td>\n",
       "      <td>Pave</td>\n",
       "      <td>NaN</td>\n",
       "      <td>Reg</td>\n",
       "      <td>Lvl</td>\n",
       "      <td>...</td>\n",
       "      <td>0</td>\n",
       "      <td>NaN</td>\n",
       "      <td>NaN</td>\n",
       "      <td>NaN</td>\n",
       "      <td>0</td>\n",
       "      <td>4</td>\n",
       "      <td>2010</td>\n",
       "      <td>WD</td>\n",
       "      <td>Normal</td>\n",
       "      <td>244000</td>\n",
       "    </tr>\n",
       "    <tr>\n",
       "      <th>4</th>\n",
       "      <td>5</td>\n",
       "      <td>527105010</td>\n",
       "      <td>60</td>\n",
       "      <td>RL</td>\n",
       "      <td>74.0</td>\n",
       "      <td>13830</td>\n",
       "      <td>Pave</td>\n",
       "      <td>NaN</td>\n",
       "      <td>IR1</td>\n",
       "      <td>Lvl</td>\n",
       "      <td>...</td>\n",
       "      <td>0</td>\n",
       "      <td>NaN</td>\n",
       "      <td>MnPrv</td>\n",
       "      <td>NaN</td>\n",
       "      <td>0</td>\n",
       "      <td>3</td>\n",
       "      <td>2010</td>\n",
       "      <td>WD</td>\n",
       "      <td>Normal</td>\n",
       "      <td>189900</td>\n",
       "    </tr>\n",
       "  </tbody>\n",
       "</table>\n",
       "<p>5 rows × 82 columns</p>\n",
       "</div>"
      ],
      "text/plain": [
       "   Order        PID  MS SubClass MS Zoning  Lot Frontage  Lot Area Street  \\\n",
       "0      1  526301100           20        RL         141.0     31770   Pave   \n",
       "1      2  526350040           20        RH          80.0     11622   Pave   \n",
       "2      3  526351010           20        RL          81.0     14267   Pave   \n",
       "3      4  526353030           20        RL          93.0     11160   Pave   \n",
       "4      5  527105010           60        RL          74.0     13830   Pave   \n",
       "\n",
       "  Alley Lot Shape Land Contour    ...     Pool Area Pool QC  Fence  \\\n",
       "0   NaN       IR1          Lvl    ...             0     NaN    NaN   \n",
       "1   NaN       Reg          Lvl    ...             0     NaN  MnPrv   \n",
       "2   NaN       IR1          Lvl    ...             0     NaN    NaN   \n",
       "3   NaN       Reg          Lvl    ...             0     NaN    NaN   \n",
       "4   NaN       IR1          Lvl    ...             0     NaN  MnPrv   \n",
       "\n",
       "  Misc Feature Misc Val Mo Sold Yr Sold Sale Type  Sale Condition  SalePrice  \n",
       "0          NaN        0       5    2010       WD           Normal     215000  \n",
       "1          NaN        0       6    2010       WD           Normal     105000  \n",
       "2         Gar2    12500       6    2010       WD           Normal     172000  \n",
       "3          NaN        0       4    2010       WD           Normal     244000  \n",
       "4          NaN        0       3    2010       WD           Normal     189900  \n",
       "\n",
       "[5 rows x 82 columns]"
      ]
     },
     "execution_count": 136,
     "metadata": {},
     "output_type": "execute_result"
    }
   ],
   "source": [
    "data = pd.read_table(\"AmesHousing.tsv\")\n",
    "data.head()"
   ]
  },
  {
   "cell_type": "markdown",
   "metadata": {},
   "source": [
    "## Data Engineering\n",
    "In the first step of data engineering, features with over 50% null values are dropped outright."
   ]
  },
  {
   "cell_type": "code",
   "execution_count": 137,
   "metadata": {},
   "outputs": [],
   "source": [
    "null_nums = data.isnull().sum()\n",
    "expunge = null_nums[null_nums > data.shape[0]*.5]\n",
    "clean_data = data.drop(expunge.index, axis = 1)"
   ]
  },
  {
   "cell_type": "markdown",
   "metadata": {},
   "source": [
    "Next, let's deal with any null values in the numeric columns."
   ]
  },
  {
   "cell_type": "code",
   "execution_count": 138,
   "metadata": {},
   "outputs": [
    {
     "data": {
      "text/plain": [
       "Lot Frontage      490\n",
       "Mas Vnr Area       23\n",
       "BsmtFin SF 1        1\n",
       "BsmtFin SF 2        1\n",
       "Bsmt Unf SF         1\n",
       "Total Bsmt SF       1\n",
       "Bsmt Full Bath      2\n",
       "Bsmt Half Bath      2\n",
       "Garage Yr Blt     159\n",
       "Garage Cars         1\n",
       "Garage Area         1\n",
       "dtype: int64"
      ]
     },
     "execution_count": 138,
     "metadata": {},
     "output_type": "execute_result"
    }
   ],
   "source": [
    "numerics = clean_data.select_dtypes(include=[\"int64\",\"float64\"])\n",
    "missing_count = numerics.isnull().sum()\n",
    "missing = missing_count[missing_count > 0]\n",
    "missing"
   ]
  },
  {
   "cell_type": "markdown",
   "metadata": {},
   "source": [
    "Many house listings are missing the year in which the garage was built - very simply, this is likely to be because these houses have no garage at all. All the same, we must remove the null values so the mode of the column will be used to fill them in. We will try to convey the absence of a garage in an appropriate categorical column later on.\n",
    "\n",
    "With that done, let's display the mode for all other columns with null values and decide whether to use these to fill in what's missing."
   ]
  },
  {
   "cell_type": "code",
   "execution_count": 139,
   "metadata": {},
   "outputs": [
    {
     "data": {
      "text/html": [
       "<div>\n",
       "<style scoped>\n",
       "    .dataframe tbody tr th:only-of-type {\n",
       "        vertical-align: middle;\n",
       "    }\n",
       "\n",
       "    .dataframe tbody tr th {\n",
       "        vertical-align: top;\n",
       "    }\n",
       "\n",
       "    .dataframe thead th {\n",
       "        text-align: right;\n",
       "    }\n",
       "</style>\n",
       "<table border=\"1\" class=\"dataframe\">\n",
       "  <thead>\n",
       "    <tr style=\"text-align: right;\">\n",
       "      <th></th>\n",
       "      <th>Lot Frontage</th>\n",
       "      <th>Mas Vnr Area</th>\n",
       "      <th>BsmtFin SF 1</th>\n",
       "      <th>BsmtFin SF 2</th>\n",
       "      <th>Bsmt Unf SF</th>\n",
       "      <th>Total Bsmt SF</th>\n",
       "      <th>Bsmt Full Bath</th>\n",
       "      <th>Bsmt Half Bath</th>\n",
       "      <th>Garage Cars</th>\n",
       "      <th>Garage Area</th>\n",
       "    </tr>\n",
       "  </thead>\n",
       "  <tbody>\n",
       "    <tr>\n",
       "      <th>0</th>\n",
       "      <td>60.0</td>\n",
       "      <td>0.0</td>\n",
       "      <td>0.0</td>\n",
       "      <td>0.0</td>\n",
       "      <td>0.0</td>\n",
       "      <td>0.0</td>\n",
       "      <td>0.0</td>\n",
       "      <td>0.0</td>\n",
       "      <td>2.0</td>\n",
       "      <td>0.0</td>\n",
       "    </tr>\n",
       "  </tbody>\n",
       "</table>\n",
       "</div>"
      ],
      "text/plain": [
       "   Lot Frontage  Mas Vnr Area  BsmtFin SF 1  BsmtFin SF 2  Bsmt Unf SF  \\\n",
       "0          60.0           0.0           0.0           0.0          0.0   \n",
       "\n",
       "   Total Bsmt SF  Bsmt Full Bath  Bsmt Half Bath  Garage Cars  Garage Area  \n",
       "0            0.0             0.0             0.0          2.0          0.0  "
      ]
     },
     "execution_count": 139,
     "metadata": {},
     "output_type": "execute_result"
    }
   ],
   "source": [
    "# Fill in 'Garage Yr Blt' missing values\n",
    "clean_data[\"Garage Yr Blt\"] = clean_data[\"Garage Yr Blt\"].fillna(clean_data[\"Garage Yr Blt\"].mode().iloc[0])\n",
    "# Visualise mode of other columns with missing values\n",
    "numerics = clean_data.select_dtypes(include=[\"int64\",\"float64\"])\n",
    "missing_count = numerics.isnull().sum()\n",
    "missing = missing_count[missing_count > 0]\n",
    "numerics[missing.index].mode()"
   ]
  },
  {
   "cell_type": "markdown",
   "metadata": {},
   "source": [
    "Observations:\n",
    "- Lot frontage indicates the length of street connected to property (in linear feet). This should reasonably be non-zero in most cases, at least assuming that all houses are connected to a street.\n",
    "- Many of these columns have mode equal to zero, which most probably indicates the absence of the corresponding area.\n",
    "\n",
    "In general we find no obvious reasons not to choose the mode to fill in the missing values. Let's do so."
   ]
  },
  {
   "cell_type": "code",
   "execution_count": 140,
   "metadata": {},
   "outputs": [
    {
     "data": {
      "text/plain": [
       "Lot Frontage      0\n",
       "Mas Vnr Area      0\n",
       "BsmtFin SF 1      0\n",
       "BsmtFin SF 2      0\n",
       "Bsmt Unf SF       0\n",
       "Total Bsmt SF     0\n",
       "Bsmt Full Bath    0\n",
       "Bsmt Half Bath    0\n",
       "Garage Cars       0\n",
       "Garage Area       0\n",
       "dtype: int64"
      ]
     },
     "execution_count": 140,
     "metadata": {},
     "output_type": "execute_result"
    }
   ],
   "source": [
    "clean_data[missing.index] = clean_data[missing.index].fillna(clean_data[missing.index].mode().iloc[0])\n",
    "clean_data[missing.index].isnull().sum()"
   ]
  },
  {
   "cell_type": "code",
   "execution_count": 141,
   "metadata": {},
   "outputs": [
    {
     "data": {
      "text/html": [
       "<div>\n",
       "<style scoped>\n",
       "    .dataframe tbody tr th:only-of-type {\n",
       "        vertical-align: middle;\n",
       "    }\n",
       "\n",
       "    .dataframe tbody tr th {\n",
       "        vertical-align: top;\n",
       "    }\n",
       "\n",
       "    .dataframe thead th {\n",
       "        text-align: right;\n",
       "    }\n",
       "</style>\n",
       "<table border=\"1\" class=\"dataframe\">\n",
       "  <thead>\n",
       "    <tr style=\"text-align: right;\">\n",
       "      <th></th>\n",
       "      <th>Order</th>\n",
       "      <th>PID</th>\n",
       "      <th>MS SubClass</th>\n",
       "      <th>Lot Frontage</th>\n",
       "      <th>Lot Area</th>\n",
       "      <th>Overall Qual</th>\n",
       "      <th>Overall Cond</th>\n",
       "      <th>Year Built</th>\n",
       "      <th>Year Remod/Add</th>\n",
       "      <th>Mas Vnr Area</th>\n",
       "      <th>...</th>\n",
       "      <th>Garage Area</th>\n",
       "      <th>Wood Deck SF</th>\n",
       "      <th>Open Porch SF</th>\n",
       "      <th>Enclosed Porch</th>\n",
       "      <th>3Ssn Porch</th>\n",
       "      <th>Screen Porch</th>\n",
       "      <th>Pool Area</th>\n",
       "      <th>Misc Val</th>\n",
       "      <th>Mo Sold</th>\n",
       "      <th>Yr Sold</th>\n",
       "    </tr>\n",
       "  </thead>\n",
       "  <tbody>\n",
       "    <tr>\n",
       "      <th>0</th>\n",
       "      <td>0.000000</td>\n",
       "      <td>0.000000</td>\n",
       "      <td>0.000000</td>\n",
       "      <td>0.410959</td>\n",
       "      <td>0.142420</td>\n",
       "      <td>0.555556</td>\n",
       "      <td>0.500</td>\n",
       "      <td>0.637681</td>\n",
       "      <td>0.166667</td>\n",
       "      <td>0.0700</td>\n",
       "      <td>...</td>\n",
       "      <td>0.354839</td>\n",
       "      <td>0.147472</td>\n",
       "      <td>0.083558</td>\n",
       "      <td>0.0</td>\n",
       "      <td>0.0</td>\n",
       "      <td>0.000000</td>\n",
       "      <td>0.0</td>\n",
       "      <td>0.000000</td>\n",
       "      <td>0.363636</td>\n",
       "      <td>1.0</td>\n",
       "    </tr>\n",
       "    <tr>\n",
       "      <th>1</th>\n",
       "      <td>0.000341</td>\n",
       "      <td>0.000102</td>\n",
       "      <td>0.000000</td>\n",
       "      <td>0.202055</td>\n",
       "      <td>0.048246</td>\n",
       "      <td>0.444444</td>\n",
       "      <td>0.625</td>\n",
       "      <td>0.644928</td>\n",
       "      <td>0.183333</td>\n",
       "      <td>0.0000</td>\n",
       "      <td>...</td>\n",
       "      <td>0.490591</td>\n",
       "      <td>0.098315</td>\n",
       "      <td>0.000000</td>\n",
       "      <td>0.0</td>\n",
       "      <td>0.0</td>\n",
       "      <td>0.208333</td>\n",
       "      <td>0.0</td>\n",
       "      <td>0.000000</td>\n",
       "      <td>0.454545</td>\n",
       "      <td>1.0</td>\n",
       "    </tr>\n",
       "    <tr>\n",
       "      <th>2</th>\n",
       "      <td>0.000683</td>\n",
       "      <td>0.000104</td>\n",
       "      <td>0.000000</td>\n",
       "      <td>0.205479</td>\n",
       "      <td>0.060609</td>\n",
       "      <td>0.555556</td>\n",
       "      <td>0.625</td>\n",
       "      <td>0.623188</td>\n",
       "      <td>0.133333</td>\n",
       "      <td>0.0675</td>\n",
       "      <td>...</td>\n",
       "      <td>0.209677</td>\n",
       "      <td>0.275983</td>\n",
       "      <td>0.048518</td>\n",
       "      <td>0.0</td>\n",
       "      <td>0.0</td>\n",
       "      <td>0.000000</td>\n",
       "      <td>0.0</td>\n",
       "      <td>0.735294</td>\n",
       "      <td>0.454545</td>\n",
       "      <td>1.0</td>\n",
       "    </tr>\n",
       "    <tr>\n",
       "      <th>3</th>\n",
       "      <td>0.001024</td>\n",
       "      <td>0.000108</td>\n",
       "      <td>0.000000</td>\n",
       "      <td>0.246575</td>\n",
       "      <td>0.046087</td>\n",
       "      <td>0.666667</td>\n",
       "      <td>0.500</td>\n",
       "      <td>0.695652</td>\n",
       "      <td>0.300000</td>\n",
       "      <td>0.0000</td>\n",
       "      <td>...</td>\n",
       "      <td>0.350806</td>\n",
       "      <td>0.000000</td>\n",
       "      <td>0.000000</td>\n",
       "      <td>0.0</td>\n",
       "      <td>0.0</td>\n",
       "      <td>0.000000</td>\n",
       "      <td>0.0</td>\n",
       "      <td>0.000000</td>\n",
       "      <td>0.272727</td>\n",
       "      <td>1.0</td>\n",
       "    </tr>\n",
       "    <tr>\n",
       "      <th>4</th>\n",
       "      <td>0.001366</td>\n",
       "      <td>0.001672</td>\n",
       "      <td>0.235294</td>\n",
       "      <td>0.181507</td>\n",
       "      <td>0.058566</td>\n",
       "      <td>0.444444</td>\n",
       "      <td>0.500</td>\n",
       "      <td>0.905797</td>\n",
       "      <td>0.800000</td>\n",
       "      <td>0.0000</td>\n",
       "      <td>...</td>\n",
       "      <td>0.323925</td>\n",
       "      <td>0.148876</td>\n",
       "      <td>0.045822</td>\n",
       "      <td>0.0</td>\n",
       "      <td>0.0</td>\n",
       "      <td>0.000000</td>\n",
       "      <td>0.0</td>\n",
       "      <td>0.000000</td>\n",
       "      <td>0.181818</td>\n",
       "      <td>1.0</td>\n",
       "    </tr>\n",
       "  </tbody>\n",
       "</table>\n",
       "<p>5 rows × 38 columns</p>\n",
       "</div>"
      ],
      "text/plain": [
       "      Order       PID  MS SubClass  Lot Frontage  Lot Area  Overall Qual  \\\n",
       "0  0.000000  0.000000     0.000000      0.410959  0.142420      0.555556   \n",
       "1  0.000341  0.000102     0.000000      0.202055  0.048246      0.444444   \n",
       "2  0.000683  0.000104     0.000000      0.205479  0.060609      0.555556   \n",
       "3  0.001024  0.000108     0.000000      0.246575  0.046087      0.666667   \n",
       "4  0.001366  0.001672     0.235294      0.181507  0.058566      0.444444   \n",
       "\n",
       "   Overall Cond  Year Built  Year Remod/Add  Mas Vnr Area   ...     \\\n",
       "0         0.500    0.637681        0.166667        0.0700   ...      \n",
       "1         0.625    0.644928        0.183333        0.0000   ...      \n",
       "2         0.625    0.623188        0.133333        0.0675   ...      \n",
       "3         0.500    0.695652        0.300000        0.0000   ...      \n",
       "4         0.500    0.905797        0.800000        0.0000   ...      \n",
       "\n",
       "   Garage Area  Wood Deck SF  Open Porch SF  Enclosed Porch  3Ssn Porch  \\\n",
       "0     0.354839      0.147472       0.083558             0.0         0.0   \n",
       "1     0.490591      0.098315       0.000000             0.0         0.0   \n",
       "2     0.209677      0.275983       0.048518             0.0         0.0   \n",
       "3     0.350806      0.000000       0.000000             0.0         0.0   \n",
       "4     0.323925      0.148876       0.045822             0.0         0.0   \n",
       "\n",
       "   Screen Porch  Pool Area  Misc Val   Mo Sold  Yr Sold  \n",
       "0      0.000000        0.0  0.000000  0.363636      1.0  \n",
       "1      0.208333        0.0  0.000000  0.454545      1.0  \n",
       "2      0.000000        0.0  0.735294  0.454545      1.0  \n",
       "3      0.000000        0.0  0.000000  0.272727      1.0  \n",
       "4      0.000000        0.0  0.000000  0.181818      1.0  \n",
       "\n",
       "[5 rows x 38 columns]"
      ]
     },
     "execution_count": 141,
     "metadata": {},
     "output_type": "execute_result"
    }
   ],
   "source": [
    "rescale_cols = numerics.columns.drop(\"SalePrice\")\n",
    "clean_data[rescale_cols] = (clean_data[rescale_cols]-clean_data[rescale_cols].min())/(clean_data[rescale_cols].max()-clean_data[rescale_cols].min())\n",
    "clean_data[rescale_cols].head()"
   ]
  },
  {
   "cell_type": "markdown",
   "metadata": {},
   "source": [
    "Next, let's deal with any null values in the categorical columns."
   ]
  },
  {
   "cell_type": "code",
   "execution_count": 142,
   "metadata": {},
   "outputs": [
    {
     "data": {
      "text/plain": [
       "Mas Vnr Type        23\n",
       "Bsmt Qual           80\n",
       "Bsmt Cond           80\n",
       "Bsmt Exposure       83\n",
       "BsmtFin Type 1      80\n",
       "BsmtFin Type 2      81\n",
       "Electrical           1\n",
       "Fireplace Qu      1422\n",
       "Garage Type        157\n",
       "Garage Finish      159\n",
       "Garage Qual        159\n",
       "Garage Cond        159\n",
       "dtype: int64"
      ]
     },
     "execution_count": 142,
     "metadata": {},
     "output_type": "execute_result"
    }
   ],
   "source": [
    "strings = clean_data.select_dtypes(include=[\"object\"])\n",
    "missing_count = strings.isnull().sum()\n",
    "missing = missing_count[missing_count > 0]\n",
    "missing"
   ]
  },
  {
   "cell_type": "markdown",
   "metadata": {},
   "source": [
    "There's a lone missing value in the 'Electrical' column which we'll fill with the mode for the column. \n",
    "\n",
    "Missing numbers in all other columns are consistent (cfr. corresponding numeric missing values) and likely indicate houses with no corresponding feature. We'll fill these in as \"Not present\" to generate an appropriate category."
   ]
  },
  {
   "cell_type": "code",
   "execution_count": 143,
   "metadata": {},
   "outputs": [
    {
     "data": {
      "text/plain": [
       "Mas Vnr Type      0\n",
       "Bsmt Qual         0\n",
       "Bsmt Cond         0\n",
       "Bsmt Exposure     0\n",
       "BsmtFin Type 1    0\n",
       "BsmtFin Type 2    0\n",
       "Fireplace Qu      0\n",
       "Garage Type       0\n",
       "Garage Finish     0\n",
       "Garage Qual       0\n",
       "Garage Cond       0\n",
       "dtype: int64"
      ]
     },
     "execution_count": 143,
     "metadata": {},
     "output_type": "execute_result"
    }
   ],
   "source": [
    "# Fill in 'Electrical' missing value\n",
    "clean_data[\"Electrical\"] = clean_data[\"Electrical\"].fillna(clean_data[\"Electrical\"].mode().iloc[0])\n",
    "# Fill in other missing values with \"Not present\"\n",
    "strings = clean_data.select_dtypes(include=[\"object\"])\n",
    "missing_count = strings.isnull().sum()\n",
    "missing = missing_count[missing_count > 0]\n",
    "clean_data[missing.index] = clean_data[missing.index].fillna(\"Not present\")\n",
    "clean_data[missing.index].isnull().sum()"
   ]
  },
  {
   "cell_type": "markdown",
   "metadata": {},
   "source": [
    "The columns containing values for the years of construction/renovation would be more meaningful if expressed as the number of years between being constructed/renovated and being sold."
   ]
  },
  {
   "cell_type": "code",
   "execution_count": 144,
   "metadata": {},
   "outputs": [],
   "source": [
    "clean_data[\"Grg Years Since Built\"] = clean_data[\"Yr Sold\"] - clean_data[\"Garage Yr Blt\"]\n",
    "clean_data[\"Years Since Built\"] = clean_data[\"Yr Sold\"] - clean_data[\"Year Built\"]\n",
    "clean_data[\"Years Since Renovation\"] = clean_data[\"Yr Sold\"] - clean_data[\"Year Remod/Add\"]"
   ]
  },
  {
   "cell_type": "markdown",
   "metadata": {},
   "source": [
    "We can now drop both superfluous and obsolete columns:\n",
    "- \"Order\",\"PID\",\"Mo Sold\",\"Yr Sold\",\"Sale Type\" and \"Sale Condition\" contain values with no effect on the final pricing of the house, and are thus superfluous.\n",
    "- \"Garage Yr Blt\",\"Year Built\" and \"Year Remod/Add\" have been modified into new variables, and are now obsolete."
   ]
  },
  {
   "cell_type": "code",
   "execution_count": 145,
   "metadata": {},
   "outputs": [],
   "source": [
    "to_be_dropped = [\"Order\",\"PID\",\"Mo Sold\",\"Yr Sold\",\"Sale Type\",\"Sale Condition\",\"Garage Yr Blt\",\"Year Built\",\"Year Remod/Add\"]\n",
    "clean_data = clean_data.drop(to_be_dropped, axis = 1)"
   ]
  },
  {
   "cell_type": "markdown",
   "metadata": {},
   "source": [
    "Finally we must rescale the numeric columns so that all of them share the same (0,1) range."
   ]
  },
  {
   "cell_type": "code",
   "execution_count": 146,
   "metadata": {},
   "outputs": [
    {
     "data": {
      "text/html": [
       "<div>\n",
       "<style scoped>\n",
       "    .dataframe tbody tr th:only-of-type {\n",
       "        vertical-align: middle;\n",
       "    }\n",
       "\n",
       "    .dataframe tbody tr th {\n",
       "        vertical-align: top;\n",
       "    }\n",
       "\n",
       "    .dataframe thead th {\n",
       "        text-align: right;\n",
       "    }\n",
       "</style>\n",
       "<table border=\"1\" class=\"dataframe\">\n",
       "  <thead>\n",
       "    <tr style=\"text-align: right;\">\n",
       "      <th></th>\n",
       "      <th>MS SubClass</th>\n",
       "      <th>Lot Frontage</th>\n",
       "      <th>Lot Area</th>\n",
       "      <th>Overall Qual</th>\n",
       "      <th>Overall Cond</th>\n",
       "      <th>Mas Vnr Area</th>\n",
       "      <th>BsmtFin SF 1</th>\n",
       "      <th>BsmtFin SF 2</th>\n",
       "      <th>Bsmt Unf SF</th>\n",
       "      <th>Total Bsmt SF</th>\n",
       "      <th>...</th>\n",
       "      <th>Wood Deck SF</th>\n",
       "      <th>Open Porch SF</th>\n",
       "      <th>Enclosed Porch</th>\n",
       "      <th>3Ssn Porch</th>\n",
       "      <th>Screen Porch</th>\n",
       "      <th>Pool Area</th>\n",
       "      <th>Misc Val</th>\n",
       "      <th>Grg Years Since Built</th>\n",
       "      <th>Years Since Built</th>\n",
       "      <th>Years Since Renovation</th>\n",
       "    </tr>\n",
       "  </thead>\n",
       "  <tbody>\n",
       "    <tr>\n",
       "      <th>0</th>\n",
       "      <td>0.000000</td>\n",
       "      <td>0.410959</td>\n",
       "      <td>0.142420</td>\n",
       "      <td>0.555556</td>\n",
       "      <td>0.500</td>\n",
       "      <td>0.0700</td>\n",
       "      <td>0.113218</td>\n",
       "      <td>0.000000</td>\n",
       "      <td>0.188784</td>\n",
       "      <td>0.176759</td>\n",
       "      <td>...</td>\n",
       "      <td>0.147472</td>\n",
       "      <td>0.083558</td>\n",
       "      <td>0.0</td>\n",
       "      <td>0.0</td>\n",
       "      <td>0.000000</td>\n",
       "      <td>0.0</td>\n",
       "      <td>0.000000</td>\n",
       "      <td>0.882569</td>\n",
       "      <td>0.684015</td>\n",
       "      <td>0.913793</td>\n",
       "    </tr>\n",
       "    <tr>\n",
       "      <th>1</th>\n",
       "      <td>0.000000</td>\n",
       "      <td>0.202055</td>\n",
       "      <td>0.048246</td>\n",
       "      <td>0.444444</td>\n",
       "      <td>0.625</td>\n",
       "      <td>0.0000</td>\n",
       "      <td>0.082920</td>\n",
       "      <td>0.094364</td>\n",
       "      <td>0.115582</td>\n",
       "      <td>0.144354</td>\n",
       "      <td>...</td>\n",
       "      <td>0.098315</td>\n",
       "      <td>0.000000</td>\n",
       "      <td>0.0</td>\n",
       "      <td>0.0</td>\n",
       "      <td>0.208333</td>\n",
       "      <td>0.0</td>\n",
       "      <td>0.000000</td>\n",
       "      <td>0.880734</td>\n",
       "      <td>0.680297</td>\n",
       "      <td>0.905172</td>\n",
       "    </tr>\n",
       "    <tr>\n",
       "      <th>2</th>\n",
       "      <td>0.000000</td>\n",
       "      <td>0.205479</td>\n",
       "      <td>0.060609</td>\n",
       "      <td>0.555556</td>\n",
       "      <td>0.625</td>\n",
       "      <td>0.0675</td>\n",
       "      <td>0.163536</td>\n",
       "      <td>0.000000</td>\n",
       "      <td>0.173801</td>\n",
       "      <td>0.217512</td>\n",
       "      <td>...</td>\n",
       "      <td>0.275983</td>\n",
       "      <td>0.048518</td>\n",
       "      <td>0.0</td>\n",
       "      <td>0.0</td>\n",
       "      <td>0.000000</td>\n",
       "      <td>0.0</td>\n",
       "      <td>0.735294</td>\n",
       "      <td>0.886239</td>\n",
       "      <td>0.691450</td>\n",
       "      <td>0.931034</td>\n",
       "    </tr>\n",
       "    <tr>\n",
       "      <th>3</th>\n",
       "      <td>0.000000</td>\n",
       "      <td>0.246575</td>\n",
       "      <td>0.046087</td>\n",
       "      <td>0.666667</td>\n",
       "      <td>0.500</td>\n",
       "      <td>0.0000</td>\n",
       "      <td>0.188696</td>\n",
       "      <td>0.000000</td>\n",
       "      <td>0.447346</td>\n",
       "      <td>0.345336</td>\n",
       "      <td>...</td>\n",
       "      <td>0.000000</td>\n",
       "      <td>0.000000</td>\n",
       "      <td>0.0</td>\n",
       "      <td>0.0</td>\n",
       "      <td>0.000000</td>\n",
       "      <td>0.0</td>\n",
       "      <td>0.000000</td>\n",
       "      <td>0.867890</td>\n",
       "      <td>0.654275</td>\n",
       "      <td>0.844828</td>\n",
       "    </tr>\n",
       "    <tr>\n",
       "      <th>4</th>\n",
       "      <td>0.235294</td>\n",
       "      <td>0.181507</td>\n",
       "      <td>0.058566</td>\n",
       "      <td>0.444444</td>\n",
       "      <td>0.500</td>\n",
       "      <td>0.0000</td>\n",
       "      <td>0.140149</td>\n",
       "      <td>0.000000</td>\n",
       "      <td>0.058647</td>\n",
       "      <td>0.151882</td>\n",
       "      <td>...</td>\n",
       "      <td>0.148876</td>\n",
       "      <td>0.045822</td>\n",
       "      <td>0.0</td>\n",
       "      <td>0.0</td>\n",
       "      <td>0.000000</td>\n",
       "      <td>0.0</td>\n",
       "      <td>0.000000</td>\n",
       "      <td>0.814679</td>\n",
       "      <td>0.546468</td>\n",
       "      <td>0.586207</td>\n",
       "    </tr>\n",
       "  </tbody>\n",
       "</table>\n",
       "<p>5 rows × 34 columns</p>\n",
       "</div>"
      ],
      "text/plain": [
       "   MS SubClass  Lot Frontage  Lot Area  Overall Qual  Overall Cond  \\\n",
       "0     0.000000      0.410959  0.142420      0.555556         0.500   \n",
       "1     0.000000      0.202055  0.048246      0.444444         0.625   \n",
       "2     0.000000      0.205479  0.060609      0.555556         0.625   \n",
       "3     0.000000      0.246575  0.046087      0.666667         0.500   \n",
       "4     0.235294      0.181507  0.058566      0.444444         0.500   \n",
       "\n",
       "   Mas Vnr Area  BsmtFin SF 1  BsmtFin SF 2  Bsmt Unf SF  Total Bsmt SF  \\\n",
       "0        0.0700      0.113218      0.000000     0.188784       0.176759   \n",
       "1        0.0000      0.082920      0.094364     0.115582       0.144354   \n",
       "2        0.0675      0.163536      0.000000     0.173801       0.217512   \n",
       "3        0.0000      0.188696      0.000000     0.447346       0.345336   \n",
       "4        0.0000      0.140149      0.000000     0.058647       0.151882   \n",
       "\n",
       "            ...            Wood Deck SF  Open Porch SF  Enclosed Porch  \\\n",
       "0           ...                0.147472       0.083558             0.0   \n",
       "1           ...                0.098315       0.000000             0.0   \n",
       "2           ...                0.275983       0.048518             0.0   \n",
       "3           ...                0.000000       0.000000             0.0   \n",
       "4           ...                0.148876       0.045822             0.0   \n",
       "\n",
       "   3Ssn Porch  Screen Porch  Pool Area  Misc Val  Grg Years Since Built  \\\n",
       "0         0.0      0.000000        0.0  0.000000               0.882569   \n",
       "1         0.0      0.208333        0.0  0.000000               0.880734   \n",
       "2         0.0      0.000000        0.0  0.735294               0.886239   \n",
       "3         0.0      0.000000        0.0  0.000000               0.867890   \n",
       "4         0.0      0.000000        0.0  0.000000               0.814679   \n",
       "\n",
       "   Years Since Built  Years Since Renovation  \n",
       "0           0.684015                0.913793  \n",
       "1           0.680297                0.905172  \n",
       "2           0.691450                0.931034  \n",
       "3           0.654275                0.844828  \n",
       "4           0.546468                0.586207  \n",
       "\n",
       "[5 rows x 34 columns]"
      ]
     },
     "execution_count": 146,
     "metadata": {},
     "output_type": "execute_result"
    }
   ],
   "source": [
    "numerics = clean_data.select_dtypes(include=[\"int64\",\"float64\"])\n",
    "rescale_cols = numerics.columns.drop(\"SalePrice\")\n",
    "clean_data[rescale_cols] = (clean_data[rescale_cols]-clean_data[rescale_cols].min())/(clean_data[rescale_cols].max()-clean_data[rescale_cols].min())\n",
    "clean_data[rescale_cols].head()"
   ]
  },
  {
   "cell_type": "markdown",
   "metadata": {},
   "source": [
    "## Feature selection"
   ]
  },
  {
   "cell_type": "markdown",
   "metadata": {},
   "source": [
    "We should get rid of variables which are dominated by a single value, since this will offer very little in terms of predictive power. Similarly, we should get rid of variables with dozens of different possible values as they will bog down the model once expanded in their corresponding dummy columns."
   ]
  },
  {
   "cell_type": "code",
   "execution_count": 147,
   "metadata": {},
   "outputs": [],
   "source": [
    "def expunge_list(df):\n",
    "    cols = df.columns\n",
    "    ret = []\n",
    "    for c in cols:\n",
    "        uniques = df[c].value_counts().shape[0]\n",
    "        skew = df[c].value_counts().iloc[0]/df.shape[0]\n",
    "        if uniques > 30 or skew > .9:\n",
    "            ret.append(c)\n",
    "    return ret"
   ]
  },
  {
   "cell_type": "code",
   "execution_count": 148,
   "metadata": {},
   "outputs": [
    {
     "data": {
      "text/plain": [
       "['Street',\n",
       " 'Utilities',\n",
       " 'Land Slope',\n",
       " 'Condition 2',\n",
       " 'Roof Matl',\n",
       " 'Heating',\n",
       " 'Central Air',\n",
       " 'Electrical',\n",
       " 'Functional',\n",
       " 'Garage Cond',\n",
       " 'Paved Drive']"
      ]
     },
     "execution_count": 148,
     "metadata": {},
     "output_type": "execute_result"
    }
   ],
   "source": [
    "expunge_strings = expunge_list(strings)\n",
    "expunge_strings"
   ]
  },
  {
   "cell_type": "code",
   "execution_count": 149,
   "metadata": {},
   "outputs": [],
   "source": [
    "clean_data = clean_data.drop(expunge_strings, axis = 1)"
   ]
  },
  {
   "cell_type": "markdown",
   "metadata": {},
   "source": [
    "We can now expand the categorical columns into dummy columns. Once that is done, the original columns may be dropped."
   ]
  },
  {
   "cell_type": "code",
   "execution_count": 150,
   "metadata": {},
   "outputs": [],
   "source": [
    "string_cols = clean_data.select_dtypes(include=[\"object\"]).columns\n",
    "for c in string_cols:\n",
    "    clean_data = pd.concat([clean_data,pd.get_dummies(clean_data[c],prefix=c)], axis = 1)\n",
    "    del clean_data[c]    "
   ]
  },
  {
   "cell_type": "markdown",
   "metadata": {},
   "source": [
    "Instead of using all these features together, let's try to find ways to identify just the best among them. We can use the correlation coefficients to find which features have the most predictive strength."
   ]
  },
  {
   "cell_type": "code",
   "execution_count": 151,
   "metadata": {},
   "outputs": [],
   "source": [
    "feature_corr_coeffs = clean_data.corr()[\"SalePrice\"].abs().sort_values()"
   ]
  },
  {
   "cell_type": "code",
   "execution_count": 152,
   "metadata": {},
   "outputs": [
    {
     "data": {
      "text/plain": [
       "229"
      ]
     },
     "execution_count": 152,
     "metadata": {},
     "output_type": "execute_result"
    }
   ],
   "source": [
    "feature_corr_coeffs.shape[0]"
   ]
  },
  {
   "cell_type": "code",
   "execution_count": 161,
   "metadata": {},
   "outputs": [
    {
     "data": {
      "text/plain": [
       "27"
      ]
     },
     "execution_count": 161,
     "metadata": {},
     "output_type": "execute_result"
    }
   ],
   "source": [
    "target = \"SalePrice\"\n",
    "# Only select features with correlation coefficient > .4\n",
    "best_features = [x for x in feature_corr_coeffs[feature_corr_coeffs > .4].index if x != target]\n",
    "len(best_features)"
   ]
  },
  {
   "cell_type": "markdown",
   "metadata": {},
   "source": [
    "## Predictions and performance test"
   ]
  },
  {
   "cell_type": "code",
   "execution_count": 162,
   "metadata": {},
   "outputs": [],
   "source": [
    "def train_and_test(df,feats,target,k):\n",
    "    # Check for wrong fold parameter input\n",
    "    if k > 0 and type(k) == int:\n",
    "        pass\n",
    "    else:\n",
    "        print(\"Fold parameter must be 0 or greater\")\n",
    "        return None\n",
    "    ### Let's make a custom fold selection feature\n",
    "    lr = LinearRegression()\n",
    "    # If k == 1, let's make this a holdout validation with no cross-validation (what we already have)\n",
    "    if k == 1:\n",
    "        length = df.shape[0]\n",
    "        half_len = int(np.ceil(length/2))\n",
    "        train = df.iloc[:half_len]\n",
    "        test = df.iloc[half_len:]\n",
    "        lr.fit(train[feats],train[target])\n",
    "        preds = lr.predict(test[feats])\n",
    "        return np.sqrt(mean_squared_error(test[target],preds))\n",
    "    # In all other cases, we can use the KFold tools from sklearn\n",
    "    else:\n",
    "        kf = KFold(k, shuffle=True)\n",
    "        mses = cross_val_score(lr, df[feats], df[target], scoring=\"neg_mean_squared_error\", cv=kf)\n",
    "        rmses = np.sqrt(np.absolute(mses))\n",
    "        return np.mean(rmses), np.std(rmses)"
   ]
  },
  {
   "cell_type": "code",
   "execution_count": 163,
   "metadata": {},
   "outputs": [
    {
     "name": "stdout",
     "output_type": "stream",
     "text": [
      "38301.81217395522\n"
     ]
    }
   ],
   "source": [
    "rmse = train_and_test(clean_data,best_features,target,1)\n",
    "print(rmse)"
   ]
  },
  {
   "cell_type": "code",
   "execution_count": 171,
   "metadata": {},
   "outputs": [
    {
     "name": "stdout",
     "output_type": "stream",
     "text": [
      "31803.847684177585 \n",
      " 4827.980187192256\n"
     ]
    }
   ],
   "source": [
    "avg_rmse, std_rmse = train_and_test(clean_data,best_features,target,3)\n",
    "print(avg_rmse,\"\\n\",std_rmse)"
   ]
  }
 ],
 "metadata": {
  "anaconda-cloud": {},
  "kernelspec": {
   "display_name": "Python 3",
   "language": "python",
   "name": "python3"
  },
  "language_info": {
   "codemirror_mode": {
    "name": "ipython",
    "version": 3
   },
   "file_extension": ".py",
   "mimetype": "text/x-python",
   "name": "python",
   "nbconvert_exporter": "python",
   "pygments_lexer": "ipython3",
   "version": "3.6.5"
  }
 },
 "nbformat": 4,
 "nbformat_minor": 2
}
