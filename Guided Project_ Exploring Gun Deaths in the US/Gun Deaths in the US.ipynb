{
 "cells": [
  {
   "cell_type": "markdown",
   "metadata": {},
   "source": [
    "# Investigating Gun Deaths in the US\n",
    "In this project we'll be looking at a dataset of gun deaths statistics for the US. The goal is to organize the data, then explore it by categories such as intent (suicide, homicide, accidental) and/or race, sex and education of the victim."
   ]
  },
  {
   "cell_type": "markdown",
   "metadata": {},
   "source": [
    "### Data read-in"
   ]
  },
  {
   "cell_type": "code",
   "execution_count": 41,
   "metadata": {},
   "outputs": [],
   "source": [
    "import csv"
   ]
  },
  {
   "cell_type": "code",
   "execution_count": 42,
   "metadata": {},
   "outputs": [
    {
     "data": {
      "text/plain": [
       "[['',\n",
       "  'year',\n",
       "  'month',\n",
       "  'intent',\n",
       "  'police',\n",
       "  'sex',\n",
       "  'age',\n",
       "  'race',\n",
       "  'hispanic',\n",
       "  'place',\n",
       "  'education'],\n",
       " ['1',\n",
       "  '2012',\n",
       "  '01',\n",
       "  'Suicide',\n",
       "  '0',\n",
       "  'M',\n",
       "  '34',\n",
       "  'Asian/Pacific Islander',\n",
       "  '100',\n",
       "  'Home',\n",
       "  '4'],\n",
       " ['2', '2012', '01', 'Suicide', '0', 'F', '21', 'White', '100', 'Street', '3'],\n",
       " ['3',\n",
       "  '2012',\n",
       "  '01',\n",
       "  'Suicide',\n",
       "  '0',\n",
       "  'M',\n",
       "  '60',\n",
       "  'White',\n",
       "  '100',\n",
       "  'Other specified',\n",
       "  '4'],\n",
       " ['4', '2012', '02', 'Suicide', '0', 'M', '64', 'White', '100', 'Home', '4']]"
      ]
     },
     "execution_count": 42,
     "metadata": {},
     "output_type": "execute_result"
    }
   ],
   "source": [
    "# Let's import the data and check how it looks.\n",
    "data = list(csv.reader(open(\"guns.csv\", \"r\")))\n",
    "data[:5]"
   ]
  },
  {
   "cell_type": "code",
   "execution_count": 43,
   "metadata": {},
   "outputs": [],
   "source": [
    "#Let's separate the column headers from the data.\n",
    "headers = data[0]\n",
    "data = data[1:]"
   ]
  },
  {
   "cell_type": "code",
   "execution_count": 44,
   "metadata": {},
   "outputs": [
    {
     "data": {
      "text/plain": [
       "['',\n",
       " 'year',\n",
       " 'month',\n",
       " 'intent',\n",
       " 'police',\n",
       " 'sex',\n",
       " 'age',\n",
       " 'race',\n",
       " 'hispanic',\n",
       " 'place',\n",
       " 'education']"
      ]
     },
     "execution_count": 44,
     "metadata": {},
     "output_type": "execute_result"
    }
   ],
   "source": [
    "headers"
   ]
  },
  {
   "cell_type": "code",
   "execution_count": 45,
   "metadata": {},
   "outputs": [
    {
     "data": {
      "text/plain": [
       "[['1',\n",
       "  '2012',\n",
       "  '01',\n",
       "  'Suicide',\n",
       "  '0',\n",
       "  'M',\n",
       "  '34',\n",
       "  'Asian/Pacific Islander',\n",
       "  '100',\n",
       "  'Home',\n",
       "  '4'],\n",
       " ['2', '2012', '01', 'Suicide', '0', 'F', '21', 'White', '100', 'Street', '3'],\n",
       " ['3',\n",
       "  '2012',\n",
       "  '01',\n",
       "  'Suicide',\n",
       "  '0',\n",
       "  'M',\n",
       "  '60',\n",
       "  'White',\n",
       "  '100',\n",
       "  'Other specified',\n",
       "  '4'],\n",
       " ['4', '2012', '02', 'Suicide', '0', 'M', '64', 'White', '100', 'Home', '4'],\n",
       " ['5',\n",
       "  '2012',\n",
       "  '02',\n",
       "  'Suicide',\n",
       "  '0',\n",
       "  'M',\n",
       "  '31',\n",
       "  'White',\n",
       "  '100',\n",
       "  'Other specified',\n",
       "  '2']]"
      ]
     },
     "execution_count": 45,
     "metadata": {},
     "output_type": "execute_result"
    }
   ],
   "source": [
    "data[:5]"
   ]
  },
  {
   "cell_type": "markdown",
   "metadata": {},
   "source": [
    "### Gun deaths by year and month\n",
    "For the first task, we'll check if there are any significant temporal trends over the three years span of the dataset. "
   ]
  },
  {
   "cell_type": "code",
   "execution_count": 46,
   "metadata": {},
   "outputs": [],
   "source": [
    "years = [x[1] for x in data]"
   ]
  },
  {
   "cell_type": "code",
   "execution_count": 47,
   "metadata": {},
   "outputs": [
    {
     "data": {
      "text/plain": [
       "{'2012': 33563, '2013': 33636, '2014': 33599}"
      ]
     },
     "execution_count": 47,
     "metadata": {},
     "output_type": "execute_result"
    }
   ],
   "source": [
    "year_counts = {}\n",
    "for y in years:\n",
    "    if y in year_counts:\n",
    "        year_counts[y] += 1\n",
    "    else:\n",
    "        year_counts[y] = 1\n",
    "year_counts"
   ]
  },
  {
   "cell_type": "code",
   "execution_count": 48,
   "metadata": {},
   "outputs": [],
   "source": [
    "import matplotlib.pyplot as plt\n",
    "%matplotlib inline\n",
    "from numpy import arange"
   ]
  },
  {
   "cell_type": "code",
   "execution_count": 52,
   "metadata": {},
   "outputs": [
    {
     "data": {
      "text/plain": [
       "Text(0.5,1,'Gun-related deaths by year')"
      ]
     },
     "execution_count": 52,
     "metadata": {},
     "output_type": "execute_result"
    },
    {
     "data": {
      "image/png": "[encoded data removed]",
      "text/plain": [
       "<Figure size 432x288 with 1 Axes>"
      ]
     },
     "metadata": {},
     "output_type": "display_data"
    }
   ],
   "source": [
    "fig, axes = plt.subplots()\n",
    "axes.bar(arange(len(year_counts))+.4,height=list(year_counts.values()),width=.8,color=plt.cm.Accent(0))\n",
    "axes.set_ylim([30000,34000])\n",
    "axes.set_xticks(arange(len(year_counts))+.4)\n",
    "axes.set_xticklabels(year_counts.keys())\n",
    "axes.set_ylabel(\"Number of gun-related deaths\")\n",
    "axes.set_title(\"Gun-related deaths by year\")"
   ]
  },
  {
   "cell_type": "markdown",
   "metadata": {},
   "source": [
    "Gun deaths seem rather uniform over the 2012-2014 period. Let's further check our data month by month. We can use the datetime library to convert the individual date components in our dataset into datetime objects."
   ]
  },
  {
   "cell_type": "code",
   "execution_count": 53,
   "metadata": {},
   "outputs": [
    {
     "data": {
      "text/plain": [
       "[datetime.datetime(2012, 1, 1, 0, 0),\n",
       " datetime.datetime(2012, 1, 1, 0, 0),\n",
       " datetime.datetime(2012, 1, 1, 0, 0),\n",
       " datetime.datetime(2012, 2, 1, 0, 0),\n",
       " datetime.datetime(2012, 2, 1, 0, 0)]"
      ]
     },
     "execution_count": 53,
     "metadata": {},
     "output_type": "execute_result"
    }
   ],
   "source": [
    "import datetime\n",
    "dates = [datetime.datetime(year=int(x[1]),month=int(x[2]),day=1) for x in data]\n",
    "# Verify the output\n",
    "dates[:5]"
   ]
  },
  {
   "cell_type": "code",
   "execution_count": 54,
   "metadata": {},
   "outputs": [
    {
     "data": {
      "text/plain": [
       "{datetime.datetime(2012, 1, 1, 0, 0): 2758,\n",
       " datetime.datetime(2012, 2, 1, 0, 0): 2357,\n",
       " datetime.datetime(2012, 3, 1, 0, 0): 2743,\n",
       " datetime.datetime(2012, 4, 1, 0, 0): 2795,\n",
       " datetime.datetime(2012, 5, 1, 0, 0): 2999,\n",
       " datetime.datetime(2012, 6, 1, 0, 0): 2826,\n",
       " datetime.datetime(2012, 7, 1, 0, 0): 3026,\n",
       " datetime.datetime(2012, 8, 1, 0, 0): 2954,\n",
       " datetime.datetime(2012, 9, 1, 0, 0): 2852,\n",
       " datetime.datetime(2012, 10, 1, 0, 0): 2733,\n",
       " datetime.datetime(2012, 11, 1, 0, 0): 2729,\n",
       " datetime.datetime(2012, 12, 1, 0, 0): 2791,\n",
       " datetime.datetime(2013, 1, 1, 0, 0): 2864,\n",
       " datetime.datetime(2013, 2, 1, 0, 0): 2375,\n",
       " datetime.datetime(2013, 3, 1, 0, 0): 2862,\n",
       " datetime.datetime(2013, 4, 1, 0, 0): 2798,\n",
       " datetime.datetime(2013, 5, 1, 0, 0): 2806,\n",
       " datetime.datetime(2013, 6, 1, 0, 0): 2920,\n",
       " datetime.datetime(2013, 7, 1, 0, 0): 3079,\n",
       " datetime.datetime(2013, 8, 1, 0, 0): 2859,\n",
       " datetime.datetime(2013, 9, 1, 0, 0): 2742,\n",
       " datetime.datetime(2013, 10, 1, 0, 0): 2808,\n",
       " datetime.datetime(2013, 11, 1, 0, 0): 2758,\n",
       " datetime.datetime(2013, 12, 1, 0, 0): 2765,\n",
       " datetime.datetime(2014, 1, 1, 0, 0): 2651,\n",
       " datetime.datetime(2014, 2, 1, 0, 0): 2361,\n",
       " datetime.datetime(2014, 3, 1, 0, 0): 2684,\n",
       " datetime.datetime(2014, 4, 1, 0, 0): 2862,\n",
       " datetime.datetime(2014, 5, 1, 0, 0): 2864,\n",
       " datetime.datetime(2014, 6, 1, 0, 0): 2931,\n",
       " datetime.datetime(2014, 7, 1, 0, 0): 2884,\n",
       " datetime.datetime(2014, 8, 1, 0, 0): 2970,\n",
       " datetime.datetime(2014, 9, 1, 0, 0): 2914,\n",
       " datetime.datetime(2014, 10, 1, 0, 0): 2865,\n",
       " datetime.datetime(2014, 11, 1, 0, 0): 2756,\n",
       " datetime.datetime(2014, 12, 1, 0, 0): 2857}"
      ]
     },
     "execution_count": 54,
     "metadata": {},
     "output_type": "execute_result"
    }
   ],
   "source": [
    "# We can now consolidate the number on gun deaths per month using a dictionary\n",
    "date_counts = {}\n",
    "for d in dates:\n",
    "    if d in date_counts:\n",
    "        date_counts[d] += 1\n",
    "    else:\n",
    "        date_counts[d] = 1\n",
    "date_counts"
   ]
  },
  {
   "cell_type": "markdown",
   "metadata": {},
   "source": [
    "It is difficult to say much about the data just by looking at the numbers like this. Let's make a new bar plot."
   ]
  },
  {
   "cell_type": "code",
   "execution_count": 55,
   "metadata": {},
   "outputs": [],
   "source": [
    "# We can now extract the dates and values and prepare them to be plotted out.\n",
    "dates = []\n",
    "nums = []\n",
    "for i, j in date_counts.items():\n",
    "    dates.append(i.strftime(\"%b %Y\"))\n",
    "    nums.append(j)"
   ]
  },
  {
   "cell_type": "code",
   "execution_count": 56,
   "metadata": {},
   "outputs": [
    {
     "data": {
      "text/plain": [
       "Text(0,0.5,'Number of deaths')"
      ]
     },
     "execution_count": 56,
     "metadata": {},
     "output_type": "execute_result"
    },
    {
     "data": {
      "image/png": "[encoded data removed]",
      "text/plain": [
       "<Figure size 864x288 with 1 Axes>"
      ]
     },
     "metadata": {},
     "output_type": "display_data"
    }
   ],
   "source": [
    "from numpy import linspace\n",
    "colors = [plt.cm.coolwarm(i) for i in linspace(0,1,len(dates))]\n",
    "fig, ax = plt.subplots(figsize=(12,4))\n",
    "ax.bar(arange(len(dates))+.4,height=nums,width=.8,color=colors)\n",
    "ax.set_xlim([-.2,len(dates)])\n",
    "ax.set_ylim([1600,3200])\n",
    "ax.set_xticks(arange(len(dates))+.4)\n",
    "ax.set_xticklabels(dates,rotation=90)\n",
    "ax.set_title(\"Gun deaths in the US 2012-2014 - by month\")\n",
    "ax.set_ylabel(\"Number of deaths\")"
   ]
  },
  {
   "cell_type": "markdown",
   "metadata": {},
   "source": [
    "There's no long term increase or decrease apparent in year by year gun deaths overall. Within each year however we can see a periodicity wherein the summer months have more gun deaths than the winter months. \n",
    "\n",
    "A curious aspect is the data for February, which across all three years presents much fewer gun deaths than all other months. The 1 to 3 days shorter duration of this month compared to any other given month is likely to explain at least in part this discrepancy.  "
   ]
  },
  {
   "cell_type": "markdown",
   "metadata": {},
   "source": [
    "### Gun deaths by gender, race and intent\n",
    "We turn our attention now to other parameters, such as gender and race of the victim and the intent behind the casualty."
   ]
  },
  {
   "cell_type": "code",
   "execution_count": 57,
   "metadata": {},
   "outputs": [],
   "source": [
    "sex = [x[5] for x in data]"
   ]
  },
  {
   "cell_type": "code",
   "execution_count": 58,
   "metadata": {},
   "outputs": [
    {
     "data": {
      "text/plain": [
       "{'M': 86349, 'F': 14449}"
      ]
     },
     "execution_count": 58,
     "metadata": {},
     "output_type": "execute_result"
    }
   ],
   "source": [
    "sex_counts = {}\n",
    "for s in sex:\n",
    "    if s in sex_counts:\n",
    "        sex_counts[s] += 1\n",
    "    else:\n",
    "        sex_counts[s] = 1\n",
    "sex_counts"
   ]
  },
  {
   "cell_type": "code",
   "execution_count": 72,
   "metadata": {},
   "outputs": [
    {
     "data": {
      "text/plain": [
       "Text(0.5,1,'Gun-related deaths by gender')"
      ]
     },
     "execution_count": 72,
     "metadata": {},
     "output_type": "execute_result"
    },
    {
     "data": {
      "image/png": "[encoded data removed]",
      "text/plain": [
       "<Figure size 432x288 with 1 Axes>"
      ]
     },
     "metadata": {},
     "output_type": "display_data"
    }
   ],
   "source": [
    "fig, axes = plt.subplots()\n",
    "axes.bar(arange(len(sex_counts))+.4,height=list(sex_counts.values()),width=.8,color=plt.cm.Accent(0))\n",
    "axes.set_xticks(arange(len(sex_counts))+.4)\n",
    "axes.set_xticklabels([\"Male\",\"Female\"])\n",
    "axes.set_ylabel(\"Number of gun-related deaths\")\n",
    "axes.set_title(\"Gun-related deaths by gender\")"
   ]
  },
  {
   "cell_type": "markdown",
   "metadata": {},
   "source": [
    "The difference between male and female gun deaths counts is vast compared to the roughly equal male/female split we find in the general population. 85.7% of the time a gun death will involve a male rather than a female."
   ]
  },
  {
   "cell_type": "code",
   "execution_count": 59,
   "metadata": {},
   "outputs": [],
   "source": [
    "race = [x[7] for x in data]"
   ]
  },
  {
   "cell_type": "code",
   "execution_count": 60,
   "metadata": {},
   "outputs": [
    {
     "data": {
      "text/plain": [
       "{'Asian/Pacific Islander': 1326,\n",
       " 'White': 66237,\n",
       " 'Native American/Native Alaskan': 917,\n",
       " 'Black': 23296,\n",
       " 'Hispanic': 9022}"
      ]
     },
     "execution_count": 60,
     "metadata": {},
     "output_type": "execute_result"
    }
   ],
   "source": [
    "race_counts = {}\n",
    "for r in race:\n",
    "    if r in race_counts:\n",
    "        race_counts[r] += 1\n",
    "    else:\n",
    "        race_counts[r] = 1\n",
    "race_counts"
   ]
  },
  {
   "cell_type": "markdown",
   "metadata": {},
   "source": [
    "These numbers don't tell much without comparable statistics for the general population composition. Let's import some census data that can give us this information."
   ]
  },
  {
   "cell_type": "code",
   "execution_count": 61,
   "metadata": {},
   "outputs": [
    {
     "data": {
      "text/plain": [
       "[['Id',\n",
       "  'Year',\n",
       "  'Id',\n",
       "  'Sex',\n",
       "  'Id',\n",
       "  'Hispanic Origin',\n",
       "  'Id',\n",
       "  'Id2',\n",
       "  'Geography',\n",
       "  'Total',\n",
       "  'Race Alone - White',\n",
       "  'Race Alone - Hispanic',\n",
       "  'Race Alone - Black or African American',\n",
       "  'Race Alone - American Indian and Alaska Native',\n",
       "  'Race Alone - Asian',\n",
       "  'Race Alone - Native Hawaiian and Other Pacific Islander',\n",
       "  'Two or More Races'],\n",
       " ['cen42010',\n",
       "  'April 1, 2010 Census',\n",
       "  'totsex',\n",
       "  'Both Sexes',\n",
       "  'tothisp',\n",
       "  'Total',\n",
       "  '0100000US',\n",
       "  '',\n",
       "  'United States',\n",
       "  '308745538',\n",
       "  '197318956',\n",
       "  '44618105',\n",
       "  '40250635',\n",
       "  '3739506',\n",
       "  '15159516',\n",
       "  '674625',\n",
       "  '6984195']]"
      ]
     },
     "execution_count": 61,
     "metadata": {},
     "output_type": "execute_result"
    }
   ],
   "source": [
    "census = list(csv.reader(open(\"census.csv\", \"r\")))\n",
    "census"
   ]
  },
  {
   "cell_type": "code",
   "execution_count": 62,
   "metadata": {},
   "outputs": [],
   "source": [
    "# The following is a manual mapping of the census data to the race categories.\n",
    "mapping = {\n",
    "    \"Asian/Pacific Islander\": 674625+15159516,\n",
    "    \"Black\": 40250635,\n",
    "    \"Hispanic\": 44618105,\n",
    "    \"Native American/Native Alaskan\": 3739506,\n",
    "    \"White\": 197318956\n",
    "}"
   ]
  },
  {
   "cell_type": "code",
   "execution_count": 63,
   "metadata": {},
   "outputs": [
    {
     "data": {
      "text/plain": [
       "{'Asian/Pacific Islander': 8.374309664161762,\n",
       " 'White': 33.56849303419181,\n",
       " 'Native American/Native Alaskan': 24.521955573811088,\n",
       " 'Black': 57.8773477735196,\n",
       " 'Hispanic': 20.220491210910907}"
      ]
     },
     "execution_count": 63,
     "metadata": {},
     "output_type": "execute_result"
    }
   ],
   "source": [
    "# In this cell we divide gun deaths counts by respective popualtion fractions.\n",
    "# The results are multiplied by 100000 because the numbers are quite small.\n",
    "# The final results is the number of gun deaths per 100000 people, by race.\n",
    "race_per_hundredk = {}\n",
    "for key, val in race_counts.items():\n",
    "    race_per_hundredk[key] = val/mapping[key]*100000\n",
    "race_per_hundredk"
   ]
  },
  {
   "cell_type": "markdown",
   "metadata": {},
   "source": [
    "Let's visualise these numbers."
   ]
  },
  {
   "cell_type": "code",
   "execution_count": 91,
   "metadata": {},
   "outputs": [
    {
     "data": {
      "text/plain": [
       "Text(0.5,1,'Gun-related deaths by race')"
      ]
     },
     "execution_count": 91,
     "metadata": {},
     "output_type": "execute_result"
    },
    {
     "data": {
      "image/png": "[encoded data removed]",
      "text/plain": [
       "<Figure size 432x288 with 1 Axes>"
      ]
     },
     "metadata": {},
     "output_type": "display_data"
    }
   ],
   "source": [
    "# Before visualising the results, let's order the categories alphabetically\n",
    "arr = []\n",
    "for key, val in race_per_hundredk.items():\n",
    "    arr.append([key,val])\n",
    "arr_s = sorted(arr)\n",
    "race = [x[0] for x in arr_s]\n",
    "counts = [x[1] for x in arr_s]\n",
    "# The results can be plotted now\n",
    "colors = [plt.cm.Accent(i) for i in linspace(0,1,len(race))]\n",
    "fig, axes = plt.subplots()\n",
    "axes.bar(arange(len(race))+.4,height=counts,width=.8,color=colors)\n",
    "axes.set_xticks(arange(len(race))+.4)\n",
    "axes.set_xticklabels(race,rotation=90)\n",
    "axes.set_ylabel(\"Number of gun-related deaths (x100k)\")\n",
    "axes.set_title(\"Gun-related deaths by race\")"
   ]
  },
  {
   "cell_type": "markdown",
   "metadata": {},
   "source": [
    "As we can see, Blacks have the highest incidence of gun-related deaths (57.9 per 100k), with Whites at second place (33.7 per 100k). Native Americans/Alaskans, Hispanics and Asians follow in third (24.5 per 100k), fourth (20.2 per 100k) and fifth (8.4 per 100k) position respectively. Do these numbers change when we look into specific intent, e.g. homicide?"
   ]
  },
  {
   "cell_type": "code",
   "execution_count": 87,
   "metadata": {},
   "outputs": [],
   "source": [
    "race_homicide = [x[7] for x in data if x[3] == \"Homicide\"]"
   ]
  },
  {
   "cell_type": "code",
   "execution_count": 88,
   "metadata": {},
   "outputs": [
    {
     "data": {
      "text/plain": [
       "{'White': 9147,\n",
       " 'Asian/Pacific Islander': 559,\n",
       " 'Black': 19510,\n",
       " 'Native American/Native Alaskan': 326,\n",
       " 'Hispanic': 5634}"
      ]
     },
     "execution_count": 88,
     "metadata": {},
     "output_type": "execute_result"
    }
   ],
   "source": [
    "homicide_race_counts = {}\n",
    "for r in race_homicide:\n",
    "    if r in homicide_race_counts:\n",
    "        homicide_race_counts[r] += 1\n",
    "    else:\n",
    "        homicide_race_counts[r] = 1\n",
    "homicide_race_counts"
   ]
  },
  {
   "cell_type": "code",
   "execution_count": 89,
   "metadata": {},
   "outputs": [
    {
     "data": {
      "text/plain": [
       "{'White': 4.6356417981453335,\n",
       " 'Asian/Pacific Islander': 3.530346230970155,\n",
       " 'Black': 48.471284987180944,\n",
       " 'Native American/Native Alaskan': 8.717729026240365,\n",
       " 'Hispanic': 12.627161104219914}"
      ]
     },
     "execution_count": 89,
     "metadata": {},
     "output_type": "execute_result"
    }
   ],
   "source": [
    "homicide_race_per_hundredk = {}\n",
    "for key, val in homicide_race_counts.items():\n",
    "    homicide_race_per_hundredk[key] = val/mapping[key]*100000\n",
    "homicide_race_per_hundredk"
   ]
  },
  {
   "cell_type": "code",
   "execution_count": 92,
   "metadata": {},
   "outputs": [
    {
     "data": {
      "text/plain": [
       "Text(0.5,1,'Gun-related homicides by race')"
      ]
     },
     "execution_count": 92,
     "metadata": {},
     "output_type": "execute_result"
    },
    {
     "data": {
      "image/png": "[encoded data removed]",
      "text/plain": [
       "<Figure size 432x288 with 1 Axes>"
      ]
     },
     "metadata": {},
     "output_type": "display_data"
    }
   ],
   "source": [
    "# Before visualising the results, let's order the categories alphabetically\n",
    "arr = []\n",
    "for key, val in homicide_race_per_hundredk.items():\n",
    "    arr.append([key,val])\n",
    "arr_s = sorted(arr)\n",
    "race = [x[0] for x in arr_s]\n",
    "counts = [x[1] for x in arr_s]\n",
    "# The results can be plotted now\n",
    "colors = [plt.cm.Accent(i) for i in linspace(0,1,len(race))]\n",
    "fig, axes = plt.subplots()\n",
    "axes.bar(arange(len(race))+.4,height=counts,width=.8,color=colors)\n",
    "axes.set_xticks(arange(len(race))+.4)\n",
    "axes.set_xticklabels(race,rotation=90)\n",
    "axes.set_ylabel(\"Number of gun-related homicides (x100k)\")\n",
    "axes.set_title(\"Gun-related homicides by race\")"
   ]
  },
  {
   "cell_type": "markdown",
   "metadata": {},
   "source": [
    "When homicides are selected for, Whites fall down to fourth position with just 4.6 gun deaths per 100k and just above Asians with 3.5.\n",
    "\n",
    "Blacks remain first with 48.5 homicide gun deaths per 100k people, meaning that homicides make up in fact a large majority of all gun deaths involving Blacks (48.5 out of 57.9, i.e. 83.8%)."
   ]
  },
  {
   "cell_type": "markdown",
   "metadata": {},
   "source": [
    "### Gun deaths involving police\n",
    "Police violence against Blacks and other minorities periodically makes headlines in the US news and remains a hotly debated and controversial topic. How many gun deaths in our database did in fact involve police, and how are these distributed by race?"
   ]
  },
  {
   "cell_type": "code",
   "execution_count": 93,
   "metadata": {},
   "outputs": [
    {
     "data": {
      "text/plain": [
       "1402"
      ]
     },
     "execution_count": 93,
     "metadata": {},
     "output_type": "execute_result"
    }
   ],
   "source": [
    "race_police = [x[7] for x in data if x[4] == \"1\"]\n",
    "len(race_police)"
   ]
  },
  {
   "cell_type": "code",
   "execution_count": 94,
   "metadata": {},
   "outputs": [
    {
     "data": {
      "text/plain": [
       "{'White': 709,\n",
       " 'Native American/Native Alaskan': 25,\n",
       " 'Black': 356,\n",
       " 'Hispanic': 282,\n",
       " 'Asian/Pacific Islander': 30}"
      ]
     },
     "execution_count": 94,
     "metadata": {},
     "output_type": "execute_result"
    }
   ],
   "source": [
    "race_police_counts = {}\n",
    "for r in race_police:\n",
    "    if r in race_police_counts:\n",
    "        race_police_counts[r] += 1\n",
    "    else:\n",
    "        race_police_counts[r] = 1\n",
    "race_police_counts"
   ]
  },
  {
   "cell_type": "code",
   "execution_count": 95,
   "metadata": {},
   "outputs": [
    {
     "data": {
      "text/plain": [
       "{'White': 0.3593167196769478,\n",
       " 'Native American/Native Alaskan': 0.6685375020122979,\n",
       " 'Black': 0.8844580961269306,\n",
       " 'Hispanic': 0.6320304280067475,\n",
       " 'Asian/Pacific Islander': 0.18946401955117112}"
      ]
     },
     "execution_count": 95,
     "metadata": {},
     "output_type": "execute_result"
    }
   ],
   "source": [
    "race_police_per_hundredk = {}\n",
    "for key, val in race_police_counts.items():\n",
    "    race_police_per_hundredk[key] = val/mapping[key]*100000\n",
    "race_police_per_hundredk"
   ]
  },
  {
   "cell_type": "code",
   "execution_count": 98,
   "metadata": {},
   "outputs": [
    {
     "data": {
      "text/plain": [
       "Text(0.5,1,'Gun-related deaths involving police, by race')"
      ]
     },
     "execution_count": 98,
     "metadata": {},
     "output_type": "execute_result"
    },
    {
     "data": {
      "image/png": "[encoded data removed]",
      "text/plain": [
       "<Figure size 432x288 with 1 Axes>"
      ]
     },
     "metadata": {},
     "output_type": "display_data"
    }
   ],
   "source": [
    "# Before visualising the results, let's order the categories alphabetically\n",
    "arr = []\n",
    "for key, val in race_police_per_hundredk.items():\n",
    "    arr.append([key,val])\n",
    "arr_s = sorted(arr)\n",
    "race = [x[0] for x in arr_s]\n",
    "counts = [x[1] for x in arr_s]\n",
    "# The results can be plotted now\n",
    "colors = [plt.cm.Accent(i) for i in linspace(0,1,len(race))]\n",
    "fig, axes = plt.subplots()\n",
    "axes.bar(arange(len(race))+.4,height=counts,width=.8,color=colors)\n",
    "axes.set_xticks(arange(len(race))+.4)\n",
    "axes.set_xticklabels(race,rotation=90)\n",
    "axes.set_ylabel(\"Number of gun-related deaths inv. police (x100k)\")\n",
    "axes.set_title(\"Gun-related deaths involving police, by race\")"
   ]
  },
  {
   "cell_type": "markdown",
   "metadata": {},
   "source": [
    "Apart from Asians, which have only about half the number of gun deaths per million involving police that Whites have, all other minorities do have substantially larger numbers of gun deaths involving police.\n",
    "- Blacks have 2.46 times the number of police-related gun deaths that Whites have.\n",
    "- Hispanics have 1.76 times the number of police-related gun deaths that Whites have.\n",
    "- Native Americans/alaskans have 1.86 times the number of police-related gun deaths that Whites have.\n",
    "\n",
    "However, we must remember that we have no information on how many of these deaths involved unlawful force on the part of the police. Additionally, it is likely that these numbers reflect in no small part the crime rate distribution among the races."
   ]
  },
  {
   "cell_type": "markdown",
   "metadata": {},
   "source": [
    "### Gun deaths intent in detail: by gender\n",
    "We'll be now looking in detail into the three main types of intent behind the gun deaths within our dataset. Gun deaths for which the ntent is undetermined or not available will be ignored for now.\n",
    "\n",
    "Firstly, let's cross reference intent and gender."
   ]
  },
  {
   "cell_type": "code",
   "execution_count": 134,
   "metadata": {},
   "outputs": [
    {
     "data": {
      "text/plain": [
       "{'Accidental', 'Homicide', 'NA', 'Suicide', 'Undetermined'}"
      ]
     },
     "execution_count": 134,
     "metadata": {},
     "output_type": "execute_result"
    }
   ],
   "source": [
    "intent_types = set([x[3] for x in data])\n",
    "intent_types"
   ]
  },
  {
   "cell_type": "code",
   "execution_count": 135,
   "metadata": {},
   "outputs": [
    {
     "data": {
      "text/plain": [
       "{'Accidental', 'Homicide', 'Suicide'}"
      ]
     },
     "execution_count": 135,
     "metadata": {},
     "output_type": "execute_result"
    }
   ],
   "source": [
    "# Remove null values and undetermined intents\n",
    "clean_data = [x for x in data if x[3] in [\"Homicide\",\"Suicide\",\"Accidental\"]]\n",
    "intent_types = set([x[3] for x in clean_data])\n",
    "intent_types"
   ]
  },
  {
   "cell_type": "code",
   "execution_count": 136,
   "metadata": {},
   "outputs": [
    {
     "data": {
      "text/plain": [
       "{'M': 84.72538094155105, 'F': 15.274619058448943}"
      ]
     },
     "execution_count": 136,
     "metadata": {},
     "output_type": "execute_result"
    }
   ],
   "source": [
    "sex_homicide = [x[5] for x in clean_data if x[3] == \"Homicide\"]\n",
    "homicide_sex_counts = {}\n",
    "for r in sex_homicide:\n",
    "    if r in homicide_sex_counts:\n",
    "        homicide_sex_counts[r] += 1\n",
    "    else:\n",
    "        homicide_sex_counts[r] = 1\n",
    "homicide_sex_percent = {}\n",
    "for i, j in homicide_sex_counts.items():\n",
    "    homicide_sex_percent[i] = j/len(sex_homicide)*100\n",
    "homicide_sex_percent"
   ]
  },
  {
   "cell_type": "code",
   "execution_count": 137,
   "metadata": {},
   "outputs": [
    {
     "data": {
      "text/plain": [
       "{'M': 29803, 'F': 5373}"
      ]
     },
     "execution_count": 137,
     "metadata": {},
     "output_type": "execute_result"
    }
   ],
   "source": [
    "homicide_sex_counts"
   ]
  },
  {
   "cell_type": "code",
   "execution_count": 138,
   "metadata": {},
   "outputs": [
    {
     "data": {
      "text/plain": [
       "{'M': 86.69920683343501, 'F': 13.300793166564977}"
      ]
     },
     "execution_count": 138,
     "metadata": {},
     "output_type": "execute_result"
    }
   ],
   "source": [
    "sex_accidental = [x[5] for x in clean_data if x[3] == \"Accidental\"]\n",
    "accidental_sex_counts = {}\n",
    "for r in sex_accidental:\n",
    "    if r in accidental_sex_counts:\n",
    "        accidental_sex_counts[r] += 1\n",
    "    else:\n",
    "        accidental_sex_counts[r] = 1\n",
    "accidental_sex_percent = {}\n",
    "for i, j in accidental_sex_counts.items():\n",
    "    accidental_sex_percent[i] = j/len(sex_accidental)*100\n",
    "accidental_sex_percent"
   ]
  },
  {
   "cell_type": "code",
   "execution_count": 139,
   "metadata": {},
   "outputs": [
    {
     "data": {
      "text/plain": [
       "{'M': 1421, 'F': 218}"
      ]
     },
     "execution_count": 139,
     "metadata": {},
     "output_type": "execute_result"
    }
   ],
   "source": [
    "accidental_sex_counts"
   ]
  },
  {
   "cell_type": "code",
   "execution_count": 140,
   "metadata": {},
   "outputs": [
    {
     "data": {
      "text/plain": [
       "{'M': 86.24614166996439, 'F': 13.753858330035614}"
      ]
     },
     "execution_count": 140,
     "metadata": {},
     "output_type": "execute_result"
    }
   ],
   "source": [
    "sex_suicide = [x[5] for x in clean_data if x[3] == \"Suicide\"]\n",
    "suicide_sex_counts = {}\n",
    "for r in sex_suicide:\n",
    "    if r in suicide_sex_counts:\n",
    "        suicide_sex_counts[r] += 1\n",
    "    else:\n",
    "        suicide_sex_counts[r] = 1\n",
    "suicide_sex_percent = {}\n",
    "for i, j in suicide_sex_counts.items():\n",
    "    suicide_sex_percent[i] = j/len(sex_suicide)*100\n",
    "suicide_sex_percent"
   ]
  },
  {
   "cell_type": "code",
   "execution_count": 141,
   "metadata": {},
   "outputs": [
    {
     "data": {
      "text/plain": [
       "{'M': 54486, 'F': 8689}"
      ]
     },
     "execution_count": 141,
     "metadata": {},
     "output_type": "execute_result"
    }
   ],
   "source": [
    "suicide_sex_counts"
   ]
  },
  {
   "cell_type": "code",
   "execution_count": 142,
   "metadata": {},
   "outputs": [
    {
     "data": {
      "text/plain": [
       "<matplotlib.legend.Legend at 0x1e2935515f8>"
      ]
     },
     "execution_count": 142,
     "metadata": {},
     "output_type": "execute_result"
    },
    {
     "data": {
      "image/png": "[encoded data removed]",
      "text/plain": [
       "<Figure size 432x288 with 1 Axes>"
      ]
     },
     "metadata": {},
     "output_type": "display_data"
    }
   ],
   "source": [
    "# Let's consolidate data before visualising it.\n",
    "M = [homicide_sex_counts[\"M\"],suicide_sex_counts[\"M\"],accidental_sex_counts[\"M\"]]\n",
    "F = [homicide_sex_counts[\"F\"],suicide_sex_counts[\"F\"],accidental_sex_counts[\"F\"]]\n",
    "labels = [\"Homicide\",\"Suicide\",\"Accidental\"]\n",
    "# The results can be plotted now\n",
    "fig, axes = plt.subplots()\n",
    "f1 = axes.bar(arange(len(M)),height=M,width=.4,color=plt.cm.Accent(0),label=\"Male\")\n",
    "f2 = axes.bar(arange(len(F))+.4,height=F,width=.4,color=plt.cm.Accent(.3),label=\"Female\")\n",
    "axes.set_xticks(arange(len(M))+.2)\n",
    "axes.set_xticklabels(labels,rotation=90)\n",
    "axes.set_ylabel(\"Number of deaths\")\n",
    "axes.set_title(\"Gun-related deaths per gender, by intent\")\n",
    "axes.legend()"
   ]
  },
  {
   "cell_type": "markdown",
   "metadata": {},
   "source": [
    "The discrepancy between male and female gun deaths remains largely consistent across suicides, homicides and accidental deaths. This information can be interpreted in multiple ways:\n",
    "- Female individuals are generally less involved in acts of gun violence, and possibly less involved in acts of violence in general.\n",
    "- Accidental gun deaths involving females are also very few compared to those involving males. This indicates that female individuals are less interested in guns, and/or own fewer guns on average, and/or spend less time around guns on average than males.\n",
    "- Suicides involving guns are also largely skewed towards males (6.27x). Although statistically males do indeed die by suicide much more often than females, the discrepancy (3.39x - [see this page](https://en.wikipedia.org/wiki/Suicide_in_the_United_States)) is not as large as the one visible here. This may indicate that guns are more typically a masculine tool for suicide."
   ]
  },
  {
   "cell_type": "markdown",
   "metadata": {},
   "source": [
    "### Gun deaths intent in detail: by education\n",
    "Secondly, let's cross reference intent and education. This is much less straightforward than it is for gender, because the general population split between males and females can be easily assumed as equal, while for education rates we need specific census data.\n",
    "\n",
    "Before worrying about that though, let's clean up the dataset - not all values in the 'education' column are useful."
   ]
  },
  {
   "cell_type": "code",
   "execution_count": 115,
   "metadata": {},
   "outputs": [
    {
     "data": {
      "text/plain": [
       "{'1', '2', '3', '4', '5', 'NA'}"
      ]
     },
     "execution_count": 115,
     "metadata": {},
     "output_type": "execute_result"
    }
   ],
   "source": [
    "education = [x[10] for x in data]\n",
    "set(education)"
   ]
  },
  {
   "cell_type": "markdown",
   "metadata": {},
   "source": [
    "The values correspond respectively to:\n",
    "- 1: less than High School\n",
    "- 2: graduated from High School\n",
    "- 3: some College\n",
    "- 4: at least graduated from College\n",
    "- 5: data not available\n",
    "\n",
    "It also looks like there are some null values in the dataset. Let's keep only gun deaths with 'education' values from 1 to 4."
   ]
  },
  {
   "cell_type": "code",
   "execution_count": 118,
   "metadata": {},
   "outputs": [
    {
     "data": {
      "text/plain": [
       "[['1',\n",
       "  '2012',\n",
       "  '01',\n",
       "  'Suicide',\n",
       "  '0',\n",
       "  'M',\n",
       "  '34',\n",
       "  'Asian/Pacific Islander',\n",
       "  '100',\n",
       "  'Home',\n",
       "  '4'],\n",
       " ['2', '2012', '01', 'Suicide', '0', 'F', '21', 'White', '100', 'Street', '3'],\n",
       " ['3',\n",
       "  '2012',\n",
       "  '01',\n",
       "  'Suicide',\n",
       "  '0',\n",
       "  'M',\n",
       "  '60',\n",
       "  'White',\n",
       "  '100',\n",
       "  'Other specified',\n",
       "  '4']]"
      ]
     },
     "execution_count": 118,
     "metadata": {},
     "output_type": "execute_result"
    }
   ],
   "source": [
    "clean_data = [x for x in data if x[10] in [\"1\",\"2\",\"3\",\"4\"]]\n",
    "clean_data[:3] # Check that everything worked out correctly"
   ]
  },
  {
   "cell_type": "markdown",
   "metadata": {},
   "source": [
    "The US Census Bureau is the go-to source for publicly available statistics on the US population. We'll be using [educational attainment census data from 2014](https://www2.census.gov/programs-surveys/demo/tables/educational-attainment/2014/cps-detailed-tables/table-1-01.xlsx), the last year in our dataset.\n",
    "\n",
    "Specifically, we'll be looking at the entire population 18 years old and over, of both sexes and all races."
   ]
  },
  {
   "cell_type": "code",
   "execution_count": 119,
   "metadata": {},
   "outputs": [],
   "source": [
    "# The following is a manual mapping of the census data to the education categories.\n",
    "mapping = {\n",
    "    \"1\": 29509000,\n",
    "    \"2\": 70919000,\n",
    "    \"3\": 46484000,\n",
    "    \"4\": 92429000 # NOTE: Associate's degrees are here considered as \"graduated from College\"\n",
    "}"
   ]
  },
  {
   "cell_type": "code",
   "execution_count": 124,
   "metadata": {},
   "outputs": [
    {
     "data": {
      "text/plain": [
       "{'4': 14.006426554436379,\n",
       " '3': 46.639703984166594,\n",
       " '2': 60.529618296930295,\n",
       " '1': 73.95370903792063}"
      ]
     },
     "execution_count": 124,
     "metadata": {},
     "output_type": "execute_result"
    }
   ],
   "source": [
    "education_deaths = [x[10] for x in clean_data]\n",
    "education_counts = {}\n",
    "for r in education_deaths:\n",
    "    if r in education_counts:\n",
    "        education_counts[r] += 1\n",
    "    else:\n",
    "        education_counts[r] = 1\n",
    "education_deaths_per_hundredk = {}\n",
    "for key, val in education_counts.items():\n",
    "    education_deaths_per_hundredk[key] = val/mapping[key]*100000\n",
    "education_deaths_per_hundredk"
   ]
  },
  {
   "cell_type": "code",
   "execution_count": 120,
   "metadata": {},
   "outputs": [
    {
     "data": {
      "text/plain": [
       "{'2': 22.066018979399033,\n",
       " '3': 12.13320712503227,\n",
       " '1': 40.119963400996305,\n",
       " '4': 1.6867000616689567}"
      ]
     },
     "execution_count": 120,
     "metadata": {},
     "output_type": "execute_result"
    }
   ],
   "source": [
    "education_homicide = [x[10] for x in clean_data if x[3] == \"Homicide\"]\n",
    "education_homicide_counts = {}\n",
    "for r in education_homicide:\n",
    "    if r in education_homicide_counts:\n",
    "        education_homicide_counts[r] += 1\n",
    "    else:\n",
    "        education_homicide_counts[r] = 1\n",
    "education_homicide_per_hundredk = {}\n",
    "for key, val in education_homicide_counts.items():\n",
    "    education_homicide_per_hundredk[key] = val/mapping[key]*100000\n",
    "education_homicide_per_hundredk"
   ]
  },
  {
   "cell_type": "code",
   "execution_count": 122,
   "metadata": {},
   "outputs": [
    {
     "data": {
      "text/plain": [
       "{'4': 12.060067727661233,\n",
       " '3': 33.41579898459685,\n",
       " '2': 37.11417250666253,\n",
       " '1': 31.488698363211224}"
      ]
     },
     "execution_count": 122,
     "metadata": {},
     "output_type": "execute_result"
    }
   ],
   "source": [
    "education_suicide = [x[10] for x in clean_data if x[3] == \"Suicide\"]\n",
    "education_suicide_counts = {}\n",
    "for r in education_suicide:\n",
    "    if r in education_suicide_counts:\n",
    "        education_suicide_counts[r] += 1\n",
    "    else:\n",
    "        education_suicide_counts[r] = 1\n",
    "education_suicide_per_hundredk = {}\n",
    "for key, val in education_suicide_counts.items():\n",
    "    education_suicide_per_hundredk[key] = val/mapping[key]*100000\n",
    "education_suicide_per_hundredk"
   ]
  },
  {
   "cell_type": "code",
   "execution_count": 123,
   "metadata": {},
   "outputs": [
    {
     "data": {
      "text/plain": [
       "{'3': 0.7034678599087858,\n",
       " '1': 1.6672879460503578,\n",
       " '2': 0.8925675770949958,\n",
       " '4': 0.15795908210626536}"
      ]
     },
     "execution_count": 123,
     "metadata": {},
     "output_type": "execute_result"
    }
   ],
   "source": [
    "education_accidental = [x[10] for x in clean_data if x[3] == \"Accidental\"]\n",
    "education_accidental_counts = {}\n",
    "for r in education_accidental:\n",
    "    if r in education_accidental_counts:\n",
    "        education_accidental_counts[r] += 1\n",
    "    else:\n",
    "        education_accidental_counts[r] = 1\n",
    "education_accidental_per_hundredk = {}\n",
    "for key, val in education_accidental_counts.items():\n",
    "    education_accidental_per_hundredk[key] = val/mapping[key]*100000\n",
    "education_accidental_per_hundredk"
   ]
  },
  {
   "cell_type": "code",
   "execution_count": 145,
   "metadata": {},
   "outputs": [
    {
     "data": {
      "text/plain": [
       "<matplotlib.legend.Legend at 0x1e29361eb00>"
      ]
     },
     "execution_count": 145,
     "metadata": {},
     "output_type": "execute_result"
    },
    {
     "data": {
      "image/png": "[encoded data removed]",
      "text/plain": [
       "<Figure size 432x288 with 1 Axes>"
      ]
     },
     "metadata": {},
     "output_type": "display_data"
    }
   ],
   "source": [
    "# Let's consolidate data before visualising it.\n",
    "E1 = [education_deaths_per_hundredk[\"1\"],education_homicide_per_hundredk[\"1\"],education_suicide_per_hundredk[\"1\"],education_accidental_per_hundredk[\"1\"]]\n",
    "E2 = [education_deaths_per_hundredk[\"2\"],education_homicide_per_hundredk[\"2\"],education_suicide_per_hundredk[\"2\"],education_accidental_per_hundredk[\"2\"]]\n",
    "E3 = [education_deaths_per_hundredk[\"3\"],education_homicide_per_hundredk[\"3\"],education_suicide_per_hundredk[\"3\"],education_accidental_per_hundredk[\"3\"]]\n",
    "E4 = [education_deaths_per_hundredk[\"4\"],education_homicide_per_hundredk[\"4\"],education_suicide_per_hundredk[\"4\"],education_accidental_per_hundredk[\"4\"]]\n",
    "labels = [\"Overall\",\"Homicide\",\"Suicide\",\"Accidental\"]\n",
    "# The results can be plotted now\n",
    "fig, axes = plt.subplots()\n",
    "f1 = axes.bar(arange(len(E1))-.2,height=E1,width=.2,color=plt.cm.Accent(0),label=\"Less than High School\")\n",
    "f2 = axes.bar(arange(len(E2)),height=E2,width=.2,color=plt.cm.Accent(.3),label=\"Graduated High School\")\n",
    "f2 = axes.bar(arange(len(E3))+.2,height=E3,width=.2,color=plt.cm.Accent(.6),label=\"Some College\")\n",
    "f2 = axes.bar(arange(len(E4))+.4,height=E4,width=.2,color=plt.cm.Accent(.9),label=\"Graduated College and above\")\n",
    "axes.set_xticks(arange(len(E1))+.2)\n",
    "axes.set_xticklabels(labels,rotation=90)\n",
    "axes.set_ylabel(\"Number of deaths (x100k)\")\n",
    "axes.set_title(\"Gun-related deaths per education level, by intent\")\n",
    "axes.legend()"
   ]
  },
  {
   "cell_type": "markdown",
   "metadata": {},
   "source": [
    "We can observe that:\n",
    "- The number of gun-related deaths per 100k people decreases as the education level increases. \n",
    "- The ratio of homicides to suicides decreases as the education increases, to the point where a majority of gun-related deaths for people with a less-than-High-School education are homicides, while the near-entirety of gun-related deaths in people which graduated from College are suicides.\n",
    "\n",
    "Some further notes:\n",
    "- It should be noted that [Whites and American Indians/Alaskans are far more likely to commit suicide than Blacks, Asians and Hispanics are](https://en.wikipedia.org/wiki/Suicide_in_the_United_States). Furthermore, education rates are not equally distributed among races. Further avenues of analysis would thus employ a breakdown of education rates by race, and may further include race-specific suicide rates. Gender could also be an important factor to consider.\n",
    "- The educational attainment data provided by the US Census Bureau had to be manually mapped to the categories of our dataset. The results we have obtained may thus be less-than-perfectly reliable and should be used with care."
   ]
  },
  {
   "cell_type": "code",
   "execution_count": null,
   "metadata": {
    "collapsed": true
   },
   "outputs": [],
   "source": []
  }
 ],
 "metadata": {
  "kernelspec": {
   "display_name": "Python 3",
   "language": "python",
   "name": "python3"
  },
  "language_info": {
   "codemirror_mode": {
    "name": "ipython",
    "version": 3
   },
   "file_extension": ".py",
   "mimetype": "text/x-python",
   "name": "python",
   "nbconvert_exporter": "python",
   "pygments_lexer": "ipython3",
   "version": "3.6.5"
  }
 },
 "nbformat": 4,
 "nbformat_minor": 1
}
