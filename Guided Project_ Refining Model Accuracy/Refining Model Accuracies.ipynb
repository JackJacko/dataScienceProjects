{
 "cells": [
  {
   "cell_type": "markdown",
   "metadata": {},
   "source": [
    "# Refining Model Accuracies\n",
    "The goal of this project is to create a workflow for cyclic exploration, engineering and selection of features and models - the frame is that of a Kaggle contest, where results are iteratively checked and improved on.\n",
    "\n",
    "The Kaggle contest is a classic one for data science beginners: the goal is to predict whether a test set of passengers embarked on the Titanic survived the sinking of the ship or perished in the [accident](https://en.wikipedia.org/wiki/Sinking_of_the_RMS_Titanic)."
   ]
  },
  {
   "cell_type": "markdown",
   "metadata": {},
   "source": [
    "## Data acquisition and processing"
   ]
  },
  {
   "cell_type": "code",
   "execution_count": 37,
   "metadata": {},
   "outputs": [],
   "source": [
    "import pandas as pd\n",
    "train = pd.read_csv(\"train.csv\")\n",
    "holdout = test = pd.read_csv(\"test.csv\")"
   ]
  },
  {
   "cell_type": "code",
   "execution_count": 38,
   "metadata": {},
   "outputs": [],
   "source": [
    "import matplotlib.pyplot as plt\n",
    "%matplotlib inline"
   ]
  },
  {
   "cell_type": "markdown",
   "metadata": {},
   "source": [
    "pivot_table() is an excellent tool for exploring how certain variables relate to the target (particularly when the target is a binary category). The first task will be looking at sex, age and class of the passengers."
   ]
  },
  {
   "cell_type": "code",
   "execution_count": 39,
   "metadata": {},
   "outputs": [
    {
     "data": {
      "image/png": "[encoded data removed]",
      "text/plain": [
       "<Figure size 432x288 with 1 Axes>"
      ]
     },
     "metadata": {},
     "output_type": "display_data"
    }
   ],
   "source": [
    "# Let's start with examining the sex of the passengers\n",
    "sex_pivot = train.pivot_table(index=\"Sex\",values=\"Survived\")\n",
    "sex_pivot.plot.bar(legend=False)\n",
    "plt.ylabel(\"Survived fraction\")\n",
    "plt.show()"
   ]
  },
  {
   "cell_type": "markdown",
   "metadata": {},
   "source": [
    "It is clear that women survived the sinking in vastly larger numbers: limitedly to the training dataset, slightly less than 2 out of 10 men survived, while more than 7 out of 10 women survived the ordeal. A specific \"sex_female\" categorical feature would have a large impact on predicting the final fate of the passengers.\n",
    "\n",
    "Next up, the 'Age' column."
   ]
  },
  {
   "cell_type": "code",
   "execution_count": 40,
   "metadata": {},
   "outputs": [
    {
     "data": {
      "text/plain": [
       "count    714.000000\n",
       "mean      29.699118\n",
       "std       14.526497\n",
       "min        0.420000\n",
       "25%       20.125000\n",
       "50%       28.000000\n",
       "75%       38.000000\n",
       "max       80.000000\n",
       "Name: Age, dtype: float64"
      ]
     },
     "execution_count": 40,
     "metadata": {},
     "output_type": "execute_result"
    }
   ],
   "source": [
    "train[\"Age\"].describe()"
   ]
  },
  {
   "cell_type": "code",
   "execution_count": 41,
   "metadata": {},
   "outputs": [
    {
     "data": {
      "text/plain": [
       "177"
      ]
     },
     "execution_count": 41,
     "metadata": {},
     "output_type": "execute_result"
    }
   ],
   "source": [
    "train[\"Age\"].isnull().sum()"
   ]
  },
  {
   "cell_type": "markdown",
   "metadata": {},
   "source": [
    "It appears that the Age column contains a fair number of missing data. This must be dealt with somehow. \n",
    "\n",
    "Furthermore, one should think about what an 'Age' feature represents. Although numeric in nature, the age of a person has a significance that is looser than that of e.g. a temperature. Therefore one could consider cutting this continuous variable into a set number of categories. The pandas.cut() method is a convenient tool for cutting continuous variables into labeled bins."
   ]
  },
  {
   "cell_type": "code",
   "execution_count": 50,
   "metadata": {},
   "outputs": [],
   "source": [
    "def categorical_cut(df,target,new_name,cut_points,label_names):\n",
    "    df[new_name] = pd.cut(df[target],cut_points,labels=label_names)\n",
    "    return df"
   ]
  },
  {
   "cell_type": "code",
   "execution_count": 51,
   "metadata": {},
   "outputs": [],
   "source": [
    "# Missing values are filled with a -0.5: pandas.cut() can easily categorize these as \"Missing\" \n",
    "train[\"Age\"] = train[\"Age\"].fillna(-.5)\n",
    "holdout[\"Age\"] = holdout[\"Age\"].fillna(-.5)\n",
    "\n",
    "cut_points = [-1,0,5,12,18,35,60,100]\n",
    "label_names = [\"Missing\",\"Infant\",\"Child\",\"Teenager\",\"Young Adult\",\"Adult\",\"Senior\"]\n",
    "train = categorical_cut(train,\"Age\",\"Age_categories\",cut_points,label_names)\n",
    "holdout = categorical_cut(holdout,\"Age\",\"Age_categories\",cut_points,label_names)"
   ]
  },
  {
   "cell_type": "code",
   "execution_count": 64,
   "metadata": {},
   "outputs": [
    {
     "name": "stdout",
     "output_type": "stream",
     "text": [
      "    Age Age_categories\n",
      "0  22.0    Young Adult\n",
      "1  38.0          Adult\n",
      "2  26.0    Young Adult\n",
      "3  35.0    Young Adult\n",
      "4  35.0    Young Adult\n",
      "5  -0.5        Missing\n",
      "6  54.0          Adult\n",
      "7   2.0         Infant\n",
      "8  27.0    Young Adult\n",
      "9  14.0       Teenager\n",
      "                Survived\n",
      "Age_categories          \n",
      "Young Adult     0.293785\n",
      "Adult           0.704545\n",
      "Missing         0.360000\n",
      "Infant          0.428571\n",
      "Teenager        0.382682\n",
      "Child           0.400000\n",
      "Senior          0.227273\n"
     ]
    }
   ],
   "source": [
    "age_pivot = train.pivot_table(index=\"Age_categories\",values=\"Survived\")\n",
    "#### NOTE: pivot_table for some reason provides a bugged output - the Age_categories index appears in order of appearance \n",
    "#### within the train dataframe and not in correct correspondence with its Survived fraction:\n",
    "print(train[[\"Age\",\"Age_categories\"]].head(10))\n",
    "print(age_pivot)"
   ]
  },
  {
   "cell_type": "code",
   "execution_count": 57,
   "metadata": {},
   "outputs": [
    {
     "name": "stdout",
     "output_type": "stream",
     "text": [
      "Young Adult:  0.38268156424581007 \n",
      "Adult:  0.4 \n",
      "Missing:  0.2937853107344633 \n",
      "Infant:  0.7045454545454546 \n",
      "Teenager:  0.42857142857142855 \n",
      "Child:  0.36 \n",
      "Senior:  0.22727272727272727\n"
     ]
    }
   ],
   "source": [
    "#### The correct output is the following instead:\n",
    "YA = train.loc[train[\"Age_categories\"]==\"Young Adult\",\"Survived\"].sum()/train.loc[train[\"Age_categories\"]==\"Young Adult\",\"Survived\"].shape[0]\n",
    "A = train.loc[train[\"Age_categories\"]==\"Adult\",\"Survived\"].sum()/train.loc[train[\"Age_categories\"]==\"Adult\",\"Survived\"].shape[0]\n",
    "M = train.loc[train[\"Age_categories\"]==\"Missing\",\"Survived\"].sum()/train.loc[train[\"Age_categories\"]==\"Missing\",\"Survived\"].shape[0]\n",
    "I = train.loc[train[\"Age_categories\"]==\"Infant\",\"Survived\"].sum()/train.loc[train[\"Age_categories\"]==\"Infant\",\"Survived\"].shape[0]\n",
    "T = train.loc[train[\"Age_categories\"]==\"Teenager\",\"Survived\"].sum()/train.loc[train[\"Age_categories\"]==\"Teenager\",\"Survived\"].shape[0]\n",
    "C = train.loc[train[\"Age_categories\"]==\"Child\",\"Survived\"].sum()/train.loc[train[\"Age_categories\"]==\"Child\",\"Survived\"].shape[0]\n",
    "S = train.loc[train[\"Age_categories\"]==\"Senior\",\"Survived\"].sum()/train.loc[train[\"Age_categories\"]==\"Senior\",\"Survived\"].shape[0]\n",
    "print(\"Young Adult: \",YA,\"\\nAdult: \",A,\"\\nMissing: \",M,\"\\nInfant: \",I,\"\\nTeenager: \",T,\"\\nChild: \",C,\"\\nSenior: \",S)"
   ]
  },
  {
   "cell_type": "code",
   "execution_count": 63,
   "metadata": {},
   "outputs": [
    {
     "data": {
      "image/png": "[encoded data removed]",
      "text/plain": [
       "<Figure size 432x288 with 1 Axes>"
      ]
     },
     "metadata": {},
     "output_type": "display_data"
    }
   ],
   "source": [
    "# Manually relabel the y-axis ticks to circumvent the issue\n",
    "fig, ax = plt.subplots()\n",
    "age_pivot.plot.bar(legend=False,ax=ax)\n",
    "ax.set_ylabel(\"Survived fraction\")\n",
    "ax.set_xticklabels(label_names)\n",
    "plt.show()"
   ]
  },
  {
   "cell_type": "markdown",
   "metadata": {},
   "source": [
    "Infants survived the sinking of the RMS Titanmic in disproportionate amount compared to other age categories. A specific \"age_infant\" categorical feature would have a large impact on predicting the final fate of the passengers.\n",
    "\n",
    "Finally, the ticket class of each passenger will be examined."
   ]
  },
  {
   "cell_type": "code",
   "execution_count": 65,
   "metadata": {},
   "outputs": [
    {
     "data": {
      "image/png": "[encoded data removed]",
      "text/plain": [
       "<Figure size 432x288 with 1 Axes>"
      ]
     },
     "metadata": {},
     "output_type": "display_data"
    }
   ],
   "source": [
    "class_pivot = train.pivot_table(index=\"Pclass\",values=\"Survived\")\n",
    "class_pivot.plot.bar(legend=False)\n",
    "plt.ylabel(\"Survived fraction\")\n",
    "plt.show()"
   ]
  },
  {
   "cell_type": "markdown",
   "metadata": {},
   "source": [
    "The survival rate of the passengers in First Class is much higher than that of other classes, particularly compared to Third Class. A specific \"first_class\" categorical feature would have a large impact on predicting the final fate of the passengers."
   ]
  },
  {
   "cell_type": "markdown",
   "metadata": {},
   "source": [
    "Categorical features cannot be handled by classifier models straight out of the box: models in general use numerical variables, and categorical features have no numerical value *sensu stricto*. To circumvent this, dummy columns are used.\n",
    "\n",
    "Dummy columns expand categorical variables and let models handle them without the fictitious numerical relationships that their numbering entails (i.e. category 2 isn't \"double\" category 1 nor 3 is \"triple\" category 1 - they're related, but not in a strict numerical sense)."
   ]
  },
  {
   "cell_type": "code",
   "execution_count": 66,
   "metadata": {},
   "outputs": [],
   "source": [
    "def create_dummies(df,columns):\n",
    "    for c in columns:\n",
    "        dummies = pd.get_dummies(df[c],prefix=c)\n",
    "        df = pd.concat([df,dummies],axis=1)\n",
    "    return df"
   ]
  },
  {
   "cell_type": "code",
   "execution_count": 67,
   "metadata": {},
   "outputs": [],
   "source": [
    "columns = [\"Pclass\",\"Sex\",\"Age_categories\"]\n",
    "train = create_dummies(train,columns)\n",
    "holdout = create_dummies(holdout,columns)"
   ]
  },
  {
   "cell_type": "code",
   "execution_count": 68,
   "metadata": {},
   "outputs": [
    {
     "name": "stdout",
     "output_type": "stream",
     "text": [
      "Index(['PassengerId', 'Survived', 'Pclass', 'Name', 'Sex', 'Age', 'SibSp',\n",
      "       'Parch', 'Ticket', 'Fare', 'Cabin', 'Embarked', 'Age_categories',\n",
      "       'Pclass_1', 'Pclass_2', 'Pclass_3', 'Sex_female', 'Sex_male',\n",
      "       'Age_categories_Missing', 'Age_categories_Infant',\n",
      "       'Age_categories_Child', 'Age_categories_Teenager',\n",
      "       'Age_categories_Young Adult', 'Age_categories_Adult',\n",
      "       'Age_categories_Senior'],\n",
      "      dtype='object')\n"
     ]
    }
   ],
   "source": [
    "print(train.columns)"
   ]
  },
  {
   "cell_type": "markdown",
   "metadata": {},
   "source": [
    "A quick test can be made to check the performance of a Logistic Regression trained on the new dummy columns."
   ]
  },
  {
   "cell_type": "code",
   "execution_count": 69,
   "metadata": {},
   "outputs": [],
   "source": [
    "columns = ['Pclass_1', 'Pclass_2', 'Pclass_3',\n",
    "       'Sex_female', 'Sex_male', 'Age_categories_Missing',\n",
    "       'Age_categories_Infant', 'Age_categories_Child',\n",
    "       'Age_categories_Teenager', 'Age_categories_Young Adult',\n",
    "       'Age_categories_Adult', 'Age_categories_Senior']"
   ]
  },
  {
   "cell_type": "code",
   "execution_count": 70,
   "metadata": {},
   "outputs": [],
   "source": [
    "from sklearn.linear_model import LogisticRegression\n",
    "from sklearn.model_selection import train_test_split # This lets us conveniently split our training data into train and test\n",
    "                                                     # subsets to avoid overfitting our model."
   ]
  },
  {
   "cell_type": "code",
   "execution_count": 71,
   "metadata": {},
   "outputs": [],
   "source": [
    "all_X = train[columns]\n",
    "all_y = train[\"Survived\"]\n",
    "train_X, test_X, train_y, test_y = train_test_split(all_X,all_y,test_size=.2,random_state=0)"
   ]
  },
  {
   "cell_type": "markdown",
   "metadata": {},
   "source": [
    "The sklearn.metrics.accuracy_score() method can now be used to calculate the accuracy score of the predictions. This is literally just the fraction of predictions the model managed to guess correctly."
   ]
  },
  {
   "cell_type": "code",
   "execution_count": 72,
   "metadata": {},
   "outputs": [],
   "source": [
    "from sklearn.metrics import accuracy_score"
   ]
  },
  {
   "cell_type": "code",
   "execution_count": 73,
   "metadata": {},
   "outputs": [
    {
     "name": "stdout",
     "output_type": "stream",
     "text": [
      "AUC:  0.8100558659217877\n"
     ]
    }
   ],
   "source": [
    "lr = LogisticRegression()\n",
    "lr.fit(train_X,train_y)\n",
    "predictions = lr.predict(test_X)\n",
    "accuracy = accuracy_score(test_y,predictions)\n",
    "print(\"AUC: \",accuracy)"
   ]
  },
  {
   "cell_type": "markdown",
   "metadata": {},
   "source": [
    "An even better way of testing the accuracy of our model is to execute cross-validation of the predictions: the data is split into multiple folds, with each one being used exactly once as the test set. With this method all of the training data can be used and a more reliable accuracy value can be given as the mean of all accuracies."
   ]
  },
  {
   "cell_type": "code",
   "execution_count": 74,
   "metadata": {},
   "outputs": [],
   "source": [
    "from sklearn.model_selection import cross_val_score\n",
    "import numpy as np"
   ]
  },
  {
   "cell_type": "code",
   "execution_count": 75,
   "metadata": {},
   "outputs": [
    {
     "name": "stdout",
     "output_type": "stream",
     "text": [
      "AUC:  0.8024670865963002\n"
     ]
    }
   ],
   "source": [
    "lr = LogisticRegression()\n",
    "scores = cross_val_score(lr,all_X,all_y,cv=10)\n",
    "accuracy = np.mean(scores)\n",
    "print(\"AUC: \",accuracy)"
   ]
  },
  {
   "cell_type": "code",
   "execution_count": 76,
   "metadata": {},
   "outputs": [],
   "source": [
    "lr = LogisticRegression()\n",
    "lr.fit(all_X,all_y)\n",
    "holdout_predictions = lr.predict(holdout[columns])\n",
    "\n",
    "submission = pd.DataFrame({\n",
    "    \"PassengerId\": holdout[\"PassengerId\"],\n",
    "    \"Survived\": holdout_predictions\n",
    "})\n",
    "submission.to_csv(\"submission.csv\",index=False)"
   ]
  },
  {
   "cell_type": "markdown",
   "metadata": {},
   "source": [
    "Now the predictions can be submitted to Kaggle. The real accuracy this model managed to get on the holdout dataset turns out to be *75.6%*. Can this be improved?"
   ]
  },
  {
   "cell_type": "markdown",
   "metadata": {},
   "source": [
    "## Feature engineering\n",
    "The available features should be examined again and checked for feature engineering opportunities."
   ]
  },
  {
   "cell_type": "code",
   "execution_count": 78,
   "metadata": {},
   "outputs": [
    {
     "name": "stdout",
     "output_type": "stream",
     "text": [
      "Index(['PassengerId', 'Survived', 'Pclass', 'Name', 'Sex', 'Age', 'SibSp',\n",
      "       'Parch', 'Ticket', 'Fare', 'Cabin', 'Embarked', 'Age_categories',\n",
      "       'Pclass_1', 'Pclass_2', 'Pclass_3', 'Sex_female', 'Sex_male',\n",
      "       'Age_categories_Missing', 'Age_categories_Infant',\n",
      "       'Age_categories_Child', 'Age_categories_Teenager',\n",
      "       'Age_categories_Young Adult', 'Age_categories_Adult',\n",
      "       'Age_categories_Senior'],\n",
      "      dtype='object')\n"
     ]
    }
   ],
   "source": [
    "print(train.columns)"
   ]
  },
  {
   "cell_type": "markdown",
   "metadata": {},
   "source": [
    "There's a number of columns that haven't been examined yet. These are 'SibSp', 'Parch', 'Fare', 'Cabin' and 'Embarked'."
   ]
  },
  {
   "cell_type": "code",
   "execution_count": 79,
   "metadata": {},
   "outputs": [
    {
     "data": {
      "text/html": [
       "<div>\n",
       "<style scoped>\n",
       "    .dataframe tbody tr th:only-of-type {\n",
       "        vertical-align: middle;\n",
       "    }\n",
       "\n",
       "    .dataframe tbody tr th {\n",
       "        vertical-align: top;\n",
       "    }\n",
       "\n",
       "    .dataframe thead th {\n",
       "        text-align: right;\n",
       "    }\n",
       "</style>\n",
       "<table border=\"1\" class=\"dataframe\">\n",
       "  <thead>\n",
       "    <tr style=\"text-align: right;\">\n",
       "      <th></th>\n",
       "      <th>SibSp</th>\n",
       "      <th>Parch</th>\n",
       "      <th>Fare</th>\n",
       "      <th>Cabin</th>\n",
       "      <th>Embarked</th>\n",
       "    </tr>\n",
       "  </thead>\n",
       "  <tbody>\n",
       "    <tr>\n",
       "      <th>count</th>\n",
       "      <td>891.000000</td>\n",
       "      <td>891.000000</td>\n",
       "      <td>891.000000</td>\n",
       "      <td>204</td>\n",
       "      <td>889</td>\n",
       "    </tr>\n",
       "    <tr>\n",
       "      <th>unique</th>\n",
       "      <td>NaN</td>\n",
       "      <td>NaN</td>\n",
       "      <td>NaN</td>\n",
       "      <td>147</td>\n",
       "      <td>3</td>\n",
       "    </tr>\n",
       "    <tr>\n",
       "      <th>top</th>\n",
       "      <td>NaN</td>\n",
       "      <td>NaN</td>\n",
       "      <td>NaN</td>\n",
       "      <td>G6</td>\n",
       "      <td>S</td>\n",
       "    </tr>\n",
       "    <tr>\n",
       "      <th>freq</th>\n",
       "      <td>NaN</td>\n",
       "      <td>NaN</td>\n",
       "      <td>NaN</td>\n",
       "      <td>4</td>\n",
       "      <td>644</td>\n",
       "    </tr>\n",
       "    <tr>\n",
       "      <th>mean</th>\n",
       "      <td>0.523008</td>\n",
       "      <td>0.381594</td>\n",
       "      <td>32.204208</td>\n",
       "      <td>NaN</td>\n",
       "      <td>NaN</td>\n",
       "    </tr>\n",
       "    <tr>\n",
       "      <th>std</th>\n",
       "      <td>1.102743</td>\n",
       "      <td>0.806057</td>\n",
       "      <td>49.693429</td>\n",
       "      <td>NaN</td>\n",
       "      <td>NaN</td>\n",
       "    </tr>\n",
       "    <tr>\n",
       "      <th>min</th>\n",
       "      <td>0.000000</td>\n",
       "      <td>0.000000</td>\n",
       "      <td>0.000000</td>\n",
       "      <td>NaN</td>\n",
       "      <td>NaN</td>\n",
       "    </tr>\n",
       "    <tr>\n",
       "      <th>25%</th>\n",
       "      <td>0.000000</td>\n",
       "      <td>0.000000</td>\n",
       "      <td>7.910400</td>\n",
       "      <td>NaN</td>\n",
       "      <td>NaN</td>\n",
       "    </tr>\n",
       "    <tr>\n",
       "      <th>50%</th>\n",
       "      <td>0.000000</td>\n",
       "      <td>0.000000</td>\n",
       "      <td>14.454200</td>\n",
       "      <td>NaN</td>\n",
       "      <td>NaN</td>\n",
       "    </tr>\n",
       "    <tr>\n",
       "      <th>75%</th>\n",
       "      <td>1.000000</td>\n",
       "      <td>0.000000</td>\n",
       "      <td>31.000000</td>\n",
       "      <td>NaN</td>\n",
       "      <td>NaN</td>\n",
       "    </tr>\n",
       "    <tr>\n",
       "      <th>max</th>\n",
       "      <td>8.000000</td>\n",
       "      <td>6.000000</td>\n",
       "      <td>512.329200</td>\n",
       "      <td>NaN</td>\n",
       "      <td>NaN</td>\n",
       "    </tr>\n",
       "  </tbody>\n",
       "</table>\n",
       "</div>"
      ],
      "text/plain": [
       "             SibSp       Parch        Fare Cabin Embarked\n",
       "count   891.000000  891.000000  891.000000   204      889\n",
       "unique         NaN         NaN         NaN   147        3\n",
       "top            NaN         NaN         NaN    G6        S\n",
       "freq           NaN         NaN         NaN     4      644\n",
       "mean      0.523008    0.381594   32.204208   NaN      NaN\n",
       "std       1.102743    0.806057   49.693429   NaN      NaN\n",
       "min       0.000000    0.000000    0.000000   NaN      NaN\n",
       "25%       0.000000    0.000000    7.910400   NaN      NaN\n",
       "50%       0.000000    0.000000   14.454200   NaN      NaN\n",
       "75%       1.000000    0.000000   31.000000   NaN      NaN\n",
       "max       8.000000    6.000000  512.329200   NaN      NaN"
      ]
     },
     "execution_count": 79,
     "metadata": {},
     "output_type": "execute_result"
    }
   ],
   "source": [
    "columns = ['SibSp', 'Parch', 'Fare', 'Cabin', 'Embarked']\n",
    "train[columns].describe(include=\"all\")"
   ]
  },
  {
   "cell_type": "code",
   "execution_count": 80,
   "metadata": {},
   "outputs": [
    {
     "data": {
      "text/plain": [
       "SibSp         0\n",
       "Parch         0\n",
       "Fare          0\n",
       "Cabin       687\n",
       "Embarked      2\n",
       "dtype: int64"
      ]
     },
     "execution_count": 80,
     "metadata": {},
     "output_type": "execute_result"
    }
   ],
   "source": [
    "train[columns].isnull().sum()"
   ]
  },
  {
   "cell_type": "markdown",
   "metadata": {},
   "source": [
    "A chunk of passenger entries in the training dataset have null values for the 'Cabin' variable, and two of them have null values for 'Embarked' too."
   ]
  },
  {
   "cell_type": "code",
   "execution_count": 81,
   "metadata": {},
   "outputs": [
    {
     "data": {
      "text/html": [
       "<div>\n",
       "<style scoped>\n",
       "    .dataframe tbody tr th:only-of-type {\n",
       "        vertical-align: middle;\n",
       "    }\n",
       "\n",
       "    .dataframe tbody tr th {\n",
       "        vertical-align: top;\n",
       "    }\n",
       "\n",
       "    .dataframe thead th {\n",
       "        text-align: right;\n",
       "    }\n",
       "</style>\n",
       "<table border=\"1\" class=\"dataframe\">\n",
       "  <thead>\n",
       "    <tr style=\"text-align: right;\">\n",
       "      <th></th>\n",
       "      <th>SibSp</th>\n",
       "      <th>Parch</th>\n",
       "      <th>Fare</th>\n",
       "      <th>Cabin</th>\n",
       "      <th>Embarked</th>\n",
       "    </tr>\n",
       "  </thead>\n",
       "  <tbody>\n",
       "    <tr>\n",
       "      <th>count</th>\n",
       "      <td>418.000000</td>\n",
       "      <td>418.000000</td>\n",
       "      <td>417.000000</td>\n",
       "      <td>91</td>\n",
       "      <td>418</td>\n",
       "    </tr>\n",
       "    <tr>\n",
       "      <th>unique</th>\n",
       "      <td>NaN</td>\n",
       "      <td>NaN</td>\n",
       "      <td>NaN</td>\n",
       "      <td>76</td>\n",
       "      <td>3</td>\n",
       "    </tr>\n",
       "    <tr>\n",
       "      <th>top</th>\n",
       "      <td>NaN</td>\n",
       "      <td>NaN</td>\n",
       "      <td>NaN</td>\n",
       "      <td>B57 B59 B63 B66</td>\n",
       "      <td>S</td>\n",
       "    </tr>\n",
       "    <tr>\n",
       "      <th>freq</th>\n",
       "      <td>NaN</td>\n",
       "      <td>NaN</td>\n",
       "      <td>NaN</td>\n",
       "      <td>3</td>\n",
       "      <td>270</td>\n",
       "    </tr>\n",
       "    <tr>\n",
       "      <th>mean</th>\n",
       "      <td>0.447368</td>\n",
       "      <td>0.392344</td>\n",
       "      <td>35.627188</td>\n",
       "      <td>NaN</td>\n",
       "      <td>NaN</td>\n",
       "    </tr>\n",
       "    <tr>\n",
       "      <th>std</th>\n",
       "      <td>0.896760</td>\n",
       "      <td>0.981429</td>\n",
       "      <td>55.907576</td>\n",
       "      <td>NaN</td>\n",
       "      <td>NaN</td>\n",
       "    </tr>\n",
       "    <tr>\n",
       "      <th>min</th>\n",
       "      <td>0.000000</td>\n",
       "      <td>0.000000</td>\n",
       "      <td>0.000000</td>\n",
       "      <td>NaN</td>\n",
       "      <td>NaN</td>\n",
       "    </tr>\n",
       "    <tr>\n",
       "      <th>25%</th>\n",
       "      <td>0.000000</td>\n",
       "      <td>0.000000</td>\n",
       "      <td>7.895800</td>\n",
       "      <td>NaN</td>\n",
       "      <td>NaN</td>\n",
       "    </tr>\n",
       "    <tr>\n",
       "      <th>50%</th>\n",
       "      <td>0.000000</td>\n",
       "      <td>0.000000</td>\n",
       "      <td>14.454200</td>\n",
       "      <td>NaN</td>\n",
       "      <td>NaN</td>\n",
       "    </tr>\n",
       "    <tr>\n",
       "      <th>75%</th>\n",
       "      <td>1.000000</td>\n",
       "      <td>0.000000</td>\n",
       "      <td>31.500000</td>\n",
       "      <td>NaN</td>\n",
       "      <td>NaN</td>\n",
       "    </tr>\n",
       "    <tr>\n",
       "      <th>max</th>\n",
       "      <td>8.000000</td>\n",
       "      <td>9.000000</td>\n",
       "      <td>512.329200</td>\n",
       "      <td>NaN</td>\n",
       "      <td>NaN</td>\n",
       "    </tr>\n",
       "  </tbody>\n",
       "</table>\n",
       "</div>"
      ],
      "text/plain": [
       "             SibSp       Parch        Fare            Cabin Embarked\n",
       "count   418.000000  418.000000  417.000000               91      418\n",
       "unique         NaN         NaN         NaN               76        3\n",
       "top            NaN         NaN         NaN  B57 B59 B63 B66        S\n",
       "freq           NaN         NaN         NaN                3      270\n",
       "mean      0.447368    0.392344   35.627188              NaN      NaN\n",
       "std       0.896760    0.981429   55.907576              NaN      NaN\n",
       "min       0.000000    0.000000    0.000000              NaN      NaN\n",
       "25%       0.000000    0.000000    7.895800              NaN      NaN\n",
       "50%       0.000000    0.000000   14.454200              NaN      NaN\n",
       "75%       1.000000    0.000000   31.500000              NaN      NaN\n",
       "max       8.000000    9.000000  512.329200              NaN      NaN"
      ]
     },
     "execution_count": 81,
     "metadata": {},
     "output_type": "execute_result"
    }
   ],
   "source": [
    "holdout[columns].describe(include=\"all\")"
   ]
  },
  {
   "cell_type": "code",
   "execution_count": 82,
   "metadata": {},
   "outputs": [
    {
     "data": {
      "text/plain": [
       "SibSp         0\n",
       "Parch         0\n",
       "Fare          1\n",
       "Cabin       327\n",
       "Embarked      0\n",
       "dtype: int64"
      ]
     },
     "execution_count": 82,
     "metadata": {},
     "output_type": "execute_result"
    }
   ],
   "source": [
    "holdout[columns].isnull().sum()"
   ]
  },
  {
   "cell_type": "markdown",
   "metadata": {},
   "source": [
    "The holdout dataset also has a chunk of passenger entries with null 'Cabin' values, plus a single null value for the 'Fare' variable.\n",
    "\n",
    "For now, the 'Embarked' and 'Fare' missing values can be filled in using their mode and mean respectively (since one is categorical and the other numerical and continuous). The Cabin column will be dealt with further down the road."
   ]
  },
  {
   "cell_type": "code",
   "execution_count": 83,
   "metadata": {},
   "outputs": [],
   "source": [
    "train[\"Embarked\"] = train[\"Embarked\"].fillna(\"S\")\n",
    "holdout[\"Embarked\"] = holdout[\"Embarked\"].fillna(\"S\")\n",
    "holdout[\"Fare\"] = holdout[\"Fare\"].fillna(holdout[\"Fare\"].mean())"
   ]
  },
  {
   "cell_type": "code",
   "execution_count": 84,
   "metadata": {},
   "outputs": [],
   "source": [
    "train = create_dummies(train,[\"Embarked\"])\n",
    "holdout = create_dummies(holdout,[\"Embarked\"])"
   ]
  },
  {
   "cell_type": "markdown",
   "metadata": {},
   "source": [
    "An important step to remember is the rescaling of numerical variables. The sklearn.preprocessing.minmax_scale() method rescales numerical variables so that they are all distributed within the same range, eliminating any bias that would waylay the model."
   ]
  },
  {
   "cell_type": "code",
   "execution_count": 85,
   "metadata": {},
   "outputs": [],
   "source": [
    "from sklearn.preprocessing import minmax_scale"
   ]
  },
  {
   "cell_type": "code",
   "execution_count": 86,
   "metadata": {},
   "outputs": [
    {
     "name": "stderr",
     "output_type": "stream",
     "text": [
      "C:\\Users\\jacop\\Anaconda3\\lib\\site-packages\\sklearn\\utils\\validation.py:475: DataConversionWarning: Data with input dtype int64 was converted to float64.\n",
      "  warnings.warn(msg, DataConversionWarning)\n"
     ]
    }
   ],
   "source": [
    "columns = [\"SibSp_scaled\",\"Parch_scaled\",\"Fare_scaled\"]\n",
    "target_columns = [\"SibSp\",\"Parch\",\"Fare\"]\n",
    "\n",
    "for i in range(3):\n",
    "    train[columns[i]] = minmax_scale(train[target_columns[i]])\n",
    "    holdout[columns[i]] = minmax_scale(holdout[target_columns[i]])"
   ]
  },
  {
   "cell_type": "code",
   "execution_count": 89,
   "metadata": {},
   "outputs": [
    {
     "name": "stdout",
     "output_type": "stream",
     "text": [
      "Index(['PassengerId', 'Survived', 'Pclass', 'Name', 'Sex', 'Age', 'SibSp',\n",
      "       'Parch', 'Ticket', 'Fare', 'Cabin', 'Embarked', 'Age_categories',\n",
      "       'Pclass_1', 'Pclass_2', 'Pclass_3', 'Sex_female', 'Sex_male',\n",
      "       'Age_categories_Missing', 'Age_categories_Infant',\n",
      "       'Age_categories_Child', 'Age_categories_Teenager',\n",
      "       'Age_categories_Young Adult', 'Age_categories_Adult',\n",
      "       'Age_categories_Senior', 'Embarked_C', 'Embarked_Q', 'Embarked_S',\n",
      "       'SibSp_scaled', 'Parch_scaled', 'Fare_scaled'],\n",
      "      dtype='object')\n"
     ]
    }
   ],
   "source": [
    "print(train.columns)"
   ]
  },
  {
   "cell_type": "markdown",
   "metadata": {},
   "source": [
    "Now all previous columns plus the new rescaled ones can be selected as features."
   ]
  },
  {
   "cell_type": "code",
   "execution_count": 90,
   "metadata": {},
   "outputs": [],
   "source": [
    "columns = ['Pclass_1',\n",
    "       'Pclass_2', 'Pclass_3', 'Sex_female', 'Sex_male',\n",
    "       'Age_categories_Missing', 'Age_categories_Infant',\n",
    "       'Age_categories_Child', 'Age_categories_Teenager',\n",
    "       'Age_categories_Young Adult', 'Age_categories_Adult',\n",
    "       'Age_categories_Senior', 'SibSp_scaled', 'Parch_scaled', 'Fare_scaled',\n",
    "       'Embarked_C', 'Embarked_Q', 'Embarked_S']"
   ]
  },
  {
   "cell_type": "code",
   "execution_count": 91,
   "metadata": {},
   "outputs": [],
   "source": [
    "all_X = train[columns]\n",
    "all_y = train[\"Survived\"]"
   ]
  },
  {
   "cell_type": "markdown",
   "metadata": {},
   "source": [
    "Instead of using all these features together, one should try to find ways to identify just the best among them. Looking at the absolute values of the regression coefficients is a great way to select the best features for our model."
   ]
  },
  {
   "cell_type": "code",
   "execution_count": 93,
   "metadata": {},
   "outputs": [
    {
     "data": {
      "image/png": "[encoded data removed]",
      "text/plain": [
       "<Figure size 432x288 with 1 Axes>"
      ]
     },
     "metadata": {},
     "output_type": "display_data"
    }
   ],
   "source": [
    "lr = LogisticRegression()\n",
    "lr.fit(all_X,all_y)\n",
    "\n",
    "coefficients = lr.coef_\n",
    "feature_importance = pd.Series(coefficients[0],\n",
    "                               index=all_X.columns)\n",
    "ordered_feature_importance = feature_importance.abs().sort_values()\n",
    "ordered_feature_importance.plot.barh()\n",
    "plt.xlabel(\"Regression coefficient (absolute value)\")\n",
    "plt.show()"
   ]
  },
  {
   "cell_type": "code",
   "execution_count": 94,
   "metadata": {},
   "outputs": [],
   "source": [
    "# Select the columns with absolute regression coefficients above .75\n",
    "columns = ['Age_categories_Infant', 'SibSp_scaled', 'Sex_female', 'Sex_male',\n",
    "       'Pclass_1', 'Pclass_3', 'Age_categories_Senior', 'Parch_scaled']\n",
    "all_X = train[columns]\n",
    "all_y = train[\"Survived\"]"
   ]
  },
  {
   "cell_type": "code",
   "execution_count": 95,
   "metadata": {},
   "outputs": [
    {
     "name": "stdout",
     "output_type": "stream",
     "text": [
      "AUC:  0.8148019521053229\n"
     ]
    }
   ],
   "source": [
    "lr = LogisticRegression()\n",
    "scores = cross_val_score(lr,train[columns],train[\"Survived\"],cv=10)\n",
    "accuracy = np.mean(scores)\n",
    "print(\"AUC: \",accuracy)"
   ]
  },
  {
   "cell_type": "code",
   "execution_count": 96,
   "metadata": {},
   "outputs": [],
   "source": [
    "lr = LogisticRegression()\n",
    "lr.fit(all_X,all_y)\n",
    "holdout_predictions = lr.predict(holdout[columns])\n",
    "\n",
    "submission = pd.DataFrame({\n",
    "    \"PassengerId\": holdout[\"PassengerId\"],\n",
    "    \"Survived\": holdout_predictions\n",
    "})\n",
    "submission.to_csv(\"submission.csv\",index=False)"
   ]
  },
  {
   "cell_type": "markdown",
   "metadata": {},
   "source": [
    "Once the new predictions are submitted to Kaggle, the real accuracy obtained by this latest model on the holdout dataset is found as *77.0%*. Can this be improved even further?\n",
    "\n",
    "The next step involves a different approach to the 'Fare' variable: as was the case for the 'Age' variable, 'Fare' may be converted into a categorical variable by cutting it at set value points. "
   ]
  },
  {
   "cell_type": "code",
   "execution_count": 97,
   "metadata": {},
   "outputs": [],
   "source": [
    "cut_points = [0,12,50,100,1000]\n",
    "label_names = [\"0-12\",\"12-50\",\"50-100\",\"100+\"]\n",
    "\n",
    "train = categorical_cut(train,\"Fare\",\"Fare_categories\",cut_points,label_names)\n",
    "holdout = categorical_cut(holdout,\"Fare\",\"Fare_categories\",cut_points,label_names)\n",
    "\n",
    "train = create_dummies(train,[\"Fare_categories\"])\n",
    "holdout = create_dummies(holdout,[\"Fare_categories\"])"
   ]
  },
  {
   "cell_type": "markdown",
   "metadata": {},
   "source": [
    "Secondly, the 'Name' column can be engineered too. Individually the names are unique and thus have no predictive quality. However, many names share a title like Mr. or Mrs., which can be extracted using a dictionary and grouped up as categories."
   ]
  },
  {
   "cell_type": "code",
   "execution_count": 98,
   "metadata": {},
   "outputs": [
    {
     "data": {
      "text/plain": [
       "0                              Braund, Mr. Owen Harris\n",
       "1    Cumings, Mrs. John Bradley (Florence Briggs Th...\n",
       "2                               Heikkinen, Miss. Laina\n",
       "3         Futrelle, Mrs. Jacques Heath (Lily May Peel)\n",
       "4                             Allen, Mr. William Henry\n",
       "5                                     Moran, Mr. James\n",
       "6                              McCarthy, Mr. Timothy J\n",
       "7                       Palsson, Master. Gosta Leonard\n",
       "8    Johnson, Mrs. Oscar W (Elisabeth Vilhelmina Berg)\n",
       "9                  Nasser, Mrs. Nicholas (Adele Achem)\n",
       "Name: Name, dtype: object"
      ]
     },
     "execution_count": 98,
     "metadata": {},
     "output_type": "execute_result"
    }
   ],
   "source": [
    "train[\"Name\"].head(10)"
   ]
  },
  {
   "cell_type": "code",
   "execution_count": 99,
   "metadata": {},
   "outputs": [],
   "source": [
    "titles = {\n",
    "    \"Mr\" :         \"Mr\",\n",
    "    \"Mme\":         \"Mrs\",\n",
    "    \"Ms\":          \"Mrs\",\n",
    "    \"Mrs\" :        \"Mrs\",\n",
    "    \"Master\" :     \"Master\",\n",
    "    \"Mlle\":        \"Miss\",\n",
    "    \"Miss\" :       \"Miss\",\n",
    "    \"Capt\":        \"Officer\",\n",
    "    \"Col\":         \"Officer\",\n",
    "    \"Major\":       \"Officer\",\n",
    "    \"Dr\":          \"Officer\",\n",
    "    \"Rev\":         \"Officer\",\n",
    "    \"Jonkheer\":    \"Royalty\",\n",
    "    \"Don\":         \"Royalty\",\n",
    "    \"Sir\" :        \"Royalty\",\n",
    "    \"Countess\":    \"Royalty\",\n",
    "    \"Dona\":        \"Royalty\",\n",
    "    \"Lady\" :       \"Royalty\"\n",
    "}"
   ]
  },
  {
   "cell_type": "code",
   "execution_count": 100,
   "metadata": {},
   "outputs": [],
   "source": [
    "extracted_titles = train[\"Name\"].str.extract(' ([A-Za-z]+)\\.',expand=False) # Filter only alphabetic symbols and whitespace\n",
    "train[\"Title\"] = extracted_titles.map(titles)\n",
    "train = train.drop(\"Name\",axis=1)\n",
    "extracted_titles = holdout[\"Name\"].str.extract(' ([A-Za-z]+)\\.',expand=False) # Filter only alphabetic symbols and whitespace\n",
    "holdout[\"Title\"] = extracted_titles.map(titles)\n",
    "holdout = holdout.drop(\"Name\",axis=1)"
   ]
  },
  {
   "cell_type": "markdown",
   "metadata": {},
   "source": [
    "Finally, the 'Cabin' variable."
   ]
  },
  {
   "cell_type": "code",
   "execution_count": 101,
   "metadata": {},
   "outputs": [
    {
     "data": {
      "text/plain": [
       "0     NaN\n",
       "1     C85\n",
       "2     NaN\n",
       "3    C123\n",
       "4     NaN\n",
       "5     NaN\n",
       "6     E46\n",
       "7     NaN\n",
       "8     NaN\n",
       "9     NaN\n",
       "Name: Cabin, dtype: object"
      ]
     },
     "execution_count": 101,
     "metadata": {},
     "output_type": "execute_result"
    }
   ],
   "source": [
    "train[\"Cabin\"].head(10)"
   ]
  },
  {
   "cell_type": "markdown",
   "metadata": {},
   "source": [
    "As seen before, many of these values are null. These likely correspond to third class tickets with no assigned cabin, and may be set as \"Unknown\". As for the valid cabin IDs, the number is of little use, but the letter identified specific areas of the ship and therefore contains precious information."
   ]
  },
  {
   "cell_type": "code",
   "execution_count": 102,
   "metadata": {},
   "outputs": [],
   "source": [
    "train[\"Cabin_type\"] = train[\"Cabin\"].str[0] # Extract the first letter of the cabin ID\n",
    "train[\"Cabin_type\"] = train[\"Cabin_type\"].fillna(\"Unknown\")\n",
    "train = train.drop(\"Cabin\",axis=1)\n",
    "holdout[\"Cabin_type\"] = holdout[\"Cabin\"].str[0] # Extract the first letter of the cabin ID\n",
    "holdout[\"Cabin_type\"] = holdout[\"Cabin_type\"].fillna(\"Unknown\")\n",
    "holdout = holdout.drop(\"Cabin\",axis=1)"
   ]
  },
  {
   "cell_type": "code",
   "execution_count": 103,
   "metadata": {},
   "outputs": [],
   "source": [
    "train = create_dummies(train,[\"Title\",\"Cabin_type\"])\n",
    "holdout = create_dummies(holdout,[\"Title\",\"Cabin_type\"])"
   ]
  },
  {
   "cell_type": "code",
   "execution_count": 104,
   "metadata": {},
   "outputs": [
    {
     "name": "stdout",
     "output_type": "stream",
     "text": [
      "Index(['PassengerId', 'Survived', 'Pclass', 'Sex', 'Age', 'SibSp', 'Parch',\n",
      "       'Ticket', 'Fare', 'Embarked', 'Age_categories', 'Pclass_1', 'Pclass_2',\n",
      "       'Pclass_3', 'Sex_female', 'Sex_male', 'Age_categories_Missing',\n",
      "       'Age_categories_Infant', 'Age_categories_Child',\n",
      "       'Age_categories_Teenager', 'Age_categories_Young Adult',\n",
      "       'Age_categories_Adult', 'Age_categories_Senior', 'Embarked_C',\n",
      "       'Embarked_Q', 'Embarked_S', 'SibSp_scaled', 'Parch_scaled',\n",
      "       'Fare_scaled', 'Fare_categories', 'Fare_categories_0-12',\n",
      "       'Fare_categories_12-50', 'Fare_categories_50-100',\n",
      "       'Fare_categories_100+', 'Title', 'Cabin_type', 'Title_Master',\n",
      "       'Title_Miss', 'Title_Mr', 'Title_Mrs', 'Title_Officer', 'Title_Royalty',\n",
      "       'Cabin_type_A', 'Cabin_type_B', 'Cabin_type_C', 'Cabin_type_D',\n",
      "       'Cabin_type_E', 'Cabin_type_F', 'Cabin_type_G', 'Cabin_type_T',\n",
      "       'Cabin_type_Unknown'],\n",
      "      dtype='object')\n"
     ]
    }
   ],
   "source": [
    "print(train.columns)"
   ]
  },
  {
   "cell_type": "markdown",
   "metadata": {},
   "source": [
    "There are many features now, and there's the real risk that some of them may be positively correlated and thus redundant - i.e. columns such as 'Title_Mr' and 'Title_Mrs' can be expected to closely resemble the distirbution of the 'Sex_male' and 'Sex_female' columns. A list of column candidates for elimination can thus be constructed by calculating correlation coefficients between features and by using a heatmap to catch at a glance all redundant columns."
   ]
  },
  {
   "cell_type": "code",
   "execution_count": 105,
   "metadata": {},
   "outputs": [],
   "source": [
    "import seaborn as sns"
   ]
  },
  {
   "cell_type": "markdown",
   "metadata": {},
   "source": [
    "Heatmaps let us understand the relationship between features. As stated, the goal is to avoid features which are redundant, i.e. that are highly correlated between them and are thus likely to convey the same kind of information."
   ]
  },
  {
   "cell_type": "code",
   "execution_count": 106,
   "metadata": {},
   "outputs": [],
   "source": [
    "def plot_correlation_heatmap(df):\n",
    "    corr = df.corr()\n",
    "    \n",
    "    sns.set(style=\"white\")\n",
    "    mask = np.zeros_like(corr, dtype=np.bool)\n",
    "    mask[np.triu_indices_from(mask)] = True\n",
    "\n",
    "    f, ax = plt.subplots(figsize=(11, 9))\n",
    "    cmap = sns.diverging_palette(220, 10, as_cmap=True)\n",
    "\n",
    "\n",
    "    sns.heatmap(corr, mask=mask, cmap=cmap, vmax=.3, center=0,\n",
    "            square=True, linewidths=.5, cbar_kws={\"shrink\": .5})\n",
    "    plt.show()"
   ]
  },
  {
   "cell_type": "code",
   "execution_count": 107,
   "metadata": {},
   "outputs": [
    {
     "data": {
      "image/png": "[encoded data removed]",
      "text/plain": [
       "<Figure size 792x648 with 2 Axes>"
      ]
     },
     "metadata": {},
     "output_type": "display_data"
    }
   ],
   "source": [
    "columns = ['Age_categories_Missing', 'Age_categories_Infant',\n",
    "       'Age_categories_Child', 'Age_categories_Teenager',\n",
    "       'Age_categories_Young Adult', 'Age_categories_Adult',\n",
    "       'Age_categories_Senior', 'Pclass_1', 'Pclass_2', 'Pclass_3',\n",
    "       'Sex_female', 'Sex_male', 'Embarked_C', 'Embarked_Q', 'Embarked_S',\n",
    "       'SibSp_scaled', 'Parch_scaled', 'Fare_categories_0-12',\n",
    "       'Fare_categories_12-50','Fare_categories_50-100', 'Fare_categories_100+',\n",
    "       'Title_Master', 'Title_Miss', 'Title_Mr','Title_Mrs', 'Title_Officer',\n",
    "       'Title_Royalty', 'Cabin_type_A','Cabin_type_B', 'Cabin_type_C', 'Cabin_type_D',\n",
    "       'Cabin_type_E','Cabin_type_F', 'Cabin_type_G', 'Cabin_type_T', 'Cabin_type_Unknown']\n",
    "\n",
    "plot_correlation_heatmap(train[columns])"
   ]
  },
  {
   "cell_type": "markdown",
   "metadata": {},
   "source": [
    "None of the features have extremely strong positive correlations, so it is hard to determine which ones to remove with certainty. Sex_male and Sex_female are very similar to the Title columns though, and the latter ones are more nuanced. The choice is made here to drop the Sex_male and Sex_female columns. Also note the extremely strong negative correlation on some of the features: these of course indicate mutually exclusive variables.\n",
    "\n",
    "Furthermore, it is good practice to eliminate one among the features for each of the sets of categorical dummy columns to prevent some internal correlation between dummy columns."
   ]
  },
  {
   "cell_type": "code",
   "execution_count": 108,
   "metadata": {},
   "outputs": [],
   "source": [
    "columns = ['Age_categories_Missing', 'Age_categories_Infant',\n",
    "       'Age_categories_Child', 'Age_categories_Young Adult',\n",
    "       'Age_categories_Adult', 'Age_categories_Senior', 'Pclass_1', 'Pclass_3',\n",
    "       'Embarked_C', 'Embarked_Q', 'Embarked_S', 'SibSp_scaled',\n",
    "       'Parch_scaled', 'Fare_categories_0-12', 'Fare_categories_50-100',\n",
    "       'Fare_categories_100+', 'Title_Miss', 'Title_Mr', 'Title_Mrs',\n",
    "       'Title_Officer', 'Title_Royalty', 'Cabin_type_B', 'Cabin_type_C',\n",
    "       'Cabin_type_D', 'Cabin_type_E', 'Cabin_type_F', 'Cabin_type_G',\n",
    "       'Cabin_type_T', 'Cabin_type_Unknown']\n",
    "\n",
    "all_X = train[columns]\n",
    "all_y = train[\"Survived\"]"
   ]
  },
  {
   "cell_type": "markdown",
   "metadata": {},
   "source": [
    "Another very useful tool from sklearn is sklearn.feature_selection.RFECV(). This function cross references and evaluates the features and selects those that are best for predicting the target variable."
   ]
  },
  {
   "cell_type": "code",
   "execution_count": 109,
   "metadata": {},
   "outputs": [],
   "source": [
    "from sklearn.feature_selection import RFECV"
   ]
  },
  {
   "cell_type": "code",
   "execution_count": 110,
   "metadata": {},
   "outputs": [
    {
     "name": "stdout",
     "output_type": "stream",
     "text": [
      "Index(['SibSp_scaled', 'Title_Mr', 'Title_Officer', 'Cabin_type_Unknown'], dtype='object')\n"
     ]
    }
   ],
   "source": [
    "lr = LogisticRegression()\n",
    "selector = RFECV(lr, cv=10)\n",
    "selector.fit(all_X,all_y)\n",
    "optimized_columns = all_X.columns[selector.support_]\n",
    "print(optimized_columns)"
   ]
  },
  {
   "cell_type": "markdown",
   "metadata": {},
   "source": [
    "Title_Mr correlates well with Sex_male, so this variable characterizes the sex. Cabin_type_Unknown correlates well with Pclass_3, so this variable characterizes whether the passenger was in third or not. Title_Officer is curious - perhaps Officers predominantly survived or perished. SibSp_scaled is another curious one: apparently the number of siblings and/or spouses on board had a non-random impact on the survivability of the passengers."
   ]
  },
  {
   "cell_type": "code",
   "execution_count": 111,
   "metadata": {},
   "outputs": [
    {
     "name": "stdout",
     "output_type": "stream",
     "text": [
      "AUC:  0.8226549199863807\n"
     ]
    }
   ],
   "source": [
    "all_X = train[optimized_columns]\n",
    "lr = LogisticRegression()\n",
    "scores = cross_val_score(lr,all_X,all_y,cv=10)\n",
    "accuracy = np.mean(scores)\n",
    "print(\"AUC: \",accuracy)"
   ]
  },
  {
   "cell_type": "code",
   "execution_count": 113,
   "metadata": {},
   "outputs": [],
   "source": [
    "lr = LogisticRegression()\n",
    "lr.fit(all_X,all_y)\n",
    "holdout_predictions = lr.predict(holdout[optimized_columns])\n",
    "\n",
    "submission = pd.DataFrame({\n",
    "    \"PassengerId\": holdout[\"PassengerId\"],\n",
    "    \"Survived\": holdout_predictions\n",
    "})\n",
    "submission.to_csv(\"submission.csv\",index=False)"
   ]
  },
  {
   "cell_type": "markdown",
   "metadata": {},
   "source": [
    "Once the new predictions are submitted to Kaggle, the real accuracy obtained by this latest model on the holdout dataset increases to *78.5%*. The features have now been engineered extensively - what can be done about model selection?"
   ]
  },
  {
   "cell_type": "markdown",
   "metadata": {},
   "source": [
    "## Model selection\n",
    "#### K-Neighbors Classifier\n",
    "The first alternative model to be tested will be a K-Neighbors Classifier. For the first attempt, k = 1."
   ]
  },
  {
   "cell_type": "code",
   "execution_count": 116,
   "metadata": {},
   "outputs": [],
   "source": [
    "from sklearn.neighbors import KNeighborsClassifier"
   ]
  },
  {
   "cell_type": "code",
   "execution_count": 117,
   "metadata": {},
   "outputs": [
    {
     "name": "stdout",
     "output_type": "stream",
     "text": [
      "AUC:  0.7429142549086369\n"
     ]
    }
   ],
   "source": [
    "knn = KNeighborsClassifier(n_neighbors=1)\n",
    "scores = cross_val_score(knn,all_X,all_y,cv=10)\n",
    "accuracy_knn = np.mean(scores)\n",
    "print(\"AUC: \",accuracy_knn)"
   ]
  },
  {
   "cell_type": "markdown",
   "metadata": {},
   "source": [
    "The accuracy fell by quite a lot - a K-Neighbors Classifier may not be the most powerful of models, but then again setting k = 1 may also be a suboptimal choice. For the second attempt, k will be set to increasing values and the accuracy will be tested each time. This is known as hyperparameter optimization: the hyperparameters are the parameters which describe and tune the model."
   ]
  },
  {
   "cell_type": "code",
   "execution_count": 118,
   "metadata": {},
   "outputs": [],
   "source": [
    "def plot_dict(dictionary):\n",
    "    pd.Series(dictionary).plot.bar(figsize=(9,6),ylim=(0.68,0.83),rot=0)\n",
    "    plt.ylabel(\"Accuracy\")\n",
    "    plt.xlabel(\"k Value\")\n",
    "    plt.show()"
   ]
  },
  {
   "cell_type": "code",
   "execution_count": 121,
   "metadata": {},
   "outputs": [
    {
     "data": {
      "image/png": "[encoded data removed]",
      "text/plain": [
       "<Figure size 648x432 with 1 Axes>"
      ]
     },
     "metadata": {},
     "output_type": "display_data"
    }
   ],
   "source": [
    "knn_scores = dict()\n",
    "for k in range(1,50,2):\n",
    "    knn = KNeighborsClassifier(n_neighbors=k)\n",
    "    scores = cross_val_score(knn,all_X,all_y,cv=10)\n",
    "    knn_scores[k] = np.mean(scores)\n",
    "plot_dict(knn_scores)"
   ]
  },
  {
   "cell_type": "code",
   "execution_count": 122,
   "metadata": {},
   "outputs": [
    {
     "name": "stdout",
     "output_type": "stream",
     "text": [
      "AUC:  0.8226674043808876\n"
     ]
    }
   ],
   "source": [
    "print(\"AUC: \",knn_scores[17])"
   ]
  },
  {
   "cell_type": "markdown",
   "metadata": {},
   "source": [
    "A good result. Hyperparameter optimization is an important part of the model refining process - however it can also become increasingly tricky as more and more parameters are added over which the model can change. Helpfully, sklearn has a dedicated tool for hyperparameter optimization i.e. the sklearn.model_selection.GridSearchCV() method. \n",
    "\n",
    "When a dictionary of possible hyperparameter ranges is passed to the method, GridSearchCV() cycles over all hyperparameter combinations and finds the best possible model within the assigned boundaries. The best hyperparameters and the corresponding accuracy score are then easily accessible."
   ]
  },
  {
   "cell_type": "code",
   "execution_count": 123,
   "metadata": {},
   "outputs": [],
   "source": [
    "from sklearn.model_selection import GridSearchCV"
   ]
  },
  {
   "cell_type": "code",
   "execution_count": 124,
   "metadata": {},
   "outputs": [],
   "source": [
    "hyperparameters = {\n",
    "    \"n_neighbors\": range(1,20,2),\n",
    "    \"weights\": [\"distance\", \"uniform\"],\n",
    "    \"algorithm\": ['brute','auto'],\n",
    "    \"p\": [1,2]\n",
    "}"
   ]
  },
  {
   "cell_type": "code",
   "execution_count": 127,
   "metadata": {},
   "outputs": [
    {
     "name": "stdout",
     "output_type": "stream",
     "text": [
      "Best Parameters:  {'algorithm': 'auto', 'n_neighbors': 17, 'p': 1, 'weights': 'distance'} \n",
      "Best Score:  0.8226711560044894\n"
     ]
    }
   ],
   "source": [
    "knn = KNeighborsClassifier()\n",
    "grid = GridSearchCV(knn, param_grid=hyperparameters, cv=10)\n",
    "grid.fit(all_X,all_y)\n",
    "best_params = grid.best_params_\n",
    "best_score = grid.best_score_\n",
    "print(\"Best Parameters: \",best_params,\"\\nBest Score: \",best_score)"
   ]
  },
  {
   "cell_type": "code",
   "execution_count": 128,
   "metadata": {},
   "outputs": [],
   "source": [
    "best_knn = grid.best_estimator_\n",
    "holdout_predictions = best_knn.predict(holdout[optimized_columns])\n",
    "\n",
    "submission = pd.DataFrame({\n",
    "    \"PassengerId\": holdout[\"PassengerId\"],\n",
    "    \"Survived\": holdout_predictions\n",
    "})\n",
    "submission.to_csv(\"submission.csv\",index=False)"
   ]
  },
  {
   "cell_type": "markdown",
   "metadata": {},
   "source": [
    "Once the new predictions are submitted to Kaggle, the real accuracy obtained by the latest model falls down to *77%* again. K-Neighbors Classifiers don't seem to fare so well."
   ]
  },
  {
   "cell_type": "markdown",
   "metadata": {},
   "source": [
    "#### Random Forest Classifier\n",
    "The last model to be tested will be an ensemble Decision Tree model, i.e. a Random Forest Classifier."
   ]
  },
  {
   "cell_type": "code",
   "execution_count": 130,
   "metadata": {},
   "outputs": [],
   "source": [
    "from sklearn.ensemble import RandomForestClassifier"
   ]
  },
  {
   "cell_type": "code",
   "execution_count": 131,
   "metadata": {},
   "outputs": [
    {
     "name": "stdout",
     "output_type": "stream",
     "text": [
      "RandomForestClassifier(bootstrap=True, class_weight=None, criterion='gini',\n",
      "            max_depth=None, max_features='auto', max_leaf_nodes=None,\n",
      "            min_impurity_decrease=0.0, min_impurity_split=None,\n",
      "            min_samples_leaf=1, min_samples_split=2,\n",
      "            min_weight_fraction_leaf=0.0, n_estimators=10, n_jobs=1,\n",
      "            oob_score=False, random_state=1, verbose=0, warm_start=False)\n"
     ]
    }
   ],
   "source": [
    "rf = RandomForestClassifier(random_state=1)\n",
    "scores = cross_val_score(rf,all_X,all_y,cv=10)\n",
    "accuracy_rf = np.mean(scores)\n",
    "#print(\"AUC: \",accuracy_rf)\n",
    "print(rf)"
   ]
  },
  {
   "cell_type": "code",
   "execution_count": 132,
   "metadata": {},
   "outputs": [],
   "source": [
    "hyperparameters = {\n",
    "    \"criterion\": [\"entropy\",\"gini\"],\n",
    "    \"max_depth\": range(1,20,2),\n",
    "    \"max_features\": [\"log2\",\"sqrt\",\"auto\"],\n",
    "    \"min_samples_leaf\": [1,5],\n",
    "    \"min_samples_split\": [3,5],\n",
    "    \"n_estimators\": [6,9]\n",
    "}"
   ]
  },
  {
   "cell_type": "code",
   "execution_count": 133,
   "metadata": {},
   "outputs": [
    {
     "name": "stdout",
     "output_type": "stream",
     "text": [
      "Best parameters:  {'criterion': 'entropy', 'max_depth': 3, 'max_features': 'log2', 'min_samples_leaf': 1, 'min_samples_split': 3, 'n_estimators': 6} \n",
      " Score:  0.8226711560044894\n"
     ]
    }
   ],
   "source": [
    "rf = RandomForestClassifier(random_state=1)\n",
    "grid = GridSearchCV(rf, param_grid=hyperparameters, cv = 10)\n",
    "grid.fit(all_X,all_y)\n",
    "best_params = grid.best_params_\n",
    "best_score = grid.best_score_\n",
    "print(\"Best Parameters: \",best_params,\"\\nScore: \",best_score)"
   ]
  },
  {
   "cell_type": "code",
   "execution_count": 134,
   "metadata": {},
   "outputs": [],
   "source": [
    "best_rf = grid.best_estimator_\n",
    "holdout_predictions = best_rf.predict(holdout[optimized_columns])\n",
    "\n",
    "predictions = best_rf.predict(holdout[optimized_columns])\n",
    "submission = pd.DataFrame({\n",
    "    \"PassengerId\": holdout[\"PassengerId\"],\n",
    "    \"Survived\": predictions\n",
    "})\n",
    "submission.to_csv(\"submission.csv\",index=False)"
   ]
  },
  {
   "cell_type": "markdown",
   "metadata": {},
   "source": [
    "Once the new predictions are submitted to Kaggle, the real accuracy obtained by the latest model rises up to *78.5%* again. This value can't seem to be surpassed for the moment being. Strategies to try in this quest towards an higher score are:\n",
    "- Further feature engineering. New features may be created by manipulating existing ones in clever ways. Going back to the starting problem and reading and learning about the original scenario which produced the data is often important to find new ways in which to interpret and describe the data.\n",
    "- Employment of more powerful techniques such as support vector machines, stochastic gradient descent or perceptron linear models. All of these have bespoke sklearn methods and can be optimized using GridSearchCV."
   ]
  },
  {
   "cell_type": "code",
   "execution_count": null,
   "metadata": {},
   "outputs": [],
   "source": []
  }
 ],
 "metadata": {
  "kernelspec": {
   "display_name": "Python 3",
   "language": "python",
   "name": "python3"
  },
  "language_info": {
   "codemirror_mode": {
    "name": "ipython",
    "version": 3
   },
   "file_extension": ".py",
   "mimetype": "text/x-python",
   "name": "python",
   "nbconvert_exporter": "python",
   "pygments_lexer": "ipython3",
   "version": "3.6.5"
  }
 },
 "nbformat": 4,
 "nbformat_minor": 2
}
