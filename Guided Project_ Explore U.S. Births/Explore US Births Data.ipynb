{
 "cells": [
  {
   "cell_type": "markdown",
   "metadata": {},
   "source": [
    "# Exploring a Dataset with Custom Functions\n",
    "The goal of this project is to visit the concept of using custom functions to explore a dataset. To do so, a dataset recording births in the US between 1994 and 2003 will be used."
   ]
  },
  {
   "cell_type": "code",
   "execution_count": 1,
   "metadata": {},
   "outputs": [
    {
     "name": "stdout",
     "output_type": "stream",
     "text": [
      "['year,month,date_of_month,day_of_week,births', '1994,1,1,6,8096', '1994,1,2,7,7772', '1994,1,3,1,10142', '1994,1,4,2,11248', '1994,1,5,3,11053', '1994,1,6,4,11406', '1994,1,7,5,11251', '1994,1,8,6,8653', '1994,1,9,7,7910']\n"
     ]
    }
   ],
   "source": [
    "# Read in the data, then split it into a list of strings on the newline character\n",
    "data = open(\"US_births_1994-2003_CDC_NCHS.csv\", \"r\").read().split(\"\\n\")\n",
    "print(data[:10])"
   ]
  },
  {
   "cell_type": "markdown",
   "metadata": {},
   "source": [
    "The data read-in phase can be streamlined in itself: let's define a custom function for it."
   ]
  },
  {
   "cell_type": "code",
   "execution_count": 8,
   "metadata": {},
   "outputs": [],
   "source": [
    "def read_csv(name):\n",
    "    data = open(name, \"r\").read().split(\"\\n\")\n",
    "    header = data[0].split(\",\") # We assign the column names to a header before removing them from the data\n",
    "    del data[0]                 # We delete the column names so that the output list only contains numerical values\n",
    "    ret = []\n",
    "    for d in data:\n",
    "        int_list = [int(x) for x in d.split(\",\")] # Let's convert all data to int type\n",
    "        ret.append(int_list)\n",
    "    return header, ret"
   ]
  },
  {
   "cell_type": "code",
   "execution_count": 5,
   "metadata": {},
   "outputs": [],
   "source": [
    "cdc_header, cdc_list = read_csv(\"US_births_1994-2003_CDC_NCHS.csv\")"
   ]
  },
  {
   "cell_type": "markdown",
   "metadata": {},
   "source": [
    "We output both header and data to check that everything worked out correctly."
   ]
  },
  {
   "cell_type": "code",
   "execution_count": 6,
   "metadata": {},
   "outputs": [
    {
     "data": {
      "text/plain": [
       "['year', 'month', 'date_of_month', 'day_of_week', 'births']"
      ]
     },
     "execution_count": 6,
     "metadata": {},
     "output_type": "execute_result"
    }
   ],
   "source": [
    "cdc_header"
   ]
  },
  {
   "cell_type": "code",
   "execution_count": 7,
   "metadata": {},
   "outputs": [
    {
     "data": {
      "text/plain": [
       "[[1994, 1, 1, 6, 8096],\n",
       " [1994, 1, 2, 7, 7772],\n",
       " [1994, 1, 3, 1, 10142],\n",
       " [1994, 1, 4, 2, 11248],\n",
       " [1994, 1, 5, 3, 11053],\n",
       " [1994, 1, 6, 4, 11406],\n",
       " [1994, 1, 7, 5, 11251],\n",
       " [1994, 1, 8, 6, 8653],\n",
       " [1994, 1, 9, 7, 7910],\n",
       " [1994, 1, 10, 1, 10498]]"
      ]
     },
     "execution_count": 7,
     "metadata": {},
     "output_type": "execute_result"
    }
   ],
   "source": [
    "cdc_list[:10]"
   ]
  },
  {
   "cell_type": "markdown",
   "metadata": {},
   "source": [
    "Let's also print the data type to check that the conversion to int worked out correctly."
   ]
  },
  {
   "cell_type": "code",
   "execution_count": 9,
   "metadata": {},
   "outputs": [
    {
     "data": {
      "text/plain": [
       "int"
      ]
     },
     "execution_count": 9,
     "metadata": {},
     "output_type": "execute_result"
    }
   ],
   "source": [
    "type(cdc_list[0][0])"
   ]
  },
  {
   "cell_type": "markdown",
   "metadata": {},
   "source": [
    "Dictionaries are great tools for categorising data. For example, one might want to categorise the total number of births by month: using dictionaries we can set the months as dictionary keys and then assign all corresponding births to each key.\n",
    "\n",
    "Let's define functions to produce dictionaries of data."
   ]
  },
  {
   "cell_type": "code",
   "execution_count": 10,
   "metadata": {},
   "outputs": [],
   "source": [
    "def month_births(lst):\n",
    "    dicts = {}\n",
    "    for l in lst:\n",
    "        if l[1] in dicts:\n",
    "            dicts[l[1]] += l[-1]\n",
    "        else:\n",
    "            dicts[l[1]] = l[-1]\n",
    "    return dicts"
   ]
  },
  {
   "cell_type": "code",
   "execution_count": 11,
   "metadata": {},
   "outputs": [
    {
     "data": {
      "text/plain": [
       "{1: 3232517,\n",
       " 2: 3018140,\n",
       " 3: 3322069,\n",
       " 4: 3185314,\n",
       " 5: 3350907,\n",
       " 6: 3296530,\n",
       " 7: 3498783,\n",
       " 8: 3525858,\n",
       " 9: 3439698,\n",
       " 10: 3378814,\n",
       " 11: 3171647,\n",
       " 12: 3301860}"
      ]
     },
     "execution_count": 11,
     "metadata": {},
     "output_type": "execute_result"
    }
   ],
   "source": [
    "cdc_month_births = month_births(cdc_list)\n",
    "cdc_month_births"
   ]
  },
  {
   "cell_type": "markdown",
   "metadata": {},
   "source": [
    "We can do the same for the day of the week:"
   ]
  },
  {
   "cell_type": "code",
   "execution_count": 12,
   "metadata": {},
   "outputs": [],
   "source": [
    "def dow_births(lst):\n",
    "    dicts = {}\n",
    "    for l in lst:\n",
    "        if l[3] in dicts:\n",
    "            dicts[l[3]] += l[-1]\n",
    "        else:\n",
    "            dicts[l[3]] = l[-1]\n",
    "    return dicts"
   ]
  },
  {
   "cell_type": "code",
   "execution_count": 13,
   "metadata": {},
   "outputs": [
    {
     "data": {
      "text/plain": [
       "{6: 4562111,\n",
       " 7: 4079723,\n",
       " 1: 5789166,\n",
       " 2: 6446196,\n",
       " 3: 6322855,\n",
       " 4: 6288429,\n",
       " 5: 6233657}"
      ]
     },
     "execution_count": 13,
     "metadata": {},
     "output_type": "execute_result"
    }
   ],
   "source": [
    "cdc_day_births = dow_births(cdc_list)\n",
    "cdc_day_births"
   ]
  },
  {
   "cell_type": "markdown",
   "metadata": {},
   "source": [
    "As one might notice, the month_births() and dow_births() functions are close to identical - they only differ by the column index! There's an opportunity here to develop a generalist function that takes in a column index and returns the corresponding dictionary of births."
   ]
  },
  {
   "cell_type": "code",
   "execution_count": 14,
   "metadata": {},
   "outputs": [],
   "source": [
    "def calc_counts(lst,col):\n",
    "    dicts = {}\n",
    "    for l in lst:\n",
    "        if l[col] in dicts:\n",
    "            dicts[l[col]] += l[-1]\n",
    "        else:\n",
    "            dicts[l[col]] = l[-1]\n",
    "    return dicts"
   ]
  },
  {
   "cell_type": "markdown",
   "metadata": {},
   "source": [
    "Let's use the function to get dictionaries for all parameters."
   ]
  },
  {
   "cell_type": "code",
   "execution_count": 15,
   "metadata": {},
   "outputs": [],
   "source": [
    "cdc_year_births = calc_counts(cdc_list,0)\n",
    "cdc_month_births = calc_counts(cdc_list,1)\n",
    "cdc_dom_births = calc_counts(cdc_list,2)\n",
    "cdc_dow_births = calc_counts(cdc_list,3)"
   ]
  },
  {
   "cell_type": "code",
   "execution_count": 16,
   "metadata": {},
   "outputs": [
    {
     "data": {
      "text/plain": [
       "{1994: 3952767,\n",
       " 1995: 3899589,\n",
       " 1996: 3891494,\n",
       " 1997: 3880894,\n",
       " 1998: 3941553,\n",
       " 1999: 3959417,\n",
       " 2000: 4058814,\n",
       " 2001: 4025933,\n",
       " 2002: 4021726,\n",
       " 2003: 4089950}"
      ]
     },
     "execution_count": 16,
     "metadata": {},
     "output_type": "execute_result"
    }
   ],
   "source": [
    "cdc_year_births"
   ]
  },
  {
   "cell_type": "code",
   "execution_count": 17,
   "metadata": {},
   "outputs": [
    {
     "data": {
      "text/plain": [
       "{1: 3232517,\n",
       " 2: 3018140,\n",
       " 3: 3322069,\n",
       " 4: 3185314,\n",
       " 5: 3350907,\n",
       " 6: 3296530,\n",
       " 7: 3498783,\n",
       " 8: 3525858,\n",
       " 9: 3439698,\n",
       " 10: 3378814,\n",
       " 11: 3171647,\n",
       " 12: 3301860}"
      ]
     },
     "execution_count": 17,
     "metadata": {},
     "output_type": "execute_result"
    }
   ],
   "source": [
    "cdc_month_births"
   ]
  },
  {
   "cell_type": "code",
   "execution_count": 18,
   "metadata": {},
   "outputs": [
    {
     "data": {
      "text/plain": [
       "{1: 1276557,\n",
       " 2: 1288739,\n",
       " 3: 1304499,\n",
       " 4: 1288154,\n",
       " 5: 1299953,\n",
       " 6: 1304474,\n",
       " 7: 1310459,\n",
       " 8: 1312297,\n",
       " 9: 1303292,\n",
       " 10: 1320764,\n",
       " 11: 1314361,\n",
       " 12: 1318437,\n",
       " 13: 1277684,\n",
       " 14: 1320153,\n",
       " 15: 1319171,\n",
       " 16: 1315192,\n",
       " 17: 1324953,\n",
       " 18: 1326855,\n",
       " 19: 1318727,\n",
       " 20: 1324821,\n",
       " 21: 1322897,\n",
       " 22: 1317381,\n",
       " 23: 1293290,\n",
       " 24: 1288083,\n",
       " 25: 1272116,\n",
       " 26: 1284796,\n",
       " 27: 1294395,\n",
       " 28: 1307685,\n",
       " 29: 1223161,\n",
       " 30: 1202095,\n",
       " 31: 746696}"
      ]
     },
     "execution_count": 18,
     "metadata": {},
     "output_type": "execute_result"
    }
   ],
   "source": [
    "cdc_dom_births"
   ]
  },
  {
   "cell_type": "code",
   "execution_count": 19,
   "metadata": {},
   "outputs": [
    {
     "data": {
      "text/plain": [
       "{6: 4562111,\n",
       " 7: 4079723,\n",
       " 1: 5789166,\n",
       " 2: 6446196,\n",
       " 3: 6322855,\n",
       " 4: 6288429,\n",
       " 5: 6233657}"
      ]
     },
     "execution_count": 19,
     "metadata": {},
     "output_type": "execute_result"
    }
   ],
   "source": [
    "cdc_dow_births"
   ]
  },
  {
   "cell_type": "markdown",
   "metadata": {},
   "source": [
    "Nice! The pyplot library can now be used to visualise the results."
   ]
  },
  {
   "cell_type": "code",
   "execution_count": 23,
   "metadata": {},
   "outputs": [],
   "source": [
    "import matplotlib.pyplot as plt\n",
    "from numpy import arange, linspace\n",
    "%matplotlib inline"
   ]
  },
  {
   "cell_type": "code",
   "execution_count": 29,
   "metadata": {},
   "outputs": [
    {
     "data": {
      "text/plain": [
       "[3232517,\n",
       " 3018140,\n",
       " 3322069,\n",
       " 3185314,\n",
       " 3350907,\n",
       " 3296530,\n",
       " 3498783,\n",
       " 3525858,\n",
       " 3439698,\n",
       " 3378814,\n",
       " 3171647,\n",
       " 3301860]"
      ]
     },
     "execution_count": 29,
     "metadata": {},
     "output_type": "execute_result"
    }
   ],
   "source": [
    "list(cdc_month_births.values())"
   ]
  },
  {
   "cell_type": "code",
   "execution_count": 36,
   "metadata": {},
   "outputs": [
    {
     "data": {
      "text/plain": [
       "Text(0.5,1,'Births by year')"
      ]
     },
     "execution_count": 36,
     "metadata": {},
     "output_type": "execute_result"
    },
    {
     "data": {
      "image/png": "[encoded data removed]",
      "text/plain": [
       "<Figure size 432x288 with 1 Axes>"
      ]
     },
     "metadata": {},
     "output_type": "display_data"
    }
   ],
   "source": [
    "colors = [plt.cm.Set3(i) for i in linspace(0,1,len(cdc_year_births))]\n",
    "fig, ax = plt.subplots()\n",
    "ax.bar(arange(len(cdc_year_births))+.4,height=list(cdc_year_births.values()),width=.8,color=colors)\n",
    "ax.set_xticks(arange(len(cdc_year_births))+.4)\n",
    "ax.set_xticklabels(cdc_year_births.keys())\n",
    "ax.set_xlim([-.2,len(cdc_year_births)])\n",
    "ax.set_xlabel(\"Year\")\n",
    "ax.set_ylabel(\"Number of births\")\n",
    "ax.set_title(\"Births by year\")"
   ]
  },
  {
   "cell_type": "code",
   "execution_count": 41,
   "metadata": {},
   "outputs": [
    {
     "data": {
      "text/plain": [
       "Text(0.5,1,'Births by month')"
      ]
     },
     "execution_count": 41,
     "metadata": {},
     "output_type": "execute_result"
    },
    {
     "data": {
      "image/png": "[encoded data removed]",
      "text/plain": [
       "<Figure size 432x288 with 1 Axes>"
      ]
     },
     "metadata": {},
     "output_type": "display_data"
    }
   ],
   "source": [
    "colors = [plt.cm.Set3(i) for i in linspace(0,1,len(cdc_month_births))]\n",
    "fig, ax = plt.subplots()\n",
    "ax.bar(arange(len(cdc_month_births))+.4,height=list(cdc_month_births.values()),width=.8,color=colors)\n",
    "ax.set_xticks(arange(len(cdc_month_births))+.4)\n",
    "ax.set_xticklabels([\"Jan\",\"Feb\",\"Mar\",\"Apr\",\"May\",\"Jun\",\"Jul\",\"Aug\",\"Sep\",\"Oct\",\"Nov\",\"Dec\"])\n",
    "ax.set_xlim([-.2,len(cdc_month_births)])\n",
    "ax.set_xlabel(\"Month\")\n",
    "ax.set_ylabel(\"Number of births\")\n",
    "ax.set_title(\"Births by month\")"
   ]
  },
  {
   "cell_type": "code",
   "execution_count": 48,
   "metadata": {},
   "outputs": [
    {
     "data": {
      "text/plain": [
       "Text(0.5,1,'Births by day of month')"
      ]
     },
     "execution_count": 48,
     "metadata": {},
     "output_type": "execute_result"
    },
    {
     "data": {
      "image/png": "[encoded data removed]",
      "text/plain": [
       "<Figure size 576x288 with 1 Axes>"
      ]
     },
     "metadata": {},
     "output_type": "display_data"
    }
   ],
   "source": [
    "colors = [plt.cm.coolwarm(i) for i in linspace(0,1,len(cdc_dom_births))]\n",
    "fig, ax = plt.subplots(figsize=(8,4))\n",
    "ax.bar(arange(len(cdc_dom_births))+.4,height=list(cdc_dom_births.values()),width=.8,color=colors)\n",
    "ax.set_xticks(arange(len(cdc_dom_births))+.4)\n",
    "ax.set_xticklabels(cdc_dom_births.keys())\n",
    "ax.set_xlim([-.2,len(cdc_dom_births)])\n",
    "ax.set_xlabel(\"Day of month\")\n",
    "ax.set_ylabel(\"Number of births\")\n",
    "ax.set_title(\"Births by day of month\")"
   ]
  },
  {
   "cell_type": "code",
   "execution_count": 43,
   "metadata": {},
   "outputs": [
    {
     "data": {
      "text/plain": [
       "Text(0.5,1,'Births by day of week')"
      ]
     },
     "execution_count": 43,
     "metadata": {},
     "output_type": "execute_result"
    },
    {
     "data": {
      "image/png": "[encoded data removed]",
      "text/plain": [
       "<Figure size 432x288 with 1 Axes>"
      ]
     },
     "metadata": {},
     "output_type": "display_data"
    }
   ],
   "source": [
    "colors = [plt.cm.Accent(i) for i in linspace(0,1,len(cdc_dow_births))]\n",
    "fig, ax = plt.subplots()\n",
    "ax.bar(arange(len(cdc_dow_births))+.4,height=list(cdc_dow_births.values()),width=.8,color=colors)\n",
    "ax.set_xticks(arange(len(cdc_dow_births))+.4)\n",
    "ax.set_xticklabels([\"Sat\",\"Sun\",\"Mon\",\"Tue\",\"Wed\",\"Thu\",\"Fri\"])\n",
    "ax.set_xlim([-.2,len(cdc_dow_births)])\n",
    "ax.set_xlabel(\"Day of week\")\n",
    "ax.set_ylabel(\"Number of births\")\n",
    "ax.set_title(\"Births by day of week\")"
   ]
  },
  {
   "cell_type": "markdown",
   "metadata": {},
   "source": [
    "Custom functions can of course be made as convoluted as one wants: let's define a slightly modified function that can create a dictionary of births divided by year and specific to a single value of a parameter of our choice. This can let us track how births increased or decreased over the 1994-2003 period covered by the dataset."
   ]
  },
  {
   "cell_type": "code",
   "execution_count": 44,
   "metadata": {},
   "outputs": [],
   "source": [
    "def par_by_year(lst,col,par):\n",
    "    dicts = {}\n",
    "    for l in lst:\n",
    "        if l[col] == par:\n",
    "            if l[0] in dicts:\n",
    "                dicts[l[0]] += l[-1]\n",
    "            else:\n",
    "                dicts[l[0]] = l[-1]\n",
    "    return dicts"
   ]
  },
  {
   "cell_type": "markdown",
   "metadata": {},
   "source": [
    "For example, how did births on Saturday change over the time period?"
   ]
  },
  {
   "cell_type": "code",
   "execution_count": 45,
   "metadata": {},
   "outputs": [],
   "source": [
    "cdc_sat_births_byYear = par_by_year(cdc_list,3,6)"
   ]
  },
  {
   "cell_type": "code",
   "execution_count": 46,
   "metadata": {},
   "outputs": [
    {
     "data": {
      "text/plain": [
       "Text(0.5,1,'Saturday births, by year')"
      ]
     },
     "execution_count": 46,
     "metadata": {},
     "output_type": "execute_result"
    },
    {
     "data": {
      "image/png": "[encoded data removed]",
      "text/plain": [
       "<Figure size 432x288 with 1 Axes>"
      ]
     },
     "metadata": {},
     "output_type": "display_data"
    }
   ],
   "source": [
    "colors = [plt.cm.Set3(i) for i in linspace(0,1,len(cdc_sat_births_byYear))]\n",
    "fig, ax = plt.subplots()\n",
    "f1 = ax.bar(arange(len(cdc_sat_births_byYear))+.4,height=list(cdc_sat_births_byYear.values()),width=.8,color=colors)\n",
    "ax.set_xticks(arange(len(cdc_sat_births_byYear))+.4)\n",
    "ax.set_xticklabels(cdc_sat_births_byYear.keys())\n",
    "ax.set_xlim([-.2,len(cdc_sat_births_byYear)])\n",
    "ax.set_xlabel(\"Year\")\n",
    "ax.set_ylabel(\"Number of births\")\n",
    "ax.set_title(\"Saturday births, by year\")"
   ]
  },
  {
   "cell_type": "code",
   "execution_count": null,
   "metadata": {
    "collapsed": true
   },
   "outputs": [],
   "source": []
  }
 ],
 "metadata": {
  "anaconda-cloud": {},
  "kernelspec": {
   "display_name": "Python 3",
   "language": "python",
   "name": "python3"
  },
  "language_info": {
   "codemirror_mode": {
    "name": "ipython",
    "version": 3
   },
   "file_extension": ".py",
   "mimetype": "text/x-python",
   "name": "python",
   "nbconvert_exporter": "python",
   "pygments_lexer": "ipython3",
   "version": "3.6.5"
  }
 },
 "nbformat": 4,
 "nbformat_minor": 1
}
