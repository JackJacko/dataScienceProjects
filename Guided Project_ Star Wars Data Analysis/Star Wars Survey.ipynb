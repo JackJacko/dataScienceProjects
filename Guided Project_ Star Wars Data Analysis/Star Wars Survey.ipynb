{
 "cells": [
  {
   "cell_type": "markdown",
   "metadata": {},
   "source": [
    "# Star Wars Survey\n",
    "The goal of this project is to illustrate the process of cleaning up and analysing a dataset of survey responses. In particular, the survey focuses on the Star Wars franchise and polls the respondents' opinion on movies and characters of the franchise."
   ]
  },
  {
   "cell_type": "markdown",
   "metadata": {},
   "source": [
    "## Data read-in and visualisation"
   ]
  },
  {
   "cell_type": "code",
   "execution_count": 249,
   "metadata": {},
   "outputs": [],
   "source": [
    "# Import relevant libraries\n",
    "import numpy as np\n",
    "import pandas as pd\n",
    "import matplotlib.pyplot as plt\n",
    "%matplotlib inline"
   ]
  },
  {
   "cell_type": "code",
   "execution_count": 250,
   "metadata": {},
   "outputs": [],
   "source": [
    "# Import data\n",
    "star_wars = pd.read_csv(\"star_wars.csv\", encoding=\"ISO-8859-1\")"
   ]
  },
  {
   "cell_type": "code",
   "execution_count": 251,
   "metadata": {},
   "outputs": [
    {
     "name": "stdout",
     "output_type": "stream",
     "text": [
      "<class 'pandas.core.frame.DataFrame'>\n",
      "RangeIndex: 1187 entries, 0 to 1186\n",
      "Data columns (total 38 columns):\n",
      "RespondentID                                                                                                                                     1186 non-null float64\n",
      "Have you seen any of the 6 films in the Star Wars franchise?                                                                                     1187 non-null object\n",
      "Do you consider yourself to be a fan of the Star Wars film franchise?                                                                            837 non-null object\n",
      "Which of the following Star Wars films have you seen? Please select all that apply.                                                              674 non-null object\n",
      "Unnamed: 4                                                                                                                                       572 non-null object\n",
      "Unnamed: 5                                                                                                                                       551 non-null object\n",
      "Unnamed: 6                                                                                                                                       608 non-null object\n",
      "Unnamed: 7                                                                                                                                       759 non-null object\n",
      "Unnamed: 8                                                                                                                                       739 non-null object\n",
      "Please rank the Star Wars films in order of preference with 1 being your favorite film in the franchise and 6 being your least favorite film.    836 non-null object\n",
      "Unnamed: 10                                                                                                                                      837 non-null object\n",
      "Unnamed: 11                                                                                                                                      836 non-null object\n",
      "Unnamed: 12                                                                                                                                      837 non-null object\n",
      "Unnamed: 13                                                                                                                                      837 non-null object\n",
      "Unnamed: 14                                                                                                                                      837 non-null object\n",
      "Please state whether you view the following characters favorably, unfavorably, or are unfamiliar with him/her.                                   830 non-null object\n",
      "Unnamed: 16                                                                                                                                      832 non-null object\n",
      "Unnamed: 17                                                                                                                                      832 non-null object\n",
      "Unnamed: 18                                                                                                                                      824 non-null object\n",
      "Unnamed: 19                                                                                                                                      826 non-null object\n",
      "Unnamed: 20                                                                                                                                      815 non-null object\n",
      "Unnamed: 21                                                                                                                                      827 non-null object\n",
      "Unnamed: 22                                                                                                                                      821 non-null object\n",
      "Unnamed: 23                                                                                                                                      813 non-null object\n",
      "Unnamed: 24                                                                                                                                      828 non-null object\n",
      "Unnamed: 25                                                                                                                                      831 non-null object\n",
      "Unnamed: 26                                                                                                                                      822 non-null object\n",
      "Unnamed: 27                                                                                                                                      815 non-null object\n",
      "Unnamed: 28                                                                                                                                      827 non-null object\n",
      "Which character shot first?                                                                                                                      829 non-null object\n",
      "Are you familiar with the Expanded Universe?                                                                                                     829 non-null object\n",
      "Do you consider yourself to be a fan of the Expanded Universe?ÂÃ¦                                                                               214 non-null object\n",
      "Do you consider yourself to be a fan of the Star Trek franchise?                                                                                 1069 non-null object\n",
      "Gender                                                                                                                                           1047 non-null object\n",
      "Age                                                                                                                                              1047 non-null object\n",
      "Household Income                                                                                                                                 859 non-null object\n",
      "Education                                                                                                                                        1037 non-null object\n",
      "Location (Census Region)                                                                                                                         1044 non-null object\n",
      "dtypes: float64(1), object(37)\n",
      "memory usage: 352.5+ KB\n"
     ]
    }
   ],
   "source": [
    "# Visualise DataFrame shape, column type, number of non-null items\n",
    "star_wars.info()"
   ]
  },
  {
   "cell_type": "code",
   "execution_count": 252,
   "metadata": {},
   "outputs": [
    {
     "data": {
      "text/html": [
       "<div>\n",
       "<style scoped>\n",
       "    .dataframe tbody tr th:only-of-type {\n",
       "        vertical-align: middle;\n",
       "    }\n",
       "\n",
       "    .dataframe tbody tr th {\n",
       "        vertical-align: top;\n",
       "    }\n",
       "\n",
       "    .dataframe thead th {\n",
       "        text-align: right;\n",
       "    }\n",
       "</style>\n",
       "<table border=\"1\" class=\"dataframe\">\n",
       "  <thead>\n",
       "    <tr style=\"text-align: right;\">\n",
       "      <th></th>\n",
       "      <th>RespondentID</th>\n",
       "      <th>Have you seen any of the 6 films in the Star Wars franchise?</th>\n",
       "      <th>Do you consider yourself to be a fan of the Star Wars film franchise?</th>\n",
       "      <th>Which of the following Star Wars films have you seen? Please select all that apply.</th>\n",
       "      <th>Unnamed: 4</th>\n",
       "      <th>Unnamed: 5</th>\n",
       "      <th>Unnamed: 6</th>\n",
       "      <th>Unnamed: 7</th>\n",
       "      <th>Unnamed: 8</th>\n",
       "      <th>Please rank the Star Wars films in order of preference with 1 being your favorite film in the franchise and 6 being your least favorite film.</th>\n",
       "      <th>...</th>\n",
       "      <th>Unnamed: 28</th>\n",
       "      <th>Which character shot first?</th>\n",
       "      <th>Are you familiar with the Expanded Universe?</th>\n",
       "      <th>Do you consider yourself to be a fan of the Expanded Universe?ÂÃ¦</th>\n",
       "      <th>Do you consider yourself to be a fan of the Star Trek franchise?</th>\n",
       "      <th>Gender</th>\n",
       "      <th>Age</th>\n",
       "      <th>Household Income</th>\n",
       "      <th>Education</th>\n",
       "      <th>Location (Census Region)</th>\n",
       "    </tr>\n",
       "  </thead>\n",
       "  <tbody>\n",
       "    <tr>\n",
       "      <th>0</th>\n",
       "      <td>NaN</td>\n",
       "      <td>Response</td>\n",
       "      <td>Response</td>\n",
       "      <td>Star Wars: Episode I  The Phantom Menace</td>\n",
       "      <td>Star Wars: Episode II  Attack of the Clones</td>\n",
       "      <td>Star Wars: Episode III  Revenge of the Sith</td>\n",
       "      <td>Star Wars: Episode IV  A New Hope</td>\n",
       "      <td>Star Wars: Episode V The Empire Strikes Back</td>\n",
       "      <td>Star Wars: Episode VI Return of the Jedi</td>\n",
       "      <td>Star Wars: Episode I  The Phantom Menace</td>\n",
       "      <td>...</td>\n",
       "      <td>Yoda</td>\n",
       "      <td>Response</td>\n",
       "      <td>Response</td>\n",
       "      <td>Response</td>\n",
       "      <td>Response</td>\n",
       "      <td>Response</td>\n",
       "      <td>Response</td>\n",
       "      <td>Response</td>\n",
       "      <td>Response</td>\n",
       "      <td>Response</td>\n",
       "    </tr>\n",
       "    <tr>\n",
       "      <th>1</th>\n",
       "      <td>3.292880e+09</td>\n",
       "      <td>Yes</td>\n",
       "      <td>Yes</td>\n",
       "      <td>Star Wars: Episode I  The Phantom Menace</td>\n",
       "      <td>Star Wars: Episode II  Attack of the Clones</td>\n",
       "      <td>Star Wars: Episode III  Revenge of the Sith</td>\n",
       "      <td>Star Wars: Episode IV  A New Hope</td>\n",
       "      <td>Star Wars: Episode V The Empire Strikes Back</td>\n",
       "      <td>Star Wars: Episode VI Return of the Jedi</td>\n",
       "      <td>3</td>\n",
       "      <td>...</td>\n",
       "      <td>Very favorably</td>\n",
       "      <td>I don't understand this question</td>\n",
       "      <td>Yes</td>\n",
       "      <td>No</td>\n",
       "      <td>No</td>\n",
       "      <td>Male</td>\n",
       "      <td>18-29</td>\n",
       "      <td>NaN</td>\n",
       "      <td>High school degree</td>\n",
       "      <td>South Atlantic</td>\n",
       "    </tr>\n",
       "    <tr>\n",
       "      <th>2</th>\n",
       "      <td>3.292880e+09</td>\n",
       "      <td>No</td>\n",
       "      <td>NaN</td>\n",
       "      <td>NaN</td>\n",
       "      <td>NaN</td>\n",
       "      <td>NaN</td>\n",
       "      <td>NaN</td>\n",
       "      <td>NaN</td>\n",
       "      <td>NaN</td>\n",
       "      <td>NaN</td>\n",
       "      <td>...</td>\n",
       "      <td>NaN</td>\n",
       "      <td>NaN</td>\n",
       "      <td>NaN</td>\n",
       "      <td>NaN</td>\n",
       "      <td>Yes</td>\n",
       "      <td>Male</td>\n",
       "      <td>18-29</td>\n",
       "      <td>$0 - $24,999</td>\n",
       "      <td>Bachelor degree</td>\n",
       "      <td>West South Central</td>\n",
       "    </tr>\n",
       "    <tr>\n",
       "      <th>3</th>\n",
       "      <td>3.292765e+09</td>\n",
       "      <td>Yes</td>\n",
       "      <td>No</td>\n",
       "      <td>Star Wars: Episode I  The Phantom Menace</td>\n",
       "      <td>Star Wars: Episode II  Attack of the Clones</td>\n",
       "      <td>Star Wars: Episode III  Revenge of the Sith</td>\n",
       "      <td>NaN</td>\n",
       "      <td>NaN</td>\n",
       "      <td>NaN</td>\n",
       "      <td>1</td>\n",
       "      <td>...</td>\n",
       "      <td>Unfamiliar (N/A)</td>\n",
       "      <td>I don't understand this question</td>\n",
       "      <td>No</td>\n",
       "      <td>NaN</td>\n",
       "      <td>No</td>\n",
       "      <td>Male</td>\n",
       "      <td>18-29</td>\n",
       "      <td>$0 - $24,999</td>\n",
       "      <td>High school degree</td>\n",
       "      <td>West North Central</td>\n",
       "    </tr>\n",
       "    <tr>\n",
       "      <th>4</th>\n",
       "      <td>3.292763e+09</td>\n",
       "      <td>Yes</td>\n",
       "      <td>Yes</td>\n",
       "      <td>Star Wars: Episode I  The Phantom Menace</td>\n",
       "      <td>Star Wars: Episode II  Attack of the Clones</td>\n",
       "      <td>Star Wars: Episode III  Revenge of the Sith</td>\n",
       "      <td>Star Wars: Episode IV  A New Hope</td>\n",
       "      <td>Star Wars: Episode V The Empire Strikes Back</td>\n",
       "      <td>Star Wars: Episode VI Return of the Jedi</td>\n",
       "      <td>5</td>\n",
       "      <td>...</td>\n",
       "      <td>Very favorably</td>\n",
       "      <td>I don't understand this question</td>\n",
       "      <td>No</td>\n",
       "      <td>NaN</td>\n",
       "      <td>Yes</td>\n",
       "      <td>Male</td>\n",
       "      <td>18-29</td>\n",
       "      <td>$100,000 - $149,999</td>\n",
       "      <td>Some college or Associate degree</td>\n",
       "      <td>West North Central</td>\n",
       "    </tr>\n",
       "  </tbody>\n",
       "</table>\n",
       "<p>5 rows × 38 columns</p>\n",
       "</div>"
      ],
      "text/plain": [
       "   RespondentID Have you seen any of the 6 films in the Star Wars franchise?  \\\n",
       "0           NaN                                           Response             \n",
       "1  3.292880e+09                                                Yes             \n",
       "2  3.292880e+09                                                 No             \n",
       "3  3.292765e+09                                                Yes             \n",
       "4  3.292763e+09                                                Yes             \n",
       "\n",
       "  Do you consider yourself to be a fan of the Star Wars film franchise?  \\\n",
       "0                                           Response                      \n",
       "1                                                Yes                      \n",
       "2                                                NaN                      \n",
       "3                                                 No                      \n",
       "4                                                Yes                      \n",
       "\n",
       "  Which of the following Star Wars films have you seen? Please select all that apply.  \\\n",
       "0           Star Wars: Episode I  The Phantom Menace                                    \n",
       "1           Star Wars: Episode I  The Phantom Menace                                    \n",
       "2                                                NaN                                    \n",
       "3           Star Wars: Episode I  The Phantom Menace                                    \n",
       "4           Star Wars: Episode I  The Phantom Menace                                    \n",
       "\n",
       "                                    Unnamed: 4  \\\n",
       "0  Star Wars: Episode II  Attack of the Clones   \n",
       "1  Star Wars: Episode II  Attack of the Clones   \n",
       "2                                          NaN   \n",
       "3  Star Wars: Episode II  Attack of the Clones   \n",
       "4  Star Wars: Episode II  Attack of the Clones   \n",
       "\n",
       "                                    Unnamed: 5  \\\n",
       "0  Star Wars: Episode III  Revenge of the Sith   \n",
       "1  Star Wars: Episode III  Revenge of the Sith   \n",
       "2                                          NaN   \n",
       "3  Star Wars: Episode III  Revenge of the Sith   \n",
       "4  Star Wars: Episode III  Revenge of the Sith   \n",
       "\n",
       "                          Unnamed: 6  \\\n",
       "0  Star Wars: Episode IV  A New Hope   \n",
       "1  Star Wars: Episode IV  A New Hope   \n",
       "2                                NaN   \n",
       "3                                NaN   \n",
       "4  Star Wars: Episode IV  A New Hope   \n",
       "\n",
       "                                     Unnamed: 7  \\\n",
       "0  Star Wars: Episode V The Empire Strikes Back   \n",
       "1  Star Wars: Episode V The Empire Strikes Back   \n",
       "2                                           NaN   \n",
       "3                                           NaN   \n",
       "4  Star Wars: Episode V The Empire Strikes Back   \n",
       "\n",
       "                                 Unnamed: 8  \\\n",
       "0  Star Wars: Episode VI Return of the Jedi   \n",
       "1  Star Wars: Episode VI Return of the Jedi   \n",
       "2                                       NaN   \n",
       "3                                       NaN   \n",
       "4  Star Wars: Episode VI Return of the Jedi   \n",
       "\n",
       "  Please rank the Star Wars films in order of preference with 1 being your favorite film in the franchise and 6 being your least favorite film.  \\\n",
       "0           Star Wars: Episode I  The Phantom Menace                                                                                              \n",
       "1                                                  3                                                                                              \n",
       "2                                                NaN                                                                                              \n",
       "3                                                  1                                                                                              \n",
       "4                                                  5                                                                                              \n",
       "\n",
       "            ...                  Unnamed: 28  \\\n",
       "0           ...                         Yoda   \n",
       "1           ...               Very favorably   \n",
       "2           ...                          NaN   \n",
       "3           ...             Unfamiliar (N/A)   \n",
       "4           ...               Very favorably   \n",
       "\n",
       "        Which character shot first?  \\\n",
       "0                          Response   \n",
       "1  I don't understand this question   \n",
       "2                               NaN   \n",
       "3  I don't understand this question   \n",
       "4  I don't understand this question   \n",
       "\n",
       "  Are you familiar with the Expanded Universe?  \\\n",
       "0                                     Response   \n",
       "1                                          Yes   \n",
       "2                                          NaN   \n",
       "3                                           No   \n",
       "4                                           No   \n",
       "\n",
       "  Do you consider yourself to be a fan of the Expanded Universe?ÂÃ¦  \\\n",
       "0                                           Response                   \n",
       "1                                                 No                   \n",
       "2                                                NaN                   \n",
       "3                                                NaN                   \n",
       "4                                                NaN                   \n",
       "\n",
       "  Do you consider yourself to be a fan of the Star Trek franchise?    Gender  \\\n",
       "0                                           Response                Response   \n",
       "1                                                 No                    Male   \n",
       "2                                                Yes                    Male   \n",
       "3                                                 No                    Male   \n",
       "4                                                Yes                    Male   \n",
       "\n",
       "        Age     Household Income                         Education  \\\n",
       "0  Response             Response                          Response   \n",
       "1     18-29                  NaN                High school degree   \n",
       "2     18-29         $0 - $24,999                   Bachelor degree   \n",
       "3     18-29         $0 - $24,999                High school degree   \n",
       "4     18-29  $100,000 - $149,999  Some college or Associate degree   \n",
       "\n",
       "  Location (Census Region)  \n",
       "0                 Response  \n",
       "1           South Atlantic  \n",
       "2       West South Central  \n",
       "3       West North Central  \n",
       "4       West North Central  \n",
       "\n",
       "[5 rows x 38 columns]"
      ]
     },
     "execution_count": 252,
     "metadata": {},
     "output_type": "execute_result"
    }
   ],
   "source": [
    "star_wars.head()"
   ]
  },
  {
   "cell_type": "markdown",
   "metadata": {},
   "source": [
    "## Data clean-up\n",
    "The dataset contains a lot of null values on all its columns. For starters, it'd be good to remove rows which have no ID for the respondent."
   ]
  },
  {
   "cell_type": "code",
   "execution_count": 253,
   "metadata": {},
   "outputs": [],
   "source": [
    "col_details = star_wars.iloc[0,:]\n",
    "star_wars = star_wars[pd.notnull(star_wars[\"RespondentID\"])]"
   ]
  },
  {
   "cell_type": "markdown",
   "metadata": {},
   "source": [
    "Furthermore, the goal of the survey and by extension of this data analysis is to investigate the respondents' opinion on movies and characters of the franchise. Respondents who haven't seen any of the movies defeat the purpose of the survey, and their rows should be removed."
   ]
  },
  {
   "cell_type": "code",
   "execution_count": 254,
   "metadata": {},
   "outputs": [],
   "source": [
    "star_wars = star_wars[star_wars[\"Have you seen any of the 6 films in the Star Wars franchise?\"]==\"Yes\"]"
   ]
  },
  {
   "cell_type": "markdown",
   "metadata": {},
   "source": [
    "Finally, it would be interesting to investigate how opinions on the movies change depending on whether the respondents consider themselves fans of the franchise or not. Null rows for the corresponding column should be removed."
   ]
  },
  {
   "cell_type": "code",
   "execution_count": 255,
   "metadata": {},
   "outputs": [],
   "source": [
    "star_wars = star_wars[pd.notnull(star_wars[\"Do you consider yourself to be a fan of the Star Wars film franchise?\"])]"
   ]
  },
  {
   "cell_type": "markdown",
   "metadata": {},
   "source": [
    "The second and third columns represent binary Yes/No questions. These may be more easily handled as boolean True/False values, since booleans can be selected without using a string comparison."
   ]
  },
  {
   "cell_type": "code",
   "execution_count": 256,
   "metadata": {},
   "outputs": [],
   "source": [
    "yes_no = {\n",
    "    \"Yes\": True,\n",
    "    \"No\": False\n",
    "}\n",
    "star_wars.iloc[:,1] = star_wars.iloc[:,1].map(yes_no)\n",
    "star_wars.iloc[:,2] = star_wars.iloc[:,2].map(yes_no)"
   ]
  },
  {
   "cell_type": "code",
   "execution_count": 257,
   "metadata": {},
   "outputs": [
    {
     "data": {
      "text/plain": [
       "True    836\n",
       "Name: Have you seen any of the 6 films in the Star Wars franchise?, dtype: int64"
      ]
     },
     "execution_count": 257,
     "metadata": {},
     "output_type": "execute_result"
    }
   ],
   "source": [
    "# Check the mapping was done correctly\n",
    "star_wars.iloc[:,1].value_counts(dropna=False)"
   ]
  },
  {
   "cell_type": "code",
   "execution_count": 258,
   "metadata": {},
   "outputs": [
    {
     "data": {
      "text/plain": [
       "True     552\n",
       "False    284\n",
       "Name: Do you consider yourself to be a fan of the Star Wars film franchise?, dtype: int64"
      ]
     },
     "execution_count": 258,
     "metadata": {},
     "output_type": "execute_result"
    }
   ],
   "source": [
    "# Check the mapping was done correctly\n",
    "star_wars.iloc[:,2].value_counts(dropna=False)"
   ]
  },
  {
   "cell_type": "markdown",
   "metadata": {},
   "source": [
    "Columns 4 through 9 are \"Have you seen?\" questions for Episodes 1 to 6. They either contain the name of the movie or a null value. Null values in this columns mean that the respondent either didn't answer or didn't see the movie. The choice here is to assume the latter - NaN values will be converted to the boolean False.\n",
    "\n",
    "The column names are also either cryptic or long-winded, and should be changed."
   ]
  },
  {
   "cell_type": "code",
   "execution_count": 259,
   "metadata": {},
   "outputs": [],
   "source": [
    "# Rename \"Have you seen\" columns to intuitive names.\n",
    "col_rename = {\n",
    "    \"Which of the following Star Wars films have you seen? Please select all that apply.\":\"Ep1_Seen\",\n",
    "    \"Unnamed: 4\":\"Ep2_Seen\",\n",
    "    \"Unnamed: 5\":\"Ep3_Seen\",\n",
    "    \"Unnamed: 6\":\"Ep4_Seen\",\n",
    "    \"Unnamed: 7\":\"Ep5_Seen\",\n",
    "    \"Unnamed: 8\":\"Ep6_Seen\"\n",
    "}\n",
    "star_wars = star_wars.rename(columns=col_rename)"
   ]
  },
  {
   "cell_type": "code",
   "execution_count": 260,
   "metadata": {},
   "outputs": [],
   "source": [
    "def bool_me(x):\n",
    "    if pd.isnull(x):\n",
    "        return False\n",
    "    else:\n",
    "        return True\n",
    "# Convert \"Have you seen\" answers to boolean.\n",
    "for c in star_wars.columns[3:9]:\n",
    "    star_wars[c]=star_wars[c].apply(bool_me)"
   ]
  },
  {
   "cell_type": "code",
   "execution_count": 261,
   "metadata": {},
   "outputs": [
    {
     "data": {
      "text/html": [
       "<div>\n",
       "<style scoped>\n",
       "    .dataframe tbody tr th:only-of-type {\n",
       "        vertical-align: middle;\n",
       "    }\n",
       "\n",
       "    .dataframe tbody tr th {\n",
       "        vertical-align: top;\n",
       "    }\n",
       "\n",
       "    .dataframe thead th {\n",
       "        text-align: right;\n",
       "    }\n",
       "</style>\n",
       "<table border=\"1\" class=\"dataframe\">\n",
       "  <thead>\n",
       "    <tr style=\"text-align: right;\">\n",
       "      <th></th>\n",
       "      <th>RespondentID</th>\n",
       "      <th>Have you seen any of the 6 films in the Star Wars franchise?</th>\n",
       "      <th>Do you consider yourself to be a fan of the Star Wars film franchise?</th>\n",
       "      <th>Ep1_Seen</th>\n",
       "      <th>Ep2_Seen</th>\n",
       "      <th>Ep3_Seen</th>\n",
       "      <th>Ep4_Seen</th>\n",
       "      <th>Ep5_Seen</th>\n",
       "      <th>Ep6_Seen</th>\n",
       "      <th>Please rank the Star Wars films in order of preference with 1 being your favorite film in the franchise and 6 being your least favorite film.</th>\n",
       "      <th>...</th>\n",
       "      <th>Unnamed: 28</th>\n",
       "      <th>Which character shot first?</th>\n",
       "      <th>Are you familiar with the Expanded Universe?</th>\n",
       "      <th>Do you consider yourself to be a fan of the Expanded Universe?ÂÃ¦</th>\n",
       "      <th>Do you consider yourself to be a fan of the Star Trek franchise?</th>\n",
       "      <th>Gender</th>\n",
       "      <th>Age</th>\n",
       "      <th>Household Income</th>\n",
       "      <th>Education</th>\n",
       "      <th>Location (Census Region)</th>\n",
       "    </tr>\n",
       "  </thead>\n",
       "  <tbody>\n",
       "    <tr>\n",
       "      <th>1</th>\n",
       "      <td>3.292880e+09</td>\n",
       "      <td>True</td>\n",
       "      <td>True</td>\n",
       "      <td>True</td>\n",
       "      <td>True</td>\n",
       "      <td>True</td>\n",
       "      <td>True</td>\n",
       "      <td>True</td>\n",
       "      <td>True</td>\n",
       "      <td>3</td>\n",
       "      <td>...</td>\n",
       "      <td>Very favorably</td>\n",
       "      <td>I don't understand this question</td>\n",
       "      <td>Yes</td>\n",
       "      <td>No</td>\n",
       "      <td>No</td>\n",
       "      <td>Male</td>\n",
       "      <td>18-29</td>\n",
       "      <td>NaN</td>\n",
       "      <td>High school degree</td>\n",
       "      <td>South Atlantic</td>\n",
       "    </tr>\n",
       "    <tr>\n",
       "      <th>3</th>\n",
       "      <td>3.292765e+09</td>\n",
       "      <td>True</td>\n",
       "      <td>False</td>\n",
       "      <td>True</td>\n",
       "      <td>True</td>\n",
       "      <td>True</td>\n",
       "      <td>False</td>\n",
       "      <td>False</td>\n",
       "      <td>False</td>\n",
       "      <td>1</td>\n",
       "      <td>...</td>\n",
       "      <td>Unfamiliar (N/A)</td>\n",
       "      <td>I don't understand this question</td>\n",
       "      <td>No</td>\n",
       "      <td>NaN</td>\n",
       "      <td>No</td>\n",
       "      <td>Male</td>\n",
       "      <td>18-29</td>\n",
       "      <td>$0 - $24,999</td>\n",
       "      <td>High school degree</td>\n",
       "      <td>West North Central</td>\n",
       "    </tr>\n",
       "    <tr>\n",
       "      <th>4</th>\n",
       "      <td>3.292763e+09</td>\n",
       "      <td>True</td>\n",
       "      <td>True</td>\n",
       "      <td>True</td>\n",
       "      <td>True</td>\n",
       "      <td>True</td>\n",
       "      <td>True</td>\n",
       "      <td>True</td>\n",
       "      <td>True</td>\n",
       "      <td>5</td>\n",
       "      <td>...</td>\n",
       "      <td>Very favorably</td>\n",
       "      <td>I don't understand this question</td>\n",
       "      <td>No</td>\n",
       "      <td>NaN</td>\n",
       "      <td>Yes</td>\n",
       "      <td>Male</td>\n",
       "      <td>18-29</td>\n",
       "      <td>$100,000 - $149,999</td>\n",
       "      <td>Some college or Associate degree</td>\n",
       "      <td>West North Central</td>\n",
       "    </tr>\n",
       "    <tr>\n",
       "      <th>5</th>\n",
       "      <td>3.292731e+09</td>\n",
       "      <td>True</td>\n",
       "      <td>True</td>\n",
       "      <td>True</td>\n",
       "      <td>True</td>\n",
       "      <td>True</td>\n",
       "      <td>True</td>\n",
       "      <td>True</td>\n",
       "      <td>True</td>\n",
       "      <td>5</td>\n",
       "      <td>...</td>\n",
       "      <td>Somewhat favorably</td>\n",
       "      <td>Greedo</td>\n",
       "      <td>Yes</td>\n",
       "      <td>No</td>\n",
       "      <td>No</td>\n",
       "      <td>Male</td>\n",
       "      <td>18-29</td>\n",
       "      <td>$100,000 - $149,999</td>\n",
       "      <td>Some college or Associate degree</td>\n",
       "      <td>West North Central</td>\n",
       "    </tr>\n",
       "    <tr>\n",
       "      <th>6</th>\n",
       "      <td>3.292719e+09</td>\n",
       "      <td>True</td>\n",
       "      <td>True</td>\n",
       "      <td>True</td>\n",
       "      <td>True</td>\n",
       "      <td>True</td>\n",
       "      <td>True</td>\n",
       "      <td>True</td>\n",
       "      <td>True</td>\n",
       "      <td>1</td>\n",
       "      <td>...</td>\n",
       "      <td>Very favorably</td>\n",
       "      <td>Han</td>\n",
       "      <td>Yes</td>\n",
       "      <td>No</td>\n",
       "      <td>Yes</td>\n",
       "      <td>Male</td>\n",
       "      <td>18-29</td>\n",
       "      <td>$25,000 - $49,999</td>\n",
       "      <td>Bachelor degree</td>\n",
       "      <td>Middle Atlantic</td>\n",
       "    </tr>\n",
       "  </tbody>\n",
       "</table>\n",
       "<p>5 rows × 38 columns</p>\n",
       "</div>"
      ],
      "text/plain": [
       "   RespondentID  Have you seen any of the 6 films in the Star Wars franchise?  \\\n",
       "1  3.292880e+09                                               True              \n",
       "3  3.292765e+09                                               True              \n",
       "4  3.292763e+09                                               True              \n",
       "5  3.292731e+09                                               True              \n",
       "6  3.292719e+09                                               True              \n",
       "\n",
       "   Do you consider yourself to be a fan of the Star Wars film franchise?  \\\n",
       "1                                               True                       \n",
       "3                                              False                       \n",
       "4                                               True                       \n",
       "5                                               True                       \n",
       "6                                               True                       \n",
       "\n",
       "   Ep1_Seen  Ep2_Seen  Ep3_Seen  Ep4_Seen  Ep5_Seen  Ep6_Seen  \\\n",
       "1      True      True      True      True      True      True   \n",
       "3      True      True      True     False     False     False   \n",
       "4      True      True      True      True      True      True   \n",
       "5      True      True      True      True      True      True   \n",
       "6      True      True      True      True      True      True   \n",
       "\n",
       "  Please rank the Star Wars films in order of preference with 1 being your favorite film in the franchise and 6 being your least favorite film.  \\\n",
       "1                                                  3                                                                                              \n",
       "3                                                  1                                                                                              \n",
       "4                                                  5                                                                                              \n",
       "5                                                  5                                                                                              \n",
       "6                                                  1                                                                                              \n",
       "\n",
       "            ...                    Unnamed: 28  \\\n",
       "1           ...                 Very favorably   \n",
       "3           ...               Unfamiliar (N/A)   \n",
       "4           ...                 Very favorably   \n",
       "5           ...             Somewhat favorably   \n",
       "6           ...                 Very favorably   \n",
       "\n",
       "        Which character shot first?  \\\n",
       "1  I don't understand this question   \n",
       "3  I don't understand this question   \n",
       "4  I don't understand this question   \n",
       "5                            Greedo   \n",
       "6                               Han   \n",
       "\n",
       "  Are you familiar with the Expanded Universe?  \\\n",
       "1                                          Yes   \n",
       "3                                           No   \n",
       "4                                           No   \n",
       "5                                          Yes   \n",
       "6                                          Yes   \n",
       "\n",
       "  Do you consider yourself to be a fan of the Expanded Universe?ÂÃ¦  \\\n",
       "1                                                 No                   \n",
       "3                                                NaN                   \n",
       "4                                                NaN                   \n",
       "5                                                 No                   \n",
       "6                                                 No                   \n",
       "\n",
       "  Do you consider yourself to be a fan of the Star Trek franchise? Gender  \\\n",
       "1                                                 No                 Male   \n",
       "3                                                 No                 Male   \n",
       "4                                                Yes                 Male   \n",
       "5                                                 No                 Male   \n",
       "6                                                Yes                 Male   \n",
       "\n",
       "     Age     Household Income                         Education  \\\n",
       "1  18-29                  NaN                High school degree   \n",
       "3  18-29         $0 - $24,999                High school degree   \n",
       "4  18-29  $100,000 - $149,999  Some college or Associate degree   \n",
       "5  18-29  $100,000 - $149,999  Some college or Associate degree   \n",
       "6  18-29    $25,000 - $49,999                   Bachelor degree   \n",
       "\n",
       "  Location (Census Region)  \n",
       "1           South Atlantic  \n",
       "3       West North Central  \n",
       "4       West North Central  \n",
       "5       West North Central  \n",
       "6          Middle Atlantic  \n",
       "\n",
       "[5 rows x 38 columns]"
      ]
     },
     "execution_count": 261,
     "metadata": {},
     "output_type": "execute_result"
    }
   ],
   "source": [
    "# Check the mapping was done correctly\n",
    "star_wars.head()"
   ]
  },
  {
   "cell_type": "markdown",
   "metadata": {},
   "source": [
    "Columns 10 through 15 are \"Rank the movie\" questions. They contain either null values or ranking numbers in a string format - the latter should be converted to floats.\n",
    "\n",
    "As before, the column names are also either cryptic or long-winded, and should be changed."
   ]
  },
  {
   "cell_type": "code",
   "execution_count": 262,
   "metadata": {},
   "outputs": [],
   "source": [
    "# Rename \"Rank the movie\" columns to intuitive names.\n",
    "col_rename = {\n",
    "    \"Please rank the Star Wars films in order of preference with 1 being your favorite film in the franchise and 6 being your least favorite film.\":\"Rank_Ep1\",\n",
    "    \"Unnamed: 10\":\"Rank_Ep2\",\n",
    "    \"Unnamed: 11\":\"Rank_Ep3\",\n",
    "    \"Unnamed: 12\":\"Rank_Ep4\",\n",
    "    \"Unnamed: 13\":\"Rank_Ep5\",\n",
    "    \"Unnamed: 14\":\"Rank_Ep6\"\n",
    "}\n",
    "star_wars = star_wars.rename(columns=col_rename)"
   ]
  },
  {
   "cell_type": "code",
   "execution_count": 263,
   "metadata": {},
   "outputs": [],
   "source": [
    "# Convert \"Rank the movie\" values to float.\n",
    "star_wars[star_wars.columns[9:15]] = star_wars[star_wars.columns[9:15]].astype(float)"
   ]
  },
  {
   "cell_type": "markdown",
   "metadata": {},
   "source": [
    "## Data analysis\n",
    "### Which movie was the most liked?\n",
    "Now that the movie rankings are numeric it is easy to find out which movies are the most and least liked among the respondents."
   ]
  },
  {
   "cell_type": "code",
   "execution_count": 264,
   "metadata": {},
   "outputs": [],
   "source": [
    "means = star_wars.iloc[:,9:15].mean().to_frame()\n",
    "means.reset_index(inplace=True)"
   ]
  },
  {
   "cell_type": "code",
   "execution_count": 265,
   "metadata": {},
   "outputs": [
    {
     "name": "stdout",
     "output_type": "stream",
     "text": [
      "      index         0\n",
      "0  Rank_Ep1  3.732934\n",
      "1  Rank_Ep2  4.087321\n",
      "2  Rank_Ep3  4.341317\n",
      "3  Rank_Ep4  3.272727\n",
      "4  Rank_Ep5  2.513158\n",
      "5  Rank_Ep6  3.047847\n"
     ]
    }
   ],
   "source": [
    "print(means)"
   ]
  },
  {
   "cell_type": "code",
   "execution_count": 266,
   "metadata": {},
   "outputs": [
    {
     "name": "stdout",
     "output_type": "stream",
     "text": [
      "     labels      mean\n",
      "0  Rank_Ep1  3.732934\n",
      "1  Rank_Ep2  4.087321\n",
      "2  Rank_Ep3  4.341317\n",
      "3  Rank_Ep4  3.272727\n",
      "4  Rank_Ep5  2.513158\n",
      "5  Rank_Ep6  3.047847\n"
     ]
    }
   ],
   "source": [
    "means = means.rename(index=str,columns={\"index\":\"labels\",0:\"mean\"})\n",
    "print(means)"
   ]
  },
  {
   "cell_type": "code",
   "execution_count": 267,
   "metadata": {},
   "outputs": [],
   "source": [
    "means[\"labels\"] = [\"Episode I\",\"Episode II\",\"Episode III\",\"Episode IV\",\"Episode V\",\"Episode VI\"]\n",
    "means[\"colours\"] = [plt.cm.Set2(i) for i in np.linspace(0,1,means.shape[0])]\n",
    "ord_means = means.sort_values(\"mean\", ascending=False)\n",
    "tickpos = np.arange(6)\n",
    "barpos = tickpos-0.25"
   ]
  },
  {
   "cell_type": "code",
   "execution_count": 268,
   "metadata": {},
   "outputs": [
    {
     "data": {
      "text/plain": [
       "Text(0,0.5,'Movie')"
      ]
     },
     "execution_count": 268,
     "metadata": {},
     "output_type": "execute_result"
    },
    {
     "data": {
      "image/png": "[encoded data removed]",
      "text/plain": [
       "<Figure size 432x360 with 1 Axes>"
      ]
     },
     "metadata": {},
     "output_type": "display_data"
    }
   ],
   "source": [
    "fig, axes = plt.subplots(figsize=(6,5))\n",
    "ord_means.plot.barh(x=\"labels\",y=\"mean\",ax=axes,legend=False,color=ord_means[\"colours\"])\n",
    "axes.set_title(\"Average ranking among respondents (low ranking indicates a better score)\")\n",
    "axes.set_xlabel(\"Ranking\")\n",
    "axes.set_ylabel(\"Movie\")"
   ]
  },
  {
   "cell_type": "markdown",
   "metadata": {},
   "source": [
    "#### Results\n",
    "It can be noted that:\n",
    "- The best ranking movie on average is Episode V (The Empire Strike Back), which is the notorious consensus among Star Wars fans, so notorious in fact that it is possible that such consensus perpetuates itself in such polls as some sort of tradition or accepted fact. On the other hand critical consensus often agrees that Episode V is indeed the best among all Star Wars movies, and may as such simply be objectively better.\n",
    "- The worst ranking movie on average is Episode III (Revenge of the Sith), which is interesting given that critical reception largely considers Episode III as the best among the prequels. It may be that since the prequels are often reviled among Star Wars fans (often in the same traditionalistic vein as that which hails Episode V as the unquestionable best) the first sequel ranks better as it had the impact of novelty, while the others are simply dismissed without much further thought."
   ]
  },
  {
   "cell_type": "markdown",
   "metadata": {},
   "source": [
    "### What fraction of the respondents saw each of the movies?\n",
    "Having converted the \"Have you seen?\" column into boolean values earlier on, it is now easy to calculate what fraction of the respondents saw each of the movies."
   ]
  },
  {
   "cell_type": "code",
   "execution_count": 269,
   "metadata": {},
   "outputs": [],
   "source": [
    "sums = star_wars.iloc[:,3:9].sum().divide(star_wars.shape[0]).to_frame()\n",
    "sums.reset_index(inplace=True)\n",
    "sums = sums.rename(index=str,columns={\"index\":\"labels\",0:\"sum\"})"
   ]
  },
  {
   "cell_type": "code",
   "execution_count": 270,
   "metadata": {},
   "outputs": [],
   "source": [
    "sums[\"labels\"] = [\"Episode I\",\"Episode II\",\"Episode III\",\"Episode IV\",\"Episode V\",\"Episode VI\"]\n",
    "sums[\"colours\"] = [plt.cm.Set2(i) for i in np.linspace(0,1,means.shape[0])]\n",
    "ord_sums = sums.sort_values(\"sum\", ascending=True)\n",
    "tickpos = np.arange(6)\n",
    "barpos = tickpos-0.25"
   ]
  },
  {
   "cell_type": "code",
   "execution_count": 271,
   "metadata": {},
   "outputs": [
    {
     "data": {
      "text/plain": [
       "(0, 1)"
      ]
     },
     "execution_count": 271,
     "metadata": {},
     "output_type": "execute_result"
    },
    {
     "data": {
      "image/png": "[encoded data removed]",
      "text/plain": [
       "<Figure size 432x360 with 1 Axes>"
      ]
     },
     "metadata": {},
     "output_type": "display_data"
    }
   ],
   "source": [
    "fig, axes = plt.subplots(figsize=(6,5))\n",
    "ord_sums.plot.barh(x=\"labels\",y=\"sum\",ax=axes,legend=False,color=ord_sums[\"colours\"])\n",
    "axes.set_title(\"Fraction of views (out of 836 respondents)\")\n",
    "axes.set_xlabel(\"View fraction\")\n",
    "axes.set_ylabel(\"Movie\")\n",
    "axes.set_xlim(0,1)"
   ]
  },
  {
   "cell_type": "markdown",
   "metadata": {},
   "source": [
    "Is there any correlation between the average ranking of each movie and the fraction of the respondents that actually did see it?"
   ]
  },
  {
   "cell_type": "code",
   "execution_count": 272,
   "metadata": {},
   "outputs": [
    {
     "data": {
      "text/plain": [
       "Text(0,0.5,'View fraction')"
      ]
     },
     "execution_count": 272,
     "metadata": {},
     "output_type": "execute_result"
    },
    {
     "data": {
      "image/png": "[encoded data removed]",
      "text/plain": [
       "<Figure size 432x360 with 1 Axes>"
      ]
     },
     "metadata": {},
     "output_type": "display_data"
    }
   ],
   "source": [
    "fig, axes = plt.subplots(figsize=(6,5))\n",
    "plt.scatter(means[\"mean\"],sums[\"sum\"],100,color=means[\"colours\"])\n",
    "axes.set_title(\"Average ranking vs. Fraction of views\")\n",
    "axes.set_xlabel(\"Average ranking\")\n",
    "axes.set_ylabel(\"View fraction\")"
   ]
  },
  {
   "cell_type": "code",
   "execution_count": 273,
   "metadata": {},
   "outputs": [
    {
     "data": {
      "text/html": [
       "<div>\n",
       "<style scoped>\n",
       "    .dataframe tbody tr th:only-of-type {\n",
       "        vertical-align: middle;\n",
       "    }\n",
       "\n",
       "    .dataframe tbody tr th {\n",
       "        vertical-align: top;\n",
       "    }\n",
       "\n",
       "    .dataframe thead th {\n",
       "        text-align: right;\n",
       "    }\n",
       "</style>\n",
       "<table border=\"1\" class=\"dataframe\">\n",
       "  <thead>\n",
       "    <tr style=\"text-align: right;\">\n",
       "      <th></th>\n",
       "      <th>mean</th>\n",
       "      <th>sum</th>\n",
       "    </tr>\n",
       "  </thead>\n",
       "  <tbody>\n",
       "    <tr>\n",
       "      <th>mean</th>\n",
       "      <td>1.000000</td>\n",
       "      <td>-0.878126</td>\n",
       "    </tr>\n",
       "    <tr>\n",
       "      <th>sum</th>\n",
       "      <td>-0.878126</td>\n",
       "      <td>1.000000</td>\n",
       "    </tr>\n",
       "  </tbody>\n",
       "</table>\n",
       "</div>"
      ],
      "text/plain": [
       "          mean       sum\n",
       "mean  1.000000 -0.878126\n",
       "sum  -0.878126  1.000000"
      ]
     },
     "execution_count": 273,
     "metadata": {},
     "output_type": "execute_result"
    }
   ],
   "source": [
    "corrme = means[\"mean\"].to_frame()\n",
    "corrme = corrme.iloc[:6]\n",
    "corrme[\"sum\"] = sums[\"sum\"]\n",
    "corrme[\"mean\"] = pd.to_numeric(corrme[\"mean\"])\n",
    "correlations = corrme.corr()\n",
    "correlations"
   ]
  },
  {
   "cell_type": "markdown",
   "metadata": {},
   "source": [
    "#### Results\n",
    "It can be noted that:\n",
    "- Just as Episodes V and VI were the most liked, they are also the most viewed. Conversely, just as Episodes II and III were the least liked, they are also the least viewed. Episode IV is an outlier, as it is the third most liked Episode but has been seen by less viwers than Episode I has been.\n",
    "- As a result, the average ranking scores of the Star Wars movies have a very strong negative correlation with the fraction of viewers for each of them. \n",
    "- It should also be noted that most of the respondents have ranked all six movies even while declaring that they haven't seen all of them: there is thus the chance that the Star Wars movies were at least in part ranked out of popular consensus and hearsay rather than out of genuine personal opinion."
   ]
  },
  {
   "cell_type": "markdown",
   "metadata": {},
   "source": [
    "## Survey population analysis \n",
    "### By gender\n",
    "The previous sections analysed how well each of the movies was liked and by how many each of the movies was actually seen, but more complex can be asked. First of all, do these results change when the population is split by gender?"
   ]
  },
  {
   "cell_type": "code",
   "execution_count": 274,
   "metadata": {},
   "outputs": [],
   "source": [
    "males = star_wars[star_wars[\"Gender\"] == \"Male\"]\n",
    "females = star_wars[star_wars[\"Gender\"] == \"Female\"]\n",
    "na = star_wars[pd.isnull(star_wars[\"Gender\"])]"
   ]
  },
  {
   "cell_type": "code",
   "execution_count": 275,
   "metadata": {},
   "outputs": [
    {
     "data": {
      "text/plain": [
       "Text(0,0.5,'Fraction of population')"
      ]
     },
     "execution_count": 275,
     "metadata": {},
     "output_type": "execute_result"
    },
    {
     "data": {
      "image/png": "[encoded data removed]",
      "text/plain": [
       "<Figure size 432x360 with 1 Axes>"
      ]
     },
     "metadata": {},
     "output_type": "display_data"
    }
   ],
   "source": [
    "fig, axes = plt.subplots(figsize=(6,5))\n",
    "plt.bar(x=[.5,1.5,2.5],height=[males.shape[0]/star_wars.shape[0],females.shape[0]/star_wars.shape[0],na.shape[0]/star_wars.shape[0]],color=plt.cm.Accent(0),tick_label=[\"Males\",\"Females\",\"Doesn't say\"])\n",
    "axes.set_title(\"Gender distribution of respondents\")\n",
    "axes.set_ylabel(\"Fraction of population\")"
   ]
  },
  {
   "cell_type": "code",
   "execution_count": 276,
   "metadata": {},
   "outputs": [],
   "source": [
    "m_means = males.iloc[:,9:15].mean().to_frame()\n",
    "m_means.reset_index(inplace=True)\n",
    "m_means = m_means.rename(index=str,columns={\"index\":\"labels\",0:\"mean\"})\n",
    "m_means[\"labels\"] = [\"Episode I\",\"Episode II\",\"Episode III\",\"Episode IV\",\"Episode V\",\"Episode VI\"]\n",
    "m_means[\"colours\"] = [plt.cm.Set2(i) for i in np.linspace(0,1,m_means.shape[0])]\n",
    "ord_m_means = m_means.sort_values(\"mean\", ascending=False)\n",
    "f_means = females.iloc[:,9:15].mean().to_frame()\n",
    "f_means.reset_index(inplace=True)\n",
    "f_means = f_means.rename(index=str,columns={\"index\":\"labels\",0:\"mean\"})\n",
    "f_means[\"labels\"] = [\"Episode I\",\"Episode II\",\"Episode III\",\"Episode IV\",\"Episode V\",\"Episode VI\"]\n",
    "f_means[\"colours\"] = [plt.cm.Set2(i) for i in np.linspace(0,1,f_means.shape[0])]\n",
    "ord_f_means = f_means.sort_values(\"mean\", ascending=False)\n",
    "tickpos = np.arange(6)\n",
    "barpos = tickpos-0.25"
   ]
  },
  {
   "cell_type": "code",
   "execution_count": 277,
   "metadata": {},
   "outputs": [
    {
     "data": {
      "image/png": "[encoded data removed]",
      "text/plain": [
       "<Figure size 864x360 with 2 Axes>"
      ]
     },
     "metadata": {},
     "output_type": "display_data"
    }
   ],
   "source": [
    "fig, axes = plt.subplots(1,2,figsize=(12,5))\n",
    "ord_m_means.plot.barh(x=\"labels\",y=\"mean\",ax=axes[0],legend=False,color=ord_m_means[\"colours\"])\n",
    "axes[0].set_title(\"Average ranking among males (lower -> better)\")\n",
    "axes[0].set_xlabel(\"Ranking\")\n",
    "axes[0].set_ylabel(\"Movie\")\n",
    "ord_f_means.plot.barh(x=\"labels\",y=\"mean\",ax=axes[1],legend=False,color=ord_f_means[\"colours\"])\n",
    "axes[1].set_title(\"Average ranking among females (lower -> better)\")\n",
    "axes[1].set_xlabel(\"Ranking\")\n",
    "axes[1].set_ylabel(\"Movie\")\n",
    "plt.tight_layout()"
   ]
  },
  {
   "cell_type": "code",
   "execution_count": 278,
   "metadata": {},
   "outputs": [],
   "source": [
    "m_sums = males.iloc[:,3:9].sum().divide(males.shape[0]).to_frame()\n",
    "m_sums.reset_index(inplace=True)\n",
    "m_sums = m_sums.rename(index=str,columns={\"index\":\"labels\",0:\"sum\"})\n",
    "m_sums[\"labels\"] = [\"Episode I\",\"Episode II\",\"Episode III\",\"Episode IV\",\"Episode V\",\"Episode VI\",]\n",
    "m_sums[\"colours\"] = [plt.cm.Set2(i) for i in np.linspace(0,1,m_sums.shape[0])]\n",
    "ord_m_sums = m_sums.sort_values(\"sum\", ascending=True)\n",
    "f_sums = females.iloc[:,3:9].sum().divide(females.shape[0]).to_frame()\n",
    "f_sums.reset_index(inplace=True)\n",
    "f_sums = f_sums.rename(index=str,columns={\"index\":\"labels\",0:\"sum\"})\n",
    "f_sums[\"labels\"] = [\"Episode I\",\"Episode II\",\"Episode III\",\"Episode IV\",\"Episode V\",\"Episode VI\",]\n",
    "f_sums[\"colours\"] = [plt.cm.Set2(i) for i in np.linspace(0,1,f_sums.shape[0])]\n",
    "ord_f_sums = f_sums.sort_values(\"sum\", ascending=True)\n",
    "tickpos = np.arange(6)\n",
    "barpos = tickpos-0.25"
   ]
  },
  {
   "cell_type": "code",
   "execution_count": 279,
   "metadata": {},
   "outputs": [
    {
     "data": {
      "image/png": "[encoded data removed]",
      "text/plain": [
       "<Figure size 864x360 with 2 Axes>"
      ]
     },
     "metadata": {},
     "output_type": "display_data"
    }
   ],
   "source": [
    "fig, axes = plt.subplots(1,2,figsize=(12,5))\n",
    "ord_m_sums.plot.barh(x=\"labels\",y=\"sum\",ax=axes[0],legend=False,color=ord_m_sums[\"colours\"])\n",
    "axes[0].set_title(\"Fraction of views (out of all males)\")\n",
    "axes[0].set_xlabel(\"View fraction\")\n",
    "axes[0].set_ylabel(\"Movie\")\n",
    "axes[0].set_xlim(0,1)\n",
    "ord_f_sums.plot.barh(x=\"labels\",y=\"sum\",ax=axes[1],legend=False,color=ord_f_sums[\"colours\"])\n",
    "axes[1].set_title(\"Fraction of views (out of all females)\")\n",
    "axes[1].set_xlabel(\"View fraction\")\n",
    "axes[1].set_ylabel(\"Movie\")\n",
    "axes[1].set_xlim(0,1)\n",
    "plt.tight_layout()"
   ]
  },
  {
   "cell_type": "code",
   "execution_count": 280,
   "metadata": {},
   "outputs": [
    {
     "data": {
      "image/png": "[encoded data removed]",
      "text/plain": [
       "<Figure size 864x360 with 2 Axes>"
      ]
     },
     "metadata": {},
     "output_type": "display_data"
    }
   ],
   "source": [
    "fig, axes = plt.subplots(1,2,figsize=(12,5))\n",
    "axes[0].scatter(m_means[\"mean\"],m_sums[\"sum\"],100,color=m_means[\"colours\"])\n",
    "axes[0].set_title(\"Males\")\n",
    "axes[0].set_xlabel(\"Average ranking\")\n",
    "axes[0].set_ylabel(\"View fraction\")\n",
    "axes[0].set_xlim(2.25,4.75)\n",
    "axes[0].set_ylim(.5,1)\n",
    "axes[1].scatter(f_means[\"mean\"],f_sums[\"sum\"],100,color=m_means[\"colours\"])\n",
    "axes[1].set_title(\"Females\")\n",
    "axes[1].set_xlabel(\"Average ranking\")\n",
    "axes[1].set_ylabel(\"View fraction\")\n",
    "axes[1].set_xlim(2.25,4.75)\n",
    "axes[1].set_ylim(.5,1)\n",
    "fig.suptitle(\"Average ranking vs. Fraction of views\", fontsize=14, y= 1.02)\n",
    "plt.tight_layout()"
   ]
  },
  {
   "cell_type": "code",
   "execution_count": 281,
   "metadata": {
    "scrolled": true
   },
   "outputs": [
    {
     "data": {
      "text/html": [
       "<div>\n",
       "<style scoped>\n",
       "    .dataframe tbody tr th:only-of-type {\n",
       "        vertical-align: middle;\n",
       "    }\n",
       "\n",
       "    .dataframe tbody tr th {\n",
       "        vertical-align: top;\n",
       "    }\n",
       "\n",
       "    .dataframe thead th {\n",
       "        text-align: right;\n",
       "    }\n",
       "</style>\n",
       "<table border=\"1\" class=\"dataframe\">\n",
       "  <thead>\n",
       "    <tr style=\"text-align: right;\">\n",
       "      <th></th>\n",
       "      <th>mean</th>\n",
       "      <th>sum</th>\n",
       "    </tr>\n",
       "  </thead>\n",
       "  <tbody>\n",
       "    <tr>\n",
       "      <th>mean</th>\n",
       "      <td>1.000000</td>\n",
       "      <td>-0.790484</td>\n",
       "    </tr>\n",
       "    <tr>\n",
       "      <th>sum</th>\n",
       "      <td>-0.790484</td>\n",
       "      <td>1.000000</td>\n",
       "    </tr>\n",
       "  </tbody>\n",
       "</table>\n",
       "</div>"
      ],
      "text/plain": [
       "          mean       sum\n",
       "mean  1.000000 -0.790484\n",
       "sum  -0.790484  1.000000"
      ]
     },
     "execution_count": 281,
     "metadata": {},
     "output_type": "execute_result"
    }
   ],
   "source": [
    "# MALE CORRELATION\n",
    "corrme = m_means[\"mean\"].to_frame()\n",
    "corrme = corrme.iloc[:6]\n",
    "corrme[\"sum\"] = m_sums[\"sum\"]\n",
    "corrme[\"mean\"] = pd.to_numeric(corrme[\"mean\"])\n",
    "correlations = corrme.corr()\n",
    "correlations"
   ]
  },
  {
   "cell_type": "code",
   "execution_count": 282,
   "metadata": {
    "scrolled": true
   },
   "outputs": [
    {
     "data": {
      "text/html": [
       "<div>\n",
       "<style scoped>\n",
       "    .dataframe tbody tr th:only-of-type {\n",
       "        vertical-align: middle;\n",
       "    }\n",
       "\n",
       "    .dataframe tbody tr th {\n",
       "        vertical-align: top;\n",
       "    }\n",
       "\n",
       "    .dataframe thead th {\n",
       "        text-align: right;\n",
       "    }\n",
       "</style>\n",
       "<table border=\"1\" class=\"dataframe\">\n",
       "  <thead>\n",
       "    <tr style=\"text-align: right;\">\n",
       "      <th></th>\n",
       "      <th>mean</th>\n",
       "      <th>sum</th>\n",
       "    </tr>\n",
       "  </thead>\n",
       "  <tbody>\n",
       "    <tr>\n",
       "      <th>mean</th>\n",
       "      <td>1.000000</td>\n",
       "      <td>-0.951352</td>\n",
       "    </tr>\n",
       "    <tr>\n",
       "      <th>sum</th>\n",
       "      <td>-0.951352</td>\n",
       "      <td>1.000000</td>\n",
       "    </tr>\n",
       "  </tbody>\n",
       "</table>\n",
       "</div>"
      ],
      "text/plain": [
       "          mean       sum\n",
       "mean  1.000000 -0.951352\n",
       "sum  -0.951352  1.000000"
      ]
     },
     "execution_count": 282,
     "metadata": {},
     "output_type": "execute_result"
    }
   ],
   "source": [
    "# FEMALE CORRELATION\n",
    "corrme = f_means[\"mean\"].to_frame()\n",
    "corrme = corrme.iloc[:6]\n",
    "corrme[\"sum\"] = f_sums[\"sum\"]\n",
    "corrme[\"mean\"] = pd.to_numeric(corrme[\"mean\"])\n",
    "correlations = corrme.corr()\n",
    "correlations"
   ]
  },
  {
   "cell_type": "markdown",
   "metadata": {},
   "source": [
    "### By Star Wars fan (y/n)\n",
    "Secondly, do the results change when the population is split between those that consider themselves fan of the franchise and those that do not?"
   ]
  },
  {
   "cell_type": "code",
   "execution_count": 283,
   "metadata": {},
   "outputs": [],
   "source": [
    "star_wars_y = star_wars[star_wars[\"Do you consider yourself to be a fan of the Star Wars film franchise?\"] == True]\n",
    "star_wars_n = star_wars[star_wars[\"Do you consider yourself to be a fan of the Star Wars film franchise?\"] == False]"
   ]
  },
  {
   "cell_type": "code",
   "execution_count": 284,
   "metadata": {},
   "outputs": [
    {
     "data": {
      "text/plain": [
       "Text(0,0.5,'Fraction of population')"
      ]
     },
     "execution_count": 284,
     "metadata": {},
     "output_type": "execute_result"
    },
    {
     "data": {
      "image/png": "[encoded data removed]",
      "text/plain": [
       "<Figure size 432x360 with 1 Axes>"
      ]
     },
     "metadata": {},
     "output_type": "display_data"
    }
   ],
   "source": [
    "fig, axes = plt.subplots(figsize=(6,5))\n",
    "plt.bar(x=[.5,1.5],height=[star_wars_y.shape[0]/star_wars.shape[0],star_wars_n.shape[0]/star_wars.shape[0]],color=plt.cm.Accent(0),tick_label=[\"Fan\",\"Not Fan\"])\n",
    "axes.set_title(\"Star Wars fan (y/n) distribution of respondents\")\n",
    "axes.set_ylabel(\"Fraction of population\")"
   ]
  },
  {
   "cell_type": "code",
   "execution_count": 285,
   "metadata": {},
   "outputs": [],
   "source": [
    "swy_means = star_wars_y.iloc[:,9:15].mean().to_frame()\n",
    "swy_means.reset_index(inplace=True)\n",
    "swy_means = swy_means.rename(index=str,columns={\"index\":\"labels\",0:\"mean\"})\n",
    "swy_means[\"labels\"] = [\"Episode I\",\"Episode II\",\"Episode III\",\"Episode IV\",\"Episode V\",\"Episode VI\"]\n",
    "swy_means[\"colours\"] = [plt.cm.Set2(i) for i in np.linspace(0,1,swy_means.shape[0])]\n",
    "ord_swy_means = swy_means.sort_values(\"mean\", ascending=False)\n",
    "swn_means = star_wars_n.iloc[:,9:15].mean().to_frame()\n",
    "swn_means.reset_index(inplace=True)\n",
    "swn_means = swn_means.rename(index=str,columns={\"index\":\"labels\",0:\"mean\"})\n",
    "swn_means[\"labels\"] = [\"Episode I\",\"Episode II\",\"Episode III\",\"Episode IV\",\"Episode V\",\"Episode VI\"]\n",
    "swn_means[\"colours\"] = [plt.cm.Set2(i) for i in np.linspace(0,1,swn_means.shape[0])]\n",
    "ord_swn_means = swn_means.sort_values(\"mean\", ascending=False)\n",
    "tickpos = np.arange(6)\n",
    "barpos = tickpos-0.25"
   ]
  },
  {
   "cell_type": "code",
   "execution_count": 286,
   "metadata": {},
   "outputs": [
    {
     "data": {
      "image/png": "[encoded data removed]",
      "text/plain": [
       "<Figure size 864x360 with 2 Axes>"
      ]
     },
     "metadata": {},
     "output_type": "display_data"
    }
   ],
   "source": [
    "fig, axes = plt.subplots(1,2,figsize=(12,5))\n",
    "ord_swy_means.plot.barh(x=\"labels\",y=\"mean\",ax=axes[0],legend=False,color=ord_swy_means[\"colours\"])\n",
    "axes[0].set_title(\"Average ranking among SW fans (lower -> better)\")\n",
    "axes[0].set_xlabel(\"Ranking\")\n",
    "axes[0].set_ylabel(\"Movie\")\n",
    "ord_swn_means.plot.barh(x=\"labels\",y=\"mean\",ax=axes[1],legend=False,color=ord_swn_means[\"colours\"])\n",
    "axes[1].set_title(\"Average ranking among SW not-fans (lower -> better)\")\n",
    "axes[1].set_xlabel(\"Ranking\")\n",
    "axes[1].set_ylabel(\"Movie\")\n",
    "plt.tight_layout()"
   ]
  },
  {
   "cell_type": "code",
   "execution_count": 287,
   "metadata": {},
   "outputs": [],
   "source": [
    "swy_sums = star_wars_y.iloc[:,3:9].sum().divide(star_wars_y.shape[0]).to_frame()\n",
    "swy_sums.reset_index(inplace=True)\n",
    "swy_sums = swy_sums.rename(index=str,columns={\"index\":\"labels\",0:\"sum\"})\n",
    "swy_sums[\"labels\"] = [\"Episode I\",\"Episode II\",\"Episode III\",\"Episode IV\",\"Episode V\",\"Episode VI\",]\n",
    "swy_sums[\"colours\"] = [plt.cm.Set2(i) for i in np.linspace(0,1,swy_sums.shape[0])]\n",
    "ord_swy_sums = swy_sums.sort_values(\"sum\", ascending=True)\n",
    "swn_sums = star_wars_n.iloc[:,3:9].sum().divide(star_wars_n.shape[0]).to_frame()\n",
    "swn_sums.reset_index(inplace=True)\n",
    "swn_sums = swn_sums.rename(index=str,columns={\"index\":\"labels\",0:\"sum\"})\n",
    "swn_sums[\"labels\"] = [\"Episode I\",\"Episode II\",\"Episode III\",\"Episode IV\",\"Episode V\",\"Episode VI\",]\n",
    "swn_sums[\"colours\"] = [plt.cm.Set2(i) for i in np.linspace(0,1,swn_sums.shape[0])]\n",
    "ord_swn_sums = swn_sums.sort_values(\"sum\", ascending=True)\n",
    "tickpos = np.arange(6)\n",
    "barpos = tickpos-0.25"
   ]
  },
  {
   "cell_type": "code",
   "execution_count": 288,
   "metadata": {},
   "outputs": [
    {
     "data": {
      "image/png": "[encoded data removed]",
      "text/plain": [
       "<Figure size 864x360 with 2 Axes>"
      ]
     },
     "metadata": {},
     "output_type": "display_data"
    }
   ],
   "source": [
    "fig, axes = plt.subplots(1,2,figsize=(12,5))\n",
    "ord_swy_sums.plot.barh(x=\"labels\",y=\"sum\",ax=axes[0],legend=False,color=ord_swy_sums[\"colours\"])\n",
    "axes[0].set_title(\"Fraction of views (out of all SW fans)\")\n",
    "axes[0].set_xlabel(\"View fraction\")\n",
    "axes[0].set_ylabel(\"Movie\")\n",
    "axes[0].set_xlim(0,1)\n",
    "ord_swn_sums.plot.barh(x=\"labels\",y=\"sum\",ax=axes[1],legend=False,color=ord_swn_sums[\"colours\"])\n",
    "axes[1].set_title(\"Fraction of views (out of all SW not-fans)\")\n",
    "axes[1].set_xlabel(\"View fraction\")\n",
    "axes[1].set_ylabel(\"Movie\")\n",
    "axes[1].set_xlim(0,1)\n",
    "plt.tight_layout()"
   ]
  },
  {
   "cell_type": "code",
   "execution_count": 289,
   "metadata": {},
   "outputs": [
    {
     "data": {
      "image/png": "[encoded data removed]",
      "text/plain": [
       "<Figure size 864x360 with 2 Axes>"
      ]
     },
     "metadata": {},
     "output_type": "display_data"
    }
   ],
   "source": [
    "fig, axes = plt.subplots(1,2,figsize=(12,5))\n",
    "axes[0].scatter(swy_means[\"mean\"],swy_sums[\"sum\"],100,color=swy_means[\"colours\"])\n",
    "axes[0].set_title(\"SW fans\")\n",
    "axes[0].set_xlabel(\"Average ranking\")\n",
    "axes[0].set_ylabel(\"View fraction\")\n",
    "axes[0].set_xlim(2.25,4.75)\n",
    "axes[0].set_ylim(.2,1)\n",
    "axes[1].scatter(swn_means[\"mean\"],swn_sums[\"sum\"],100,color=swn_means[\"colours\"])\n",
    "axes[1].set_title(\"SW not-fans\")\n",
    "axes[1].set_xlabel(\"Average ranking\")\n",
    "axes[1].set_ylabel(\"View fraction\")\n",
    "axes[1].set_xlim(2.25,4.75)\n",
    "axes[1].set_ylim(.2,1)\n",
    "fig.suptitle(\"Average ranking vs. Fraction of views\", fontsize=14, y= 1.02)\n",
    "plt.tight_layout()"
   ]
  },
  {
   "cell_type": "code",
   "execution_count": 290,
   "metadata": {
    "scrolled": true
   },
   "outputs": [
    {
     "data": {
      "text/html": [
       "<div>\n",
       "<style scoped>\n",
       "    .dataframe tbody tr th:only-of-type {\n",
       "        vertical-align: middle;\n",
       "    }\n",
       "\n",
       "    .dataframe tbody tr th {\n",
       "        vertical-align: top;\n",
       "    }\n",
       "\n",
       "    .dataframe thead th {\n",
       "        text-align: right;\n",
       "    }\n",
       "</style>\n",
       "<table border=\"1\" class=\"dataframe\">\n",
       "  <thead>\n",
       "    <tr style=\"text-align: right;\">\n",
       "      <th></th>\n",
       "      <th>mean</th>\n",
       "      <th>sum</th>\n",
       "    </tr>\n",
       "  </thead>\n",
       "  <tbody>\n",
       "    <tr>\n",
       "      <th>mean</th>\n",
       "      <td>1.000000</td>\n",
       "      <td>-0.816487</td>\n",
       "    </tr>\n",
       "    <tr>\n",
       "      <th>sum</th>\n",
       "      <td>-0.816487</td>\n",
       "      <td>1.000000</td>\n",
       "    </tr>\n",
       "  </tbody>\n",
       "</table>\n",
       "</div>"
      ],
      "text/plain": [
       "          mean       sum\n",
       "mean  1.000000 -0.816487\n",
       "sum  -0.816487  1.000000"
      ]
     },
     "execution_count": 290,
     "metadata": {},
     "output_type": "execute_result"
    }
   ],
   "source": [
    "# SW FANS CORRELATION\n",
    "corrme = swy_means[\"mean\"].to_frame()\n",
    "corrme = corrme.iloc[:6]\n",
    "corrme[\"sum\"] = swy_sums[\"sum\"]\n",
    "corrme[\"mean\"] = pd.to_numeric(corrme[\"mean\"])\n",
    "correlations = corrme.corr()\n",
    "correlations"
   ]
  },
  {
   "cell_type": "code",
   "execution_count": 291,
   "metadata": {
    "scrolled": true
   },
   "outputs": [
    {
     "data": {
      "text/html": [
       "<div>\n",
       "<style scoped>\n",
       "    .dataframe tbody tr th:only-of-type {\n",
       "        vertical-align: middle;\n",
       "    }\n",
       "\n",
       "    .dataframe tbody tr th {\n",
       "        vertical-align: top;\n",
       "    }\n",
       "\n",
       "    .dataframe thead th {\n",
       "        text-align: right;\n",
       "    }\n",
       "</style>\n",
       "<table border=\"1\" class=\"dataframe\">\n",
       "  <thead>\n",
       "    <tr style=\"text-align: right;\">\n",
       "      <th></th>\n",
       "      <th>mean</th>\n",
       "      <th>sum</th>\n",
       "    </tr>\n",
       "  </thead>\n",
       "  <tbody>\n",
       "    <tr>\n",
       "      <th>mean</th>\n",
       "      <td>1.0000</td>\n",
       "      <td>-0.8101</td>\n",
       "    </tr>\n",
       "    <tr>\n",
       "      <th>sum</th>\n",
       "      <td>-0.8101</td>\n",
       "      <td>1.0000</td>\n",
       "    </tr>\n",
       "  </tbody>\n",
       "</table>\n",
       "</div>"
      ],
      "text/plain": [
       "        mean     sum\n",
       "mean  1.0000 -0.8101\n",
       "sum  -0.8101  1.0000"
      ]
     },
     "execution_count": 291,
     "metadata": {},
     "output_type": "execute_result"
    }
   ],
   "source": [
    "# SW NOT-FANS CORRELATION\n",
    "corrme = swn_means[\"mean\"].to_frame()\n",
    "corrme = corrme.iloc[:6]\n",
    "corrme[\"sum\"] = swn_sums[\"sum\"]\n",
    "corrme[\"mean\"] = pd.to_numeric(corrme[\"mean\"])\n",
    "correlations = corrme.corr()\n",
    "correlations"
   ]
  },
  {
   "cell_type": "markdown",
   "metadata": {},
   "source": [
    "### By Star Trek fan (y/n)\n",
    "Finally, do the results change when the population is split between those that consider themselves fan of the Star Trek franchise and those that do not?"
   ]
  },
  {
   "cell_type": "code",
   "execution_count": 292,
   "metadata": {},
   "outputs": [],
   "source": [
    "star_trek_y = star_wars[star_wars[\"Do you consider yourself to be a fan of the Star Trek franchise?\"] == \"Yes\"]\n",
    "star_trek_n = star_wars[star_wars[\"Do you consider yourself to be a fan of the Star Trek franchise?\"] == \"No\"]\n",
    "na = star_wars[pd.isnull(star_wars[\"Do you consider yourself to be a fan of the Star Trek franchise?\"])]"
   ]
  },
  {
   "cell_type": "code",
   "execution_count": 293,
   "metadata": {},
   "outputs": [
    {
     "data": {
      "text/plain": [
       "Text(0,0.5,'Fraction of population')"
      ]
     },
     "execution_count": 293,
     "metadata": {},
     "output_type": "execute_result"
    },
    {
     "data": {
      "image/png": "[encoded data removed]",
      "text/plain": [
       "<Figure size 432x360 with 1 Axes>"
      ]
     },
     "metadata": {},
     "output_type": "display_data"
    }
   ],
   "source": [
    "fig, axes = plt.subplots(figsize=(6,5))\n",
    "plt.bar(x=[.5,1.5,2.5],height=[star_trek_y.shape[0]/star_wars.shape[0],star_trek_n.shape[0]/star_wars.shape[0],na.shape[0]/star_wars.shape[0]],color=plt.cm.Accent(0),tick_label=[\"Fan\",\"Not fan\",\"Doesn't say\"])\n",
    "axes.set_title(\"Star Trek fan (y/n) distribution of respondents\")\n",
    "axes.set_ylabel(\"Fraction of population\")"
   ]
  },
  {
   "cell_type": "code",
   "execution_count": 294,
   "metadata": {},
   "outputs": [],
   "source": [
    "sty_means = star_trek_y.iloc[:,9:15].mean().to_frame()\n",
    "sty_means.reset_index(inplace=True)\n",
    "sty_means = sty_means.rename(index=str,columns={\"index\":\"labels\",0:\"mean\"})\n",
    "sty_means[\"labels\"] = [\"Episode I\",\"Episode II\",\"Episode III\",\"Episode IV\",\"Episode V\",\"Episode VI\"]\n",
    "sty_means[\"colours\"] = [plt.cm.Set2(i) for i in np.linspace(0,1,sty_means.shape[0])]\n",
    "ord_sty_means = sty_means.sort_values(\"mean\", ascending=False)\n",
    "stn_means = star_trek_n.iloc[:,9:15].mean().to_frame()\n",
    "stn_means.reset_index(inplace=True)\n",
    "stn_means = swn_means.rename(index=str,columns={\"index\":\"labels\",0:\"mean\"})\n",
    "stn_means[\"labels\"] = [\"Episode I\",\"Episode II\",\"Episode III\",\"Episode IV\",\"Episode V\",\"Episode VI\"]\n",
    "stn_means[\"colours\"] = [plt.cm.Set2(i) for i in np.linspace(0,1,swn_means.shape[0])]\n",
    "ord_stn_means = stn_means.sort_values(\"mean\", ascending=False)\n",
    "tickpos = np.arange(6)\n",
    "barpos = tickpos-0.25"
   ]
  },
  {
   "cell_type": "code",
   "execution_count": 295,
   "metadata": {},
   "outputs": [
    {
     "data": {
      "image/png": "[encoded data removed]",
      "text/plain": [
       "<Figure size 864x360 with 2 Axes>"
      ]
     },
     "metadata": {},
     "output_type": "display_data"
    }
   ],
   "source": [
    "fig, axes = plt.subplots(1,2,figsize=(12,5))\n",
    "ord_sty_means.plot.barh(x=\"labels\",y=\"mean\",ax=axes[0],legend=False,color=ord_sty_means[\"colours\"])\n",
    "axes[0].set_title(\"Average ranking among ST fans (lower -> better)\")\n",
    "axes[0].set_xlabel(\"Ranking\")\n",
    "axes[0].set_ylabel(\"Movie\")\n",
    "ord_stn_means.plot.barh(x=\"labels\",y=\"mean\",ax=axes[1],legend=False,color=ord_stn_means[\"colours\"])\n",
    "axes[1].set_title(\"Average ranking among ST not-fans (lower -> better)\")\n",
    "axes[1].set_xlabel(\"Ranking\")\n",
    "axes[1].set_ylabel(\"Movie\")\n",
    "plt.tight_layout()"
   ]
  },
  {
   "cell_type": "code",
   "execution_count": 296,
   "metadata": {},
   "outputs": [],
   "source": [
    "sty_sums = star_trek_y.iloc[:,3:9].sum().divide(star_trek_y.shape[0]).to_frame()\n",
    "sty_sums.reset_index(inplace=True)\n",
    "sty_sums = sty_sums.rename(index=str,columns={\"index\":\"labels\",0:\"sum\"})\n",
    "sty_sums[\"labels\"] = [\"Episode I\",\"Episode II\",\"Episode III\",\"Episode IV\",\"Episode V\",\"Episode VI\",]\n",
    "sty_sums[\"colours\"] = [plt.cm.Set2(i) for i in np.linspace(0,1,sty_sums.shape[0])]\n",
    "ord_sty_sums = sty_sums.sort_values(\"sum\", ascending=True)\n",
    "stn_sums = star_trek_n.iloc[:,3:9].sum().divide(star_trek_n.shape[0]).to_frame()\n",
    "stn_sums.reset_index(inplace=True)\n",
    "stn_sums = stn_sums.rename(index=str,columns={\"index\":\"labels\",0:\"sum\"})\n",
    "stn_sums[\"labels\"] = [\"Episode I\",\"Episode II\",\"Episode III\",\"Episode IV\",\"Episode V\",\"Episode VI\",]\n",
    "stn_sums[\"colours\"] = [plt.cm.Set2(i) for i in np.linspace(0,1,stn_sums.shape[0])]\n",
    "ord_stn_sums = stn_sums.sort_values(\"sum\", ascending=True)\n",
    "tickpos = np.arange(6)\n",
    "barpos = tickpos-0.25"
   ]
  },
  {
   "cell_type": "code",
   "execution_count": 297,
   "metadata": {},
   "outputs": [
    {
     "data": {
      "image/png": "[encoded data removed]",
      "text/plain": [
       "<Figure size 864x360 with 2 Axes>"
      ]
     },
     "metadata": {},
     "output_type": "display_data"
    }
   ],
   "source": [
    "fig, axes = plt.subplots(1,2,figsize=(12,5))\n",
    "ord_sty_sums.plot.barh(x=\"labels\",y=\"sum\",ax=axes[0],legend=False,color=ord_sty_sums[\"colours\"])\n",
    "axes[0].set_title(\"Fraction of views (out of all ST fans)\")\n",
    "axes[0].set_xlabel(\"View fraction\")\n",
    "axes[0].set_ylabel(\"Movie\")\n",
    "axes[0].set_xlim(0,1)\n",
    "ord_stn_sums.plot.barh(x=\"labels\",y=\"sum\",ax=axes[1],legend=False,color=ord_stn_sums[\"colours\"])\n",
    "axes[1].set_title(\"Fraction of views (out of all ST not-fans)\")\n",
    "axes[1].set_xlabel(\"View fraction\")\n",
    "axes[1].set_ylabel(\"Movie\")\n",
    "axes[1].set_xlim(0,1)\n",
    "plt.tight_layout()"
   ]
  },
  {
   "cell_type": "code",
   "execution_count": 298,
   "metadata": {},
   "outputs": [
    {
     "data": {
      "image/png": "[encoded data removed]",
      "text/plain": [
       "<Figure size 864x360 with 2 Axes>"
      ]
     },
     "metadata": {},
     "output_type": "display_data"
    }
   ],
   "source": [
    "fig, axes = plt.subplots(1,2,figsize=(12,5))\n",
    "axes[0].scatter(sty_means[\"mean\"],sty_sums[\"sum\"],100,color=sty_means[\"colours\"])\n",
    "axes[0].set_title(\"ST fans\")\n",
    "axes[0].set_xlabel(\"Average ranking\")\n",
    "axes[0].set_ylabel(\"View fraction\")\n",
    "axes[0].set_xlim(2.25,4.75)\n",
    "axes[0].set_ylim(.2,1)\n",
    "axes[1].scatter(stn_means[\"mean\"],stn_sums[\"sum\"],100,color=stn_means[\"colours\"])\n",
    "axes[1].set_title(\"ST not-fans\")\n",
    "axes[1].set_xlabel(\"Average ranking\")\n",
    "axes[1].set_ylabel(\"View fraction\")\n",
    "axes[1].set_xlim(2.25,4.75)\n",
    "axes[1].set_ylim(.2,1)\n",
    "fig.suptitle(\"Average ranking vs. Fraction of views\", fontsize=14, y= 1.02)\n",
    "plt.tight_layout()"
   ]
  },
  {
   "cell_type": "code",
   "execution_count": 299,
   "metadata": {
    "scrolled": true
   },
   "outputs": [
    {
     "data": {
      "text/html": [
       "<div>\n",
       "<style scoped>\n",
       "    .dataframe tbody tr th:only-of-type {\n",
       "        vertical-align: middle;\n",
       "    }\n",
       "\n",
       "    .dataframe tbody tr th {\n",
       "        vertical-align: top;\n",
       "    }\n",
       "\n",
       "    .dataframe thead th {\n",
       "        text-align: right;\n",
       "    }\n",
       "</style>\n",
       "<table border=\"1\" class=\"dataframe\">\n",
       "  <thead>\n",
       "    <tr style=\"text-align: right;\">\n",
       "      <th></th>\n",
       "      <th>mean</th>\n",
       "      <th>sum</th>\n",
       "    </tr>\n",
       "  </thead>\n",
       "  <tbody>\n",
       "    <tr>\n",
       "      <th>mean</th>\n",
       "      <td>1.000000</td>\n",
       "      <td>-0.824923</td>\n",
       "    </tr>\n",
       "    <tr>\n",
       "      <th>sum</th>\n",
       "      <td>-0.824923</td>\n",
       "      <td>1.000000</td>\n",
       "    </tr>\n",
       "  </tbody>\n",
       "</table>\n",
       "</div>"
      ],
      "text/plain": [
       "          mean       sum\n",
       "mean  1.000000 -0.824923\n",
       "sum  -0.824923  1.000000"
      ]
     },
     "execution_count": 299,
     "metadata": {},
     "output_type": "execute_result"
    }
   ],
   "source": [
    "# ST FANS CORRELATION\n",
    "corrme = sty_means[\"mean\"].to_frame()\n",
    "corrme = corrme.iloc[:6]\n",
    "corrme[\"sum\"] = sty_sums[\"sum\"]\n",
    "corrme[\"mean\"] = pd.to_numeric(corrme[\"mean\"])\n",
    "correlations = corrme.corr()\n",
    "correlations"
   ]
  },
  {
   "cell_type": "code",
   "execution_count": 300,
   "metadata": {
    "scrolled": true
   },
   "outputs": [
    {
     "data": {
      "text/html": [
       "<div>\n",
       "<style scoped>\n",
       "    .dataframe tbody tr th:only-of-type {\n",
       "        vertical-align: middle;\n",
       "    }\n",
       "\n",
       "    .dataframe tbody tr th {\n",
       "        vertical-align: top;\n",
       "    }\n",
       "\n",
       "    .dataframe thead th {\n",
       "        text-align: right;\n",
       "    }\n",
       "</style>\n",
       "<table border=\"1\" class=\"dataframe\">\n",
       "  <thead>\n",
       "    <tr style=\"text-align: right;\">\n",
       "      <th></th>\n",
       "      <th>mean</th>\n",
       "      <th>sum</th>\n",
       "    </tr>\n",
       "  </thead>\n",
       "  <tbody>\n",
       "    <tr>\n",
       "      <th>mean</th>\n",
       "      <td>1.000000</td>\n",
       "      <td>-0.785296</td>\n",
       "    </tr>\n",
       "    <tr>\n",
       "      <th>sum</th>\n",
       "      <td>-0.785296</td>\n",
       "      <td>1.000000</td>\n",
       "    </tr>\n",
       "  </tbody>\n",
       "</table>\n",
       "</div>"
      ],
      "text/plain": [
       "          mean       sum\n",
       "mean  1.000000 -0.785296\n",
       "sum  -0.785296  1.000000"
      ]
     },
     "execution_count": 300,
     "metadata": {},
     "output_type": "execute_result"
    }
   ],
   "source": [
    "# ST NOT-FANS CORRELATION\n",
    "corrme = stn_means[\"mean\"].to_frame()\n",
    "corrme = corrme.iloc[:6]\n",
    "corrme[\"sum\"] = stn_sums[\"sum\"]\n",
    "corrme[\"mean\"] = pd.to_numeric(corrme[\"mean\"])\n",
    "correlations = corrme.corr()\n",
    "correlations"
   ]
  },
  {
   "cell_type": "markdown",
   "metadata": {},
   "source": [
    "#### Final results\n",
    "- Viewer fractions were consistent across all groups. In order from most to least viewed: Episode V, Episode VI, Episode I, Episode IV, Episode II, Episode III.\n",
    "- Male viewers liked Episode I less on average than female viewers. On the other hand, male viewers liked Episode IV more on average than female viewers. Males had higher viewership across all six movies. Correlation between the two parameters was high for both, but especially for females.\n",
    "- People declaring they are not fans of Star Wars had a more even opinion of the movies, while Star Wars fans consistently ranked the prequels worse than Episodes IV-VI. As expected viewership among fans was very high. Correlation was high in both cases.\n",
    "- People declaring they are not fans of Star Trek had a more even opinion of the movies too, but less so than Star Wars not-fans. This is likely because the Star Trek not-fans population captures part of the Star Wars fans population. Star Trek fans had an opinion of the movies similar to that of Star Wars fans. Star Trek fans had a high viewership fraction indicating that probably many of them are fans of science fiction in general or are at the very least fans of Star Wars too. High correlation between the parameters was found, especially among fans."
   ]
  },
  {
   "cell_type": "markdown",
   "metadata": {
    "collapsed": true
   },
   "source": [
    "# Addendum A: Who shot first?"
   ]
  },
  {
   "cell_type": "markdown",
   "metadata": {},
   "source": [
    "How did the respondents answer the fundamental question: who shot first - Han or Greedo?"
   ]
  },
  {
   "cell_type": "code",
   "execution_count": 301,
   "metadata": {},
   "outputs": [
    {
     "data": {
      "text/plain": [
       "Han                                 325\n",
       "I don't understand this question    306\n",
       "Greedo                              197\n",
       "NaN                                   8\n",
       "Name: Which character shot first?, dtype: int64"
      ]
     },
     "execution_count": 301,
     "metadata": {},
     "output_type": "execute_result"
    }
   ],
   "source": [
    "star_wars[\"Which character shot first?\"].value_counts(dropna=False)"
   ]
  },
  {
   "cell_type": "code",
   "execution_count": 302,
   "metadata": {},
   "outputs": [],
   "source": [
    "hans = star_wars[star_wars[\"Which character shot first?\"] == \"Han\"]\n",
    "greedos = star_wars[star_wars[\"Which character shot first?\"] == \"Greedo\"]\n",
    "normies = star_wars[star_wars[\"Which character shot first?\"] == \"I don't understand this question\"]\n",
    "na = star_wars[pd.isnull(star_wars[\"Which character shot first?\"])]"
   ]
  },
  {
   "cell_type": "code",
   "execution_count": 303,
   "metadata": {},
   "outputs": [
    {
     "data": {
      "text/plain": [
       "Text(0,0.5,'Fraction of population')"
      ]
     },
     "execution_count": 303,
     "metadata": {},
     "output_type": "execute_result"
    },
    {
     "data": {
      "image/png": "[encoded data removed]",
      "text/plain": [
       "<Figure size 432x360 with 1 Axes>"
      ]
     },
     "metadata": {},
     "output_type": "display_data"
    }
   ],
   "source": [
    "fig, axes = plt.subplots(figsize=(6,5))\n",
    "plt.bar(x=[.5,1.5,2.5,3.5],height=[hans.shape[0]/star_wars.shape[0],greedos.shape[0]/star_wars.shape[0],normies.shape[0]/star_wars.shape[0],na.shape[0]/star_wars.shape[0]],color=plt.cm.Accent(0),tick_label=[\"Han\",\"Greedo\",\"Is clueless\",\"Doesn't say\"])\n",
    "axes.set_title(\"Who shot first?\")\n",
    "axes.set_ylabel(\"Fraction of population\")"
   ]
  },
  {
   "cell_type": "markdown",
   "metadata": {},
   "source": [
    "### Results\n",
    "- Among those that answered with a name, most believe that Han shot first (as it should be).\n",
    "- The number of respondents that do not get the reference is disheartening."
   ]
  },
  {
   "cell_type": "markdown",
   "metadata": {},
   "source": [
    "# Addendum B: Character popularity\n",
    "What are the most and least liked characters in the franchise? Are there any favourites? Let's find out."
   ]
  },
  {
   "cell_type": "code",
   "execution_count": 248,
   "metadata": {},
   "outputs": [
    {
     "data": {
      "text/plain": [
       "Very favorably                                 610\n",
       "Somewhat favorably                             151\n",
       "Neither favorably nor unfavorably (neutral)     44\n",
       "Unfamiliar (N/A)                                15\n",
       "Somewhat unfavorably                             8\n",
       "NaN                                              7\n",
       "Very unfavorably                                 1\n",
       "Name: Please state whether you view the following characters favorably, unfavorably, or are unfamiliar with him/her., dtype: int64"
      ]
     },
     "execution_count": 248,
     "metadata": {},
     "output_type": "execute_result"
    }
   ],
   "source": [
    "# Select character columns\n",
    "characters = star_wars.iloc[:,15:29]\n",
    "characters.iloc[:,0].value_counts(dropna=False)"
   ]
  },
  {
   "cell_type": "code",
   "execution_count": 308,
   "metadata": {},
   "outputs": [
    {
     "name": "stdout",
     "output_type": "stream",
     "text": [
      "['Han Solo', 'Luke Skywalker', 'Princess Leia Organa', 'Anakin Skywalker', 'Obi Wan Kenobi', 'Emperor Palpatine', 'Darth Vader', 'Lando Calrissian', 'Boba Fett', 'C-3P0', 'R2 D2', 'Jar Jar Binks', 'Padme Amidala', 'Yoda']\n"
     ]
    }
   ],
   "source": [
    "# Retrieve character names\n",
    "character_names = [x for x in col_details[15:29]]\n",
    "print(character_names)"
   ]
  },
  {
   "cell_type": "code",
   "execution_count": 309,
   "metadata": {},
   "outputs": [],
   "source": [
    "# Rename character columns to the proper names.\n",
    "col_rename = {\n",
    "    \"Please state whether you view the following characters favorably, unfavorably, or are unfamiliar with him/her.\":\"Han Solo\",\n",
    "    \"Unnamed: 16\":\"Luke Skywalker\",\n",
    "    \"Unnamed: 17\":\"Princess Leia Organa\",\n",
    "    \"Unnamed: 18\":\"Anakin Skywalker\",\n",
    "    \"Unnamed: 19\":\"Obi Wan Kenobi\",\n",
    "    \"Unnamed: 20\":\"Emperor Palpatine\",\n",
    "    \"Unnamed: 21\":\"Darth Vader\",\n",
    "    \"Unnamed: 22\":\"Lando Calrissian\",\n",
    "    \"Unnamed: 23\":\"Boba Fett\",\n",
    "    \"Unnamed: 24\":\"C-3P0\",\n",
    "    \"Unnamed: 25\":\"R2 D2\",\n",
    "    \"Unnamed: 26\":\"Jar Jar Binks\",\n",
    "    \"Unnamed: 27\":\"Padme Amidala\",\n",
    "    \"Unnamed: 28\":\"Yoda\",\n",
    "}\n",
    "characters = characters.rename(columns=col_rename)"
   ]
  },
  {
   "cell_type": "code",
   "execution_count": 311,
   "metadata": {},
   "outputs": [
    {
     "data": {
      "text/plain": [
       " 1.0    610\n",
       " 2.0    151\n",
       " 3.0     44\n",
       "NaN      22\n",
       " 4.0      8\n",
       " 5.0      1\n",
       "Name: Han Solo, dtype: int64"
      ]
     },
     "execution_count": 311,
     "metadata": {},
     "output_type": "execute_result"
    }
   ],
   "source": [
    "# Convert phrasal rankings into numbers\n",
    "rank_map = {\n",
    "    \"Very favorably\": 1,\n",
    "    \"Somewhat favorably\": 2,\n",
    "    \"Neither favorably nor unfavorably (neutral)\": 3,\n",
    "    \"Somewhat unfavorably\": 4,\n",
    "    \"Very unfavorably\": 5,\n",
    "    \"Unfamiliar (N/A)\": np.NaN\n",
    "}\n",
    "for c in characters.columns:\n",
    "    characters[c] = characters[c].map(rank_map)"
   ]
  },
  {
   "cell_type": "markdown",
   "metadata": {},
   "source": [
    "As it was the case for movie rankings, now that the character rankings are numeric it is easy to find out which characters are the most and least liked among the respondents."
   ]
  },
  {
   "cell_type": "code",
   "execution_count": 327,
   "metadata": {},
   "outputs": [],
   "source": [
    "c_mean = characters.mean()\n",
    "c_means = pd.DataFrame()\n",
    "c_means[\"mean\"] = c_mean\n",
    "c_means[\"colours\"] = [plt.cm.rainbow(i) for i in np.linspace(0,1,c_means.shape[0])]\n",
    "c_means = c_means.reset_index()\n",
    "ord_c_means = c_means.sort_values(\"mean\", ascending=False)\n",
    "tickpos = np.arange(6)\n",
    "barpos = tickpos-0.25"
   ]
  },
  {
   "cell_type": "code",
   "execution_count": 328,
   "metadata": {},
   "outputs": [
    {
     "data": {
      "text/plain": [
       "Text(0,0.5,'Character')"
      ]
     },
     "execution_count": 328,
     "metadata": {},
     "output_type": "execute_result"
    },
    {
     "data": {
      "image/png": "[encoded data removed]",
      "text/plain": [
       "<Figure size 432x576 with 1 Axes>"
      ]
     },
     "metadata": {},
     "output_type": "display_data"
    }
   ],
   "source": [
    "fig, axes = plt.subplots(figsize=(6,8))\n",
    "ord_c_means.plot.barh(x=\"index\",y=\"mean\",ax=axes,legend=False,color=ord_c_means[\"colours\"])\n",
    "axes.set_title(\"Average character ranking (lower -> better)\")\n",
    "axes.set_xlabel(\"Ranking\")\n",
    "axes.set_ylabel(\"Character\")"
   ]
  },
  {
   "cell_type": "markdown",
   "metadata": {},
   "source": [
    "### Results\n",
    "- The character top three is, in order: Han Solo, Obi Wan Kenobi and Yoda.\n",
    "- \"Good\" characters from the original trilogy are all seen favourably.\n",
    "- \"Bad\" characters from the original trilogy along with all characters from the prequels are seen unfavourably.\n",
    "- Jar Jar is the least liked of all characters (once again, as it should be)."
   ]
  },
  {
   "cell_type": "code",
   "execution_count": null,
   "metadata": {},
   "outputs": [],
   "source": []
  }
 ],
 "metadata": {
  "kernelspec": {
   "display_name": "Python 3",
   "language": "python",
   "name": "python3"
  },
  "language_info": {
   "codemirror_mode": {
    "name": "ipython",
    "version": 3
   },
   "file_extension": ".py",
   "mimetype": "text/x-python",
   "name": "python",
   "nbconvert_exporter": "python",
   "pygments_lexer": "ipython3",
   "version": "3.6.5"
  }
 },
 "nbformat": 4,
 "nbformat_minor": 1
}
