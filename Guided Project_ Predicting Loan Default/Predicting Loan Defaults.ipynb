{
 "cells": [
  {
   "cell_type": "markdown",
   "metadata": {},
   "source": [
    "# Predicting Loan Defaults\n",
    "The goal of this project is to develop a model to predict whether a loan is likely to default or not before being funded. We'll be working on a financial dataset from Lending Club, a marketplace for personal loans. \n",
    "\n",
    "The dataset is contained within loans_2007.csv, a pre-cleaned file (original file: [LoanStats3a.csv](https://resources.lendingclub.com/LoanStats3a.csv.zip)) from which columns containing more than 50% missing values were already dropped, together with extraneous text and two descriptive columns which weren't useful for machine learning. For reference:\n",
    "\n",
    "```import pandas as pd\n",
    " loans_2007 = pd.read_csv('LoanStats3a.csv', skiprows=1)\n",
    " half_count = len(loans_2007) / 2\n",
    " loans_2007 = loans_2007.dropna(thresh=half_count, axis=1)\n",
    " loans_2007 = loans_2007.drop(['desc', 'url'],axis=1)\n",
    " loans_2007.to_csv('loans_2007.csv', index=False)```"
   ]
  },
  {
   "cell_type": "markdown",
   "metadata": {},
   "source": [
    "The dataset contains data for loans funded between 2007 and 2011, so that by now the final status of the loan should be determined on a large majority of them. By studying which past loans defaulted and which were paid in full we will develop a predicting tool for future loans."
   ]
  },
  {
   "cell_type": "code",
   "execution_count": 1,
   "metadata": {},
   "outputs": [],
   "source": [
    "import pandas as pd"
   ]
  },
  {
   "cell_type": "code",
   "execution_count": 2,
   "metadata": {},
   "outputs": [
    {
     "data": {
      "text/plain": [
       "(42538, 52)"
      ]
     },
     "execution_count": 2,
     "metadata": {},
     "output_type": "execute_result"
    }
   ],
   "source": [
    "loans = pd.read_csv(\"loans_2007.csv\",low_memory=False)\n",
    "loans.shape"
   ]
  },
  {
   "cell_type": "code",
   "execution_count": 3,
   "metadata": {},
   "outputs": [
    {
     "data": {
      "text/html": [
       "<div>\n",
       "<style scoped>\n",
       "    .dataframe tbody tr th:only-of-type {\n",
       "        vertical-align: middle;\n",
       "    }\n",
       "\n",
       "    .dataframe tbody tr th {\n",
       "        vertical-align: top;\n",
       "    }\n",
       "\n",
       "    .dataframe thead th {\n",
       "        text-align: right;\n",
       "    }\n",
       "</style>\n",
       "<table border=\"1\" class=\"dataframe\">\n",
       "  <thead>\n",
       "    <tr style=\"text-align: right;\">\n",
       "      <th></th>\n",
       "      <th>id</th>\n",
       "      <th>member_id</th>\n",
       "      <th>loan_amnt</th>\n",
       "      <th>funded_amnt</th>\n",
       "      <th>funded_amnt_inv</th>\n",
       "      <th>term</th>\n",
       "      <th>int_rate</th>\n",
       "      <th>installment</th>\n",
       "      <th>grade</th>\n",
       "      <th>sub_grade</th>\n",
       "      <th>...</th>\n",
       "      <th>last_pymnt_amnt</th>\n",
       "      <th>last_credit_pull_d</th>\n",
       "      <th>collections_12_mths_ex_med</th>\n",
       "      <th>policy_code</th>\n",
       "      <th>application_type</th>\n",
       "      <th>acc_now_delinq</th>\n",
       "      <th>chargeoff_within_12_mths</th>\n",
       "      <th>delinq_amnt</th>\n",
       "      <th>pub_rec_bankruptcies</th>\n",
       "      <th>tax_liens</th>\n",
       "    </tr>\n",
       "  </thead>\n",
       "  <tbody>\n",
       "    <tr>\n",
       "      <th>0</th>\n",
       "      <td>1077501</td>\n",
       "      <td>1296599.0</td>\n",
       "      <td>5000.0</td>\n",
       "      <td>5000.0</td>\n",
       "      <td>4975.0</td>\n",
       "      <td>36 months</td>\n",
       "      <td>10.65%</td>\n",
       "      <td>162.87</td>\n",
       "      <td>B</td>\n",
       "      <td>B2</td>\n",
       "      <td>...</td>\n",
       "      <td>171.62</td>\n",
       "      <td>Jun-2016</td>\n",
       "      <td>0.0</td>\n",
       "      <td>1.0</td>\n",
       "      <td>INDIVIDUAL</td>\n",
       "      <td>0.0</td>\n",
       "      <td>0.0</td>\n",
       "      <td>0.0</td>\n",
       "      <td>0.0</td>\n",
       "      <td>0.0</td>\n",
       "    </tr>\n",
       "    <tr>\n",
       "      <th>1</th>\n",
       "      <td>1077430</td>\n",
       "      <td>1314167.0</td>\n",
       "      <td>2500.0</td>\n",
       "      <td>2500.0</td>\n",
       "      <td>2500.0</td>\n",
       "      <td>60 months</td>\n",
       "      <td>15.27%</td>\n",
       "      <td>59.83</td>\n",
       "      <td>C</td>\n",
       "      <td>C4</td>\n",
       "      <td>...</td>\n",
       "      <td>119.66</td>\n",
       "      <td>Sep-2013</td>\n",
       "      <td>0.0</td>\n",
       "      <td>1.0</td>\n",
       "      <td>INDIVIDUAL</td>\n",
       "      <td>0.0</td>\n",
       "      <td>0.0</td>\n",
       "      <td>0.0</td>\n",
       "      <td>0.0</td>\n",
       "      <td>0.0</td>\n",
       "    </tr>\n",
       "    <tr>\n",
       "      <th>2</th>\n",
       "      <td>1077175</td>\n",
       "      <td>1313524.0</td>\n",
       "      <td>2400.0</td>\n",
       "      <td>2400.0</td>\n",
       "      <td>2400.0</td>\n",
       "      <td>36 months</td>\n",
       "      <td>15.96%</td>\n",
       "      <td>84.33</td>\n",
       "      <td>C</td>\n",
       "      <td>C5</td>\n",
       "      <td>...</td>\n",
       "      <td>649.91</td>\n",
       "      <td>Jun-2016</td>\n",
       "      <td>0.0</td>\n",
       "      <td>1.0</td>\n",
       "      <td>INDIVIDUAL</td>\n",
       "      <td>0.0</td>\n",
       "      <td>0.0</td>\n",
       "      <td>0.0</td>\n",
       "      <td>0.0</td>\n",
       "      <td>0.0</td>\n",
       "    </tr>\n",
       "  </tbody>\n",
       "</table>\n",
       "<p>3 rows × 52 columns</p>\n",
       "</div>"
      ],
      "text/plain": [
       "        id  member_id  loan_amnt  funded_amnt  funded_amnt_inv        term  \\\n",
       "0  1077501  1296599.0     5000.0       5000.0           4975.0   36 months   \n",
       "1  1077430  1314167.0     2500.0       2500.0           2500.0   60 months   \n",
       "2  1077175  1313524.0     2400.0       2400.0           2400.0   36 months   \n",
       "\n",
       "  int_rate  installment grade sub_grade    ...    last_pymnt_amnt  \\\n",
       "0   10.65%       162.87     B        B2    ...             171.62   \n",
       "1   15.27%        59.83     C        C4    ...             119.66   \n",
       "2   15.96%        84.33     C        C5    ...             649.91   \n",
       "\n",
       "  last_credit_pull_d collections_12_mths_ex_med  policy_code application_type  \\\n",
       "0           Jun-2016                        0.0          1.0       INDIVIDUAL   \n",
       "1           Sep-2013                        0.0          1.0       INDIVIDUAL   \n",
       "2           Jun-2016                        0.0          1.0       INDIVIDUAL   \n",
       "\n",
       "  acc_now_delinq chargeoff_within_12_mths delinq_amnt pub_rec_bankruptcies  \\\n",
       "0            0.0                      0.0         0.0                  0.0   \n",
       "1            0.0                      0.0         0.0                  0.0   \n",
       "2            0.0                      0.0         0.0                  0.0   \n",
       "\n",
       "  tax_liens  \n",
       "0       0.0  \n",
       "1       0.0  \n",
       "2       0.0  \n",
       "\n",
       "[3 rows x 52 columns]"
      ]
     },
     "execution_count": 3,
     "metadata": {},
     "output_type": "execute_result"
    }
   ],
   "source": [
    "loans.head(3)"
   ]
  },
  {
   "cell_type": "code",
   "execution_count": 4,
   "metadata": {},
   "outputs": [
    {
     "name": "stdout",
     "output_type": "stream",
     "text": [
      "<class 'pandas.core.frame.DataFrame'>\n",
      "RangeIndex: 42538 entries, 0 to 42537\n",
      "Data columns (total 52 columns):\n",
      "id                            42538 non-null object\n",
      "member_id                     42535 non-null float64\n",
      "loan_amnt                     42535 non-null float64\n",
      "funded_amnt                   42535 non-null float64\n",
      "funded_amnt_inv               42535 non-null float64\n",
      "term                          42535 non-null object\n",
      "int_rate                      42535 non-null object\n",
      "installment                   42535 non-null float64\n",
      "grade                         42535 non-null object\n",
      "sub_grade                     42535 non-null object\n",
      "emp_title                     39909 non-null object\n",
      "emp_length                    41423 non-null object\n",
      "home_ownership                42535 non-null object\n",
      "annual_inc                    42531 non-null float64\n",
      "verification_status           42535 non-null object\n",
      "issue_d                       42535 non-null object\n",
      "loan_status                   42535 non-null object\n",
      "pymnt_plan                    42535 non-null object\n",
      "purpose                       42535 non-null object\n",
      "title                         42522 non-null object\n",
      "zip_code                      42535 non-null object\n",
      "addr_state                    42535 non-null object\n",
      "dti                           42535 non-null float64\n",
      "delinq_2yrs                   42506 non-null float64\n",
      "earliest_cr_line              42506 non-null object\n",
      "inq_last_6mths                42506 non-null float64\n",
      "open_acc                      42506 non-null float64\n",
      "pub_rec                       42506 non-null float64\n",
      "revol_bal                     42535 non-null float64\n",
      "revol_util                    42445 non-null object\n",
      "total_acc                     42506 non-null float64\n",
      "initial_list_status           42535 non-null object\n",
      "out_prncp                     42535 non-null float64\n",
      "out_prncp_inv                 42535 non-null float64\n",
      "total_pymnt                   42535 non-null float64\n",
      "total_pymnt_inv               42535 non-null float64\n",
      "total_rec_prncp               42535 non-null float64\n",
      "total_rec_int                 42535 non-null float64\n",
      "total_rec_late_fee            42535 non-null float64\n",
      "recoveries                    42535 non-null float64\n",
      "collection_recovery_fee       42535 non-null float64\n",
      "last_pymnt_d                  42452 non-null object\n",
      "last_pymnt_amnt               42535 non-null float64\n",
      "last_credit_pull_d            42531 non-null object\n",
      "collections_12_mths_ex_med    42390 non-null float64\n",
      "policy_code                   42535 non-null float64\n",
      "application_type              42535 non-null object\n",
      "acc_now_delinq                42506 non-null float64\n",
      "chargeoff_within_12_mths      42390 non-null float64\n",
      "delinq_amnt                   42506 non-null float64\n",
      "pub_rec_bankruptcies          41170 non-null float64\n",
      "tax_liens                     42430 non-null float64\n",
      "dtypes: float64(30), object(22)\n",
      "memory usage: 16.9+ MB\n"
     ]
    }
   ],
   "source": [
    "loans.info()"
   ]
  },
  {
   "cell_type": "markdown",
   "metadata": {},
   "source": [
    "# Column selection\n",
    "Not all columns will be useful.\n",
    "- Particular attention must be given to columns leaking future data, i.e. data which would not be available beforehand to the person funding a loan. Since what we want to create is a predicting tool to decide whether a loan is likely to default or not BEFORE funding it, these would overfit our model.\n",
    "- Some columns may be redundant, or may not provide useful data.\n",
    "- Some columns may be problematic and difficult to categorize.\n",
    "\n",
    "A description of all the columns can be found [here](https://docs.google.com/spreadsheets/d/191B2yJ4H1ZPXq0_ByhUgWMFZOYem5jFz0Y3by_7YBY4/edit#gid=2081333097) (note that the list contains columns that were dropped in the pre-cleaning of the data)."
   ]
  },
  {
   "cell_type": "markdown",
   "metadata": {},
   "source": [
    "Based on column descriptions, we can drop:\n",
    "\n",
    "#### Not useful:\n",
    "- \"id\"\n",
    "- \"member_id\"\n",
    "\n",
    "#### Difficult to categorize:\n",
    "- \"emp_title\"\n",
    "\n",
    "#### Redundant:\n",
    "- \"grade\" (due to \"int_rate\")\n",
    "- \"sub_grade\" (due to \"int_rate\")\n",
    "\n",
    "Note that \"int_rate\" is a continuous variable and is therefore the best suited to keep of the three.\n",
    "- \"zip_code\" (due to \"addr_state\")\n",
    "\n",
    "#### Leaks future data:\n",
    "- \"funded_amnt\"\n",
    "- \"funded_amnt_inv\"\n",
    "- \"issue_d\"\n",
    "- \"out_prncp\"\n",
    "- \"out_prncp_inv\"\n",
    "- \"total_pymnt\"\n",
    "- \"total_pymnt_inv\"\n",
    "- \"total_rec_prncp\"\n",
    "- \"total_rec_int\"\n",
    "- \"total_rec_late_fee\"\n",
    "- \"recoveries\"\n",
    "- \"collection_recovery_fee\"\n",
    "- \"last_pymnt_d\"\n",
    "- \"last_pymnt_amnt\""
   ]
  },
  {
   "cell_type": "code",
   "execution_count": 5,
   "metadata": {},
   "outputs": [],
   "source": [
    "drop_me = [\n",
    "    \"id\",\n",
    "    \"member_id\",\n",
    "    \"funded_amnt\",\n",
    "    \"funded_amnt_inv\",\n",
    "    \"grade\",\"sub_grade\",\n",
    "    \"emp_title\",\n",
    "    \"issue_d\",\n",
    "    \"zip_code\",\n",
    "    \"out_prncp\",\n",
    "    \"out_prncp_inv\",\n",
    "    \"total_pymnt\",\n",
    "    \"total_pymnt_inv\",\n",
    "    \"total_rec_prncp\",\n",
    "    \"total_rec_int\",\n",
    "    \"total_rec_late_fee\",\n",
    "    \"recoveries\",\n",
    "    \"collection_recovery_fee\",\n",
    "    \"last_pymnt_amnt\",\n",
    "    \"last_pymnt_d\"\n",
    "]\n",
    "loans = loans.drop(drop_me,axis=1)"
   ]
  },
  {
   "cell_type": "markdown",
   "metadata": {},
   "source": [
    "# Target selection\n",
    "We now need to select a target feature for our model to predict. We want to predict whether a loan will default or not, so \"loan_status\" is the ideal candidate. Let's look at the possible values of this column."
   ]
  },
  {
   "cell_type": "code",
   "execution_count": 6,
   "metadata": {},
   "outputs": [
    {
     "data": {
      "text/plain": [
       "Fully Paid                                             33136\n",
       "Charged Off                                             5634\n",
       "Does not meet the credit policy. Status:Fully Paid      1988\n",
       "Current                                                  961\n",
       "Does not meet the credit policy. Status:Charged Off      761\n",
       "Late (31-120 days)                                        24\n",
       "In Grace Period                                           20\n",
       "Late (16-30 days)                                          8\n",
       "Default                                                    3\n",
       "Name: loan_status, dtype: int64"
      ]
     },
     "execution_count": 6,
     "metadata": {},
     "output_type": "execute_result"
    }
   ],
   "source": [
    "loans[\"loan_status\"].value_counts()"
   ]
  },
  {
   "cell_type": "markdown",
   "metadata": {},
   "source": [
    "Ideally, we want to study the final status of loans in a binary paid/defaulted configuration. Therefore it would be good to drop all other rows. Thankfully, \"Fully Paid\" or \"Charged Off\" (defaulted) make up the large majority of all cases, so we can simply keep these ones and drop the others.\n",
    "\n",
    "\"Does not meet the credit policy\" indicates loans that no longer meet current credit policy and would not be issued today. We want to develop a model to use moving forward on future loans, so conservatively we may drop these rows too for the moment."
   ]
  },
  {
   "cell_type": "code",
   "execution_count": 7,
   "metadata": {},
   "outputs": [],
   "source": [
    "loans = loans[(loans[\"loan_status\"] == \"Fully Paid\") | (loans[\"loan_status\"] == \"Charged Off\")]\n",
    "replace_dict = {\n",
    "    \"Fully Paid\": 1,\n",
    "    \"Charged Off\": 0\n",
    "}\n",
    "loans[\"loan_status\"] = loans[\"loan_status\"].replace(replace_dict)"
   ]
  },
  {
   "cell_type": "code",
   "execution_count": 8,
   "metadata": {},
   "outputs": [
    {
     "name": "stdout",
     "output_type": "stream",
     "text": [
      "1    33136\n",
      "0     5634\n",
      "Name: loan_status, dtype: int64\n"
     ]
    }
   ],
   "source": [
    "# Let's check if all went correctly\n",
    "print(loans[\"loan_status\"].value_counts())"
   ]
  },
  {
   "cell_type": "markdown",
   "metadata": {},
   "source": [
    "Finally let's drop columns with only either NaN or a single unique value, since these won't contribute to the model in any useful way."
   ]
  },
  {
   "cell_type": "code",
   "execution_count": 9,
   "metadata": {},
   "outputs": [
    {
     "name": "stdout",
     "output_type": "stream",
     "text": [
      "['pymnt_plan', 'initial_list_status', 'collections_12_mths_ex_med', 'policy_code', 'application_type', 'acc_now_delinq', 'chargeoff_within_12_mths', 'delinq_amnt', 'tax_liens']\n"
     ]
    }
   ],
   "source": [
    "drop_cols = []\n",
    "for u in loans.columns:\n",
    "    col = loans[u].dropna() # Drop NaN values from the column\n",
    "    if len(col.unique()) == 1: # If only a single unique value is left...\n",
    "        drop_cols.append(u) # ...add the column to the list of columns to be dropped\n",
    "loans = loans.drop(drop_cols,axis=1)\n",
    "print(drop_cols)"
   ]
  },
  {
   "cell_type": "code",
   "execution_count": 10,
   "metadata": {},
   "outputs": [],
   "source": [
    "# We may want to save the clean dataset at this point\n",
    "loans.to_csv(\"filtered_loans_2007.csv\",index=False)"
   ]
  },
  {
   "cell_type": "markdown",
   "metadata": {},
   "source": [
    "# Data preparation\n",
    "In our next step we'll prepare the data for machine learning. Machine learning algorithms such as scikit-learn cannot use missing-values or non-numeric values, therefore:\n",
    "- Missing values must be removed or replaced.\n",
    "- Categoricals must be rendered into numeric columns."
   ]
  },
  {
   "cell_type": "code",
   "execution_count": 11,
   "metadata": {},
   "outputs": [
    {
     "name": "stdout",
     "output_type": "stream",
     "text": [
      "loan_amnt                  0\n",
      "term                       0\n",
      "int_rate                   0\n",
      "installment                0\n",
      "emp_length              1036\n",
      "home_ownership             0\n",
      "annual_inc                 0\n",
      "verification_status        0\n",
      "loan_status                0\n",
      "purpose                    0\n",
      "title                     11\n",
      "addr_state                 0\n",
      "dti                        0\n",
      "delinq_2yrs                0\n",
      "earliest_cr_line           0\n",
      "inq_last_6mths             0\n",
      "open_acc                   0\n",
      "pub_rec                    0\n",
      "revol_bal                  0\n",
      "revol_util                50\n",
      "total_acc                  0\n",
      "last_credit_pull_d         2\n",
      "pub_rec_bankruptcies     697\n",
      "dtype: int64\n"
     ]
    }
   ],
   "source": [
    "# Let's check how many missing values we have left.\n",
    "null_counts = loans.isnull().sum()\n",
    "print(null_counts)"
   ]
  },
  {
   "cell_type": "markdown",
   "metadata": {},
   "source": [
    "Two of the columns contain many missing values, while three others have a few of them missing. Let's look at the two major ones."
   ]
  },
  {
   "cell_type": "code",
   "execution_count": 12,
   "metadata": {},
   "outputs": [
    {
     "data": {
      "text/plain": [
       "10+ years    8547\n",
       "< 1 year     4527\n",
       "2 years      4308\n",
       "3 years      4026\n",
       "4 years      3362\n",
       "5 years      3209\n",
       "1 year       3183\n",
       "6 years      2181\n",
       "7 years      1718\n",
       "8 years      1444\n",
       "9 years      1229\n",
       "NaN          1036\n",
       "Name: emp_length, dtype: int64"
      ]
     },
     "execution_count": 12,
     "metadata": {},
     "output_type": "execute_result"
    }
   ],
   "source": [
    "loans[\"emp_length\"].value_counts(dropna=False)"
   ]
  },
  {
   "cell_type": "markdown",
   "metadata": {},
   "source": [
    "This column could be easily converted to a numerical one. Let's try to keep as much data as possible and substitute NaN with 0. We'll also convert 10+ years to 10 and < 1 year to 0."
   ]
  },
  {
   "cell_type": "code",
   "execution_count": 13,
   "metadata": {},
   "outputs": [
    {
     "data": {
      "text/plain": [
       "10.0    8547\n",
       "0.0     5563\n",
       "2.0     4308\n",
       "3.0     4026\n",
       "4.0     3362\n",
       "5.0     3209\n",
       "1.0     3183\n",
       "6.0     2181\n",
       "7.0     1718\n",
       "8.0     1444\n",
       "9.0     1229\n",
       "Name: emp_length, dtype: int64"
      ]
     },
     "execution_count": 13,
     "metadata": {},
     "output_type": "execute_result"
    }
   ],
   "source": [
    "subs_dict = {\n",
    "    \"10+ years\": 10,\n",
    "    \"9 years\": 9,\n",
    "    \"8 years\": 8,\n",
    "    \"7 years\": 7,\n",
    "    \"6 years\": 6,\n",
    "    \"5 years\": 5,\n",
    "    \"4 years\": 4,\n",
    "    \"3 years\": 3,\n",
    "    \"2 years\": 2,\n",
    "    \"1 year\": 1,\n",
    "    \"< 1 year\": 0\n",
    "}\n",
    "loans[\"emp_length\"] = loans[\"emp_length\"].replace(subs_dict)\n",
    "loans[\"emp_length\"] = loans[\"emp_length\"].fillna(0)\n",
    "loans[\"emp_length\"].value_counts()"
   ]
  },
  {
   "cell_type": "code",
   "execution_count": 14,
   "metadata": {},
   "outputs": [
    {
     "data": {
      "text/plain": [
       " 0.0    36422\n",
       " 1.0     1646\n",
       "NaN       697\n",
       " 2.0        5\n",
       "Name: pub_rec_bankruptcies, dtype: int64"
      ]
     },
     "execution_count": 14,
     "metadata": {},
     "output_type": "execute_result"
    }
   ],
   "source": [
    "loans[\"pub_rec_bankruptcies\"].value_counts(dropna=False)"
   ]
  },
  {
   "cell_type": "markdown",
   "metadata": {},
   "source": [
    "This column records previous publicly recorded bankruptcies, and is thus potentially very impactful for our model. Conservatively, let's get rid of the null rows so we don't risk biasing the model. But first, let's fill in the values for the other three columns with the mode for their respective values."
   ]
  },
  {
   "cell_type": "code",
   "execution_count": 15,
   "metadata": {},
   "outputs": [
    {
     "data": {
      "text/plain": [
       "loan_amnt                 0\n",
       "term                      0\n",
       "int_rate                  0\n",
       "installment               0\n",
       "emp_length                0\n",
       "home_ownership            0\n",
       "annual_inc                0\n",
       "verification_status       0\n",
       "loan_status               0\n",
       "purpose                   0\n",
       "title                     0\n",
       "addr_state                0\n",
       "dti                       0\n",
       "delinq_2yrs               0\n",
       "earliest_cr_line          0\n",
       "inq_last_6mths            0\n",
       "open_acc                  0\n",
       "pub_rec                   0\n",
       "revol_bal                 0\n",
       "revol_util                0\n",
       "total_acc                 0\n",
       "last_credit_pull_d        0\n",
       "pub_rec_bankruptcies    697\n",
       "dtype: int64"
      ]
     },
     "execution_count": 15,
     "metadata": {},
     "output_type": "execute_result"
    }
   ],
   "source": [
    "fill_me = [\"title\",\"revol_util\",\"last_credit_pull_d\"]\n",
    "for f in fill_me:\n",
    "    loans[f] = loans[f].fillna(loans[f].mode()[0])\n",
    "loans.isnull().sum()"
   ]
  },
  {
   "cell_type": "code",
   "execution_count": 16,
   "metadata": {},
   "outputs": [],
   "source": [
    "#loans = loans.drop(\"pub_rec_bankruptcies\",axis=1)\n",
    "loans = loans.dropna()"
   ]
  },
  {
   "cell_type": "code",
   "execution_count": 17,
   "metadata": {},
   "outputs": [
    {
     "data": {
      "text/plain": [
       "loan_amnt               0\n",
       "term                    0\n",
       "int_rate                0\n",
       "installment             0\n",
       "emp_length              0\n",
       "home_ownership          0\n",
       "annual_inc              0\n",
       "verification_status     0\n",
       "loan_status             0\n",
       "purpose                 0\n",
       "title                   0\n",
       "addr_state              0\n",
       "dti                     0\n",
       "delinq_2yrs             0\n",
       "earliest_cr_line        0\n",
       "inq_last_6mths          0\n",
       "open_acc                0\n",
       "pub_rec                 0\n",
       "revol_bal               0\n",
       "revol_util              0\n",
       "total_acc               0\n",
       "last_credit_pull_d      0\n",
       "pub_rec_bankruptcies    0\n",
       "dtype: int64"
      ]
     },
     "execution_count": 17,
     "metadata": {},
     "output_type": "execute_result"
    }
   ],
   "source": [
    "loans.isnull().sum()"
   ]
  },
  {
   "cell_type": "markdown",
   "metadata": {},
   "source": [
    "All right! Missing values have been dealt with. Let's now look at categoricals."
   ]
  },
  {
   "cell_type": "code",
   "execution_count": 18,
   "metadata": {},
   "outputs": [
    {
     "data": {
      "text/plain": [
       "Index(['term', 'int_rate', 'home_ownership', 'verification_status', 'purpose',\n",
       "       'title', 'addr_state', 'earliest_cr_line', 'revol_util',\n",
       "       'last_credit_pull_d'],\n",
       "      dtype='object')"
      ]
     },
     "execution_count": 18,
     "metadata": {},
     "output_type": "execute_result"
    }
   ],
   "source": [
    "object_columns = loans.select_dtypes(include=[\"object\"]).columns\n",
    "object_columns"
   ]
  },
  {
   "cell_type": "code",
   "execution_count": 19,
   "metadata": {},
   "outputs": [
    {
     "name": "stdout",
     "output_type": "stream",
     "text": [
      " 36 months    28399\n",
      " 60 months     9674\n",
      "Name: term, dtype: int64\n",
      " 10.99%    928\n",
      " 11.49%    795\n",
      "  7.51%    787\n",
      " 13.49%    760\n",
      "  7.88%    725\n",
      "  7.49%    652\n",
      "  9.99%    593\n",
      "  7.90%    574\n",
      "  5.42%    573\n",
      " 11.71%    563\n",
      " 11.99%    492\n",
      " 10.37%    469\n",
      " 12.69%    452\n",
      "  6.03%    447\n",
      "  8.49%    440\n",
      " 12.99%    414\n",
      "  5.79%    410\n",
      " 12.42%    407\n",
      " 10.65%    404\n",
      "  7.29%    397\n",
      "  6.62%    396\n",
      "  8.90%    386\n",
      " 11.86%    383\n",
      "  9.63%    378\n",
      "  9.91%    357\n",
      " 10.59%    349\n",
      "  5.99%    347\n",
      " 14.27%    344\n",
      "  7.14%    341\n",
      "  6.99%    336\n",
      "          ... \n",
      " 15.76%      2\n",
      " 17.15%      2\n",
      " 20.20%      2\n",
      " 15.07%      2\n",
      " 15.38%      2\n",
      " 21.82%      2\n",
      "  9.51%      1\n",
      " 21.48%      1\n",
      " 13.93%      1\n",
      " 12.36%      1\n",
      " 13.30%      1\n",
      " 12.49%      1\n",
      " 10.91%      1\n",
      " 22.64%      1\n",
      " 10.28%      1\n",
      " 11.22%      1\n",
      " 10.46%      1\n",
      " 17.54%      1\n",
      " 18.72%      1\n",
      " 17.03%      1\n",
      " 16.01%      1\n",
      " 16.20%      1\n",
      " 17.44%      1\n",
      " 17.46%      1\n",
      " 16.96%      1\n",
      " 20.52%      1\n",
      "  9.83%      1\n",
      " 24.40%      1\n",
      " 24.59%      1\n",
      "  9.01%      1\n",
      "Name: int_rate, Length: 337, dtype: int64\n",
      "RENT        18170\n",
      "MORTGAGE    16875\n",
      "OWN          2930\n",
      "OTHER          98\n",
      "Name: home_ownership, dtype: int64\n",
      "Not Verified       16036\n",
      "Verified           12300\n",
      "Source Verified     9737\n",
      "Name: verification_status, dtype: int64\n",
      "debt_consolidation    17854\n",
      "credit_card            4944\n",
      "other                  3775\n",
      "home_improvement       2854\n",
      "major_purchase         2142\n",
      "small_business         1713\n",
      "car                    1495\n",
      "wedding                 911\n",
      "medical                 673\n",
      "moving                  569\n",
      "vacation                370\n",
      "house                   364\n",
      "educational             307\n",
      "renewable_energy        102\n",
      "Name: purpose, dtype: int64\n",
      "Debt Consolidation                           2095\n",
      "Debt Consolidation Loan                      1629\n",
      "Personal Loan                                 619\n",
      "Consolidation                                 484\n",
      "debt consolidation                            479\n",
      "Credit Card Consolidation                     346\n",
      "Home Improvement                              344\n",
      "Debt consolidation                            318\n",
      "Small Business Loan                           310\n",
      "Credit Card Loan                              304\n",
      "Personal                                      300\n",
      "Consolidation Loan                            248\n",
      "Home Improvement Loan                         233\n",
      "personal loan                                 216\n",
      "Loan                                          206\n",
      "personal                                      206\n",
      "Wedding Loan                                  201\n",
      "Car Loan                                      193\n",
      "consolidation                                 192\n",
      "Other Loan                                    181\n",
      "Credit Card Payoff                            150\n",
      "Wedding                                       146\n",
      "Credit Card Refinance                         143\n",
      "Major Purchase Loan                           139\n",
      "Consolidate                                   125\n",
      "Medical                                       118\n",
      "Credit Card                                   114\n",
      "home improvement                              107\n",
      "My Loan                                        90\n",
      "Credit Cards                                   86\n",
      "                                             ... \n",
      "Credit Consolodation                            1\n",
      "Mary Kay                                        1\n",
      "surprise expenses                               1\n",
      "Pay off personal debt to start own biz!         1\n",
      "Brandons consolidation loan                     1\n",
      "moving to bratt                                 1\n",
      "Single father looking to consolidate debt       1\n",
      "Refinance At Lower Intrest Rate                 1\n",
      "Institut de Francais                            1\n",
      "Pay-off my 401k/Profit sharing Loan             1\n",
      "Just Graduated Ready to Consolidate             1\n",
      "Marriage Prep                                   1\n",
      "TM's Credit Card Consolidation Loan             1\n",
      "Consolidating Credit Card Debit                 1\n",
      "Moving and Car Financing                        1\n",
      "Debt reduction                                  1\n",
      "FREE ME                                         1\n",
      "creditcardconsolidation                         1\n",
      "Wedding Plan                                    1\n",
      "HOME IMPROVEMENT                                1\n",
      "Debt reduct                                     1\n",
      "intravenous sedation equipment                  1\n",
      "instant                                         1\n",
      "Investment into the future                      1\n",
      "Coop fees                                       1\n",
      "Much needed                                     1\n",
      "Pay off teaser rates                            1\n",
      "Help Me Help You                                1\n",
      "Home imporvement Loan                           1\n",
      "motor cycle                                     1\n",
      "Name: title, Length: 18949, dtype: int64\n",
      "CA    6885\n",
      "NY    3628\n",
      "FL    2742\n",
      "TX    2626\n",
      "NJ    1770\n",
      "IL    1472\n",
      "PA    1468\n",
      "VA    1344\n",
      "GA    1339\n",
      "MA    1264\n",
      "OH    1167\n",
      "MD    1003\n",
      "AZ     842\n",
      "WA     800\n",
      "CO     748\n",
      "NC     723\n",
      "CT     720\n",
      "MI     703\n",
      "MO     664\n",
      "MN     599\n",
      "NV     479\n",
      "SC     454\n",
      "AL     431\n",
      "OR     431\n",
      "WI     425\n",
      "LA     421\n",
      "KY     313\n",
      "OK     290\n",
      "KS     259\n",
      "UT     248\n",
      "AR     235\n",
      "DC     208\n",
      "RI     194\n",
      "NM     178\n",
      "WV     172\n",
      "HI     166\n",
      "NH     163\n",
      "DE     112\n",
      "MT      83\n",
      "WY      79\n",
      "AK      77\n",
      "SD      61\n",
      "VT      51\n",
      "MS      19\n",
      "TN      10\n",
      "ID       4\n",
      "IN       1\n",
      "IA       1\n",
      "NE       1\n",
      "Name: addr_state, dtype: int64\n",
      "Oct-1999    357\n",
      "Nov-1998    353\n",
      "Oct-2000    336\n",
      "Dec-1998    334\n",
      "Dec-1997    314\n",
      "Nov-1999    314\n",
      "Nov-2000    309\n",
      "Nov-1997    291\n",
      "Oct-1998    291\n",
      "Sep-2000    290\n",
      "Dec-1999    282\n",
      "Dec-1995    277\n",
      "Jan-2000    275\n",
      "Dec-2000    271\n",
      "Sep-2001    260\n",
      "Jul-2000    260\n",
      "Aug-2000    259\n",
      "Nov-1996    257\n",
      "Oct-2001    256\n",
      "Dec-1996    255\n",
      "Oct-2002    253\n",
      "Sep-1999    253\n",
      "Aug-1998    249\n",
      "May-2000    247\n",
      "Apr-2000    244\n",
      "Aug-1999    240\n",
      "Oct-1997    239\n",
      "Oct-2003    237\n",
      "Jan-1999    235\n",
      "Sep-1998    234\n",
      "           ... \n",
      "Jun-1966      1\n",
      "Oct-1974      1\n",
      "Nov-1968      1\n",
      "Sep-1963      1\n",
      "Apr-1969      1\n",
      "May-1963      1\n",
      "Sep-1956      1\n",
      "Aug-1967      1\n",
      "Dec-1963      1\n",
      "Nov-1954      1\n",
      "Oct-2008      1\n",
      "Dec-1966      1\n",
      "Jun-1968      1\n",
      "Feb-1966      1\n",
      "Oct-1954      1\n",
      "Dec-1961      1\n",
      "Nov-2008      1\n",
      "Oct-1968      1\n",
      "Nov-1965      1\n",
      "Jun-1959      1\n",
      "Aug-1971      1\n",
      "Mar-1968      1\n",
      "Apr-1966      1\n",
      "Jan-1946      1\n",
      "Dec-1965      1\n",
      "Jun-1972      1\n",
      "Mar-1963      1\n",
      "Nov-1961      1\n",
      "Sep-1965      1\n",
      "Feb-1967      1\n",
      "Name: earliest_cr_line, Length: 524, dtype: int64\n",
      "0%        975\n",
      "0.2%       61\n",
      "63%        57\n",
      "40.7%      57\n",
      "46.4%      57\n",
      "31.2%      57\n",
      "61%        56\n",
      "70.4%      56\n",
      "0.1%       56\n",
      "66.7%      55\n",
      "57.4%      55\n",
      "66.6%      55\n",
      "64.8%      54\n",
      "37.6%      54\n",
      "46.6%      54\n",
      "64.6%      54\n",
      "32%        54\n",
      "70.8%      53\n",
      "68.7%      53\n",
      "75.5%      53\n",
      "49.8%      53\n",
      "65.9%      52\n",
      "72.1%      52\n",
      "27.2%      52\n",
      "45.6%      52\n",
      "48.9%      52\n",
      "41%        52\n",
      "48.2%      52\n",
      "36.5%      52\n",
      "58.7%      51\n",
      "         ... \n",
      "7.43%       1\n",
      "17.78%      1\n",
      "38.77%      1\n",
      "28.41%      1\n",
      "57.56%      1\n",
      "33.29%      1\n",
      "24.89%      1\n",
      "29.77%      1\n",
      "32.04%      1\n",
      "33.39%      1\n",
      "17.67%      1\n",
      "0.54%       1\n",
      "8.49%       1\n",
      "70.26%      1\n",
      "23.11%      1\n",
      "0.12%       1\n",
      "70.94%      1\n",
      "11.63%      1\n",
      "26.32%      1\n",
      "7.28%       1\n",
      "8.01%       1\n",
      "29.53%      1\n",
      "69.98%      1\n",
      "46.74%      1\n",
      "43.61%      1\n",
      "9.34%       1\n",
      "21.72%      1\n",
      "1.88%       1\n",
      "49.69%      1\n",
      "5.79%       1\n",
      "Name: revol_util, Length: 1088, dtype: int64\n",
      "Jun-2016    10620\n",
      "Mar-2016     1053\n",
      "Apr-2016      857\n",
      "Feb-2013      833\n",
      "May-2016      723\n",
      "Feb-2016      697\n",
      "Jan-2016      632\n",
      "Dec-2015      625\n",
      "Mar-2013      571\n",
      "Mar-2014      554\n",
      "Dec-2014      554\n",
      "Jul-2014      543\n",
      "Sep-2014      539\n",
      "Jul-2015      521\n",
      "Feb-2014      516\n",
      "Oct-2014      513\n",
      "Aug-2014      512\n",
      "Jan-2014      511\n",
      "Sep-2015      500\n",
      "Nov-2015      491\n",
      "Nov-2014      490\n",
      "Apr-2014      481\n",
      "Oct-2015      474\n",
      "May-2014      465\n",
      "Nov-2013      464\n",
      "Jun-2014      455\n",
      "May-2013      447\n",
      "Jan-2015      425\n",
      "Apr-2013      421\n",
      "Dec-2013      413\n",
      "            ...  \n",
      "Nov-2010       78\n",
      "Oct-2010       73\n",
      "Feb-2010       57\n",
      "Apr-2010       50\n",
      "Mar-2010       41\n",
      "Aug-2010       40\n",
      "May-2010       38\n",
      "Jun-2010       35\n",
      "Jan-2013       33\n",
      "Dec-2009       32\n",
      "Oct-2009       25\n",
      "Jan-2010       22\n",
      "Nov-2009       20\n",
      "Aug-2009       14\n",
      "Apr-2009       11\n",
      "Jul-2009       10\n",
      "Sep-2009       10\n",
      "Feb-2009        9\n",
      "Aug-2007        9\n",
      "Mar-2009        7\n",
      "May-2009        7\n",
      "Jun-2009        6\n",
      "Jan-2009        6\n",
      "Mar-2008        4\n",
      "Oct-2008        4\n",
      "Sep-2008        3\n",
      "Aug-2008        3\n",
      "Dec-2008        3\n",
      "Jun-2008        1\n",
      "May-2008        1\n",
      "Name: last_credit_pull_d, Length: 98, dtype: int64\n"
     ]
    }
   ],
   "source": [
    "# Let's quickly look at the unique values for these variables. The output won't be pretty, but it'll serve the purpose\n",
    "for c in object_columns:\n",
    "    print(loans[c].value_counts())"
   ]
  },
  {
   "cell_type": "markdown",
   "metadata": {},
   "source": [
    "A few things to note:\n",
    "- \"int_rate\" and \"revol_util\" are really numerical columns, we only need to get rid of the percent character and change the type to float.\n",
    "- \"addr_state\" contains very many categories which will bog down the model once the dummy columns are extracted. We should get rid of this one.\n",
    "- \"purpose\" and \"title\" are in fact redundant. Of the two, \"purpose\" is much more ordered while \"title\" contains many... unorthodox entries, a large number of which have just 1 count too. Let's drop \"title\".\n",
    "- \"earliest_cr_line\" and \"last_credit_pull_d\" are date columns which would take a great deal of effort to be made usable. Let's drop these ones too.\n",
    "\n",
    "Once all of this is done, we can finally add the dummy columns to the dataset."
   ]
  },
  {
   "cell_type": "code",
   "execution_count": 20,
   "metadata": {},
   "outputs": [],
   "source": [
    "drop_me = [\"addr_state\", \"title\", \"earliest_cr_line\",\"last_credit_pull_d\"]\n",
    "loans = loans.drop(drop_me,axis=1)\n",
    "loans[\"int_rate\"] = loans[\"int_rate\"].str.rstrip(\"%\").astype(\"float\")\n",
    "loans[\"revol_util\"] = loans[\"revol_util\"].str.rstrip(\"%\").astype(\"float\")"
   ]
  },
  {
   "cell_type": "code",
   "execution_count": 21,
   "metadata": {},
   "outputs": [],
   "source": [
    "dums = [\"home_ownership\",\"verification_status\",\"purpose\",\"term\"]\n",
    "for d in dums:\n",
    "    loans = pd.concat([loans,pd.get_dummies(loans[d],prefix=d)],axis=1)\n",
    "    loans = loans.drop(d,axis=1)"
   ]
  },
  {
   "cell_type": "code",
   "execution_count": 22,
   "metadata": {},
   "outputs": [],
   "source": [
    "# We may want to save the final dataset at this point\n",
    "loans.to_csv(\"loans_final.csv\",index=False)"
   ]
  },
  {
   "cell_type": "markdown",
   "metadata": {},
   "source": [
    "# Target prediction\n",
    "In the final step we'll try to develop the best possible method for predicting the target variable (\"loan_status\"). Two things must be kept in mind:\n",
    "- The dataset contains much more paid loans than it contains defaulted ones. This will severely hamper the accuracy of the method as even predicting every single loan as paid will result in a decent performance since the model will be wrong in just about 1/6 of the cases (14.5%). We should therefore use class weights in our classifier.\n",
    "- We must choose the best estimators for our model performance. Since arguably what we want to do with this model is maximize profit (i.e. true positives, loans we fund and are paid off) and minimize losses (i.e. false positives, loans we fund and end up defaulting), the true positive rate TPR and false positive rate FPR are the estimators we need. The relative importance of the two depends on the investor - a conservative investor will want to minimize losses even at the cost of cutting on earnings. In general, reducing false positives will reduce true positives too.\n",
    "\n",
    "For reference:\n",
    "- TPR = true positives / (true positives + false negatives) i.e. true positives / all positives\n",
    "- FPR = false positives / (false positives + true negatives) i.e. false positives / all negatives\n",
    "\n",
    "### NOTE\n",
    "Given all of the above, *FPR = 0.145 is the threshold under which we want to get our model so that it performs better than random picking*."
   ]
  },
  {
   "cell_type": "code",
   "execution_count": 23,
   "metadata": {},
   "outputs": [],
   "source": [
    "# For some odd reason, we need to reload the data we just saved or the following will not work correctly\n",
    "loans = pd.read_csv(\"loans_final.csv\",low_memory=False)"
   ]
  },
  {
   "cell_type": "markdown",
   "metadata": {},
   "source": [
    "# Logistic regression"
   ]
  },
  {
   "cell_type": "code",
   "execution_count": 24,
   "metadata": {},
   "outputs": [
    {
     "name": "stdout",
     "output_type": "stream",
     "text": [
      "FPR:  0.3756345177664975 \n",
      "TPR:  0.6654175753294223\n"
     ]
    }
   ],
   "source": [
    "from sklearn.linear_model import LogisticRegression\n",
    "from sklearn.model_selection import cross_val_predict\n",
    "\n",
    "features = loans.drop(\"loan_status\",axis=1)\n",
    "target = loans[\"loan_status\"]\n",
    "\n",
    "lr = LogisticRegression(class_weight=\"balanced\")\n",
    "\n",
    "predictions = cross_val_predict(lr,features,target,cv=3)\n",
    "predictions = pd.Series(predictions)\n",
    "\n",
    "tn = len(predictions[(predictions == 0) & (loans[\"loan_status\"] == 0)])\n",
    "tp = len(predictions[(predictions == 1) & (loans[\"loan_status\"] == 1)])\n",
    "fn = len(predictions[(predictions == 0) & (loans[\"loan_status\"] == 1)])\n",
    "fp = len(predictions[(predictions == 1) & (loans[\"loan_status\"] == 0)])\n",
    "\n",
    "fpr = fp/(fp+tn)\n",
    "tpr = tp/(tp+fn)\n",
    "print(\"FPR: \",fpr,\"\\nTPR: \",tpr)"
   ]
  },
  {
   "cell_type": "code",
   "execution_count": 25,
   "metadata": {},
   "outputs": [
    {
     "name": "stdout",
     "output_type": "stream",
     "text": [
      "FPR:  0.09300217548948514 \n",
      "TPR:  0.25155880455815954\n"
     ]
    }
   ],
   "source": [
    "from sklearn.linear_model import LogisticRegression\n",
    "from sklearn.model_selection import cross_val_predict\n",
    "\n",
    "features = loans.drop(\"loan_status\",axis=1)\n",
    "target = loans[\"loan_status\"]\n",
    "\n",
    "weight = {\n",
    "    0: 10,\n",
    "    1: 1    \n",
    "}\n",
    "lr = LogisticRegression(class_weight=weight)\n",
    "\n",
    "predictions = cross_val_predict(lr,features,target,cv=3)\n",
    "predictions = pd.Series(predictions)\n",
    "preds1 = predictions.copy()\n",
    "\n",
    "tn = len(predictions[(predictions == 0) & (loans[\"loan_status\"] == 0)])\n",
    "tp = len(predictions[(predictions == 1) & (loans[\"loan_status\"] == 1)])\n",
    "fn = len(predictions[(predictions == 0) & (loans[\"loan_status\"] == 1)])\n",
    "fp = len(predictions[(predictions == 1) & (loans[\"loan_status\"] == 0)])\n",
    "\n",
    "fpr = fp/(fp+tn)\n",
    "tpr = tp/(tp+fn)\n",
    "print(\"FPR: \",fpr,\"\\nTPR: \",tpr)"
   ]
  },
  {
   "cell_type": "markdown",
   "metadata": {},
   "source": [
    "# Random forest"
   ]
  },
  {
   "cell_type": "code",
   "execution_count": 29,
   "metadata": {},
   "outputs": [
    {
     "name": "stdout",
     "output_type": "stream",
     "text": [
      "FPR:  0.5792240754169689 \n",
      "TPR:  0.7947906748164757\n"
     ]
    }
   ],
   "source": [
    "from sklearn.ensemble import RandomForestClassifier\n",
    "\n",
    "features = loans.drop(\"loan_status\",axis=1)\n",
    "target = loans[\"loan_status\"]\n",
    "\n",
    "rf = RandomForestClassifier(class_weight=\"balanced\",n_estimators=10,min_samples_leaf=5,max_depth=12,random_state=0)\n",
    "\n",
    "predictions = cross_val_predict(rf,features,target,cv=3)\n",
    "predictions = pd.Series(predictions)\n",
    "\n",
    "tn = len(predictions[(predictions == 0) & (loans[\"loan_status\"] == 0)])\n",
    "tp = len(predictions[(predictions == 1) & (loans[\"loan_status\"] == 1)])\n",
    "fn = len(predictions[(predictions == 0) & (loans[\"loan_status\"] == 1)])\n",
    "fp = len(predictions[(predictions == 1) & (loans[\"loan_status\"] == 0)])\n",
    "\n",
    "fpr = fp/(fp+tn)\n",
    "tpr = tp/(tp+fn)\n",
    "print(\"FPR: \",fpr,\"\\nTPR: \",tpr)"
   ]
  },
  {
   "cell_type": "code",
   "execution_count": 30,
   "metadata": {},
   "outputs": [
    {
     "name": "stdout",
     "output_type": "stream",
     "text": [
      "FPR:  0.3694706308919507 \n",
      "TPR:  0.6081948582486101\n"
     ]
    }
   ],
   "source": [
    "from sklearn.ensemble import RandomForestClassifier\n",
    "\n",
    "features = loans.drop(\"loan_status\",axis=1)\n",
    "target = loans[\"loan_status\"]\n",
    "\n",
    "weight = {\n",
    "    0: 10,\n",
    "    1: 1    \n",
    "}\n",
    "rf = RandomForestClassifier(class_weight=weight,n_estimators=10,min_samples_leaf=5,max_depth=12,random_state=0)\n",
    "\n",
    "predictions = cross_val_predict(rf,features,target,cv=3)\n",
    "predictions = pd.Series(predictions)\n",
    "\n",
    "tn = len(predictions[(predictions == 0) & (loans[\"loan_status\"] == 0)])\n",
    "tp = len(predictions[(predictions == 1) & (loans[\"loan_status\"] == 1)])\n",
    "fn = len(predictions[(predictions == 0) & (loans[\"loan_status\"] == 1)])\n",
    "fp = len(predictions[(predictions == 1) & (loans[\"loan_status\"] == 0)])\n",
    "\n",
    "fpr = fp/(fp+tn)\n",
    "tpr = tp/(tp+fn)\n",
    "print(\"FPR: \",fpr,\"\\nTPR: \",tpr)"
   ]
  },
  {
   "cell_type": "code",
   "execution_count": 31,
   "metadata": {},
   "outputs": [
    {
     "name": "stdout",
     "output_type": "stream",
     "text": [
      "FPR:  0.09372733865119652 \n",
      "TPR:  0.23279171913874128\n"
     ]
    }
   ],
   "source": [
    "from sklearn.ensemble import RandomForestClassifier\n",
    "\n",
    "features = loans.drop(\"loan_status\",axis=1)\n",
    "target = loans[\"loan_status\"]\n",
    "\n",
    "weight = {\n",
    "    0: 50,\n",
    "    1: 1    \n",
    "}\n",
    "rf = RandomForestClassifier(class_weight=weight,n_estimators=10,min_samples_leaf=5,max_depth=12,random_state=0)\n",
    "\n",
    "predictions = cross_val_predict(rf,features,target,cv=3)\n",
    "predictions = pd.Series(predictions)\n",
    "preds2 = predictions.copy()\n",
    "\n",
    "tn = len(predictions[(predictions == 0) & (loans[\"loan_status\"] == 0)])\n",
    "tp = len(predictions[(predictions == 1) & (loans[\"loan_status\"] == 1)])\n",
    "fn = len(predictions[(predictions == 0) & (loans[\"loan_status\"] == 1)])\n",
    "fp = len(predictions[(predictions == 1) & (loans[\"loan_status\"] == 0)])\n",
    "\n",
    "fpr = fp/(fp+tn)\n",
    "tpr = tp/(tp+fn)\n",
    "print(\"FPR: \",fpr,\"\\nTPR: \",tpr)"
   ]
  },
  {
   "cell_type": "code",
   "execution_count": null,
   "metadata": {},
   "outputs": [],
   "source": []
  }
 ],
 "metadata": {
  "kernelspec": {
   "display_name": "Python 3",
   "language": "python",
   "name": "python3"
  },
  "language_info": {
   "codemirror_mode": {
    "name": "ipython",
    "version": 3
   },
   "file_extension": ".py",
   "mimetype": "text/x-python",
   "name": "python",
   "nbconvert_exporter": "python",
   "pygments_lexer": "ipython3",
   "version": "3.6.5"
  }
 },
 "nbformat": 4,
 "nbformat_minor": 2
}
