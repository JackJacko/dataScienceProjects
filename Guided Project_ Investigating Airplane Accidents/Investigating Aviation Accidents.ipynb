{
 "cells": [
  {
   "cell_type": "markdown",
   "metadata": {},
   "source": [
    "# Investigating Aviation Accidents\n",
    "Our goal in this mission will be to explore the time dimension of various approaches to data analysis. We'll be working with a dataset of aviation accident records for the US."
   ]
  },
  {
   "cell_type": "markdown",
   "metadata": {},
   "source": [
    "Let's read in the data, then search for a specific target code, let's say \"LAX94LA336\"."
   ]
  },
  {
   "cell_type": "code",
   "execution_count": 17,
   "metadata": {},
   "outputs": [],
   "source": [
    "f = open(\"AviationData.txt\", \"r\")\n",
    "data = f.read()\n",
    "# Split the data on the newline character\n",
    "aviation_data = data.split(\"\\n\")\n",
    "aviation_list = []\n",
    "for d in aviation_data:\n",
    "    temp = d.split(\"|\") # Further split each line into separate elements on the bar character\n",
    "    temp = [x.strip() for x in temp] # Strip away whitespace at beginning and end for each element\n",
    "    aviation_list.append(temp)\n",
    "target = \"LAX94LA336\" # Search target"
   ]
  },
  {
   "cell_type": "markdown",
   "metadata": {},
   "source": [
    "## First approach - nested loops"
   ]
  },
  {
   "cell_type": "code",
   "execution_count": 18,
   "metadata": {},
   "outputs": [
    {
     "name": "stdout",
     "output_type": "stream",
     "text": [
      "[['20001218X45447', 'Accident', 'LAX94LA336', '07/19/1962', 'BRIDGEPORT, CA', 'United States', '', '', '', '', 'Fatal(4)', 'Destroyed', '', 'N5069P', 'PIPER', 'PA24-180', 'No', '1', 'Reciprocating', '', '', 'Personal', '', '4', '0', '0', '0', 'UNK', 'UNKNOWN', 'Probable Cause', '09/19/1996', '']]\n"
     ]
    }
   ],
   "source": [
    "lax_code = []\n",
    "for r in aviation_list:\n",
    "    for c in r:\n",
    "        if target in c:\n",
    "            lax_code.append(r)\n",
    "print(lax_code)"
   ]
  },
  {
   "cell_type": "markdown",
   "metadata": {},
   "source": [
    "This approach was exponential, since it has to search through all the rows and through all the columns of each row on top of it. Can we make the code faster?"
   ]
  },
  {
   "cell_type": "markdown",
   "metadata": {},
   "source": [
    "## Second approach - single loop"
   ]
  },
  {
   "cell_type": "code",
   "execution_count": 19,
   "metadata": {},
   "outputs": [
    {
     "name": "stdout",
     "output_type": "stream",
     "text": [
      "[['20001218X45447 ', ' Accident ', ' LAX94LA336 ', ' 07/19/1962 ', ' BRIDGEPORT, CA ', ' United States ', '  ', '  ', '  ', '  ', ' Fatal(4) ', ' Destroyed ', '  ', ' N5069P ', ' PIPER ', ' PA24-180 ', ' No ', ' 1 ', ' Reciprocating ', '  ', '  ', ' Personal ', '  ', ' 4 ', ' 0 ', ' 0 ', ' 0 ', ' UNK ', ' UNKNOWN ', ' Probable Cause ', ' 09/19/1996 ', ' ']]\n"
     ]
    }
   ],
   "source": [
    "lax_code = []\n",
    "for r in aviation_data:\n",
    "    if target in r:\n",
    "            lax_code.append(r.split(\"|\"))\n",
    "print(lax_code)"
   ]
  },
  {
   "cell_type": "markdown",
   "metadata": {},
   "source": [
    "This approach is linear, since it only searches through rows before splitting just the correct one. It is faster and the code is shorter, so it is generally a better approach. The row splitting becomes redundant however, since we already did that when assigning to aviation_list."
   ]
  },
  {
   "cell_type": "markdown",
   "metadata": {},
   "source": [
    "## Third approach - binary search"
   ]
  },
  {
   "cell_type": "code",
   "execution_count": 20,
   "metadata": {},
   "outputs": [
    {
     "ename": "IndexError",
     "evalue": "list index out of range",
     "output_type": "error",
     "traceback": [
      "\u001b[1;31m---------------------------------------------------------------------------\u001b[0m",
      "\u001b[1;31mIndexError\u001b[0m                                Traceback (most recent call last)",
      "\u001b[1;32m<ipython-input-20-2e4873b3c005>\u001b[0m in \u001b[0;36m<module>\u001b[1;34m()\u001b[0m\n\u001b[0;32m      1\u001b[0m \u001b[1;32mfrom\u001b[0m \u001b[0mmath\u001b[0m \u001b[1;32mimport\u001b[0m \u001b[0mfloor\u001b[0m\u001b[1;33m\u001b[0m\u001b[0m\n\u001b[1;32m----> 2\u001b[1;33m \u001b[0msorted_aviation_list\u001b[0m \u001b[1;33m=\u001b[0m \u001b[0msorted\u001b[0m\u001b[1;33m(\u001b[0m\u001b[0maviation_list\u001b[0m\u001b[1;33m,\u001b[0m \u001b[0mkey\u001b[0m \u001b[1;33m=\u001b[0m \u001b[1;32mlambda\u001b[0m \u001b[0mx\u001b[0m\u001b[1;33m:\u001b[0m \u001b[0mx\u001b[0m\u001b[1;33m[\u001b[0m\u001b[1;36m2\u001b[0m\u001b[1;33m]\u001b[0m\u001b[1;33m)\u001b[0m\u001b[1;33m\u001b[0m\u001b[0m\n\u001b[0m\u001b[0;32m      3\u001b[0m \u001b[0mlength\u001b[0m \u001b[1;33m=\u001b[0m \u001b[0mlen\u001b[0m\u001b[1;33m(\u001b[0m\u001b[0msorted_aviation_list\u001b[0m\u001b[1;33m)\u001b[0m\u001b[1;33m\u001b[0m\u001b[0m\n\u001b[0;32m      4\u001b[0m \u001b[0mupper\u001b[0m \u001b[1;33m=\u001b[0m \u001b[0mlength\u001b[0m \u001b[1;33m-\u001b[0m \u001b[1;36m1\u001b[0m\u001b[1;33m\u001b[0m\u001b[0m\n\u001b[0;32m      5\u001b[0m \u001b[0mlower\u001b[0m \u001b[1;33m=\u001b[0m \u001b[1;36m0\u001b[0m\u001b[1;33m\u001b[0m\u001b[0m\n",
      "\u001b[1;32m<ipython-input-20-2e4873b3c005>\u001b[0m in \u001b[0;36m<lambda>\u001b[1;34m(x)\u001b[0m\n\u001b[0;32m      1\u001b[0m \u001b[1;32mfrom\u001b[0m \u001b[0mmath\u001b[0m \u001b[1;32mimport\u001b[0m \u001b[0mfloor\u001b[0m\u001b[1;33m\u001b[0m\u001b[0m\n\u001b[1;32m----> 2\u001b[1;33m \u001b[0msorted_aviation_list\u001b[0m \u001b[1;33m=\u001b[0m \u001b[0msorted\u001b[0m\u001b[1;33m(\u001b[0m\u001b[0maviation_list\u001b[0m\u001b[1;33m,\u001b[0m \u001b[0mkey\u001b[0m \u001b[1;33m=\u001b[0m \u001b[1;32mlambda\u001b[0m \u001b[0mx\u001b[0m\u001b[1;33m:\u001b[0m \u001b[0mx\u001b[0m\u001b[1;33m[\u001b[0m\u001b[1;36m2\u001b[0m\u001b[1;33m]\u001b[0m\u001b[1;33m)\u001b[0m\u001b[1;33m\u001b[0m\u001b[0m\n\u001b[0m\u001b[0;32m      3\u001b[0m \u001b[0mlength\u001b[0m \u001b[1;33m=\u001b[0m \u001b[0mlen\u001b[0m\u001b[1;33m(\u001b[0m\u001b[0msorted_aviation_list\u001b[0m\u001b[1;33m)\u001b[0m\u001b[1;33m\u001b[0m\u001b[0m\n\u001b[0;32m      4\u001b[0m \u001b[0mupper\u001b[0m \u001b[1;33m=\u001b[0m \u001b[0mlength\u001b[0m \u001b[1;33m-\u001b[0m \u001b[1;36m1\u001b[0m\u001b[1;33m\u001b[0m\u001b[0m\n\u001b[0;32m      5\u001b[0m \u001b[0mlower\u001b[0m \u001b[1;33m=\u001b[0m \u001b[1;36m0\u001b[0m\u001b[1;33m\u001b[0m\u001b[0m\n",
      "\u001b[1;31mIndexError\u001b[0m: list index out of range"
     ]
    }
   ],
   "source": [
    "from math import floor\n",
    "sorted_aviation_list = sorted(aviation_list, key = lambda x: x[2])\n",
    "length = len(sorted_aviation_list)\n",
    "upper = length - 1\n",
    "lower = 0\n",
    "index = floor((upper + lower) / 2)\n",
    "code = sorted_aviation_list[index][2]\n",
    "lax_code = []\n",
    "while upper >= lower and target not in code:\n",
    "    if target < code:\n",
    "        upper = index - 1\n",
    "    else:\n",
    "        lower = index + 1\n",
    "    index = int((upper + lower) / 2)\n",
    "    code = sorted_aviation_list[index][2]\n",
    "if target == code:\n",
    "    lax_code.append(sorted_aviation_list[index])\n",
    "    print(lax_code)\n",
    "else:\n",
    "    print(\"Code not found.\")"
   ]
  },
  {
   "cell_type": "markdown",
   "metadata": {},
   "source": [
    "We're returned an error, let's try to debug the problem."
   ]
  },
  {
   "cell_type": "code",
   "execution_count": 21,
   "metadata": {},
   "outputs": [
    {
     "name": "stdout",
     "output_type": "stream",
     "text": [
      "[['Event Id', 'Investigation Type', 'Accident Number', 'Event Date', 'Location', 'Country', 'Latitude', 'Longitude', 'Airport Code', 'Airport Name', 'Injury Severity', 'Aircraft Damage', 'Aircraft Category', 'Registration Number', 'Make', 'Model', 'Amateur Built', 'Number of Engines', 'Engine Type', 'FAR Description', 'Schedule', 'Purpose of Flight', 'Air Carrier', 'Total Fatal Injuries', 'Total Serious Injuries', 'Total Minor Injuries', 'Total Uninjured', 'Weather Condition', 'Broad Phase of Flight', 'Report Status', 'Publication Date', ''], ['20150908X74637', 'Accident', 'CEN15LA402', '09/08/2015', 'Freeport, IL', 'United States', '42.246111', '-89.581945', 'KFEP', 'albertus Airport', 'Non-Fatal', 'Substantial', 'Unknown', 'N24TL', 'CLARKE REGINALD W', 'DRAGONFLY MK', '', '', '', 'Part 91: General Aviation', '', 'Personal', '', '', '1', '', '', 'VMC', 'TAKEOFF', 'Preliminary', '09/09/2015', ''], ['20150906X32704', 'Accident', 'ERA15LA339', '09/05/2015', 'Laconia, NH', 'United States', '43.606389', '-71.452778', 'LCI', 'Laconia Municipal Airport', 'Fatal(1)', 'Substantial', 'Weight-Shift', 'N2264X', 'EVOLUTION AIRCRAFT INC', 'REVO', 'No', '1', 'Reciprocating', 'Part 91: General Aviation', '', 'Personal', '', '1', '', '', '', 'VMC', 'MANEUVERING', 'Preliminary', '09/10/2015', '']]\n"
     ]
    }
   ],
   "source": [
    "print(aviation_list[:3])"
   ]
  },
  {
   "cell_type": "markdown",
   "metadata": {},
   "source": [
    "The list aviation_list is indeed a list of lists, so the reason why the script isn't running isn't clear - let's check the last few lists in the list."
   ]
  },
  {
   "cell_type": "code",
   "execution_count": 22,
   "metadata": {},
   "outputs": [
    {
     "name": "stdout",
     "output_type": "stream",
     "text": [
      "[['20010711X01367', 'Incident', 'DCA00WA063', '', 'Cuzco, Peru', 'Peru', '', '', '', '', 'Incident', '', '', '', 'Boeing', 'B-737', 'No', '', '', '', 'SCHD', '', '', '', '', '', '', '', '', 'Foreign', '07/12/2001', ''], ['20150729X33718', 'Accident', 'CEN15FA325', '', 'Truth or Consequences, NM', 'United States', '33.250556', '-107.293611', 'TCS', 'TRUTH OR CONSEQUENCES MUNI', 'Fatal(2)', 'Substantial', 'Airplane', 'N32401', 'PIPER', 'PA-28-151', 'No', '1', 'Reciprocating', 'Part 91: General Aviation', '', 'Personal', '', '2', '', '', '', '', 'UNKNOWN', 'Preliminary', '08/10/2015', ''], ['']]\n"
     ]
    }
   ],
   "source": [
    "print(aviation_list[-3:])"
   ]
  },
  {
   "cell_type": "markdown",
   "metadata": {},
   "source": [
    "The very last list in the list of lists is anomalous and is causing the script to return an error. Let's drop this last list."
   ]
  },
  {
   "cell_type": "code",
   "execution_count": 23,
   "metadata": {},
   "outputs": [
    {
     "name": "stdout",
     "output_type": "stream",
     "text": [
      "[['20130128X92153', 'Accident', 'WPR12TA445', '', 'Unknown, UN', 'United States', '', '', '', '', 'Non-Fatal', 'Substantial', 'Airplane', 'N14CP', 'BEECH', 'C90', 'No', '2', 'Turbo Prop', 'Public Use', '', 'Public Aircraft - Federal', '', '', '', '', '1', '', '', 'Preliminary', '02/08/2013', ''], ['20010711X01367', 'Incident', 'DCA00WA063', '', 'Cuzco, Peru', 'Peru', '', '', '', '', 'Incident', '', '', '', 'Boeing', 'B-737', 'No', '', '', '', 'SCHD', '', '', '', '', '', '', '', '', 'Foreign', '07/12/2001', ''], ['20150729X33718', 'Accident', 'CEN15FA325', '', 'Truth or Consequences, NM', 'United States', '33.250556', '-107.293611', 'TCS', 'TRUTH OR CONSEQUENCES MUNI', 'Fatal(2)', 'Substantial', 'Airplane', 'N32401', 'PIPER', 'PA-28-151', 'No', '1', 'Reciprocating', 'Part 91: General Aviation', '', 'Personal', '', '2', '', '', '', '', 'UNKNOWN', 'Preliminary', '08/10/2015', '']]\n"
     ]
    }
   ],
   "source": [
    "aviation_list = aviation_list[:-1]\n",
    "print(aviation_list[-3:]) # Check"
   ]
  },
  {
   "cell_type": "code",
   "execution_count": 24,
   "metadata": {},
   "outputs": [
    {
     "name": "stdout",
     "output_type": "stream",
     "text": [
      "[['20001218X45447', 'Accident', 'LAX94LA336', '07/19/1962', 'BRIDGEPORT, CA', 'United States', '', '', '', '', 'Fatal(4)', 'Destroyed', '', 'N5069P', 'PIPER', 'PA24-180', 'No', '1', 'Reciprocating', '', '', 'Personal', '', '4', '0', '0', '0', 'UNK', 'UNKNOWN', 'Probable Cause', '09/19/1996', '']]\n"
     ]
    }
   ],
   "source": [
    "sorted_aviation_list = sorted(aviation_list, key = lambda x: x[2])\n",
    "length = len(sorted_aviation_list)\n",
    "upper = length - 1\n",
    "lower = 0\n",
    "index = floor((upper + lower) / 2)\n",
    "code = sorted_aviation_list[index][2]\n",
    "lax_code = []\n",
    "while target not in code and upper >= lower:\n",
    "    if target < code:\n",
    "        upper = index - 1\n",
    "    else:\n",
    "        lower = index + 1\n",
    "    index = floor((upper + lower) / 2)\n",
    "    code = sorted_aviation_list[index][2]\n",
    "if target in code:\n",
    "    lax_code.append(sorted_aviation_list[index])\n",
    "    print(lax_code)\n",
    "else:\n",
    "    print(\"Code not found.\")"
   ]
  },
  {
   "cell_type": "markdown",
   "metadata": {},
   "source": [
    "This approach is logarithmic and is thus the fastest of the three. However, this comes at the cost of added complexity of the script."
   ]
  },
  {
   "cell_type": "markdown",
   "metadata": {},
   "source": [
    "## Alternative approach - dictionaries and a single loop"
   ]
  },
  {
   "cell_type": "markdown",
   "metadata": {},
   "source": [
    "A further method is to use dictionaries. Dictionaries are useful for organising data more neatly and have the added benefit of assigning named keys to each variable. The syntax isn't any more complex than that of lists either."
   ]
  },
  {
   "cell_type": "code",
   "execution_count": 25,
   "metadata": {},
   "outputs": [],
   "source": [
    "# Let's convert all of our data into a list of dictionaries.\n",
    "aviation_dict_list = []\n",
    "headers = aviation_list[0]\n",
    "aviation_list_slice = aviation_list[1:]\n",
    "for r in aviation_list_slice:\n",
    "    dic = {}\n",
    "    for i, e in enumerate(r):\n",
    "        dic[headers[i]] = e\n",
    "    aviation_dict_list.append(dic)"
   ]
  },
  {
   "cell_type": "code",
   "execution_count": 26,
   "metadata": {},
   "outputs": [
    {
     "name": "stdout",
     "output_type": "stream",
     "text": [
      "[{'Event Id': '20001218X45447', 'Investigation Type': 'Accident', 'Accident Number': 'LAX94LA336', 'Event Date': '07/19/1962', 'Location': 'BRIDGEPORT, CA', 'Country': 'United States', 'Latitude': '', 'Longitude': '', 'Airport Code': '', 'Airport Name': '', 'Injury Severity': 'Fatal(4)', 'Aircraft Damage': 'Destroyed', 'Aircraft Category': '', 'Registration Number': 'N5069P', 'Make': 'PIPER', 'Model': 'PA24-180', 'Amateur Built': 'No', 'Number of Engines': '1', 'Engine Type': 'Reciprocating', 'FAR Description': '', 'Schedule': '', 'Purpose of Flight': 'Personal', 'Air Carrier': '', 'Total Fatal Injuries': '4', 'Total Serious Injuries': '0', 'Total Minor Injuries': '0', 'Total Uninjured': '0', 'Weather Condition': 'UNK', 'Broad Phase of Flight': 'UNKNOWN', 'Report Status': 'Probable Cause', 'Publication Date': '09/19/1996', '': ''}]\n"
     ]
    }
   ],
   "source": [
    "lax_dict = []\n",
    "for d in aviation_dict_list:\n",
    "    if \"LAX94LA336\" in d[headers[2]]:\n",
    "        lax_dict.append(d)\n",
    "print(lax_dict)"
   ]
  },
  {
   "cell_type": "markdown",
   "metadata": {},
   "source": [
    "This approach has the added benefit of giving labels to our data, so that we can look up specific fields by name. The dictionary approach can be used together with binary search as well!\n",
    "\n",
    "## Alternative approach II - dictionaries and binary search"
   ]
  },
  {
   "cell_type": "code",
   "execution_count": 27,
   "metadata": {},
   "outputs": [
    {
     "name": "stdout",
     "output_type": "stream",
     "text": [
      "[{'Event Id': '20001218X45447', 'Investigation Type': 'Accident', 'Accident Number': 'LAX94LA336', 'Event Date': '07/19/1962', 'Location': 'BRIDGEPORT, CA', 'Country': 'United States', 'Latitude': '', 'Longitude': '', 'Airport Code': '', 'Airport Name': '', 'Injury Severity': 'Fatal(4)', 'Aircraft Damage': 'Destroyed', 'Aircraft Category': '', 'Registration Number': 'N5069P', 'Make': 'PIPER', 'Model': 'PA24-180', 'Amateur Built': 'No', 'Number of Engines': '1', 'Engine Type': 'Reciprocating', 'FAR Description': '', 'Schedule': '', 'Purpose of Flight': 'Personal', 'Air Carrier': '', 'Total Fatal Injuries': '4', 'Total Serious Injuries': '0', 'Total Minor Injuries': '0', 'Total Uninjured': '0', 'Weather Condition': 'UNK', 'Broad Phase of Flight': 'UNKNOWN', 'Report Status': 'Probable Cause', 'Publication Date': '09/19/1996', '': ''}]\n"
     ]
    }
   ],
   "source": [
    "sorted_aviation_dict_list = sorted(aviation_dict_list, key = lambda x: x[\"Accident Number\"])\n",
    "length = len(sorted_aviation_dict_list)\n",
    "upper = length - 1\n",
    "lower = 0\n",
    "index = floor((upper + lower) / 2)\n",
    "code = sorted_aviation_dict_list[index][\"Accident Number\"]\n",
    "lax_code = []\n",
    "while target not in code and upper >= lower:\n",
    "    if target < code:\n",
    "        upper = index - 1\n",
    "    else:\n",
    "        lower = index + 1\n",
    "    index = floor((upper + lower) / 2)\n",
    "    code = sorted_aviation_dict_list[index][\"Accident Number\"]\n",
    "if target in code:\n",
    "    lax_code.append(sorted_aviation_dict_list[index])\n",
    "    print(lax_code)\n",
    "else:\n",
    "    print(\"Code not found.\")"
   ]
  },
  {
   "cell_type": "markdown",
   "metadata": {},
   "source": [
    "### Data analysis using dictionaries"
   ]
  },
  {
   "cell_type": "markdown",
   "metadata": {},
   "source": [
    "Now that we have labels, we can search for \"Location\" and work out which state had most accidents."
   ]
  },
  {
   "cell_type": "code",
   "execution_count": 28,
   "metadata": {},
   "outputs": [
    {
     "name": "stdout",
     "output_type": "stream",
     "text": [
      "State with most accidents: [('CA', 8030)]\n"
     ]
    }
   ],
   "source": [
    "location_accidents = []\n",
    "for d in aviation_dict_list:\n",
    "    location_accidents.append(d[\"Location\"])\n",
    "stateloc_accidents = [x.split(\", \")[-1] for x in location_accidents] \n",
    "# The -1 index is useful here because it doesn't bug out if faulty entries result in just one single split element\n",
    "from collections import Counter\n",
    "state_accidents = Counter(stateloc_accidents)\n",
    "print(\"State with most accidents:\", state_accidents.most_common(1))"
   ]
  },
  {
   "cell_type": "markdown",
   "metadata": {},
   "source": [
    "Furthermore, we may calculate the number of injuries by month, and even divide them by type of injury and/or give the total number of accidents to give an idea of how many accidents result in fatalities or less serious consequences."
   ]
  },
  {
   "cell_type": "code",
   "execution_count": 29,
   "metadata": {},
   "outputs": [],
   "source": [
    "total_accidents = {}\n",
    "total_fatal_injuries = {}\n",
    "total_serious_injuries = {}\n",
    "total_minor_injuries = {}\n",
    "total_uninjured = {}\n",
    "for d in aviation_dict_list:\n",
    "    mnth = d[\"Event Date\"].split(\"/\")[0]\n",
    "    if mnth in total_accidents:\n",
    "        total_accidents[mnth] += 1\n",
    "    else:\n",
    "        total_accidents[mnth] = 1\n",
    "    if mnth in total_fatal_injuries:\n",
    "        try:\n",
    "            total_fatal_injuries[mnth] += int(d[\"Total Fatal Injuries\"])\n",
    "        except:\n",
    "            total_fatal_injuries[mnth] += 0\n",
    "    else:\n",
    "        try:\n",
    "            total_fatal_injuries[mnth] = int(d[\"Total Fatal Injuries\"])\n",
    "        except:\n",
    "            total_fatal_injuries[mnth] = 0\n",
    "    if mnth in total_serious_injuries:\n",
    "        try:\n",
    "            total_serious_injuries[mnth] += int(d[\"Total Serious Injuries\"])\n",
    "        except:\n",
    "            total_serious_injuries[mnth] += 0\n",
    "    else:\n",
    "        try:\n",
    "            total_serious_injuries[mnth] = int(d[\"Total Serious Injuries\"])\n",
    "        except:\n",
    "            total_serious_injuries[mnth] = 0\n",
    "    if mnth in total_minor_injuries:\n",
    "        try:\n",
    "            total_minor_injuries[mnth] += int(d[\"Total Minor Injuries\"])\n",
    "        except:\n",
    "            total_minor_injuries[mnth] += 0\n",
    "    else:\n",
    "        try:\n",
    "            total_minor_injuries[mnth] = int(d[\"Total Minor Injuries\"])\n",
    "        except:\n",
    "            total_minor_injuries[mnth] = 0\n",
    "    if mnth in total_uninjured:\n",
    "        try:\n",
    "            total_uninjured[mnth] += int(d[\"Total Uninjured\"])\n",
    "        except:\n",
    "            total_uninjured[mnth] += 0\n",
    "    else:\n",
    "        try:\n",
    "            total_uninjured[mnth] = int(d[\"Total Uninjured\"])\n",
    "        except:\n",
    "            total_uninjured[mnth] = 0"
   ]
  },
  {
   "cell_type": "markdown",
   "metadata": {},
   "source": [
    "A DataFrame can now be used to present the new data in a more compact fashion."
   ]
  },
  {
   "cell_type": "code",
   "execution_count": 30,
   "metadata": {},
   "outputs": [
    {
     "data": {
      "text/html": [
       "<div>\n",
       "<style scoped>\n",
       "    .dataframe tbody tr th:only-of-type {\n",
       "        vertical-align: middle;\n",
       "    }\n",
       "\n",
       "    .dataframe tbody tr th {\n",
       "        vertical-align: top;\n",
       "    }\n",
       "\n",
       "    .dataframe thead th {\n",
       "        text-align: right;\n",
       "    }\n",
       "</style>\n",
       "<table border=\"1\" class=\"dataframe\">\n",
       "  <thead>\n",
       "    <tr style=\"text-align: right;\">\n",
       "      <th></th>\n",
       "      <th></th>\n",
       "      <th>01</th>\n",
       "      <th>02</th>\n",
       "      <th>03</th>\n",
       "      <th>04</th>\n",
       "      <th>05</th>\n",
       "      <th>06</th>\n",
       "      <th>07</th>\n",
       "      <th>08</th>\n",
       "      <th>09</th>\n",
       "      <th>10</th>\n",
       "      <th>11</th>\n",
       "      <th>12</th>\n",
       "    </tr>\n",
       "  </thead>\n",
       "  <tbody>\n",
       "    <tr>\n",
       "      <th>0</th>\n",
       "      <td>3</td>\n",
       "      <td>4345</td>\n",
       "      <td>4597</td>\n",
       "      <td>5884</td>\n",
       "      <td>6430</td>\n",
       "      <td>7480</td>\n",
       "      <td>8342</td>\n",
       "      <td>9309</td>\n",
       "      <td>8760</td>\n",
       "      <td>7096</td>\n",
       "      <td>5918</td>\n",
       "      <td>4743</td>\n",
       "      <td>4374</td>\n",
       "    </tr>\n",
       "    <tr>\n",
       "      <th>1</th>\n",
       "      <td>2</td>\n",
       "      <td>3201</td>\n",
       "      <td>2974</td>\n",
       "      <td>2663</td>\n",
       "      <td>2972</td>\n",
       "      <td>3551</td>\n",
       "      <td>3557</td>\n",
       "      <td>5001</td>\n",
       "      <td>4855</td>\n",
       "      <td>4027</td>\n",
       "      <td>3738</td>\n",
       "      <td>3848</td>\n",
       "      <td>3636</td>\n",
       "    </tr>\n",
       "    <tr>\n",
       "      <th>2</th>\n",
       "      <td>0</td>\n",
       "      <td>1023</td>\n",
       "      <td>933</td>\n",
       "      <td>1134</td>\n",
       "      <td>1346</td>\n",
       "      <td>1404</td>\n",
       "      <td>1634</td>\n",
       "      <td>2002</td>\n",
       "      <td>2069</td>\n",
       "      <td>1502</td>\n",
       "      <td>1354</td>\n",
       "      <td>1147</td>\n",
       "      <td>1111</td>\n",
       "    </tr>\n",
       "    <tr>\n",
       "      <th>3</th>\n",
       "      <td>0</td>\n",
       "      <td>1434</td>\n",
       "      <td>1574</td>\n",
       "      <td>1754</td>\n",
       "      <td>2224</td>\n",
       "      <td>2368</td>\n",
       "      <td>2804</td>\n",
       "      <td>3700</td>\n",
       "      <td>3419</td>\n",
       "      <td>2305</td>\n",
       "      <td>1983</td>\n",
       "      <td>1594</td>\n",
       "      <td>1811</td>\n",
       "    </tr>\n",
       "    <tr>\n",
       "      <th>4</th>\n",
       "      <td>1</td>\n",
       "      <td>27633</td>\n",
       "      <td>26988</td>\n",
       "      <td>32778</td>\n",
       "      <td>30134</td>\n",
       "      <td>32991</td>\n",
       "      <td>41012</td>\n",
       "      <td>35418</td>\n",
       "      <td>39791</td>\n",
       "      <td>27659</td>\n",
       "      <td>28301</td>\n",
       "      <td>24941</td>\n",
       "      <td>28908</td>\n",
       "    </tr>\n",
       "  </tbody>\n",
       "</table>\n",
       "</div>"
      ],
      "text/plain": [
       "         01     02     03     04     05     06     07     08     09     10  \\\n",
       "0  3   4345   4597   5884   6430   7480   8342   9309   8760   7096   5918   \n",
       "1  2   3201   2974   2663   2972   3551   3557   5001   4855   4027   3738   \n",
       "2  0   1023    933   1134   1346   1404   1634   2002   2069   1502   1354   \n",
       "3  0   1434   1574   1754   2224   2368   2804   3700   3419   2305   1983   \n",
       "4  1  27633  26988  32778  30134  32991  41012  35418  39791  27659  28301   \n",
       "\n",
       "      11     12  \n",
       "0   4743   4374  \n",
       "1   3848   3636  \n",
       "2   1147   1111  \n",
       "3   1594   1811  \n",
       "4  24941  28908  "
      ]
     },
     "execution_count": 30,
     "metadata": {},
     "output_type": "execute_result"
    }
   ],
   "source": [
    "import pandas as pd\n",
    "monthly_injuries = pd.DataFrame([total_accidents,total_fatal_injuries,total_serious_injuries,total_minor_injuries,total_uninjured])\n",
    "monthly_injuries"
   ]
  },
  {
   "cell_type": "markdown",
   "metadata": {},
   "source": [
    "Good, but not very pretty. We should modify our DataFrame to give it a better presentation."
   ]
  },
  {
   "cell_type": "code",
   "execution_count": 31,
   "metadata": {},
   "outputs": [
    {
     "data": {
      "text/html": [
       "<div>\n",
       "<style scoped>\n",
       "    .dataframe tbody tr th:only-of-type {\n",
       "        vertical-align: middle;\n",
       "    }\n",
       "\n",
       "    .dataframe tbody tr th {\n",
       "        vertical-align: top;\n",
       "    }\n",
       "\n",
       "    .dataframe thead th {\n",
       "        text-align: right;\n",
       "    }\n",
       "</style>\n",
       "<table border=\"1\" class=\"dataframe\">\n",
       "  <thead>\n",
       "    <tr style=\"text-align: right;\">\n",
       "      <th></th>\n",
       "      <th>Total Accidents</th>\n",
       "      <th>Total Fatal Injuries</th>\n",
       "      <th>Total Serious Injuries</th>\n",
       "      <th>Total Minor Injuries</th>\n",
       "      <th>Total Uninjured</th>\n",
       "    </tr>\n",
       "  </thead>\n",
       "  <tbody>\n",
       "    <tr>\n",
       "      <th>01</th>\n",
       "      <td>4345</td>\n",
       "      <td>3201</td>\n",
       "      <td>1023</td>\n",
       "      <td>1434</td>\n",
       "      <td>27633</td>\n",
       "    </tr>\n",
       "    <tr>\n",
       "      <th>02</th>\n",
       "      <td>4597</td>\n",
       "      <td>2974</td>\n",
       "      <td>933</td>\n",
       "      <td>1574</td>\n",
       "      <td>26988</td>\n",
       "    </tr>\n",
       "    <tr>\n",
       "      <th>03</th>\n",
       "      <td>5884</td>\n",
       "      <td>2663</td>\n",
       "      <td>1134</td>\n",
       "      <td>1754</td>\n",
       "      <td>32778</td>\n",
       "    </tr>\n",
       "    <tr>\n",
       "      <th>04</th>\n",
       "      <td>6430</td>\n",
       "      <td>2972</td>\n",
       "      <td>1346</td>\n",
       "      <td>2224</td>\n",
       "      <td>30134</td>\n",
       "    </tr>\n",
       "    <tr>\n",
       "      <th>05</th>\n",
       "      <td>7480</td>\n",
       "      <td>3551</td>\n",
       "      <td>1404</td>\n",
       "      <td>2368</td>\n",
       "      <td>32991</td>\n",
       "    </tr>\n",
       "    <tr>\n",
       "      <th>06</th>\n",
       "      <td>8342</td>\n",
       "      <td>3557</td>\n",
       "      <td>1634</td>\n",
       "      <td>2804</td>\n",
       "      <td>41012</td>\n",
       "    </tr>\n",
       "    <tr>\n",
       "      <th>07</th>\n",
       "      <td>9309</td>\n",
       "      <td>5001</td>\n",
       "      <td>2002</td>\n",
       "      <td>3700</td>\n",
       "      <td>35418</td>\n",
       "    </tr>\n",
       "    <tr>\n",
       "      <th>08</th>\n",
       "      <td>8760</td>\n",
       "      <td>4855</td>\n",
       "      <td>2069</td>\n",
       "      <td>3419</td>\n",
       "      <td>39791</td>\n",
       "    </tr>\n",
       "    <tr>\n",
       "      <th>09</th>\n",
       "      <td>7096</td>\n",
       "      <td>4027</td>\n",
       "      <td>1502</td>\n",
       "      <td>2305</td>\n",
       "      <td>27659</td>\n",
       "    </tr>\n",
       "    <tr>\n",
       "      <th>10</th>\n",
       "      <td>5918</td>\n",
       "      <td>3738</td>\n",
       "      <td>1354</td>\n",
       "      <td>1983</td>\n",
       "      <td>28301</td>\n",
       "    </tr>\n",
       "    <tr>\n",
       "      <th>11</th>\n",
       "      <td>4743</td>\n",
       "      <td>3848</td>\n",
       "      <td>1147</td>\n",
       "      <td>1594</td>\n",
       "      <td>24941</td>\n",
       "    </tr>\n",
       "    <tr>\n",
       "      <th>12</th>\n",
       "      <td>4374</td>\n",
       "      <td>3636</td>\n",
       "      <td>1111</td>\n",
       "      <td>1811</td>\n",
       "      <td>28908</td>\n",
       "    </tr>\n",
       "  </tbody>\n",
       "</table>\n",
       "</div>"
      ],
      "text/plain": [
       "    Total Accidents  Total Fatal Injuries  Total Serious Injuries  \\\n",
       "01             4345                  3201                    1023   \n",
       "02             4597                  2974                     933   \n",
       "03             5884                  2663                    1134   \n",
       "04             6430                  2972                    1346   \n",
       "05             7480                  3551                    1404   \n",
       "06             8342                  3557                    1634   \n",
       "07             9309                  5001                    2002   \n",
       "08             8760                  4855                    2069   \n",
       "09             7096                  4027                    1502   \n",
       "10             5918                  3738                    1354   \n",
       "11             4743                  3848                    1147   \n",
       "12             4374                  3636                    1111   \n",
       "\n",
       "    Total Minor Injuries  Total Uninjured  \n",
       "01                  1434            27633  \n",
       "02                  1574            26988  \n",
       "03                  1754            32778  \n",
       "04                  2224            30134  \n",
       "05                  2368            32991  \n",
       "06                  2804            41012  \n",
       "07                  3700            35418  \n",
       "08                  3419            39791  \n",
       "09                  2305            27659  \n",
       "10                  1983            28301  \n",
       "11                  1594            24941  \n",
       "12                  1811            28908  "
      ]
     },
     "execution_count": 31,
     "metadata": {},
     "output_type": "execute_result"
    }
   ],
   "source": [
    "monthly_injuries = monthly_injuries.drop([\"\"],axis=1)\n",
    "monthly_injuries.index = [\"Total Accidents\",\"Total Fatal Injuries\",\"Total Serious Injuries\",\"Total Minor Injuries\",\"Total Uninjured\"]\n",
    "monthly_injuries = monthly_injuries.transpose()\n",
    "monthly_injuries"
   ]
  },
  {
   "cell_type": "markdown",
   "metadata": {},
   "source": [
    "Aviation accidents are perhaps not as lethal as one would imagine, although this may very well depend on what we define as an aviation accident. At any rate, it's good practice to check that all calculations were done correctly."
   ]
  },
  {
   "cell_type": "code",
   "execution_count": 33,
   "metadata": {},
   "outputs": [
    {
     "data": {
      "text/html": [
       "<div>\n",
       "<style scoped>\n",
       "    .dataframe tbody tr th:only-of-type {\n",
       "        vertical-align: middle;\n",
       "    }\n",
       "\n",
       "    .dataframe tbody tr th {\n",
       "        vertical-align: top;\n",
       "    }\n",
       "\n",
       "    .dataframe thead th {\n",
       "        text-align: right;\n",
       "    }\n",
       "</style>\n",
       "<table border=\"1\" class=\"dataframe\">\n",
       "  <thead>\n",
       "    <tr style=\"text-align: right;\">\n",
       "      <th></th>\n",
       "      <th></th>\n",
       "      <th>Accident Number</th>\n",
       "      <th>Air Carrier</th>\n",
       "      <th>Aircraft Category</th>\n",
       "      <th>Aircraft Damage</th>\n",
       "      <th>Airport Code</th>\n",
       "      <th>Airport Name</th>\n",
       "      <th>Amateur Built</th>\n",
       "      <th>Broad Phase of Flight</th>\n",
       "      <th>Country</th>\n",
       "      <th>...</th>\n",
       "      <th>Publication Date</th>\n",
       "      <th>Purpose of Flight</th>\n",
       "      <th>Registration Number</th>\n",
       "      <th>Report Status</th>\n",
       "      <th>Schedule</th>\n",
       "      <th>Total Fatal Injuries</th>\n",
       "      <th>Total Minor Injuries</th>\n",
       "      <th>Total Serious Injuries</th>\n",
       "      <th>Total Uninjured</th>\n",
       "      <th>Weather Condition</th>\n",
       "    </tr>\n",
       "  </thead>\n",
       "  <tbody>\n",
       "    <tr>\n",
       "      <th>0</th>\n",
       "      <td></td>\n",
       "      <td>CEN15LA402</td>\n",
       "      <td></td>\n",
       "      <td>Unknown</td>\n",
       "      <td>Substantial</td>\n",
       "      <td>KFEP</td>\n",
       "      <td>albertus Airport</td>\n",
       "      <td></td>\n",
       "      <td>TAKEOFF</td>\n",
       "      <td>United States</td>\n",
       "      <td>...</td>\n",
       "      <td>09/09/2015</td>\n",
       "      <td>Personal</td>\n",
       "      <td>N24TL</td>\n",
       "      <td>Preliminary</td>\n",
       "      <td></td>\n",
       "      <td></td>\n",
       "      <td></td>\n",
       "      <td>1</td>\n",
       "      <td></td>\n",
       "      <td>VMC</td>\n",
       "    </tr>\n",
       "    <tr>\n",
       "      <th>1</th>\n",
       "      <td></td>\n",
       "      <td>ERA15LA339</td>\n",
       "      <td></td>\n",
       "      <td>Weight-Shift</td>\n",
       "      <td>Substantial</td>\n",
       "      <td>LCI</td>\n",
       "      <td>Laconia Municipal Airport</td>\n",
       "      <td>No</td>\n",
       "      <td>MANEUVERING</td>\n",
       "      <td>United States</td>\n",
       "      <td>...</td>\n",
       "      <td>09/10/2015</td>\n",
       "      <td>Personal</td>\n",
       "      <td>N2264X</td>\n",
       "      <td>Preliminary</td>\n",
       "      <td></td>\n",
       "      <td>1</td>\n",
       "      <td></td>\n",
       "      <td></td>\n",
       "      <td></td>\n",
       "      <td>VMC</td>\n",
       "    </tr>\n",
       "    <tr>\n",
       "      <th>2</th>\n",
       "      <td></td>\n",
       "      <td>GAA15CA251</td>\n",
       "      <td></td>\n",
       "      <td></td>\n",
       "      <td></td>\n",
       "      <td></td>\n",
       "      <td></td>\n",
       "      <td></td>\n",
       "      <td></td>\n",
       "      <td>United States</td>\n",
       "      <td>...</td>\n",
       "      <td></td>\n",
       "      <td></td>\n",
       "      <td>N321DA</td>\n",
       "      <td>Preliminary</td>\n",
       "      <td></td>\n",
       "      <td></td>\n",
       "      <td></td>\n",
       "      <td></td>\n",
       "      <td></td>\n",
       "      <td></td>\n",
       "    </tr>\n",
       "    <tr>\n",
       "      <th>3</th>\n",
       "      <td></td>\n",
       "      <td>WPR15FA256</td>\n",
       "      <td></td>\n",
       "      <td>Airplane</td>\n",
       "      <td>Substantial</td>\n",
       "      <td>SEE</td>\n",
       "      <td>GILLESPIE FIELD</td>\n",
       "      <td>No</td>\n",
       "      <td>TAKEOFF</td>\n",
       "      <td>United States</td>\n",
       "      <td>...</td>\n",
       "      <td>09/09/2015</td>\n",
       "      <td>Instructional</td>\n",
       "      <td>N8441B</td>\n",
       "      <td>Preliminary</td>\n",
       "      <td></td>\n",
       "      <td>2</td>\n",
       "      <td></td>\n",
       "      <td></td>\n",
       "      <td></td>\n",
       "      <td>VMC</td>\n",
       "    </tr>\n",
       "    <tr>\n",
       "      <th>4</th>\n",
       "      <td></td>\n",
       "      <td>ERA15LA338</td>\n",
       "      <td></td>\n",
       "      <td>Airplane</td>\n",
       "      <td>Destroyed</td>\n",
       "      <td></td>\n",
       "      <td>N/A</td>\n",
       "      <td>No</td>\n",
       "      <td></td>\n",
       "      <td>United States</td>\n",
       "      <td>...</td>\n",
       "      <td>09/10/2015</td>\n",
       "      <td>Aerial Observation</td>\n",
       "      <td>N758DK</td>\n",
       "      <td>Preliminary</td>\n",
       "      <td></td>\n",
       "      <td></td>\n",
       "      <td></td>\n",
       "      <td>2</td>\n",
       "      <td></td>\n",
       "      <td>VMC</td>\n",
       "    </tr>\n",
       "  </tbody>\n",
       "</table>\n",
       "<p>5 rows × 32 columns</p>\n",
       "</div>"
      ],
      "text/plain": [
       "    Accident Number Air Carrier Aircraft Category Aircraft Damage  \\\n",
       "0        CEN15LA402                       Unknown     Substantial   \n",
       "1        ERA15LA339                  Weight-Shift     Substantial   \n",
       "2        GAA15CA251                                                 \n",
       "3        WPR15FA256                      Airplane     Substantial   \n",
       "4        ERA15LA338                      Airplane       Destroyed   \n",
       "\n",
       "  Airport Code               Airport Name Amateur Built Broad Phase of Flight  \\\n",
       "0         KFEP           albertus Airport                             TAKEOFF   \n",
       "1          LCI  Laconia Municipal Airport            No           MANEUVERING   \n",
       "2                                                                               \n",
       "3          SEE            GILLESPIE FIELD            No               TAKEOFF   \n",
       "4                                     N/A            No                         \n",
       "\n",
       "         Country        ...        Publication Date   Purpose of Flight  \\\n",
       "0  United States        ...              09/09/2015            Personal   \n",
       "1  United States        ...              09/10/2015            Personal   \n",
       "2  United States        ...                                               \n",
       "3  United States        ...              09/09/2015       Instructional   \n",
       "4  United States        ...              09/10/2015  Aerial Observation   \n",
       "\n",
       "  Registration Number Report Status Schedule Total Fatal Injuries  \\\n",
       "0               N24TL   Preliminary                                 \n",
       "1              N2264X   Preliminary                             1   \n",
       "2              N321DA   Preliminary                                 \n",
       "3              N8441B   Preliminary                             2   \n",
       "4              N758DK   Preliminary                                 \n",
       "\n",
       "  Total Minor Injuries Total Serious Injuries Total Uninjured  \\\n",
       "0                                           1                   \n",
       "1                                                               \n",
       "2                                                               \n",
       "3                                                               \n",
       "4                                           2                   \n",
       "\n",
       "  Weather Condition  \n",
       "0               VMC  \n",
       "1               VMC  \n",
       "2                    \n",
       "3               VMC  \n",
       "4               VMC  \n",
       "\n",
       "[5 rows x 32 columns]"
      ]
     },
     "execution_count": 33,
     "metadata": {},
     "output_type": "execute_result"
    }
   ],
   "source": [
    "# Print the first few lines of the dataframe to get some bearings on the columns\n",
    "df = pd.DataFrame(aviation_dict_list)\n",
    "df.head()"
   ]
  },
  {
   "cell_type": "code",
   "execution_count": 34,
   "metadata": {},
   "outputs": [
    {
     "data": {
      "text/plain": [
       "376555"
      ]
     },
     "execution_count": 34,
     "metadata": {},
     "output_type": "execute_result"
    }
   ],
   "source": [
    "uninj = df[\"Total Uninjured\"]\n",
    "sumt = 0\n",
    "for i in uninj:\n",
    "    try:\n",
    "        sumt += int(i)\n",
    "    except:\n",
    "        pass\n",
    "sumt"
   ]
  },
  {
   "cell_type": "code",
   "execution_count": 35,
   "metadata": {},
   "outputs": [
    {
     "data": {
      "text/plain": [
       "44025"
      ]
     },
     "execution_count": 35,
     "metadata": {},
     "output_type": "execute_result"
    }
   ],
   "source": [
    "fatls = df[\"Total Fatal Injuries\"]\n",
    "sumt = 0\n",
    "for i in fatls:\n",
    "    try:\n",
    "        sumt += int(i)\n",
    "    except:\n",
    "        pass\n",
    "sumt"
   ]
  },
  {
   "cell_type": "code",
   "execution_count": 36,
   "metadata": {},
   "outputs": [
    {
     "data": {
      "text/plain": [
       "16659"
      ]
     },
     "execution_count": 36,
     "metadata": {},
     "output_type": "execute_result"
    }
   ],
   "source": [
    "srios = df[\"Total Serious Injuries\"]\n",
    "sumt = 0\n",
    "for i in srios:\n",
    "    try:\n",
    "        sumt += int(i)\n",
    "    except:\n",
    "        pass\n",
    "sumt"
   ]
  },
  {
   "cell_type": "code",
   "execution_count": 37,
   "metadata": {},
   "outputs": [
    {
     "data": {
      "text/plain": [
       "26970"
      ]
     },
     "execution_count": 37,
     "metadata": {},
     "output_type": "execute_result"
    }
   ],
   "source": [
    "minor = df[\"Total Minor Injuries\"]\n",
    "sumt = 0\n",
    "for i in minor:\n",
    "    try:\n",
    "        sumt += int(i)\n",
    "    except:\n",
    "        pass\n",
    "sumt"
   ]
  },
  {
   "cell_type": "markdown",
   "metadata": {},
   "source": [
    "It seems that everything is indeed correct. Let's single out some of the flights with large numbers of uninjured people and see if we can understand what happened."
   ]
  },
  {
   "cell_type": "code",
   "execution_count": 38,
   "metadata": {},
   "outputs": [
    {
     "data": {
      "text/plain": [
       "58465    99\n",
       "14734    99\n",
       "57376    99\n",
       "Name: Total Uninjured, dtype: object"
      ]
     },
     "execution_count": 38,
     "metadata": {},
     "output_type": "execute_result"
    }
   ],
   "source": [
    "uninj.sort_values(ascending = False).head(3)"
   ]
  },
  {
   "cell_type": "code",
   "execution_count": 39,
   "metadata": {},
   "outputs": [
    {
     "data": {
      "text/plain": [
       "                                          \n",
       "Accident Number                 NYC87FA264\n",
       "Air Carrier               EASTERN AIRLINES\n",
       "Aircraft Category                         \n",
       "Aircraft Damage                      Minor\n",
       "Airport Code                              \n",
       "Airport Name                              \n",
       "Amateur Built                           No\n",
       "Broad Phase of Flight               CRUISE\n",
       "Country                            Bermuda\n",
       "Engine Type                      Turbo Fan\n",
       "Event Date                      09/28/1987\n",
       "Event Id                    20001213X32186\n",
       "FAR Description                           \n",
       "Injury Severity                  Non-Fatal\n",
       "Investigation Type                Accident\n",
       "Latitude                                  \n",
       "Location                  BERMUDA, Bermuda\n",
       "Longitude                                 \n",
       "Make                              LOCKHEED\n",
       "Model                               L-1011\n",
       "Number of Engines                        3\n",
       "Publication Date                11/15/1989\n",
       "Purpose of Flight                  Unknown\n",
       "Registration Number                 N317EA\n",
       "Report Status               Probable Cause\n",
       "Schedule                              SCHD\n",
       "Total Fatal Injuries                     0\n",
       "Total Minor Injuries                    39\n",
       "Total Serious Injuries                   1\n",
       "Total Uninjured                         99\n",
       "Weather Condition                      VMC\n",
       "Name: 58465, dtype: object"
      ]
     },
     "execution_count": 39,
     "metadata": {},
     "output_type": "execute_result"
    }
   ],
   "source": [
    "df.loc[58465]"
   ]
  },
  {
   "cell_type": "markdown",
   "metadata": {},
   "source": [
    "These are likely to be large airliner flights which had some mechanical failures or turbulence-related injuries inflight but managed to land without fatalities! In fact, [here](https://app.ntsb.gov/pdfgenerator/ReportGeneratorFile.ashx?EventID=20001213X32186&AKey=1&RType=Final&IType=FA) is the final report for NYC87FA264."
   ]
  },
  {
   "cell_type": "code",
   "execution_count": null,
   "metadata": {},
   "outputs": [],
   "source": []
  }
 ],
 "metadata": {
  "kernelspec": {
   "display_name": "Python 3",
   "language": "python",
   "name": "python3"
  },
  "language_info": {
   "codemirror_mode": {
    "name": "ipython",
    "version": 3
   },
   "file_extension": ".py",
   "mimetype": "text/x-python",
   "name": "python",
   "nbconvert_exporter": "python",
   "pygments_lexer": "ipython3",
   "version": "3.6.5"
  }
 },
 "nbformat": 4,
 "nbformat_minor": 2
}
