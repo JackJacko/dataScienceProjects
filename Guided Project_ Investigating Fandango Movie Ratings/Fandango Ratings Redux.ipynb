{
 "cells": [
  {
   "cell_type": "markdown",
   "metadata": {},
   "source": [
    "# Fandango Ratings: Redux\n",
    "In October 2015, a data journalist named Walt Hickey found that Fandango's rating system was biased, with film ratings being displayed as higher than their actual value.\n",
    "\n",
    "Fandango claimed a bug and promised to fix the issue. Our goal is to determine whether there has been any change in Fandango's rating system after Hickey's analysis."
   ]
  },
  {
   "cell_type": "code",
   "execution_count": 79,
   "metadata": {},
   "outputs": [],
   "source": [
    "# Import all relevant libraries\n",
    "import numpy as np\n",
    "import pandas as pd\n",
    "import matplotlib.pyplot as plt\n",
    "%matplotlib inline"
   ]
  },
  {
   "cell_type": "markdown",
   "metadata": {},
   "source": [
    "We have two datasets to work on: the original dataset produced by Hickey for his article, and a second dataset compiled a couple of years later (not by Hickey) to compare Fandango and a few other film review websites. Let's load them and take a look."
   ]
  },
  {
   "cell_type": "code",
   "execution_count": 80,
   "metadata": {},
   "outputs": [],
   "source": [
    "# Load data\n",
    "before = pd.read_csv(\"fandango_score_comparison.csv\")\n",
    "after = pd.read_csv(\"movie_ratings_16_17.csv\")"
   ]
  },
  {
   "cell_type": "code",
   "execution_count": 81,
   "metadata": {},
   "outputs": [
    {
     "data": {
      "text/plain": [
       "(214, 15)"
      ]
     },
     "execution_count": 81,
     "metadata": {},
     "output_type": "execute_result"
    }
   ],
   "source": [
    "after.shape"
   ]
  },
  {
   "cell_type": "code",
   "execution_count": 82,
   "metadata": {},
   "outputs": [
    {
     "data": {
      "text/html": [
       "<div>\n",
       "<style scoped>\n",
       "    .dataframe tbody tr th:only-of-type {\n",
       "        vertical-align: middle;\n",
       "    }\n",
       "\n",
       "    .dataframe tbody tr th {\n",
       "        vertical-align: top;\n",
       "    }\n",
       "\n",
       "    .dataframe thead th {\n",
       "        text-align: right;\n",
       "    }\n",
       "</style>\n",
       "<table border=\"1\" class=\"dataframe\">\n",
       "  <thead>\n",
       "    <tr style=\"text-align: right;\">\n",
       "      <th></th>\n",
       "      <th>FILM</th>\n",
       "      <th>RottenTomatoes</th>\n",
       "      <th>RottenTomatoes_User</th>\n",
       "      <th>Metacritic</th>\n",
       "      <th>Metacritic_User</th>\n",
       "      <th>IMDB</th>\n",
       "      <th>Fandango_Stars</th>\n",
       "      <th>Fandango_Ratingvalue</th>\n",
       "      <th>RT_norm</th>\n",
       "      <th>RT_user_norm</th>\n",
       "      <th>...</th>\n",
       "      <th>IMDB_norm</th>\n",
       "      <th>RT_norm_round</th>\n",
       "      <th>RT_user_norm_round</th>\n",
       "      <th>Metacritic_norm_round</th>\n",
       "      <th>Metacritic_user_norm_round</th>\n",
       "      <th>IMDB_norm_round</th>\n",
       "      <th>Metacritic_user_vote_count</th>\n",
       "      <th>IMDB_user_vote_count</th>\n",
       "      <th>Fandango_votes</th>\n",
       "      <th>Fandango_Difference</th>\n",
       "    </tr>\n",
       "  </thead>\n",
       "  <tbody>\n",
       "    <tr>\n",
       "      <th>0</th>\n",
       "      <td>Avengers: Age of Ultron (2015)</td>\n",
       "      <td>74</td>\n",
       "      <td>86</td>\n",
       "      <td>66</td>\n",
       "      <td>7.1</td>\n",
       "      <td>7.8</td>\n",
       "      <td>5.0</td>\n",
       "      <td>4.5</td>\n",
       "      <td>3.70</td>\n",
       "      <td>4.3</td>\n",
       "      <td>...</td>\n",
       "      <td>3.90</td>\n",
       "      <td>3.5</td>\n",
       "      <td>4.5</td>\n",
       "      <td>3.5</td>\n",
       "      <td>3.5</td>\n",
       "      <td>4.0</td>\n",
       "      <td>1330</td>\n",
       "      <td>271107</td>\n",
       "      <td>14846</td>\n",
       "      <td>0.5</td>\n",
       "    </tr>\n",
       "    <tr>\n",
       "      <th>1</th>\n",
       "      <td>Cinderella (2015)</td>\n",
       "      <td>85</td>\n",
       "      <td>80</td>\n",
       "      <td>67</td>\n",
       "      <td>7.5</td>\n",
       "      <td>7.1</td>\n",
       "      <td>5.0</td>\n",
       "      <td>4.5</td>\n",
       "      <td>4.25</td>\n",
       "      <td>4.0</td>\n",
       "      <td>...</td>\n",
       "      <td>3.55</td>\n",
       "      <td>4.5</td>\n",
       "      <td>4.0</td>\n",
       "      <td>3.5</td>\n",
       "      <td>4.0</td>\n",
       "      <td>3.5</td>\n",
       "      <td>249</td>\n",
       "      <td>65709</td>\n",
       "      <td>12640</td>\n",
       "      <td>0.5</td>\n",
       "    </tr>\n",
       "    <tr>\n",
       "      <th>2</th>\n",
       "      <td>Ant-Man (2015)</td>\n",
       "      <td>80</td>\n",
       "      <td>90</td>\n",
       "      <td>64</td>\n",
       "      <td>8.1</td>\n",
       "      <td>7.8</td>\n",
       "      <td>5.0</td>\n",
       "      <td>4.5</td>\n",
       "      <td>4.00</td>\n",
       "      <td>4.5</td>\n",
       "      <td>...</td>\n",
       "      <td>3.90</td>\n",
       "      <td>4.0</td>\n",
       "      <td>4.5</td>\n",
       "      <td>3.0</td>\n",
       "      <td>4.0</td>\n",
       "      <td>4.0</td>\n",
       "      <td>627</td>\n",
       "      <td>103660</td>\n",
       "      <td>12055</td>\n",
       "      <td>0.5</td>\n",
       "    </tr>\n",
       "    <tr>\n",
       "      <th>3</th>\n",
       "      <td>Do You Believe? (2015)</td>\n",
       "      <td>18</td>\n",
       "      <td>84</td>\n",
       "      <td>22</td>\n",
       "      <td>4.7</td>\n",
       "      <td>5.4</td>\n",
       "      <td>5.0</td>\n",
       "      <td>4.5</td>\n",
       "      <td>0.90</td>\n",
       "      <td>4.2</td>\n",
       "      <td>...</td>\n",
       "      <td>2.70</td>\n",
       "      <td>1.0</td>\n",
       "      <td>4.0</td>\n",
       "      <td>1.0</td>\n",
       "      <td>2.5</td>\n",
       "      <td>2.5</td>\n",
       "      <td>31</td>\n",
       "      <td>3136</td>\n",
       "      <td>1793</td>\n",
       "      <td>0.5</td>\n",
       "    </tr>\n",
       "    <tr>\n",
       "      <th>4</th>\n",
       "      <td>Hot Tub Time Machine 2 (2015)</td>\n",
       "      <td>14</td>\n",
       "      <td>28</td>\n",
       "      <td>29</td>\n",
       "      <td>3.4</td>\n",
       "      <td>5.1</td>\n",
       "      <td>3.5</td>\n",
       "      <td>3.0</td>\n",
       "      <td>0.70</td>\n",
       "      <td>1.4</td>\n",
       "      <td>...</td>\n",
       "      <td>2.55</td>\n",
       "      <td>0.5</td>\n",
       "      <td>1.5</td>\n",
       "      <td>1.5</td>\n",
       "      <td>1.5</td>\n",
       "      <td>2.5</td>\n",
       "      <td>88</td>\n",
       "      <td>19560</td>\n",
       "      <td>1021</td>\n",
       "      <td>0.5</td>\n",
       "    </tr>\n",
       "  </tbody>\n",
       "</table>\n",
       "<p>5 rows × 22 columns</p>\n",
       "</div>"
      ],
      "text/plain": [
       "                             FILM  RottenTomatoes  RottenTomatoes_User  \\\n",
       "0  Avengers: Age of Ultron (2015)              74                   86   \n",
       "1               Cinderella (2015)              85                   80   \n",
       "2                  Ant-Man (2015)              80                   90   \n",
       "3          Do You Believe? (2015)              18                   84   \n",
       "4   Hot Tub Time Machine 2 (2015)              14                   28   \n",
       "\n",
       "   Metacritic  Metacritic_User  IMDB  Fandango_Stars  Fandango_Ratingvalue  \\\n",
       "0          66              7.1   7.8             5.0                   4.5   \n",
       "1          67              7.5   7.1             5.0                   4.5   \n",
       "2          64              8.1   7.8             5.0                   4.5   \n",
       "3          22              4.7   5.4             5.0                   4.5   \n",
       "4          29              3.4   5.1             3.5                   3.0   \n",
       "\n",
       "   RT_norm  RT_user_norm         ...           IMDB_norm  RT_norm_round  \\\n",
       "0     3.70           4.3         ...                3.90            3.5   \n",
       "1     4.25           4.0         ...                3.55            4.5   \n",
       "2     4.00           4.5         ...                3.90            4.0   \n",
       "3     0.90           4.2         ...                2.70            1.0   \n",
       "4     0.70           1.4         ...                2.55            0.5   \n",
       "\n",
       "   RT_user_norm_round  Metacritic_norm_round  Metacritic_user_norm_round  \\\n",
       "0                 4.5                    3.5                         3.5   \n",
       "1                 4.0                    3.5                         4.0   \n",
       "2                 4.5                    3.0                         4.0   \n",
       "3                 4.0                    1.0                         2.5   \n",
       "4                 1.5                    1.5                         1.5   \n",
       "\n",
       "   IMDB_norm_round  Metacritic_user_vote_count  IMDB_user_vote_count  \\\n",
       "0              4.0                        1330                271107   \n",
       "1              3.5                         249                 65709   \n",
       "2              4.0                         627                103660   \n",
       "3              2.5                          31                  3136   \n",
       "4              2.5                          88                 19560   \n",
       "\n",
       "   Fandango_votes  Fandango_Difference  \n",
       "0           14846                  0.5  \n",
       "1           12640                  0.5  \n",
       "2           12055                  0.5  \n",
       "3            1793                  0.5  \n",
       "4            1021                  0.5  \n",
       "\n",
       "[5 rows x 22 columns]"
      ]
     },
     "execution_count": 82,
     "metadata": {},
     "output_type": "execute_result"
    }
   ],
   "source": [
    "before.head()"
   ]
  },
  {
   "cell_type": "code",
   "execution_count": 83,
   "metadata": {},
   "outputs": [
    {
     "data": {
      "text/plain": [
       "FILM                           object\n",
       "RottenTomatoes                  int64\n",
       "RottenTomatoes_User             int64\n",
       "Metacritic                      int64\n",
       "Metacritic_User               float64\n",
       "IMDB                          float64\n",
       "Fandango_Stars                float64\n",
       "Fandango_Ratingvalue          float64\n",
       "RT_norm                       float64\n",
       "RT_user_norm                  float64\n",
       "Metacritic_norm               float64\n",
       "Metacritic_user_nom           float64\n",
       "IMDB_norm                     float64\n",
       "RT_norm_round                 float64\n",
       "RT_user_norm_round            float64\n",
       "Metacritic_norm_round         float64\n",
       "Metacritic_user_norm_round    float64\n",
       "IMDB_norm_round               float64\n",
       "Metacritic_user_vote_count      int64\n",
       "IMDB_user_vote_count            int64\n",
       "Fandango_votes                  int64\n",
       "Fandango_Difference           float64\n",
       "dtype: object"
      ]
     },
     "execution_count": 83,
     "metadata": {},
     "output_type": "execute_result"
    }
   ],
   "source": [
    "before.dtypes"
   ]
  },
  {
   "cell_type": "code",
   "execution_count": 84,
   "metadata": {},
   "outputs": [
    {
     "data": {
      "text/html": [
       "<div>\n",
       "<style scoped>\n",
       "    .dataframe tbody tr th:only-of-type {\n",
       "        vertical-align: middle;\n",
       "    }\n",
       "\n",
       "    .dataframe tbody tr th {\n",
       "        vertical-align: top;\n",
       "    }\n",
       "\n",
       "    .dataframe thead th {\n",
       "        text-align: right;\n",
       "    }\n",
       "</style>\n",
       "<table border=\"1\" class=\"dataframe\">\n",
       "  <thead>\n",
       "    <tr style=\"text-align: right;\">\n",
       "      <th></th>\n",
       "      <th>movie</th>\n",
       "      <th>year</th>\n",
       "      <th>metascore</th>\n",
       "      <th>imdb</th>\n",
       "      <th>tmeter</th>\n",
       "      <th>audience</th>\n",
       "      <th>fandango</th>\n",
       "      <th>n_metascore</th>\n",
       "      <th>n_imdb</th>\n",
       "      <th>n_tmeter</th>\n",
       "      <th>n_audience</th>\n",
       "      <th>nr_metascore</th>\n",
       "      <th>nr_imdb</th>\n",
       "      <th>nr_tmeter</th>\n",
       "      <th>nr_audience</th>\n",
       "    </tr>\n",
       "  </thead>\n",
       "  <tbody>\n",
       "    <tr>\n",
       "      <th>0</th>\n",
       "      <td>10 Cloverfield Lane</td>\n",
       "      <td>2016</td>\n",
       "      <td>76</td>\n",
       "      <td>7.2</td>\n",
       "      <td>90</td>\n",
       "      <td>79</td>\n",
       "      <td>3.5</td>\n",
       "      <td>3.80</td>\n",
       "      <td>3.60</td>\n",
       "      <td>4.50</td>\n",
       "      <td>3.95</td>\n",
       "      <td>4.0</td>\n",
       "      <td>3.5</td>\n",
       "      <td>4.5</td>\n",
       "      <td>4.0</td>\n",
       "    </tr>\n",
       "    <tr>\n",
       "      <th>1</th>\n",
       "      <td>13 Hours</td>\n",
       "      <td>2016</td>\n",
       "      <td>48</td>\n",
       "      <td>7.3</td>\n",
       "      <td>50</td>\n",
       "      <td>83</td>\n",
       "      <td>4.5</td>\n",
       "      <td>2.40</td>\n",
       "      <td>3.65</td>\n",
       "      <td>2.50</td>\n",
       "      <td>4.15</td>\n",
       "      <td>2.5</td>\n",
       "      <td>3.5</td>\n",
       "      <td>2.5</td>\n",
       "      <td>4.0</td>\n",
       "    </tr>\n",
       "    <tr>\n",
       "      <th>2</th>\n",
       "      <td>A Cure for Wellness</td>\n",
       "      <td>2016</td>\n",
       "      <td>47</td>\n",
       "      <td>6.6</td>\n",
       "      <td>40</td>\n",
       "      <td>47</td>\n",
       "      <td>3.0</td>\n",
       "      <td>2.35</td>\n",
       "      <td>3.30</td>\n",
       "      <td>2.00</td>\n",
       "      <td>2.35</td>\n",
       "      <td>2.5</td>\n",
       "      <td>3.5</td>\n",
       "      <td>2.0</td>\n",
       "      <td>2.5</td>\n",
       "    </tr>\n",
       "    <tr>\n",
       "      <th>3</th>\n",
       "      <td>A Dog's Purpose</td>\n",
       "      <td>2017</td>\n",
       "      <td>43</td>\n",
       "      <td>5.2</td>\n",
       "      <td>33</td>\n",
       "      <td>76</td>\n",
       "      <td>4.5</td>\n",
       "      <td>2.15</td>\n",
       "      <td>2.60</td>\n",
       "      <td>1.65</td>\n",
       "      <td>3.80</td>\n",
       "      <td>2.0</td>\n",
       "      <td>2.5</td>\n",
       "      <td>1.5</td>\n",
       "      <td>4.0</td>\n",
       "    </tr>\n",
       "    <tr>\n",
       "      <th>4</th>\n",
       "      <td>A Hologram for the King</td>\n",
       "      <td>2016</td>\n",
       "      <td>58</td>\n",
       "      <td>6.1</td>\n",
       "      <td>70</td>\n",
       "      <td>57</td>\n",
       "      <td>3.0</td>\n",
       "      <td>2.90</td>\n",
       "      <td>3.05</td>\n",
       "      <td>3.50</td>\n",
       "      <td>2.85</td>\n",
       "      <td>3.0</td>\n",
       "      <td>3.0</td>\n",
       "      <td>3.5</td>\n",
       "      <td>3.0</td>\n",
       "    </tr>\n",
       "  </tbody>\n",
       "</table>\n",
       "</div>"
      ],
      "text/plain": [
       "                     movie  year  metascore  imdb  tmeter  audience  fandango  \\\n",
       "0      10 Cloverfield Lane  2016         76   7.2      90        79       3.5   \n",
       "1                 13 Hours  2016         48   7.3      50        83       4.5   \n",
       "2      A Cure for Wellness  2016         47   6.6      40        47       3.0   \n",
       "3          A Dog's Purpose  2017         43   5.2      33        76       4.5   \n",
       "4  A Hologram for the King  2016         58   6.1      70        57       3.0   \n",
       "\n",
       "   n_metascore  n_imdb  n_tmeter  n_audience  nr_metascore  nr_imdb  \\\n",
       "0         3.80    3.60      4.50        3.95           4.0      3.5   \n",
       "1         2.40    3.65      2.50        4.15           2.5      3.5   \n",
       "2         2.35    3.30      2.00        2.35           2.5      3.5   \n",
       "3         2.15    2.60      1.65        3.80           2.0      2.5   \n",
       "4         2.90    3.05      3.50        2.85           3.0      3.0   \n",
       "\n",
       "   nr_tmeter  nr_audience  \n",
       "0        4.5          4.0  \n",
       "1        2.5          4.0  \n",
       "2        2.0          2.5  \n",
       "3        1.5          4.0  \n",
       "4        3.5          3.0  "
      ]
     },
     "execution_count": 84,
     "metadata": {},
     "output_type": "execute_result"
    }
   ],
   "source": [
    "after.head()"
   ]
  },
  {
   "cell_type": "code",
   "execution_count": 85,
   "metadata": {},
   "outputs": [
    {
     "data": {
      "text/plain": [
       "movie            object\n",
       "year              int64\n",
       "metascore         int64\n",
       "imdb            float64\n",
       "tmeter            int64\n",
       "audience          int64\n",
       "fandango        float64\n",
       "n_metascore     float64\n",
       "n_imdb          float64\n",
       "n_tmeter        float64\n",
       "n_audience      float64\n",
       "nr_metascore    float64\n",
       "nr_imdb         float64\n",
       "nr_tmeter       float64\n",
       "nr_audience     float64\n",
       "dtype: object"
      ]
     },
     "execution_count": 85,
     "metadata": {},
     "output_type": "execute_result"
    }
   ],
   "source": [
    "after.dtypes"
   ]
  },
  {
   "cell_type": "code",
   "execution_count": 86,
   "metadata": {},
   "outputs": [],
   "source": [
    "F_before = before[[\"FILM\",\"Fandango_Stars\",\"Fandango_Ratingvalue\",\"Fandango_votes\",\"Fandango_Difference\"]].copy()\n",
    "F_after = after[[\"movie\",\"year\",\"fandango\"]].copy()"
   ]
  },
  {
   "cell_type": "markdown",
   "metadata": {},
   "source": [
    "###### The two datasets aren't straightforward to compare:\n",
    "- The original one had a parameter for the real value and a parameter for the displayed value, while the second has just one single value (since Fandango has removed the actual values from the HTML of the movie pages). This is due to the different goal of the two datasets: the first one focused on the inner workings of the Fandango review system, the second on a comparison between Fandango and other reviewer websites.\n",
    "- Furthermore, the timeframe is different. This is what we wanted, since our goal is to determine whether the rating system has changed in the intervening time or not, but at the same time it also means that we cannot be sure that the two populations are actually comparable (2015 may have had genuinely better films than 2016 and viceversa).\n",
    "- Finally, the first set contains popular movies as defined by having more than 30 user reviews. The second set contains \"214 of the most popular movies (with a significant number of votes)\", but doesn't specify how many votes are a \"significant number\".\n",
    "\n",
    "Of these 3 issues, only the third one can be addressed in a somewhat straightforward manner. We should check that at least a large majority of movies from the second set had more than 30 user reviews (possibly manually). This will repurpose our analysis to simply checking whether the distribution of Fandango votes has changed substantially between the two years. Our new goal will be then to decide whether any difference is likely to be due to a change in the review system or just due to a genuine difference in average movie quality between the two years. Rating values from the other review websites (which we know haven't changed their rating system) should help us on this point. "
   ]
  },
  {
   "cell_type": "code",
   "execution_count": 87,
   "metadata": {},
   "outputs": [
    {
     "data": {
      "text/html": [
       "<div>\n",
       "<style scoped>\n",
       "    .dataframe tbody tr th:only-of-type {\n",
       "        vertical-align: middle;\n",
       "    }\n",
       "\n",
       "    .dataframe tbody tr th {\n",
       "        vertical-align: top;\n",
       "    }\n",
       "\n",
       "    .dataframe thead th {\n",
       "        text-align: right;\n",
       "    }\n",
       "</style>\n",
       "<table border=\"1\" class=\"dataframe\">\n",
       "  <thead>\n",
       "    <tr style=\"text-align: right;\">\n",
       "      <th></th>\n",
       "      <th>movie</th>\n",
       "      <th>year</th>\n",
       "      <th>fandango</th>\n",
       "    </tr>\n",
       "  </thead>\n",
       "  <tbody>\n",
       "    <tr>\n",
       "      <th>108</th>\n",
       "      <td>Mechanic: Resurrection</td>\n",
       "      <td>2016</td>\n",
       "      <td>4.0</td>\n",
       "    </tr>\n",
       "    <tr>\n",
       "      <th>206</th>\n",
       "      <td>Warcraft</td>\n",
       "      <td>2016</td>\n",
       "      <td>4.0</td>\n",
       "    </tr>\n",
       "    <tr>\n",
       "      <th>106</th>\n",
       "      <td>Max Steel</td>\n",
       "      <td>2016</td>\n",
       "      <td>3.5</td>\n",
       "    </tr>\n",
       "    <tr>\n",
       "      <th>107</th>\n",
       "      <td>Me Before You</td>\n",
       "      <td>2016</td>\n",
       "      <td>4.5</td>\n",
       "    </tr>\n",
       "    <tr>\n",
       "      <th>51</th>\n",
       "      <td>Fantastic Beasts and Where to Find Them</td>\n",
       "      <td>2016</td>\n",
       "      <td>4.5</td>\n",
       "    </tr>\n",
       "    <tr>\n",
       "      <th>33</th>\n",
       "      <td>Cell</td>\n",
       "      <td>2016</td>\n",
       "      <td>3.0</td>\n",
       "    </tr>\n",
       "    <tr>\n",
       "      <th>59</th>\n",
       "      <td>Genius</td>\n",
       "      <td>2016</td>\n",
       "      <td>3.5</td>\n",
       "    </tr>\n",
       "    <tr>\n",
       "      <th>152</th>\n",
       "      <td>Sully</td>\n",
       "      <td>2016</td>\n",
       "      <td>4.5</td>\n",
       "    </tr>\n",
       "    <tr>\n",
       "      <th>4</th>\n",
       "      <td>A Hologram for the King</td>\n",
       "      <td>2016</td>\n",
       "      <td>3.0</td>\n",
       "    </tr>\n",
       "    <tr>\n",
       "      <th>31</th>\n",
       "      <td>Captain America: Civil War</td>\n",
       "      <td>2016</td>\n",
       "      <td>4.5</td>\n",
       "    </tr>\n",
       "    <tr>\n",
       "      <th>118</th>\n",
       "      <td>Mr. Church</td>\n",
       "      <td>2016</td>\n",
       "      <td>4.5</td>\n",
       "    </tr>\n",
       "    <tr>\n",
       "      <th>39</th>\n",
       "      <td>Crouching Tiger, Hidden Dragon: Sword of Destiny</td>\n",
       "      <td>2016</td>\n",
       "      <td>4.0</td>\n",
       "    </tr>\n",
       "    <tr>\n",
       "      <th>93</th>\n",
       "      <td>Kung Fu Panda 3</td>\n",
       "      <td>2016</td>\n",
       "      <td>4.5</td>\n",
       "    </tr>\n",
       "    <tr>\n",
       "      <th>69</th>\n",
       "      <td>Hidden Figures</td>\n",
       "      <td>2016</td>\n",
       "      <td>5.0</td>\n",
       "    </tr>\n",
       "    <tr>\n",
       "      <th>161</th>\n",
       "      <td>The Autopsy of Jane Doe</td>\n",
       "      <td>2016</td>\n",
       "      <td>4.5</td>\n",
       "    </tr>\n",
       "    <tr>\n",
       "      <th>112</th>\n",
       "      <td>Misconduct</td>\n",
       "      <td>2016</td>\n",
       "      <td>3.0</td>\n",
       "    </tr>\n",
       "    <tr>\n",
       "      <th>94</th>\n",
       "      <td>La La Land</td>\n",
       "      <td>2016</td>\n",
       "      <td>4.0</td>\n",
       "    </tr>\n",
       "    <tr>\n",
       "      <th>97</th>\n",
       "      <td>Live by Night</td>\n",
       "      <td>2016</td>\n",
       "      <td>3.5</td>\n",
       "    </tr>\n",
       "    <tr>\n",
       "      <th>151</th>\n",
       "      <td>Suicide Squad</td>\n",
       "      <td>2016</td>\n",
       "      <td>4.0</td>\n",
       "    </tr>\n",
       "    <tr>\n",
       "      <th>38</th>\n",
       "      <td>Criminal</td>\n",
       "      <td>2016</td>\n",
       "      <td>4.0</td>\n",
       "    </tr>\n",
       "  </tbody>\n",
       "</table>\n",
       "</div>"
      ],
      "text/plain": [
       "                                                movie  year  fandango\n",
       "108                            Mechanic: Resurrection  2016       4.0\n",
       "206                                          Warcraft  2016       4.0\n",
       "106                                         Max Steel  2016       3.5\n",
       "107                                     Me Before You  2016       4.5\n",
       "51            Fantastic Beasts and Where to Find Them  2016       4.5\n",
       "33                                               Cell  2016       3.0\n",
       "59                                             Genius  2016       3.5\n",
       "152                                             Sully  2016       4.5\n",
       "4                             A Hologram for the King  2016       3.0\n",
       "31                         Captain America: Civil War  2016       4.5\n",
       "118                                        Mr. Church  2016       4.5\n",
       "39   Crouching Tiger, Hidden Dragon: Sword of Destiny  2016       4.0\n",
       "93                                    Kung Fu Panda 3  2016       4.5\n",
       "69                                     Hidden Figures  2016       5.0\n",
       "161                           The Autopsy of Jane Doe  2016       4.5\n",
       "112                                        Misconduct  2016       3.0\n",
       "94                                         La La Land  2016       4.0\n",
       "97                                      Live by Night  2016       3.5\n",
       "151                                     Suicide Squad  2016       4.0\n",
       "38                                           Criminal  2016       4.0"
      ]
     },
     "execution_count": 87,
     "metadata": {},
     "output_type": "execute_result"
    }
   ],
   "source": [
    "# Let's sample randomly ~10% of the movies (20) from the second dataset and check manully check how many user reviews are there on the Fandango website.\n",
    "sample = F_after.sample(20, random_state=1)\n",
    "sample"
   ]
  },
  {
   "cell_type": "markdown",
   "metadata": {},
   "source": [
    "Here are the results of our manual search on the Fandango website:\n",
    "\n",
    "| Movie title | User ratings |\n",
    "|-------------|--------------|\n",
    "| Mechanic: Resurrection | 2248 |\n",
    "| Warcraft | 7278 |\n",
    "| Max Steel | 493 |\n",
    "| Me Before You\t | 5269 |\n",
    "| Fantastic Beasts and Where to Find Them | 13453 |\n",
    "| Cell | 18 |\n",
    "| Genius | 127 |\n",
    "| Sully | 11884 |\n",
    "| A Hologram for the King | 500 |\n",
    "| Captain America: Civil War | 35121 |\n",
    "| Mr. Church | 182 |\n",
    "| Crouching Tiger, Hidden Dragon: Sword of Destiny | 45 |\n",
    "| Kung Fu Panda 3 | 5872 |\n",
    "| Hidden Figures | 11779 |\n",
    "| The Autopsy of Jane Doe | 41 |\n",
    "| Misconduct | 22 |\n",
    "| La La Land | 9300 |\n",
    "| Live by Night | 922 |\n",
    "| Suicide Squad | 39412 |\n",
    "| Criminal | 1997 |\n",
    "\n",
    "90% of our random sample has more than 30 user ratings so we can trust the two populations to be largely compatible as far as their own \"popularity\" score goes."
   ]
  },
  {
   "cell_type": "code",
   "execution_count": 88,
   "metadata": {},
   "outputs": [],
   "source": [
    "# Let's focus on just 2015 movies and 2016 movies.\n",
    "movies2015 = F_before[F_before[\"FILM\"].str.contains(\"2015\")]\n",
    "movies2016 = F_after[F_after[\"year\"] == 2016]"
   ]
  },
  {
   "cell_type": "code",
   "execution_count": 89,
   "metadata": {},
   "outputs": [
    {
     "data": {
      "text/html": [
       "<div>\n",
       "<style scoped>\n",
       "    .dataframe tbody tr th:only-of-type {\n",
       "        vertical-align: middle;\n",
       "    }\n",
       "\n",
       "    .dataframe tbody tr th {\n",
       "        vertical-align: top;\n",
       "    }\n",
       "\n",
       "    .dataframe thead th {\n",
       "        text-align: right;\n",
       "    }\n",
       "</style>\n",
       "<table border=\"1\" class=\"dataframe\">\n",
       "  <thead>\n",
       "    <tr style=\"text-align: right;\">\n",
       "      <th></th>\n",
       "      <th>FILM</th>\n",
       "      <th>Fandango_Stars</th>\n",
       "      <th>Fandango_Ratingvalue</th>\n",
       "      <th>Fandango_votes</th>\n",
       "      <th>Fandango_Difference</th>\n",
       "    </tr>\n",
       "  </thead>\n",
       "  <tbody>\n",
       "    <tr>\n",
       "      <th>0</th>\n",
       "      <td>Avengers: Age of Ultron (2015)</td>\n",
       "      <td>5.0</td>\n",
       "      <td>4.5</td>\n",
       "      <td>14846</td>\n",
       "      <td>0.5</td>\n",
       "    </tr>\n",
       "    <tr>\n",
       "      <th>1</th>\n",
       "      <td>Cinderella (2015)</td>\n",
       "      <td>5.0</td>\n",
       "      <td>4.5</td>\n",
       "      <td>12640</td>\n",
       "      <td>0.5</td>\n",
       "    </tr>\n",
       "    <tr>\n",
       "      <th>2</th>\n",
       "      <td>Ant-Man (2015)</td>\n",
       "      <td>5.0</td>\n",
       "      <td>4.5</td>\n",
       "      <td>12055</td>\n",
       "      <td>0.5</td>\n",
       "    </tr>\n",
       "  </tbody>\n",
       "</table>\n",
       "</div>"
      ],
      "text/plain": [
       "                             FILM  Fandango_Stars  Fandango_Ratingvalue  \\\n",
       "0  Avengers: Age of Ultron (2015)             5.0                   4.5   \n",
       "1               Cinderella (2015)             5.0                   4.5   \n",
       "2                  Ant-Man (2015)             5.0                   4.5   \n",
       "\n",
       "   Fandango_votes  Fandango_Difference  \n",
       "0           14846                  0.5  \n",
       "1           12640                  0.5  \n",
       "2           12055                  0.5  "
      ]
     },
     "execution_count": 89,
     "metadata": {},
     "output_type": "execute_result"
    }
   ],
   "source": [
    "movies2015.head(3)"
   ]
  },
  {
   "cell_type": "code",
   "execution_count": 90,
   "metadata": {},
   "outputs": [
    {
     "data": {
      "text/html": [
       "<div>\n",
       "<style scoped>\n",
       "    .dataframe tbody tr th:only-of-type {\n",
       "        vertical-align: middle;\n",
       "    }\n",
       "\n",
       "    .dataframe tbody tr th {\n",
       "        vertical-align: top;\n",
       "    }\n",
       "\n",
       "    .dataframe thead th {\n",
       "        text-align: right;\n",
       "    }\n",
       "</style>\n",
       "<table border=\"1\" class=\"dataframe\">\n",
       "  <thead>\n",
       "    <tr style=\"text-align: right;\">\n",
       "      <th></th>\n",
       "      <th>movie</th>\n",
       "      <th>year</th>\n",
       "      <th>fandango</th>\n",
       "    </tr>\n",
       "  </thead>\n",
       "  <tbody>\n",
       "    <tr>\n",
       "      <th>0</th>\n",
       "      <td>10 Cloverfield Lane</td>\n",
       "      <td>2016</td>\n",
       "      <td>3.5</td>\n",
       "    </tr>\n",
       "    <tr>\n",
       "      <th>1</th>\n",
       "      <td>13 Hours</td>\n",
       "      <td>2016</td>\n",
       "      <td>4.5</td>\n",
       "    </tr>\n",
       "    <tr>\n",
       "      <th>2</th>\n",
       "      <td>A Cure for Wellness</td>\n",
       "      <td>2016</td>\n",
       "      <td>3.0</td>\n",
       "    </tr>\n",
       "  </tbody>\n",
       "</table>\n",
       "</div>"
      ],
      "text/plain": [
       "                 movie  year  fandango\n",
       "0  10 Cloverfield Lane  2016       3.5\n",
       "1             13 Hours  2016       4.5\n",
       "2  A Cure for Wellness  2016       3.0"
      ]
     },
     "execution_count": 90,
     "metadata": {},
     "output_type": "execute_result"
    }
   ],
   "source": [
    "movies2016.head(3)"
   ]
  },
  {
   "cell_type": "code",
   "execution_count": 91,
   "metadata": {},
   "outputs": [
    {
     "data": {
      "text/plain": [
       "Text(0,0.5,'Density')"
      ]
     },
     "execution_count": 91,
     "metadata": {},
     "output_type": "execute_result"
    },
    {
     "data": {
      "image/png": "[encoded data removed]",
      "text/plain": [
       "<Figure size 432x288 with 1 Axes>"
      ]
     },
     "metadata": {},
     "output_type": "display_data"
    }
   ],
   "source": [
    "fig, ax = plt.subplots()\n",
    "movies2015[\"Fandango_Stars\"].plot.kde(label=\"2015\",legend=True,ax=ax)\n",
    "movies2016[\"fandango\"].plot.kde(label=\"2016\",legend=True,ax=ax)\n",
    "ax.set_title(\"Fandango Stars 2015-2016 Comparison\",fontsize=18)\n",
    "ax.set_xlim([0,5])\n",
    "ax.set_xticks([0, 0.5, 1.0, 1.5, 2.0, 2.5, 3.0, 3.5, 4.0, 4.5, 5.0])\n",
    "ax.set_xlabel(\"Rating (Stars)\")\n",
    "ax.set_ylabel(\"Density\")"
   ]
  },
  {
   "cell_type": "markdown",
   "metadata": {},
   "source": [
    "Fandango movie ratings show clear differences in 2016 compared to 2015:\n",
    "- Both distributions have negative skew, but the 2016 distribution is far more symmetric.\n",
    "- The mode was 4.5 in 2015, and is 4.0 on 2016.\n",
    "- The 2016 distribution has noticeably less 4.5-5.0 values and noticeably more 3.5-4.0 values.\n",
    "\n",
    "Overall, movies were rated lower on average in 2016 than they were in 2015.\n",
    "#### Data indicates that there was indeed a change between 2015 and 2016.\n",
    "\n",
    "Let's check the actual percentages."
   ]
  },
  {
   "cell_type": "code",
   "execution_count": 92,
   "metadata": {},
   "outputs": [
    {
     "name": "stdout",
     "output_type": "stream",
     "text": [
      "2015\n",
      "---------\n"
     ]
    },
    {
     "data": {
      "text/plain": [
       "3.0     8.527132\n",
       "3.5    17.829457\n",
       "4.0    28.682171\n",
       "4.5    37.984496\n",
       "5.0     6.976744\n",
       "Name: Fandango_Stars, dtype: float64"
      ]
     },
     "execution_count": 92,
     "metadata": {},
     "output_type": "execute_result"
    }
   ],
   "source": [
    "print(\"2015\\n---------\")\n",
    "movies2015_freqs = movies2015[\"Fandango_Stars\"].value_counts(normalize = True).sort_index()*100\n",
    "movies2015_freqs"
   ]
  },
  {
   "cell_type": "code",
   "execution_count": 93,
   "metadata": {},
   "outputs": [
    {
     "name": "stdout",
     "output_type": "stream",
     "text": [
      "2016\n",
      "---------\n"
     ]
    },
    {
     "data": {
      "text/plain": [
       "2.5     3.141361\n",
       "3.0     7.329843\n",
       "3.5    24.083770\n",
       "4.0    40.314136\n",
       "4.5    24.607330\n",
       "5.0     0.523560\n",
       "Name: fandango, dtype: float64"
      ]
     },
     "execution_count": 93,
     "metadata": {},
     "output_type": "execute_result"
    }
   ],
   "source": [
    "print(\"2016\\n---------\")\n",
    "movies2016_freqs = movies2016[\"fandango\"].value_counts(normalize = True).sort_index()*100\n",
    "movies2016_freqs"
   ]
  },
  {
   "cell_type": "markdown",
   "metadata": {},
   "source": [
    "The percentages confirm what we've seen with the KDE plots. \n",
    "- No movies had 2.5 stars in 2015, while in 2016 a little more than 3% did.\n",
    "- 3.5 and 4.0 stars grew from 17.8% and 28.7% to 24.1% and 40.3%, while 4.5 and 5.0 stars declined from 38% and 7% to 24.6% and 0.5%.\n",
    "\n",
    "Let's now look at some summary statistics: mean, median and mode."
   ]
  },
  {
   "cell_type": "code",
   "execution_count": 94,
   "metadata": {},
   "outputs": [],
   "source": [
    "movies2015_mean = movies2015[\"Fandango_Stars\"].mean()\n",
    "movies2015_median = movies2015[\"Fandango_Stars\"].median()\n",
    "movies2015_mode = movies2015[\"Fandango_Stars\"].mode()[0]\n",
    "movies2016_mean = movies2016[\"fandango\"].mean()\n",
    "movies2016_median = movies2016[\"fandango\"].median()\n",
    "movies2016_mode = movies2016[\"fandango\"].mode()[0]"
   ]
  },
  {
   "cell_type": "code",
   "execution_count": 95,
   "metadata": {},
   "outputs": [
    {
     "data": {
      "text/html": [
       "<div>\n",
       "<style scoped>\n",
       "    .dataframe tbody tr th:only-of-type {\n",
       "        vertical-align: middle;\n",
       "    }\n",
       "\n",
       "    .dataframe tbody tr th {\n",
       "        vertical-align: top;\n",
       "    }\n",
       "\n",
       "    .dataframe thead th {\n",
       "        text-align: right;\n",
       "    }\n",
       "</style>\n",
       "<table border=\"1\" class=\"dataframe\">\n",
       "  <thead>\n",
       "    <tr style=\"text-align: right;\">\n",
       "      <th></th>\n",
       "      <th>2015</th>\n",
       "      <th>2016</th>\n",
       "    </tr>\n",
       "  </thead>\n",
       "  <tbody>\n",
       "    <tr>\n",
       "      <th>Mean</th>\n",
       "      <td>4.085271</td>\n",
       "      <td>3.887435</td>\n",
       "    </tr>\n",
       "    <tr>\n",
       "      <th>Median</th>\n",
       "      <td>4.000000</td>\n",
       "      <td>4.000000</td>\n",
       "    </tr>\n",
       "    <tr>\n",
       "      <th>Mode</th>\n",
       "      <td>4.500000</td>\n",
       "      <td>4.000000</td>\n",
       "    </tr>\n",
       "  </tbody>\n",
       "</table>\n",
       "</div>"
      ],
      "text/plain": [
       "            2015      2016\n",
       "Mean    4.085271  3.887435\n",
       "Median  4.000000  4.000000\n",
       "Mode    4.500000  4.000000"
      ]
     },
     "execution_count": 95,
     "metadata": {},
     "output_type": "execute_result"
    }
   ],
   "source": [
    "stats = pd.DataFrame()\n",
    "stats[\"2015\"] = [movies2015_mean,movies2015_median,movies2015_mode]\n",
    "stats[\"2016\"] = [movies2016_mean,movies2016_median,movies2016_mode]\n",
    "stats.index = [\"Mean\",\"Median\",\"Mode\"]\n",
    "stats"
   ]
  },
  {
   "cell_type": "code",
   "execution_count": 96,
   "metadata": {},
   "outputs": [
    {
     "data": {
      "image/png": "[encoded data removed]",
      "text/plain": [
       "<Figure size 432x360 with 1 Axes>"
      ]
     },
     "metadata": {},
     "output_type": "display_data"
    }
   ],
   "source": [
    "width = .3\n",
    "fig, ax = plt.subplots(figsize=(6,5))\n",
    "f1 = ax.bar(np.arange(3),stats[\"2015\"],width,color=plt.cm.Set2(0))\n",
    "f2 = ax.bar(np.arange(3)+width,stats[\"2016\"],width,color=plt.cm.Set2(.20))\n",
    "#stats[\"2015\"].plot.bar(color=\"b\",label=\"2015\",legend=True)\n",
    "#stats[\"2016\"].plot.bar(color=\"r\",label=\"2016\",legend=True)\n",
    "ax.set_title(\"Comparing distribution statistics: 2015-2016\", y = 1.05)\n",
    "ax.set_xlabel(\"Parameter\")\n",
    "ax.set_ylabel(\"Stars\")\n",
    "ax.set_ylim([0.0,5.0])\n",
    "ax.set_xticks([.3,1.3,2.3])\n",
    "ax.set_yticks(np.arange(0,5.5,.5))\n",
    "ax.set_xticklabels(stats.index)\n",
    "ax.legend((f1[0], f2[0]), ('2015', '2016'), loc=\"upper center\")\n",
    "ax.autoscale_view()"
   ]
  },
  {
   "cell_type": "markdown",
   "metadata": {},
   "source": [
    "The summary statistics convey that the median of the populations remained the same, with four stars being the half-population split both in 2015 and 2016. Mean and mode however decreased in 2016, indicating that what is happening here is more or less a change of the shape of the distributions, as we can also confirm visually thanks to the KDE plots above.\n",
    "\n",
    "For final confirmation, let's test the significance of the changes in the mean with a two_tailed approximate permutation test."
   ]
  },
  {
   "cell_type": "code",
   "execution_count": 97,
   "metadata": {},
   "outputs": [
    {
     "name": "stdout",
     "output_type": "stream",
     "text": [
      "Difference of means (absolute):  0.19783676285563567\n"
     ]
    }
   ],
   "source": [
    "abs_mean_diff = abs(stats.at[\"Mean\",\"2016\"]-stats.at[\"Mean\",\"2015\"])\n",
    "print(\"Difference of means (absolute): \", abs_mean_diff)"
   ]
  },
  {
   "cell_type": "code",
   "execution_count": 102,
   "metadata": {},
   "outputs": [],
   "source": [
    "# Now we sample randomly from both sets and create new distributions with new differences in mean and mode. \n",
    "all_scores = movies2015[\"Fandango_Stars\"].append(movies2016[\"fandango\"])\n",
    "abs_mean_diffs = []\n",
    "for i in range(1000):\n",
    "    dist_a = []\n",
    "    dist_b = []\n",
    "    for i in all_scores:\n",
    "        if np.random.rand() >= .5:\n",
    "            dist_a.append(i)\n",
    "        else:\n",
    "            dist_b.append(i)\n",
    "    iter_mean_diff = abs(np.mean(dist_b)-np.mean(dist_a))\n",
    "    abs_mean_diffs.append(iter_mean_diff)"
   ]
  },
  {
   "cell_type": "code",
   "execution_count": 103,
   "metadata": {},
   "outputs": [
    {
     "name": "stdout",
     "output_type": "stream",
     "text": [
      "P-value (mean, two-tailed):  0.001\n"
     ]
    }
   ],
   "source": [
    "# How often are these differences greater than the ones we obtained with the real distributions?\n",
    "frequency = 0\n",
    "for i in abs_mean_diffs:\n",
    "    if i >= abs_mean_diff:\n",
    "        frequency += 1\n",
    "p_value_mean = frequency/len(abs_mean_diffs)\n",
    "frequency = 0\n",
    "for i in abs_mode_diffs:\n",
    "    if i >= abs_mode_diff:\n",
    "        frequency += 1\n",
    "p_value_mode = frequency/len(abs_mode_diffs)\n",
    "print(\"P-value (mean, two-tailed): \", p_value_mean)"
   ]
  },
  {
   "cell_type": "markdown",
   "metadata": {
    "collapsed": true
   },
   "source": [
    "The p-value is well below the traditional 5% confidence threshold, meaning that it is highly unlikely that the change in distribution means between 2015 and 2016 was a random occurrence.\n",
    "\n",
    "##### The only thing left now is to explore whether the change is really due to a change in the rating system, or is in fact due to genuine differences in movie quality between 2015 and 2016.\n",
    "\n",
    "To do so, let's compare 2015-2016 ratings for IMDB, Rotten Tomatoes and Metacritic - none of the three should have changed their review systems within this timeframe."
   ]
  },
  {
   "cell_type": "markdown",
   "metadata": {},
   "source": [
    "## IMDB"
   ]
  },
  {
   "cell_type": "code",
   "execution_count": 104,
   "metadata": {},
   "outputs": [],
   "source": [
    "# As we did before for Fandango, let's select the useful columns and filter by year\n",
    "I_before = before[[\"FILM\",\"IMDB_norm\"]].copy()\n",
    "I_after = after[[\"movie\",\"year\",\"n_imdb\"]].copy()\n",
    "imdb2015 = I_before[I_before[\"FILM\"].str.contains(\"2015\")]\n",
    "imdb2016 = I_after[I_after[\"year\"] == 2016]"
   ]
  },
  {
   "cell_type": "code",
   "execution_count": 105,
   "metadata": {},
   "outputs": [],
   "source": [
    "imdb2015_mean = imdb2015[\"IMDB_norm\"].mean()\n",
    "imdb2015_median = imdb2015[\"IMDB_norm\"].median()\n",
    "imdb2015_mode = imdb2015[\"IMDB_norm\"].mode()[0]\n",
    "imdb2016_mean = imdb2016[\"n_imdb\"].mean()\n",
    "imdb2016_median = imdb2016[\"n_imdb\"].median()\n",
    "imdb2016_mode = imdb2016[\"n_imdb\"].mode()[0]"
   ]
  },
  {
   "cell_type": "code",
   "execution_count": 108,
   "metadata": {},
   "outputs": [
    {
     "data": {
      "text/html": [
       "<div>\n",
       "<style scoped>\n",
       "    .dataframe tbody tr th:only-of-type {\n",
       "        vertical-align: middle;\n",
       "    }\n",
       "\n",
       "    .dataframe tbody tr th {\n",
       "        vertical-align: top;\n",
       "    }\n",
       "\n",
       "    .dataframe thead th {\n",
       "        text-align: right;\n",
       "    }\n",
       "</style>\n",
       "<table border=\"1\" class=\"dataframe\">\n",
       "  <thead>\n",
       "    <tr style=\"text-align: right;\">\n",
       "      <th></th>\n",
       "      <th>2015</th>\n",
       "      <th>2016</th>\n",
       "    </tr>\n",
       "  </thead>\n",
       "  <tbody>\n",
       "    <tr>\n",
       "      <th>Mean</th>\n",
       "      <td>3.34186</td>\n",
       "      <td>3.229581</td>\n",
       "    </tr>\n",
       "    <tr>\n",
       "      <th>Median</th>\n",
       "      <td>3.35000</td>\n",
       "      <td>3.250000</td>\n",
       "    </tr>\n",
       "    <tr>\n",
       "      <th>Mode</th>\n",
       "      <td>3.30000</td>\n",
       "      <td>3.150000</td>\n",
       "    </tr>\n",
       "  </tbody>\n",
       "</table>\n",
       "</div>"
      ],
      "text/plain": [
       "           2015      2016\n",
       "Mean    3.34186  3.229581\n",
       "Median  3.35000  3.250000\n",
       "Mode    3.30000  3.150000"
      ]
     },
     "execution_count": 108,
     "metadata": {},
     "output_type": "execute_result"
    }
   ],
   "source": [
    "stats = pd.DataFrame()\n",
    "stats[\"2015\"] = [imdb2015_mean,imdb2015_median,imdb2015_mode]\n",
    "stats[\"2016\"] = [imdb2016_mean,imdb2016_median,imdb2016_mode]\n",
    "stats.index = [\"Mean\",\"Median\",\"Mode\"]\n",
    "stats"
   ]
  },
  {
   "cell_type": "code",
   "execution_count": 110,
   "metadata": {},
   "outputs": [
    {
     "data": {
      "text/plain": [
       "Text(0,0.5,'Density')"
      ]
     },
     "execution_count": 110,
     "metadata": {},
     "output_type": "execute_result"
    },
    {
     "data": {
      "image/png": "[encoded data removed]",
      "text/plain": [
       "<Figure size 432x288 with 1 Axes>"
      ]
     },
     "metadata": {},
     "output_type": "display_data"
    }
   ],
   "source": [
    "fig, ax = plt.subplots()\n",
    "imdb2015[\"IMDB_norm\"].plot.kde(label=\"2015\",legend=True,ax=ax)\n",
    "imdb2016[\"n_imdb\"].plot.kde(label=\"2016\",legend=True,ax=ax)\n",
    "ax.set_title(\"IMDB Stars 2015-2016 Comparison\",fontsize=18)\n",
    "ax.set_xlim([0,5])\n",
    "ax.set_xticks([0, 0.5, 1.0, 1.5, 2.0, 2.5, 3.0, 3.5, 4.0, 4.5, 5.0])\n",
    "ax.set_xlabel(\"Rating (Stars)\")\n",
    "ax.set_ylabel(\"Density\")"
   ]
  },
  {
   "cell_type": "code",
   "execution_count": 109,
   "metadata": {},
   "outputs": [
    {
     "data": {
      "image/png": "[encoded data removed]",
      "text/plain": [
       "<Figure size 432x360 with 1 Axes>"
      ]
     },
     "metadata": {},
     "output_type": "display_data"
    }
   ],
   "source": [
    "width = .3\n",
    "fig, ax = plt.subplots(figsize=(6,5))\n",
    "f1 = ax.bar(np.arange(3),stats[\"2015\"],width,color=plt.cm.Set2(0))\n",
    "f2 = ax.bar(np.arange(3)+width,stats[\"2016\"],width,color=plt.cm.Set2(.20))\n",
    "#stats[\"2015\"].plot.bar(color=\"b\",label=\"2015\",legend=True)\n",
    "#stats[\"2016\"].plot.bar(color=\"r\",label=\"2016\",legend=True)\n",
    "ax.set_title(\"Comparing distribution statistics (IMDB): 2015-2016\", y = 1.05)\n",
    "ax.set_xlabel(\"Parameter\")\n",
    "ax.set_ylabel(\"Stars\")\n",
    "ax.set_ylim([0.0,5.0])\n",
    "ax.set_xticks([.3,1.3,2.3])\n",
    "ax.set_yticks(np.arange(0,5.5,.5))\n",
    "ax.set_xticklabels(stats.index)\n",
    "ax.legend((f1[0], f2[0]), ('2015', '2016'), loc=\"upper center\")\n",
    "ax.autoscale_view()"
   ]
  },
  {
   "cell_type": "markdown",
   "metadata": {},
   "source": [
    "The distributions aren't as markedly different (and are more nuanced since the IMDB scores are much more granular), but for IMDB too there was a decrease in the mean of the distributions between 2015 and 2016. Once again, let's test the significance of this difference using the two-tailed approximate permutation test."
   ]
  },
  {
   "cell_type": "code",
   "execution_count": 111,
   "metadata": {},
   "outputs": [
    {
     "name": "stdout",
     "output_type": "stream",
     "text": [
      "Difference of means (absolute):  0.11227931328382068\n"
     ]
    }
   ],
   "source": [
    "abs_mean_diff = abs(stats.at[\"Mean\",\"2016\"]-stats.at[\"Mean\",\"2015\"])\n",
    "print(\"Difference of means (absolute): \", abs_mean_diff)"
   ]
  },
  {
   "cell_type": "code",
   "execution_count": 116,
   "metadata": {},
   "outputs": [],
   "source": [
    "# Now we sample randomly from both sets and create new distributions with new differences in mean and mode. \n",
    "all_scores = imdb2015[\"IMDB_norm\"].append(imdb2016[\"n_imdb\"])\n",
    "abs_mean_diffs = []\n",
    "for i in range(1000):\n",
    "    dist_a = []\n",
    "    dist_b = []\n",
    "    for i in all_scores:\n",
    "        if np.random.rand() >= .5:\n",
    "            dist_a.append(i)\n",
    "        else:\n",
    "            dist_b.append(i)\n",
    "    iter_mean_diff = abs(np.mean(dist_b)-np.mean(dist_a))\n",
    "    abs_mean_diffs.append(iter_mean_diff)"
   ]
  },
  {
   "cell_type": "code",
   "execution_count": 117,
   "metadata": {},
   "outputs": [
    {
     "name": "stdout",
     "output_type": "stream",
     "text": [
      "P-value (mean, two-tailed):  0.039\n"
     ]
    }
   ],
   "source": [
    "# How often are these differences greater than the ones we obtained with the real distributions?\n",
    "frequency = 0\n",
    "for i in abs_mean_diffs:\n",
    "    if i >= abs_mean_diff:\n",
    "        frequency += 1\n",
    "p_value_mean = frequency/len(abs_mean_diffs)\n",
    "frequency = 0\n",
    "for i in abs_mode_diffs:\n",
    "    if i >= abs_mode_diff:\n",
    "        frequency += 1\n",
    "p_value_mode = frequency/len(abs_mode_diffs)\n",
    "print(\"P-value (mean, two-tailed): \", p_value_mean)"
   ]
  },
  {
   "cell_type": "markdown",
   "metadata": {},
   "source": [
    "The p-value for IMDB is larger, but still below the 5% confidence threshold. It is not, however, below the 1% threshold as the Fandango one was."
   ]
  },
  {
   "cell_type": "markdown",
   "metadata": {},
   "source": [
    "## Metacritic"
   ]
  },
  {
   "cell_type": "code",
   "execution_count": 118,
   "metadata": {},
   "outputs": [],
   "source": [
    "# Let's select the useful columns and filter by year\n",
    "M_before = before[[\"FILM\",\"Metacritic_norm\"]].copy()\n",
    "M_after = after[[\"movie\",\"year\",\"n_metascore\"]].copy()\n",
    "metacritic2015 = M_before[M_before[\"FILM\"].str.contains(\"2015\")]\n",
    "metacritic2016 = M_after[M_after[\"year\"] == 2016]"
   ]
  },
  {
   "cell_type": "code",
   "execution_count": 119,
   "metadata": {},
   "outputs": [],
   "source": [
    "metacritic2015_mean = metacritic2015[\"Metacritic_norm\"].mean()\n",
    "metacritic2015_median = metacritic2015[\"Metacritic_norm\"].median()\n",
    "metacritic2015_mode = metacritic2015[\"Metacritic_norm\"].mode()[0]\n",
    "metacritic2016_mean = metacritic2016[\"n_metascore\"].mean()\n",
    "metacritic2016_median = metacritic2016[\"n_metascore\"].median()\n",
    "metacritic2016_mode = metacritic2016[\"n_metascore\"].mode()[0]"
   ]
  },
  {
   "cell_type": "code",
   "execution_count": 120,
   "metadata": {},
   "outputs": [
    {
     "data": {
      "text/html": [
       "<div>\n",
       "<style scoped>\n",
       "    .dataframe tbody tr th:only-of-type {\n",
       "        vertical-align: middle;\n",
       "    }\n",
       "\n",
       "    .dataframe tbody tr th {\n",
       "        vertical-align: top;\n",
       "    }\n",
       "\n",
       "    .dataframe thead th {\n",
       "        text-align: right;\n",
       "    }\n",
       "</style>\n",
       "<table border=\"1\" class=\"dataframe\">\n",
       "  <thead>\n",
       "    <tr style=\"text-align: right;\">\n",
       "      <th></th>\n",
       "      <th>2015</th>\n",
       "      <th>2016</th>\n",
       "    </tr>\n",
       "  </thead>\n",
       "  <tbody>\n",
       "    <tr>\n",
       "      <th>Mean</th>\n",
       "      <td>2.84031</td>\n",
       "      <td>2.682461</td>\n",
       "    </tr>\n",
       "    <tr>\n",
       "      <th>Median</th>\n",
       "      <td>2.80000</td>\n",
       "      <td>2.700000</td>\n",
       "    </tr>\n",
       "    <tr>\n",
       "      <th>Mode</th>\n",
       "      <td>3.35000</td>\n",
       "      <td>2.900000</td>\n",
       "    </tr>\n",
       "  </tbody>\n",
       "</table>\n",
       "</div>"
      ],
      "text/plain": [
       "           2015      2016\n",
       "Mean    2.84031  2.682461\n",
       "Median  2.80000  2.700000\n",
       "Mode    3.35000  2.900000"
      ]
     },
     "execution_count": 120,
     "metadata": {},
     "output_type": "execute_result"
    }
   ],
   "source": [
    "stats = pd.DataFrame()\n",
    "stats[\"2015\"] = [metacritic2015_mean,metacritic2015_median,metacritic2015_mode]\n",
    "stats[\"2016\"] = [metacritic2016_mean,metacritic2016_median,metacritic2016_mode]\n",
    "stats.index = [\"Mean\",\"Median\",\"Mode\"]\n",
    "stats"
   ]
  },
  {
   "cell_type": "code",
   "execution_count": 121,
   "metadata": {},
   "outputs": [
    {
     "data": {
      "text/plain": [
       "Text(0,0.5,'Density')"
      ]
     },
     "execution_count": 121,
     "metadata": {},
     "output_type": "execute_result"
    },
    {
     "data": {
      "image/png": "[encoded data removed]",
      "text/plain": [
       "<Figure size 432x288 with 1 Axes>"
      ]
     },
     "metadata": {},
     "output_type": "display_data"
    }
   ],
   "source": [
    "fig, ax = plt.subplots()\n",
    "metacritic2015[\"Metacritic_norm\"].plot.kde(label=\"2015\",legend=True,ax=ax)\n",
    "metacritic2016[\"n_metascore\"].plot.kde(label=\"2016\",legend=True,ax=ax)\n",
    "ax.set_title(\"Metacritic Stars 2015-2016 Comparison\",fontsize=18)\n",
    "ax.set_xlim([0,5])\n",
    "ax.set_xticks([0, 0.5, 1.0, 1.5, 2.0, 2.5, 3.0, 3.5, 4.0, 4.5, 5.0])\n",
    "ax.set_xlabel(\"Rating (Stars)\")\n",
    "ax.set_ylabel(\"Density\")"
   ]
  },
  {
   "cell_type": "code",
   "execution_count": 122,
   "metadata": {},
   "outputs": [
    {
     "data": {
      "image/png": "[encoded data removed]",
      "text/plain": [
       "<Figure size 432x360 with 1 Axes>"
      ]
     },
     "metadata": {},
     "output_type": "display_data"
    }
   ],
   "source": [
    "width = .3\n",
    "fig, ax = plt.subplots(figsize=(6,5))\n",
    "f1 = ax.bar(np.arange(3),stats[\"2015\"],width,color=plt.cm.Set2(0))\n",
    "f2 = ax.bar(np.arange(3)+width,stats[\"2016\"],width,color=plt.cm.Set2(.20))\n",
    "#stats[\"2015\"].plot.bar(color=\"b\",label=\"2015\",legend=True)\n",
    "#stats[\"2016\"].plot.bar(color=\"r\",label=\"2016\",legend=True)\n",
    "ax.set_title(\"Comparing distribution statistics (Metacritic): 2015-2016\", y = 1.05)\n",
    "ax.set_xlabel(\"Parameter\")\n",
    "ax.set_ylabel(\"Stars\")\n",
    "ax.set_ylim([0.0,5.0])\n",
    "ax.set_xticks([.3,1.3,2.3])\n",
    "ax.set_yticks(np.arange(0,5.5,.5))\n",
    "ax.set_xticklabels(stats.index)\n",
    "ax.legend((f1[0], f2[0]), ('2015', '2016'), loc=\"upper center\")\n",
    "ax.autoscale_view()"
   ]
  },
  {
   "cell_type": "markdown",
   "metadata": {},
   "source": [
    "Once again the distributions aren't as markedly different, but for Metacritic too there was a decrease in the mean of the distributions between 2015 and 2016. Once again, let's test the significance of this difference using the two-tailed approximate permutation test."
   ]
  },
  {
   "cell_type": "code",
   "execution_count": 123,
   "metadata": {},
   "outputs": [
    {
     "name": "stdout",
     "output_type": "stream",
     "text": [
      "Difference of means (absolute):  0.1578493445350837\n"
     ]
    }
   ],
   "source": [
    "abs_mean_diff = abs(stats.at[\"Mean\",\"2016\"]-stats.at[\"Mean\",\"2015\"])\n",
    "print(\"Difference of means (absolute): \", abs_mean_diff)"
   ]
  },
  {
   "cell_type": "code",
   "execution_count": 128,
   "metadata": {},
   "outputs": [],
   "source": [
    "# Now we sample randomly from both sets and create new distributions with new differences in mean and mode. \n",
    "all_scores = metacritic2015[\"Metacritic_norm\"].append(metacritic2016[\"n_metascore\"])\n",
    "abs_mean_diffs = []\n",
    "for i in range(1000):\n",
    "    dist_a = []\n",
    "    dist_b = []\n",
    "    for i in all_scores:\n",
    "        if np.random.rand() >= .5:\n",
    "            dist_a.append(i)\n",
    "        else:\n",
    "            dist_b.append(i)\n",
    "    iter_mean_diff = abs(np.mean(dist_b)-np.mean(dist_a))\n",
    "    abs_mean_diffs.append(iter_mean_diff)"
   ]
  },
  {
   "cell_type": "code",
   "execution_count": 129,
   "metadata": {},
   "outputs": [
    {
     "name": "stdout",
     "output_type": "stream",
     "text": [
      "P-value (mean, two-tailed):  0.108\n"
     ]
    }
   ],
   "source": [
    "# How often are these differences greater than the ones we obtained with the real distributions?\n",
    "frequency = 0\n",
    "for i in abs_mean_diffs:\n",
    "    if i >= abs_mean_diff:\n",
    "        frequency += 1\n",
    "p_value_mean = frequency/len(abs_mean_diffs)\n",
    "frequency = 0\n",
    "for i in abs_mode_diffs:\n",
    "    if i >= abs_mode_diff:\n",
    "        frequency += 1\n",
    "p_value_mode = frequency/len(abs_mode_diffs)\n",
    "print(\"P-value (mean, two-tailed): \", p_value_mean)"
   ]
  },
  {
   "cell_type": "markdown",
   "metadata": {},
   "source": [
    "The p-value for Metacritic is larger and above the 5% confidence threshold, indicating that there is more than a 1-in-20 chance (more than a 1-in-10 one in fact) that the difference in Metacritic score distributions between 2015 and 2016 was due to random chance."
   ]
  },
  {
   "cell_type": "markdown",
   "metadata": {},
   "source": [
    "## Rotten Tomatoes"
   ]
  },
  {
   "cell_type": "code",
   "execution_count": 130,
   "metadata": {},
   "outputs": [],
   "source": [
    "# Let's select the useful columns and filter by year\n",
    "R_before = before[[\"FILM\",\"RT_norm\"]].copy()\n",
    "R_after = after[[\"movie\",\"year\",\"n_tmeter\"]].copy()\n",
    "RT2015 = R_before[R_before[\"FILM\"].str.contains(\"2015\")]\n",
    "RT2016 = R_after[R_after[\"year\"] == 2016]"
   ]
  },
  {
   "cell_type": "code",
   "execution_count": 131,
   "metadata": {},
   "outputs": [],
   "source": [
    "RT2015_mean = RT2015[\"RT_norm\"].mean()\n",
    "RT2015_median = RT2015[\"RT_norm\"].median()\n",
    "RT2015_mode = RT2015[\"RT_norm\"].mode()[0]\n",
    "RT2016_mean = RT2016[\"n_tmeter\"].mean()\n",
    "RT2016_median = RT2016[\"n_tmeter\"].median()\n",
    "RT2016_mode = RT2016[\"n_tmeter\"].mode()[0]"
   ]
  },
  {
   "cell_type": "code",
   "execution_count": 132,
   "metadata": {},
   "outputs": [
    {
     "data": {
      "text/html": [
       "<div>\n",
       "<style scoped>\n",
       "    .dataframe tbody tr th:only-of-type {\n",
       "        vertical-align: middle;\n",
       "    }\n",
       "\n",
       "    .dataframe tbody tr th {\n",
       "        vertical-align: top;\n",
       "    }\n",
       "\n",
       "    .dataframe thead th {\n",
       "        text-align: right;\n",
       "    }\n",
       "</style>\n",
       "<table border=\"1\" class=\"dataframe\">\n",
       "  <thead>\n",
       "    <tr style=\"text-align: right;\">\n",
       "      <th></th>\n",
       "      <th>2015</th>\n",
       "      <th>2016</th>\n",
       "    </tr>\n",
       "  </thead>\n",
       "  <tbody>\n",
       "    <tr>\n",
       "      <th>Mean</th>\n",
       "      <td>2.919767</td>\n",
       "      <td>2.718325</td>\n",
       "    </tr>\n",
       "    <tr>\n",
       "      <th>Median</th>\n",
       "      <td>3.000000</td>\n",
       "      <td>2.850000</td>\n",
       "    </tr>\n",
       "    <tr>\n",
       "      <th>Mode</th>\n",
       "      <td>1.300000</td>\n",
       "      <td>4.200000</td>\n",
       "    </tr>\n",
       "  </tbody>\n",
       "</table>\n",
       "</div>"
      ],
      "text/plain": [
       "            2015      2016\n",
       "Mean    2.919767  2.718325\n",
       "Median  3.000000  2.850000\n",
       "Mode    1.300000  4.200000"
      ]
     },
     "execution_count": 132,
     "metadata": {},
     "output_type": "execute_result"
    }
   ],
   "source": [
    "stats = pd.DataFrame()\n",
    "stats[\"2015\"] = [RT2015_mean,RT2015_median,RT2015_mode]\n",
    "stats[\"2016\"] = [RT2016_mean,RT2016_median,RT2016_mode]\n",
    "stats.index = [\"Mean\",\"Median\",\"Mode\"]\n",
    "stats"
   ]
  },
  {
   "cell_type": "code",
   "execution_count": 133,
   "metadata": {},
   "outputs": [
    {
     "data": {
      "text/plain": [
       "Text(0,0.5,'Density')"
      ]
     },
     "execution_count": 133,
     "metadata": {},
     "output_type": "execute_result"
    },
    {
     "data": {
      "image/png": "[encoded data removed]",
      "text/plain": [
       "<Figure size 432x288 with 1 Axes>"
      ]
     },
     "metadata": {},
     "output_type": "display_data"
    }
   ],
   "source": [
    "fig, ax = plt.subplots()\n",
    "RT2015[\"RT_norm\"].plot.kde(label=\"2015\",legend=True,ax=ax)\n",
    "RT2016[\"n_tmeter\"].plot.kde(label=\"2016\",legend=True,ax=ax)\n",
    "ax.set_title(\"Rotten Tomatoes Stars 2015-2016 Comparison\",fontsize=18)\n",
    "ax.set_xlim([0,5])\n",
    "ax.set_xticks([0, 0.5, 1.0, 1.5, 2.0, 2.5, 3.0, 3.5, 4.0, 4.5, 5.0])\n",
    "ax.set_xlabel(\"Rating (Stars)\")\n",
    "ax.set_ylabel(\"Density\")"
   ]
  },
  {
   "cell_type": "code",
   "execution_count": 134,
   "metadata": {},
   "outputs": [
    {
     "data": {
      "image/png": "[encoded data removed]",
      "text/plain": [
       "<Figure size 432x360 with 1 Axes>"
      ]
     },
     "metadata": {},
     "output_type": "display_data"
    }
   ],
   "source": [
    "width = .3\n",
    "fig, ax = plt.subplots(figsize=(6,5))\n",
    "f1 = ax.bar(np.arange(3),stats[\"2015\"],width,color=plt.cm.Set2(0))\n",
    "f2 = ax.bar(np.arange(3)+width,stats[\"2016\"],width,color=plt.cm.Set2(.20))\n",
    "#stats[\"2015\"].plot.bar(color=\"b\",label=\"2015\",legend=True)\n",
    "#stats[\"2016\"].plot.bar(color=\"r\",label=\"2016\",legend=True)\n",
    "ax.set_title(\"Comparing distribution statistics (Rotten Tomatoes): 2015-2016\", y = 1.05)\n",
    "ax.set_xlabel(\"Parameter\")\n",
    "ax.set_ylabel(\"Stars\")\n",
    "ax.set_ylim([0.0,5.0])\n",
    "ax.set_xticks([.3,1.3,2.3])\n",
    "ax.set_yticks(np.arange(0,5.5,.5))\n",
    "ax.set_xticklabels(stats.index)\n",
    "ax.legend((f1[0], f2[0]), ('2015', '2016'), loc=\"upper center\")\n",
    "ax.autoscale_view()"
   ]
  },
  {
   "cell_type": "markdown",
   "metadata": {},
   "source": [
    "Once again the distributions aren't as markedly different, but for Metacritic too there was a decrease in the mean of the distributions between 2015 and 2016. Once again, let's test the significance of this difference using the two-tailed approximate permutation test."
   ]
  },
  {
   "cell_type": "code",
   "execution_count": 135,
   "metadata": {},
   "outputs": [
    {
     "name": "stdout",
     "output_type": "stream",
     "text": [
      "Difference of means (absolute):  0.20144283453062473\n"
     ]
    }
   ],
   "source": [
    "abs_mean_diff = abs(stats.at[\"Mean\",\"2016\"]-stats.at[\"Mean\",\"2015\"])\n",
    "print(\"Difference of means (absolute): \", abs_mean_diff)"
   ]
  },
  {
   "cell_type": "code",
   "execution_count": 136,
   "metadata": {},
   "outputs": [],
   "source": [
    "# Now we sample randomly from both sets and create new distributions with new differences in mean and mode. \n",
    "all_scores = RT2015[\"RT_norm\"].append(RT2016[\"n_tmeter\"])\n",
    "abs_mean_diffs = []\n",
    "for i in range(1000):\n",
    "    dist_a = []\n",
    "    dist_b = []\n",
    "    for i in all_scores:\n",
    "        if np.random.rand() >= .5:\n",
    "            dist_a.append(i)\n",
    "        else:\n",
    "            dist_b.append(i)\n",
    "    iter_mean_diff = abs(np.mean(dist_b)-np.mean(dist_a))\n",
    "    abs_mean_diffs.append(iter_mean_diff)"
   ]
  },
  {
   "cell_type": "code",
   "execution_count": 137,
   "metadata": {},
   "outputs": [
    {
     "name": "stdout",
     "output_type": "stream",
     "text": [
      "P-value (mean, two-tailed):  0.247\n"
     ]
    }
   ],
   "source": [
    "# How often are these differences greater than the ones we obtained with the real distributions?\n",
    "frequency = 0\n",
    "for i in abs_mean_diffs:\n",
    "    if i >= abs_mean_diff:\n",
    "        frequency += 1\n",
    "p_value_mean = frequency/len(abs_mean_diffs)\n",
    "frequency = 0\n",
    "for i in abs_mode_diffs:\n",
    "    if i >= abs_mode_diff:\n",
    "        frequency += 1\n",
    "p_value_mode = frequency/len(abs_mode_diffs)\n",
    "print(\"P-value (mean, two-tailed): \", p_value_mean)"
   ]
  },
  {
   "cell_type": "markdown",
   "metadata": {},
   "source": [
    "The p-value for Rotten Tomatoes is way larger than the 5% confidence threshold! There's almost a 1-in-4 chance that the difference in Rotten Tomatoes score distributions between 2015 and 2016 was due to random chance."
   ]
  },
  {
   "cell_type": "markdown",
   "metadata": {},
   "source": [
    "# Conclusions"
   ]
  },
  {
   "cell_type": "markdown",
   "metadata": {},
   "source": [
    "The difference in Fandango review score distributions between 2015 and 2016 is marked, both visually and statistically. A two-tailed approximate permutation test showed that there is less than a 1% chance that the difference in mean between the two distributions is due to random chance. Both a change in the scoring system and a genuine shift in movie quality between the two years could, however, explain the difference.\n",
    "\n",
    "To settle the question, the same statistical test was performed on IMDB, Metacritic and Rotten Tomatoes scores. In all cases the mean decreased between 2015 and 2016, indicating that perhaps there really was some decrease in general quality of the movies. However, of the three only IMDB had a permutation test p-score below the confidence threshold, and even then with a value an order of magnitude larger than that for Fandango scores. Differences in Metacritic and Rotten Tomatoes score distributions were found to respectively have a ~1-in-10 and a ~1-in-4 chance of being due to random chance.\n",
    "\n",
    "##### To conclude, it is likely that Fandango did in fact change its scoring system."
   ]
  },
  {
   "cell_type": "code",
   "execution_count": null,
   "metadata": {},
   "outputs": [],
   "source": []
  }
 ],
 "metadata": {
  "kernelspec": {
   "display_name": "Python 3",
   "language": "python",
   "name": "python3"
  },
  "language_info": {
   "codemirror_mode": {
    "name": "ipython",
    "version": 3
   },
   "file_extension": ".py",
   "mimetype": "text/x-python",
   "name": "python",
   "nbconvert_exporter": "python",
   "pygments_lexer": "ipython3",
   "version": "3.6.5"
  }
 },
 "nbformat": 4,
 "nbformat_minor": 2
}
