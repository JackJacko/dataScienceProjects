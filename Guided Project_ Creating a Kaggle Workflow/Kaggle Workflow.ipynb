{
 "cells": [
  {
   "cell_type": "markdown",
   "metadata": {},
   "source": [
    "# Kaggle Workflow\n",
    "As a compendium to the previous \"Refining Model Accuracies\" project, in this project we'll be creating a streamlined workflow for cyclic exploration, engineering and selection of features and models for our data. Using a few sklearn methods we'll be able to automate the identification and selection of the best features and models as well as the optimal hyperparameter selection. \n",
    "\n",
    "The Kaggle contest is the same as the previous one: the goal is to predict whether a test set of passengers embarked on the Titanic survived the sinking of the ship or perished in the [accident](https://en.wikipedia.org/wiki/Sinking_of_the_RMS_Titanic)."
   ]
  },
  {
   "cell_type": "code",
   "execution_count": 87,
   "metadata": {},
   "outputs": [],
   "source": [
    "import pandas as pd"
   ]
  },
  {
   "cell_type": "markdown",
   "metadata": {},
   "source": [
    "## Data acquisition and processing"
   ]
  },
  {
   "cell_type": "code",
   "execution_count": 88,
   "metadata": {},
   "outputs": [],
   "source": [
    "train = pd.read_csv(\"train.csv\")\n",
    "holdout = pd.read_csv(\"test.csv\")"
   ]
  },
  {
   "cell_type": "code",
   "execution_count": 89,
   "metadata": {},
   "outputs": [
    {
     "data": {
      "text/html": [
       "<div>\n",
       "<style scoped>\n",
       "    .dataframe tbody tr th:only-of-type {\n",
       "        vertical-align: middle;\n",
       "    }\n",
       "\n",
       "    .dataframe tbody tr th {\n",
       "        vertical-align: top;\n",
       "    }\n",
       "\n",
       "    .dataframe thead th {\n",
       "        text-align: right;\n",
       "    }\n",
       "</style>\n",
       "<table border=\"1\" class=\"dataframe\">\n",
       "  <thead>\n",
       "    <tr style=\"text-align: right;\">\n",
       "      <th></th>\n",
       "      <th>PassengerId</th>\n",
       "      <th>Pclass</th>\n",
       "      <th>Name</th>\n",
       "      <th>Sex</th>\n",
       "      <th>Age</th>\n",
       "      <th>SibSp</th>\n",
       "      <th>Parch</th>\n",
       "      <th>Ticket</th>\n",
       "      <th>Fare</th>\n",
       "      <th>Cabin</th>\n",
       "      <th>Embarked</th>\n",
       "    </tr>\n",
       "  </thead>\n",
       "  <tbody>\n",
       "    <tr>\n",
       "      <th>0</th>\n",
       "      <td>892</td>\n",
       "      <td>3</td>\n",
       "      <td>Kelly, Mr. James</td>\n",
       "      <td>male</td>\n",
       "      <td>34.5</td>\n",
       "      <td>0</td>\n",
       "      <td>0</td>\n",
       "      <td>330911</td>\n",
       "      <td>7.8292</td>\n",
       "      <td>NaN</td>\n",
       "      <td>Q</td>\n",
       "    </tr>\n",
       "    <tr>\n",
       "      <th>1</th>\n",
       "      <td>893</td>\n",
       "      <td>3</td>\n",
       "      <td>Wilkes, Mrs. James (Ellen Needs)</td>\n",
       "      <td>female</td>\n",
       "      <td>47.0</td>\n",
       "      <td>1</td>\n",
       "      <td>0</td>\n",
       "      <td>363272</td>\n",
       "      <td>7.0000</td>\n",
       "      <td>NaN</td>\n",
       "      <td>S</td>\n",
       "    </tr>\n",
       "    <tr>\n",
       "      <th>2</th>\n",
       "      <td>894</td>\n",
       "      <td>2</td>\n",
       "      <td>Myles, Mr. Thomas Francis</td>\n",
       "      <td>male</td>\n",
       "      <td>62.0</td>\n",
       "      <td>0</td>\n",
       "      <td>0</td>\n",
       "      <td>240276</td>\n",
       "      <td>9.6875</td>\n",
       "      <td>NaN</td>\n",
       "      <td>Q</td>\n",
       "    </tr>\n",
       "    <tr>\n",
       "      <th>3</th>\n",
       "      <td>895</td>\n",
       "      <td>3</td>\n",
       "      <td>Wirz, Mr. Albert</td>\n",
       "      <td>male</td>\n",
       "      <td>27.0</td>\n",
       "      <td>0</td>\n",
       "      <td>0</td>\n",
       "      <td>315154</td>\n",
       "      <td>8.6625</td>\n",
       "      <td>NaN</td>\n",
       "      <td>S</td>\n",
       "    </tr>\n",
       "    <tr>\n",
       "      <th>4</th>\n",
       "      <td>896</td>\n",
       "      <td>3</td>\n",
       "      <td>Hirvonen, Mrs. Alexander (Helga E Lindqvist)</td>\n",
       "      <td>female</td>\n",
       "      <td>22.0</td>\n",
       "      <td>1</td>\n",
       "      <td>1</td>\n",
       "      <td>3101298</td>\n",
       "      <td>12.2875</td>\n",
       "      <td>NaN</td>\n",
       "      <td>S</td>\n",
       "    </tr>\n",
       "  </tbody>\n",
       "</table>\n",
       "</div>"
      ],
      "text/plain": [
       "   PassengerId  Pclass                                          Name     Sex  \\\n",
       "0          892       3                              Kelly, Mr. James    male   \n",
       "1          893       3              Wilkes, Mrs. James (Ellen Needs)  female   \n",
       "2          894       2                     Myles, Mr. Thomas Francis    male   \n",
       "3          895       3                              Wirz, Mr. Albert    male   \n",
       "4          896       3  Hirvonen, Mrs. Alexander (Helga E Lindqvist)  female   \n",
       "\n",
       "    Age  SibSp  Parch   Ticket     Fare Cabin Embarked  \n",
       "0  34.5      0      0   330911   7.8292   NaN        Q  \n",
       "1  47.0      1      0   363272   7.0000   NaN        S  \n",
       "2  62.0      0      0   240276   9.6875   NaN        Q  \n",
       "3  27.0      0      0   315154   8.6625   NaN        S  \n",
       "4  22.0      1      1  3101298  12.2875   NaN        S  "
      ]
     },
     "execution_count": 89,
     "metadata": {},
     "output_type": "execute_result"
    }
   ],
   "source": [
    "# Let's take a look at what the holdout dataset looks like\n",
    "holdout.head()"
   ]
  },
  {
   "cell_type": "code",
   "execution_count": 90,
   "metadata": {},
   "outputs": [],
   "source": [
    "# A set of functions was provided together with the data\n",
    "# %load functions.py\n",
    "def process_missing(df):\n",
    "    \"\"\"Handle various missing values from the data set\n",
    "\n",
    "    Usage\n",
    "    ------\n",
    "\n",
    "    holdout = process_missing(holdout)\n",
    "    \"\"\"\n",
    "    df[\"Fare\"] = df[\"Fare\"].fillna(train[\"Fare\"].mean())\n",
    "    df[\"Embarked\"] = df[\"Embarked\"].fillna(\"S\")\n",
    "    return df\n",
    "\n",
    "def process_age(df):\n",
    "    \"\"\"Process the Age column into pre-defined 'bins' \n",
    "\n",
    "    Usage\n",
    "    ------\n",
    "\n",
    "    train = process_age(train)\n",
    "    \"\"\"\n",
    "    df[\"Age\"] = df[\"Age\"].fillna(-0.5)\n",
    "    cut_points = [-1,0,5,12,18,35,60,100]\n",
    "    label_names = [\"Missing\",\"Infant\",\"Child\",\"Teenager\",\"Young Adult\",\"Adult\",\"Senior\"]\n",
    "    df[\"Age_categories\"] = pd.cut(df[\"Age\"],cut_points,labels=label_names)\n",
    "    return df\n",
    "\n",
    "def process_fare(df):\n",
    "    \"\"\"Process the Fare column into pre-defined 'bins' \n",
    "\n",
    "    Usage\n",
    "    ------\n",
    "\n",
    "    train = process_fare(train)\n",
    "    \"\"\"\n",
    "    cut_points = [-1,12,50,100,1000]\n",
    "    label_names = [\"0-12\",\"12-50\",\"50-100\",\"100+\"]\n",
    "    df[\"Fare_categories\"] = pd.cut(df[\"Fare\"],cut_points,labels=label_names)\n",
    "    return df\n",
    "\n",
    "def process_cabin(df):\n",
    "    \"\"\"Process the Cabin column into pre-defined 'bins' \n",
    "\n",
    "    Usage\n",
    "    ------\n",
    "\n",
    "    train process_cabin(train)\n",
    "    \"\"\"\n",
    "    df[\"Cabin_type\"] = df[\"Cabin\"].str[0]\n",
    "    df[\"Cabin_type\"] = df[\"Cabin_type\"].fillna(\"Unknown\")\n",
    "    df = df.drop('Cabin',axis=1)\n",
    "    return df\n",
    "\n",
    "def process_titles(df):\n",
    "    \"\"\"Extract and categorize the title from the name column \n",
    "\n",
    "    Usage\n",
    "    ------\n",
    "\n",
    "    train = process_titles(train)\n",
    "    \"\"\"\n",
    "    titles = {\n",
    "        \"Mr\" :         \"Mr\",\n",
    "        \"Mme\":         \"Mrs\",\n",
    "        \"Ms\":          \"Mrs\",\n",
    "        \"Mrs\" :        \"Mrs\",\n",
    "        \"Master\" :     \"Master\",\n",
    "        \"Mlle\":        \"Miss\",\n",
    "        \"Miss\" :       \"Miss\",\n",
    "        \"Capt\":        \"Officer\",\n",
    "        \"Col\":         \"Officer\",\n",
    "        \"Major\":       \"Officer\",\n",
    "        \"Dr\":          \"Officer\",\n",
    "        \"Rev\":         \"Officer\",\n",
    "        \"Jonkheer\":    \"Royalty\",\n",
    "        \"Don\":         \"Royalty\",\n",
    "        \"Sir\" :        \"Royalty\",\n",
    "        \"Countess\":    \"Royalty\",\n",
    "        \"Dona\":        \"Royalty\",\n",
    "        \"Lady\" :       \"Royalty\"\n",
    "    }\n",
    "    extracted_titles = df[\"Name\"].str.extract(' ([A-Za-z]+)\\.',expand=False)\n",
    "    df[\"Title\"] = extracted_titles.map(titles)\n",
    "    return df\n",
    "\n",
    "def create_dummies(df,column_name):\n",
    "    \"\"\"Create Dummy Columns (One Hot Encoding) from a single Column\n",
    "\n",
    "    Usage\n",
    "    ------\n",
    "\n",
    "    train = create_dummies(train,\"Age\")\n",
    "    \"\"\"\n",
    "    dummies = pd.get_dummies(df[column_name],prefix=column_name)\n",
    "    df = pd.concat([df,dummies],axis=1)\n",
    "    return df"
   ]
  },
  {
   "cell_type": "code",
   "execution_count": 91,
   "metadata": {},
   "outputs": [],
   "source": [
    "# Here we define a function to streamline the processing of our train and holdout datasets\n",
    "def process_dataframe(df):\n",
    "    df = process_missing(df)\n",
    "    df = process_age(df)\n",
    "    df = process_fare(df)\n",
    "    df = process_titles(df)\n",
    "    df = process_cabin(df)\n",
    "    cols = [\"Age_categories\",\"Fare_categories\",\"Title\",\"Cabin_type\",\"Sex\",\"Pclass\"]\n",
    "    for c in cols:\n",
    "        df = create_dummies(df,c)\n",
    "    return df"
   ]
  },
  {
   "cell_type": "code",
   "execution_count": 92,
   "metadata": {},
   "outputs": [],
   "source": [
    "# Dataset processing\n",
    "train = process_dataframe(train)\n",
    "holdout = process_dataframe(holdout)"
   ]
  },
  {
   "cell_type": "code",
   "execution_count": 93,
   "metadata": {},
   "outputs": [
    {
     "name": "stdout",
     "output_type": "stream",
     "text": [
      "<class 'pandas.core.frame.DataFrame'>\n",
      "RangeIndex: 891 entries, 0 to 890\n",
      "Data columns (total 46 columns):\n",
      "PassengerId                   891 non-null int64\n",
      "Survived                      891 non-null int64\n",
      "Pclass                        891 non-null int64\n",
      "Name                          891 non-null object\n",
      "Sex                           891 non-null object\n",
      "Age                           891 non-null float64\n",
      "SibSp                         891 non-null int64\n",
      "Parch                         891 non-null int64\n",
      "Ticket                        891 non-null object\n",
      "Fare                          891 non-null float64\n",
      "Embarked                      891 non-null object\n",
      "Age_categories                891 non-null category\n",
      "Fare_categories               891 non-null category\n",
      "Title                         891 non-null object\n",
      "Cabin_type                    891 non-null object\n",
      "Age_categories_Missing        891 non-null uint8\n",
      "Age_categories_Infant         891 non-null uint8\n",
      "Age_categories_Child          891 non-null uint8\n",
      "Age_categories_Teenager       891 non-null uint8\n",
      "Age_categories_Young Adult    891 non-null uint8\n",
      "Age_categories_Adult          891 non-null uint8\n",
      "Age_categories_Senior         891 non-null uint8\n",
      "Fare_categories_0-12          891 non-null uint8\n",
      "Fare_categories_12-50         891 non-null uint8\n",
      "Fare_categories_50-100        891 non-null uint8\n",
      "Fare_categories_100+          891 non-null uint8\n",
      "Title_Master                  891 non-null uint8\n",
      "Title_Miss                    891 non-null uint8\n",
      "Title_Mr                      891 non-null uint8\n",
      "Title_Mrs                     891 non-null uint8\n",
      "Title_Officer                 891 non-null uint8\n",
      "Title_Royalty                 891 non-null uint8\n",
      "Cabin_type_A                  891 non-null uint8\n",
      "Cabin_type_B                  891 non-null uint8\n",
      "Cabin_type_C                  891 non-null uint8\n",
      "Cabin_type_D                  891 non-null uint8\n",
      "Cabin_type_E                  891 non-null uint8\n",
      "Cabin_type_F                  891 non-null uint8\n",
      "Cabin_type_G                  891 non-null uint8\n",
      "Cabin_type_T                  891 non-null uint8\n",
      "Cabin_type_Unknown            891 non-null uint8\n",
      "Sex_female                    891 non-null uint8\n",
      "Sex_male                      891 non-null uint8\n",
      "Pclass_1                      891 non-null uint8\n",
      "Pclass_2                      891 non-null uint8\n",
      "Pclass_3                      891 non-null uint8\n",
      "dtypes: category(2), float64(2), int64(5), object(6), uint8(31)\n",
      "memory usage: 119.8+ KB\n"
     ]
    }
   ],
   "source": [
    "train.info()"
   ]
  },
  {
   "cell_type": "markdown",
   "metadata": {},
   "source": [
    "## Data exploration\n",
    "Now that the datasets have been loaded and processed we can start looking into the data itself. For example, let's look into \"SibSp\" and \"Parch\" - these columns respectively indicate the number of siblings and/or spouses and the number of children and/or parents each of the passengers had on board."
   ]
  },
  {
   "cell_type": "code",
   "execution_count": 94,
   "metadata": {},
   "outputs": [
    {
     "name": "stdout",
     "output_type": "stream",
     "text": [
      "<class 'pandas.core.frame.DataFrame'>\n",
      "RangeIndex: 891 entries, 0 to 890\n",
      "Data columns (total 3 columns):\n",
      "SibSp       891 non-null int64\n",
      "Parch       891 non-null int64\n",
      "Survived    891 non-null int64\n",
      "dtypes: int64(3)\n",
      "memory usage: 21.0 KB\n"
     ]
    }
   ],
   "source": [
    "# Let's copy the relevant columns into a new dataframe\n",
    "explore_cols = [\"SibSp\",\"Parch\",\"Survived\"]\n",
    "explore = train[explore_cols].copy()\n",
    "explore.info()"
   ]
  },
  {
   "cell_type": "code",
   "execution_count": 95,
   "metadata": {},
   "outputs": [],
   "source": [
    "import matplotlib.pyplot as plt\n",
    "%matplotlib inline"
   ]
  },
  {
   "cell_type": "code",
   "execution_count": 96,
   "metadata": {},
   "outputs": [
    {
     "data": {
      "text/plain": [
       "Text(0.5,0,'Number of relatives')"
      ]
     },
     "execution_count": 96,
     "metadata": {},
     "output_type": "execute_result"
    },
    {
     "data": {
      "image/png": "[encoded data removed]",
      "text/plain": [
       "<Figure size 432x288 with 1 Axes>"
      ]
     },
     "metadata": {},
     "output_type": "display_data"
    }
   ],
   "source": [
    "# First of all we look at the distribution of the SibSp and Parch columns\n",
    "explore.drop(\"Survived\",axis=1).plot.hist(alpha=.5,bins=8)\n",
    "plt.xlabel(\"Number of relatives\")"
   ]
  },
  {
   "cell_type": "code",
   "execution_count": 97,
   "metadata": {},
   "outputs": [
    {
     "data": {
      "text/plain": [
       "Text(0.5,0,'Number of relatives')"
      ]
     },
     "execution_count": 97,
     "metadata": {},
     "output_type": "execute_result"
    },
    {
     "data": {
      "image/png": "[encoded data removed]",
      "text/plain": [
       "<Figure size 432x288 with 1 Axes>"
      ]
     },
     "metadata": {},
     "output_type": "display_data"
    }
   ],
   "source": [
    "# We can also add a new column representing the total number of relatives each passenger had on board (SibSp + Parch)\n",
    "explore[\"FamSize\"] = explore[[\"SibSp\",\"Parch\"]].sum(axis=1)\n",
    "explore.drop(\"Survived\",axis=1).plot.hist(alpha=.5,bins=10)\n",
    "plt.xlabel(\"Number of relatives\")"
   ]
  },
  {
   "cell_type": "markdown",
   "metadata": {},
   "source": [
    "We've picked a few interesting columns and visualized the distribution of their data. Now we can take advantage of the .pivot_table() function and produce pivot tables to visually represent how the number of spouses/siblings, parents/children and relatives in general affected (or not) the survivability of the passengers."
   ]
  },
  {
   "cell_type": "code",
   "execution_count": 98,
   "metadata": {},
   "outputs": [
    {
     "data": {
      "image/png": "[encoded data removed]",
      "text/plain": [
       "<Figure size 432x288 with 1 Axes>"
      ]
     },
     "metadata": {},
     "output_type": "display_data"
    },
    {
     "data": {
      "image/png": "[encoded data removed]",
      "text/plain": [
       "<Figure size 432x288 with 1 Axes>"
      ]
     },
     "metadata": {},
     "output_type": "display_data"
    },
    {
     "data": {
      "image/png": "[encoded data removed]",
      "text/plain": [
       "<Figure size 432x288 with 1 Axes>"
      ]
     },
     "metadata": {},
     "output_type": "display_data"
    }
   ],
   "source": [
    "import numpy as np\n",
    "# We can use a for loop to output one figure for each of the columns\n",
    "for c in explore.columns.drop(\"Survived\"):\n",
    "    pivot = explore.pivot_table(values=\"Survived\",index=c)\n",
    "    pivot.plot.bar(ylim=(0,1),yticks=np.arange(0,1,.1))\n",
    "    plt.axhline(.5, alpha=0.3, color='red')"
   ]
  },
  {
   "cell_type": "markdown",
   "metadata": {},
   "source": [
    "Summing up: as we've seen the SibSp column describes the total number of siblings and/or spouses a passenger had on board, while the Parch column describes the number of parents and/or children a passenger had on board. We further added a third FamSize column to describe the total number of family members a passenger had on board, taken simply as the sum of the SibSp and Parch columns.\n",
    "\n",
    "In both SibSp and Parch columns (and FamSize as a result) the distribution is skewed to the right, with the majority of passengers having no family members on board.\n",
    "\n",
    "Exploring pivot tables of our data shows that lone passengers are far more likely to have perished than passengers who had at least one family member on board. This trails off as the total number of family members grows beyond 3. In general, passengers with 1-3 family members on board survived more than 50% of the time (as far as our training dataset goes), with a peak of over 70% survival rate for passengers with exactly 3 family members on board. Only 30% of passengers with no family members survived."
   ]
  },
  {
   "cell_type": "markdown",
   "metadata": {},
   "source": [
    "*Let's use this stark contrast in survival rates between passengers with and without family members on board to define a new feature.*"
   ]
  },
  {
   "cell_type": "code",
   "execution_count": 99,
   "metadata": {},
   "outputs": [],
   "source": [
    "def is_alone(df):\n",
    "    df[\"isAlone\"] = df[[\"SibSp\",\"Parch\"]].sum(axis=1).apply(lambda x: 1 if x == 0 else 0)\n",
    "    return df"
   ]
  },
  {
   "cell_type": "code",
   "execution_count": 100,
   "metadata": {},
   "outputs": [],
   "source": [
    "train = is_alone(train)\n",
    "holdout = is_alone(holdout)"
   ]
  },
  {
   "cell_type": "code",
   "execution_count": 101,
   "metadata": {},
   "outputs": [],
   "source": [
    "# Let's also add the FamSize column directly and see which of these two new features will perform best\n",
    "train[\"FamSize\"] = train[[\"SibSp\",\"Parch\"]].sum(axis=1)\n",
    "holdout[\"FamSize\"] = holdout[[\"SibSp\",\"Parch\"]].sum(axis=1)"
   ]
  },
  {
   "cell_type": "markdown",
   "metadata": {},
   "source": [
    "Before we go any further let's also remember to rescale the numeric columns and to then drop old versions of the columns we have engineered. PassengerId and Ticket number are also superfluous."
   ]
  },
  {
   "cell_type": "code",
   "execution_count": 102,
   "metadata": {},
   "outputs": [
    {
     "name": "stderr",
     "output_type": "stream",
     "text": [
      "C:\\Users\\jacop\\Anaconda3\\lib\\site-packages\\sklearn\\utils\\validation.py:475: DataConversionWarning: Data with input dtype int64 was converted to float64.\n",
      "  warnings.warn(msg, DataConversionWarning)\n"
     ]
    }
   ],
   "source": [
    "from sklearn.preprocessing import minmax_scale\n",
    "columns = [\"SibSp_scaled\",\"Parch_scaled\",\"Fare_scaled\",\"FamSize_scaled\"]\n",
    "target_columns = [\"SibSp\",\"Parch\",\"Fare\",\"FamSize\"]\n",
    "\n",
    "for i in range(4):\n",
    "    train[columns[i]] = minmax_scale(train[target_columns[i]])\n",
    "    holdout[columns[i]] = minmax_scale(holdout[target_columns[i]])"
   ]
  },
  {
   "cell_type": "code",
   "execution_count": 105,
   "metadata": {},
   "outputs": [
    {
     "name": "stdout",
     "output_type": "stream",
     "text": [
      "<class 'pandas.core.frame.DataFrame'>\n",
      "RangeIndex: 891 entries, 0 to 890\n",
      "Data columns (total 38 columns):\n",
      "Survived                      891 non-null int64\n",
      "Embarked                      891 non-null object\n",
      "Age_categories_Missing        891 non-null uint8\n",
      "Age_categories_Infant         891 non-null uint8\n",
      "Age_categories_Child          891 non-null uint8\n",
      "Age_categories_Teenager       891 non-null uint8\n",
      "Age_categories_Young Adult    891 non-null uint8\n",
      "Age_categories_Adult          891 non-null uint8\n",
      "Age_categories_Senior         891 non-null uint8\n",
      "Fare_categories_0-12          891 non-null uint8\n",
      "Fare_categories_12-50         891 non-null uint8\n",
      "Fare_categories_50-100        891 non-null uint8\n",
      "Fare_categories_100+          891 non-null uint8\n",
      "Title_Master                  891 non-null uint8\n",
      "Title_Miss                    891 non-null uint8\n",
      "Title_Mr                      891 non-null uint8\n",
      "Title_Mrs                     891 non-null uint8\n",
      "Title_Officer                 891 non-null uint8\n",
      "Title_Royalty                 891 non-null uint8\n",
      "Cabin_type_A                  891 non-null uint8\n",
      "Cabin_type_B                  891 non-null uint8\n",
      "Cabin_type_C                  891 non-null uint8\n",
      "Cabin_type_D                  891 non-null uint8\n",
      "Cabin_type_E                  891 non-null uint8\n",
      "Cabin_type_F                  891 non-null uint8\n",
      "Cabin_type_G                  891 non-null uint8\n",
      "Cabin_type_T                  891 non-null uint8\n",
      "Cabin_type_Unknown            891 non-null uint8\n",
      "Sex_female                    891 non-null uint8\n",
      "Sex_male                      891 non-null uint8\n",
      "Pclass_1                      891 non-null uint8\n",
      "Pclass_2                      891 non-null uint8\n",
      "Pclass_3                      891 non-null uint8\n",
      "isAlone                       891 non-null int64\n",
      "SibSp_scaled                  891 non-null float64\n",
      "Parch_scaled                  891 non-null float64\n",
      "Fare_scaled                   891 non-null float64\n",
      "FamSize_scaled                891 non-null float64\n",
      "dtypes: float64(4), int64(2), object(1), uint8(31)\n",
      "memory usage: 75.8+ KB\n"
     ]
    }
   ],
   "source": [
    "train = train_backup # Comment this whole line the first time around\n",
    "keep_columns = train.columns.drop([\"SibSp\",\"Parch\",\"Fare\",\"FamSize\",\"Age\",\"Age_categories\",\"Fare_categories\",\"Sex\",\"Pclass\",\"Cabin_type\",\"Title\",\"Name\",\"Ticket\",\"PassengerId\"])\n",
    "train_backup = train\n",
    "train = train[keep_columns]\n",
    "train.info()"
   ]
  },
  {
   "cell_type": "markdown",
   "metadata": {},
   "source": [
    "## Feature selection\n",
    "Now that we've explored the data, let's select the best features. The sklearn.feature_selection.RFECV() class will let us automate this step."
   ]
  },
  {
   "cell_type": "code",
   "execution_count": 106,
   "metadata": {},
   "outputs": [],
   "source": [
    "from sklearn.feature_selection import RFECV\n",
    "from sklearn.ensemble import RandomForestClassifier\n",
    "#from sklearn.linear_model import LogisticRegression"
   ]
  },
  {
   "cell_type": "code",
   "execution_count": 114,
   "metadata": {},
   "outputs": [],
   "source": [
    "def select_features(df):\n",
    "    df = df.select_dtypes([np.number]).dropna(axis=1)\n",
    "    columns = df.columns.drop([\"Survived\"]) # We drop the PassengerId since this is just a unique identifier\n",
    "    all_X = df[columns]                                   # with no further informational bearing\n",
    "    all_y = df[\"Survived\"]\n",
    "    rf = RandomForestClassifier()\n",
    "    selector = RFECV(rf,cv=10)\n",
    "    selector.fit(all_X,all_y)\n",
    "    optm_features = all_X.columns[selector.support_]\n",
    "    print(optm_features)\n",
    "    return optm_features"
   ]
  },
  {
   "cell_type": "code",
   "execution_count": 115,
   "metadata": {},
   "outputs": [
    {
     "name": "stdout",
     "output_type": "stream",
     "text": [
      "Index(['Age_categories_Missing', 'Age_categories_Infant',\n",
      "       'Age_categories_Child', 'Age_categories_Teenager',\n",
      "       'Age_categories_Young Adult', 'Age_categories_Adult',\n",
      "       'Age_categories_Senior', 'Fare_categories_0-12',\n",
      "       'Fare_categories_12-50', 'Fare_categories_50-100', 'Title_Master',\n",
      "       'Title_Miss', 'Title_Mr', 'Title_Mrs', 'Title_Officer', 'Cabin_type_B',\n",
      "       'Cabin_type_C', 'Cabin_type_D', 'Cabin_type_E', 'Cabin_type_Unknown',\n",
      "       'Sex_female', 'Sex_male', 'Pclass_1', 'Pclass_2', 'Pclass_3', 'isAlone',\n",
      "       'SibSp_scaled', 'Parch_scaled', 'Fare_scaled', 'FamSize_scaled'],\n",
      "      dtype='object')\n"
     ]
    }
   ],
   "source": [
    "train_optm_features = select_features(train)"
   ]
  },
  {
   "cell_type": "markdown",
   "metadata": {},
   "source": [
    "# Model selection\n",
    "Similarly to our feature selection, we can write a function to select the best classifier model and its best hyperparameters. The sklearn.model_selection.GridSearchCV() class will let us automate this step."
   ]
  },
  {
   "cell_type": "code",
   "execution_count": 116,
   "metadata": {},
   "outputs": [],
   "source": [
    "from sklearn.linear_model import LogisticRegression\n",
    "from sklearn.neighbors import KNeighborsClassifier\n",
    "#from sklearn.ensemble import RandomForestClassifier\n",
    "from sklearn.model_selection import GridSearchCV"
   ]
  },
  {
   "cell_type": "code",
   "execution_count": 117,
   "metadata": {},
   "outputs": [],
   "source": [
    "def select_model(df,features):\n",
    "    all_X = df[features]\n",
    "    all_y = df[\"Survived\"]\n",
    "    # Here is a list of dictionaries containing model names and respective\n",
    "    # hyperparameter ranges for the grid search.\n",
    "    dict_list = [\n",
    "        {\n",
    "            \"name\": \"LogisticRegression\",\n",
    "            \"estimator\": LogisticRegression(),\n",
    "            \"hyperparameters\": {\n",
    "                \"solver\": [\"newton-cg\", \"lbfgs\", \"liblinear\"],\n",
    "                \"class_weight\": [None,\"balanced\"]\n",
    "            }\n",
    "        },\n",
    "        {\n",
    "            \"name\": \"KNeighborsClassifier\",\n",
    "            \"estimator\": KNeighborsClassifier(),\n",
    "            \"hyperparameters\": {\n",
    "                \"n_neighbors\": range(1,20,2),\n",
    "                \"weights\": [\"distance\", \"uniform\"],\n",
    "                \"algorithm\": [\"ball_tree\", \"kd_tree\", \"brute\"],\n",
    "                \"p\": [1,2]\n",
    "            }\n",
    "        },\n",
    "        {\n",
    "            \"name\": \"RandomForestClassifier\",\n",
    "            \"estimator\": RandomForestClassifier(random_state=1),\n",
    "            \"hyperparameters\": {\n",
    "                \"n_estimators\": [4, 6, 9],\n",
    "                \"criterion\": [\"entropy\", \"gini\"],\n",
    "                \"max_depth\": [2, 5, 10],\n",
    "                \"max_features\": [\"log2\", \"sqrt\"],\n",
    "                \"min_samples_leaf\": [1, 5, 8],\n",
    "                \"min_samples_split\": [2, 3, 5],\n",
    "                \"class_weight\": [None,\"balanced\"]\n",
    "            }\n",
    "        }\n",
    "    ]\n",
    "    for d in dict_list:\n",
    "        print(d[\"name\"])\n",
    "        print(\"-\"*20)\n",
    "        grid = GridSearchCV(d[\"estimator\"], param_grid=d[\"hyperparameters\"], cv=10)\n",
    "        grid.fit(all_X,all_y)\n",
    "        d[\"best_params\"] = grid.best_params_\n",
    "        d[\"best_score\"] = grid.best_score_\n",
    "        d[\"best_estimator\"] = grid.best_estimator_\n",
    "        print(\"Best Parameters: \",d[\"best_params\"])\n",
    "        print(\"Best Score: \",d[\"best_score\"],\"\\n\")\n",
    "    return dict_list"
   ]
  },
  {
   "cell_type": "code",
   "execution_count": 118,
   "metadata": {},
   "outputs": [
    {
     "name": "stdout",
     "output_type": "stream",
     "text": [
      "LogisticRegression\n",
      "--------------------\n",
      "Best Parameters:  {'class_weight': None, 'solver': 'liblinear'}\n",
      "Best Score:  0.8204264870931538 \n",
      "\n",
      "KNeighborsClassifier\n",
      "--------------------\n",
      "Best Parameters:  {'algorithm': 'brute', 'n_neighbors': 5, 'p': 2, 'weights': 'uniform'}\n",
      "Best Score:  0.8305274971941639 \n",
      "\n",
      "RandomForestClassifier\n",
      "--------------------\n",
      "Best Parameters:  {'class_weight': None, 'criterion': 'gini', 'max_depth': 10, 'max_features': 'sqrt', 'min_samples_leaf': 1, 'min_samples_split': 2, 'n_estimators': 6}\n",
      "Best Score:  0.8395061728395061 \n",
      "\n"
     ]
    }
   ],
   "source": [
    "train_best_estimators = select_model(train,train_optm_features)"
   ]
  },
  {
   "cell_type": "markdown",
   "metadata": {},
   "source": [
    "# Output formatting\n",
    "As our last step, let's write a function to help us quickly output our predictions to the accepted Kaggle format."
   ]
  },
  {
   "cell_type": "code",
   "execution_count": 84,
   "metadata": {},
   "outputs": [],
   "source": [
    "def save_submission_file(model,features,filename=\"submission.csv\"):\n",
    "    predictions = model.predict(holdout[features])\n",
    "    submission = pd.DataFrame({\n",
    "        \"PassengerId\": holdout[\"PassengerId\"],\n",
    "        \"Survived\": predictions\n",
    "    })\n",
    "    submission.to_csv(filename,index=False)"
   ]
  },
  {
   "cell_type": "code",
   "execution_count": 86,
   "metadata": {},
   "outputs": [],
   "source": [
    "save_submission_file(\n",
    "    train_best_estimators[0][\"best_estimator\"],\n",
    "    train_optm_features\n",
    ")"
   ]
  },
  {
   "cell_type": "markdown",
   "metadata": {
    "collapsed": true
   },
   "source": [
    "The only thing remaining is to visit the Kaggle website and submit our predictions! The helper functions we've written will help speed up the process as we iterate over model types, feature selection and hyperparameter optimization. "
   ]
  },
  {
   "cell_type": "code",
   "execution_count": null,
   "metadata": {},
   "outputs": [],
   "source": []
  }
 ],
 "metadata": {
  "kernelspec": {
   "display_name": "Python 3",
   "language": "python",
   "name": "python3"
  },
  "language_info": {
   "codemirror_mode": {
    "name": "ipython",
    "version": 3
   },
   "file_extension": ".py",
   "mimetype": "text/x-python",
   "name": "python",
   "nbconvert_exporter": "python",
   "pygments_lexer": "ipython3",
   "version": "3.6.5"
  }
 },
 "nbformat": 4,
 "nbformat_minor": 2
}
