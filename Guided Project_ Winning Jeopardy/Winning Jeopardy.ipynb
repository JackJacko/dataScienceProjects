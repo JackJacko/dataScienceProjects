{
 "cells": [
  {
   "cell_type": "markdown",
   "metadata": {},
   "source": [
    "# Jeopardy: question patterns\n",
    "A dataset of Jeopardy questions will be used for this project. The dataset contains 20000 rows (10% of the total) from the beginning of a full dataset of Jeopardy questions. The goal is to figure out if there are any patterns in the questions that could help a contestant win more money."
   ]
  },
  {
   "cell_type": "code",
   "execution_count": 105,
   "metadata": {},
   "outputs": [],
   "source": [
    "# Import relevant libraries\n",
    "import numpy as np\n",
    "import pandas as pd\n",
    "import matplotlib.pyplot as plt\n",
    "%matplotlib inline"
   ]
  },
  {
   "cell_type": "markdown",
   "metadata": {},
   "source": [
    "## Data read-in and clean-up\n",
    "The first step will be reading in the data. The rows and columns can be then cleaned up or re-formatted where needed."
   ]
  },
  {
   "cell_type": "code",
   "execution_count": 106,
   "metadata": {},
   "outputs": [],
   "source": [
    "# Read in the dataset first\n",
    "jeopardy = pd.read_csv(\"jeopardy.csv\")"
   ]
  },
  {
   "cell_type": "code",
   "execution_count": 107,
   "metadata": {},
   "outputs": [
    {
     "data": {
      "text/html": [
       "<div>\n",
       "<style scoped>\n",
       "    .dataframe tbody tr th:only-of-type {\n",
       "        vertical-align: middle;\n",
       "    }\n",
       "\n",
       "    .dataframe tbody tr th {\n",
       "        vertical-align: top;\n",
       "    }\n",
       "\n",
       "    .dataframe thead th {\n",
       "        text-align: right;\n",
       "    }\n",
       "</style>\n",
       "<table border=\"1\" class=\"dataframe\">\n",
       "  <thead>\n",
       "    <tr style=\"text-align: right;\">\n",
       "      <th></th>\n",
       "      <th>Show Number</th>\n",
       "      <th>Air Date</th>\n",
       "      <th>Round</th>\n",
       "      <th>Category</th>\n",
       "      <th>Value</th>\n",
       "      <th>Question</th>\n",
       "      <th>Answer</th>\n",
       "    </tr>\n",
       "  </thead>\n",
       "  <tbody>\n",
       "    <tr>\n",
       "      <th>0</th>\n",
       "      <td>4680</td>\n",
       "      <td>2004-12-31</td>\n",
       "      <td>Jeopardy!</td>\n",
       "      <td>HISTORY</td>\n",
       "      <td>$200</td>\n",
       "      <td>For the last 8 years of his life, Galileo was ...</td>\n",
       "      <td>Copernicus</td>\n",
       "    </tr>\n",
       "    <tr>\n",
       "      <th>1</th>\n",
       "      <td>4680</td>\n",
       "      <td>2004-12-31</td>\n",
       "      <td>Jeopardy!</td>\n",
       "      <td>ESPN's TOP 10 ALL-TIME ATHLETES</td>\n",
       "      <td>$200</td>\n",
       "      <td>No. 2: 1912 Olympian; football star at Carlisl...</td>\n",
       "      <td>Jim Thorpe</td>\n",
       "    </tr>\n",
       "    <tr>\n",
       "      <th>2</th>\n",
       "      <td>4680</td>\n",
       "      <td>2004-12-31</td>\n",
       "      <td>Jeopardy!</td>\n",
       "      <td>EVERYBODY TALKS ABOUT IT...</td>\n",
       "      <td>$200</td>\n",
       "      <td>The city of Yuma in this state has a record av...</td>\n",
       "      <td>Arizona</td>\n",
       "    </tr>\n",
       "    <tr>\n",
       "      <th>3</th>\n",
       "      <td>4680</td>\n",
       "      <td>2004-12-31</td>\n",
       "      <td>Jeopardy!</td>\n",
       "      <td>THE COMPANY LINE</td>\n",
       "      <td>$200</td>\n",
       "      <td>In 1963, live on \"The Art Linkletter Show\", th...</td>\n",
       "      <td>McDonald's</td>\n",
       "    </tr>\n",
       "    <tr>\n",
       "      <th>4</th>\n",
       "      <td>4680</td>\n",
       "      <td>2004-12-31</td>\n",
       "      <td>Jeopardy!</td>\n",
       "      <td>EPITAPHS &amp; TRIBUTES</td>\n",
       "      <td>$200</td>\n",
       "      <td>Signer of the Dec. of Indep., framer of the Co...</td>\n",
       "      <td>John Adams</td>\n",
       "    </tr>\n",
       "  </tbody>\n",
       "</table>\n",
       "</div>"
      ],
      "text/plain": [
       "   Show Number    Air Date      Round                         Category  Value  \\\n",
       "0         4680  2004-12-31  Jeopardy!                          HISTORY   $200   \n",
       "1         4680  2004-12-31  Jeopardy!  ESPN's TOP 10 ALL-TIME ATHLETES   $200   \n",
       "2         4680  2004-12-31  Jeopardy!      EVERYBODY TALKS ABOUT IT...   $200   \n",
       "3         4680  2004-12-31  Jeopardy!                 THE COMPANY LINE   $200   \n",
       "4         4680  2004-12-31  Jeopardy!              EPITAPHS & TRIBUTES   $200   \n",
       "\n",
       "                                            Question      Answer  \n",
       "0  For the last 8 years of his life, Galileo was ...  Copernicus  \n",
       "1  No. 2: 1912 Olympian; football star at Carlisl...  Jim Thorpe  \n",
       "2  The city of Yuma in this state has a record av...     Arizona  \n",
       "3  In 1963, live on \"The Art Linkletter Show\", th...  McDonald's  \n",
       "4  Signer of the Dec. of Indep., framer of the Co...  John Adams  "
      ]
     },
     "execution_count": 107,
     "metadata": {},
     "output_type": "execute_result"
    }
   ],
   "source": [
    "jeopardy.head()"
   ]
  },
  {
   "cell_type": "code",
   "execution_count": 108,
   "metadata": {},
   "outputs": [
    {
     "data": {
      "text/html": [
       "<div>\n",
       "<style scoped>\n",
       "    .dataframe tbody tr th:only-of-type {\n",
       "        vertical-align: middle;\n",
       "    }\n",
       "\n",
       "    .dataframe tbody tr th {\n",
       "        vertical-align: top;\n",
       "    }\n",
       "\n",
       "    .dataframe thead th {\n",
       "        text-align: right;\n",
       "    }\n",
       "</style>\n",
       "<table border=\"1\" class=\"dataframe\">\n",
       "  <thead>\n",
       "    <tr style=\"text-align: right;\">\n",
       "      <th></th>\n",
       "      <th>Show Number</th>\n",
       "      <th>Air Date</th>\n",
       "      <th>Round</th>\n",
       "      <th>Category</th>\n",
       "      <th>Value</th>\n",
       "      <th>Question</th>\n",
       "      <th>Answer</th>\n",
       "    </tr>\n",
       "  </thead>\n",
       "  <tbody>\n",
       "    <tr>\n",
       "      <th>0</th>\n",
       "      <td>4680</td>\n",
       "      <td>2004-12-31</td>\n",
       "      <td>Jeopardy!</td>\n",
       "      <td>HISTORY</td>\n",
       "      <td>$200</td>\n",
       "      <td>For the last 8 years of his life, Galileo was ...</td>\n",
       "      <td>Copernicus</td>\n",
       "    </tr>\n",
       "    <tr>\n",
       "      <th>1</th>\n",
       "      <td>4680</td>\n",
       "      <td>2004-12-31</td>\n",
       "      <td>Jeopardy!</td>\n",
       "      <td>ESPN's TOP 10 ALL-TIME ATHLETES</td>\n",
       "      <td>$200</td>\n",
       "      <td>No. 2: 1912 Olympian; football star at Carlisl...</td>\n",
       "      <td>Jim Thorpe</td>\n",
       "    </tr>\n",
       "    <tr>\n",
       "      <th>2</th>\n",
       "      <td>4680</td>\n",
       "      <td>2004-12-31</td>\n",
       "      <td>Jeopardy!</td>\n",
       "      <td>EVERYBODY TALKS ABOUT IT...</td>\n",
       "      <td>$200</td>\n",
       "      <td>The city of Yuma in this state has a record av...</td>\n",
       "      <td>Arizona</td>\n",
       "    </tr>\n",
       "    <tr>\n",
       "      <th>3</th>\n",
       "      <td>4680</td>\n",
       "      <td>2004-12-31</td>\n",
       "      <td>Jeopardy!</td>\n",
       "      <td>THE COMPANY LINE</td>\n",
       "      <td>$200</td>\n",
       "      <td>In 1963, live on \"The Art Linkletter Show\", th...</td>\n",
       "      <td>McDonald's</td>\n",
       "    </tr>\n",
       "    <tr>\n",
       "      <th>4</th>\n",
       "      <td>4680</td>\n",
       "      <td>2004-12-31</td>\n",
       "      <td>Jeopardy!</td>\n",
       "      <td>EPITAPHS &amp; TRIBUTES</td>\n",
       "      <td>$200</td>\n",
       "      <td>Signer of the Dec. of Indep., framer of the Co...</td>\n",
       "      <td>John Adams</td>\n",
       "    </tr>\n",
       "  </tbody>\n",
       "</table>\n",
       "</div>"
      ],
      "text/plain": [
       "   Show Number    Air Date      Round                         Category  Value  \\\n",
       "0         4680  2004-12-31  Jeopardy!                          HISTORY   $200   \n",
       "1         4680  2004-12-31  Jeopardy!  ESPN's TOP 10 ALL-TIME ATHLETES   $200   \n",
       "2         4680  2004-12-31  Jeopardy!      EVERYBODY TALKS ABOUT IT...   $200   \n",
       "3         4680  2004-12-31  Jeopardy!                 THE COMPANY LINE   $200   \n",
       "4         4680  2004-12-31  Jeopardy!              EPITAPHS & TRIBUTES   $200   \n",
       "\n",
       "                                            Question      Answer  \n",
       "0  For the last 8 years of his life, Galileo was ...  Copernicus  \n",
       "1  No. 2: 1912 Olympian; football star at Carlisl...  Jim Thorpe  \n",
       "2  The city of Yuma in this state has a record av...     Arizona  \n",
       "3  In 1963, live on \"The Art Linkletter Show\", th...  McDonald's  \n",
       "4  Signer of the Dec. of Indep., framer of the Co...  John Adams  "
      ]
     },
     "execution_count": 108,
     "metadata": {},
     "output_type": "execute_result"
    }
   ],
   "source": [
    "jeopardy.head()"
   ]
  },
  {
   "cell_type": "code",
   "execution_count": 109,
   "metadata": {},
   "outputs": [
    {
     "data": {
      "text/plain": [
       "Index(['Show Number', ' Air Date', ' Round', ' Category', ' Value',\n",
       "       ' Question', ' Answer'],\n",
       "      dtype='object')"
      ]
     },
     "execution_count": 109,
     "metadata": {},
     "output_type": "execute_result"
    }
   ],
   "source": [
    "jeopardy.columns"
   ]
  },
  {
   "cell_type": "markdown",
   "metadata": {},
   "source": [
    "The column names contain some whitespace, which is easily removed."
   ]
  },
  {
   "cell_type": "code",
   "execution_count": 110,
   "metadata": {},
   "outputs": [
    {
     "data": {
      "text/plain": [
       "Index(['Show Number', 'Air Date', 'Round', 'Category', 'Value', 'Question',\n",
       "       'Answer'],\n",
       "      dtype='object')"
      ]
     },
     "execution_count": 110,
     "metadata": {},
     "output_type": "execute_result"
    }
   ],
   "source": [
    "columns = []\n",
    "for i in jeopardy.columns:\n",
    "    columns.append(i.strip())\n",
    "jeopardy.columns = columns\n",
    "jeopardy.columns"
   ]
  },
  {
   "cell_type": "code",
   "execution_count": 111,
   "metadata": {},
   "outputs": [
    {
     "name": "stdout",
     "output_type": "stream",
     "text": [
      "<class 'pandas.core.frame.DataFrame'>\n",
      "RangeIndex: 19999 entries, 0 to 19998\n",
      "Data columns (total 7 columns):\n",
      "Show Number    19999 non-null int64\n",
      "Air Date       19999 non-null object\n",
      "Round          19999 non-null object\n",
      "Category       19999 non-null object\n",
      "Value          19999 non-null object\n",
      "Question       19999 non-null object\n",
      "Answer         19999 non-null object\n",
      "dtypes: int64(1), object(6)\n",
      "memory usage: 1.1+ MB\n"
     ]
    }
   ],
   "source": [
    "# Check dataset shape, column types and number of null elements (if any are present).\n",
    "jeopardy.info()"
   ]
  },
  {
   "cell_type": "markdown",
   "metadata": {},
   "source": [
    "Apart from 'Show Number' (containing the episode number), all other columns contain strings. There are a few things to do:\n",
    "- Normalize the 'Question' and 'Answer' columns by removing uppercase and punctuation. This is necessary because word-search is usually case sensitive.\n",
    "- Convert 'Values' into integers.\n",
    "- Convert 'Air Date' into datetime objects."
   ]
  },
  {
   "cell_type": "code",
   "execution_count": 112,
   "metadata": {},
   "outputs": [],
   "source": [
    "from re import sub"
   ]
  },
  {
   "cell_type": "code",
   "execution_count": 113,
   "metadata": {},
   "outputs": [],
   "source": [
    "### NORMALIZE QUESTION AND ANSWER COLUMNS ###\n",
    "def string_clean(string):\n",
    "    string = sub(r'[^\\w\\s]','',string)  # Substitutes all non-alphanumeric, non-whitespace, non-underscore chars with an empty string\n",
    "    return string.lower()"
   ]
  },
  {
   "cell_type": "code",
   "execution_count": 114,
   "metadata": {},
   "outputs": [
    {
     "data": {
      "text/html": [
       "<div>\n",
       "<style scoped>\n",
       "    .dataframe tbody tr th:only-of-type {\n",
       "        vertical-align: middle;\n",
       "    }\n",
       "\n",
       "    .dataframe tbody tr th {\n",
       "        vertical-align: top;\n",
       "    }\n",
       "\n",
       "    .dataframe thead th {\n",
       "        text-align: right;\n",
       "    }\n",
       "</style>\n",
       "<table border=\"1\" class=\"dataframe\">\n",
       "  <thead>\n",
       "    <tr style=\"text-align: right;\">\n",
       "      <th></th>\n",
       "      <th>clean_question</th>\n",
       "      <th>clean_answer</th>\n",
       "    </tr>\n",
       "  </thead>\n",
       "  <tbody>\n",
       "    <tr>\n",
       "      <th>0</th>\n",
       "      <td>for the last 8 years of his life galileo was u...</td>\n",
       "      <td>copernicus</td>\n",
       "    </tr>\n",
       "    <tr>\n",
       "      <th>1</th>\n",
       "      <td>no 2 1912 olympian football star at carlisle i...</td>\n",
       "      <td>jim thorpe</td>\n",
       "    </tr>\n",
       "    <tr>\n",
       "      <th>2</th>\n",
       "      <td>the city of yuma in this state has a record av...</td>\n",
       "      <td>arizona</td>\n",
       "    </tr>\n",
       "  </tbody>\n",
       "</table>\n",
       "</div>"
      ],
      "text/plain": [
       "                                      clean_question clean_answer\n",
       "0  for the last 8 years of his life galileo was u...   copernicus\n",
       "1  no 2 1912 olympian football star at carlisle i...   jim thorpe\n",
       "2  the city of yuma in this state has a record av...      arizona"
      ]
     },
     "execution_count": 114,
     "metadata": {},
     "output_type": "execute_result"
    }
   ],
   "source": [
    "jeopardy[\"clean_question\"] = jeopardy[\"Question\"].apply(string_clean)\n",
    "jeopardy[\"clean_answer\"] = jeopardy[\"Answer\"].apply(string_clean)\n",
    "# Check if everything worked out correctly.\n",
    "jeopardy[[\"clean_question\",\"clean_answer\"]].head(3)"
   ]
  },
  {
   "cell_type": "code",
   "execution_count": 115,
   "metadata": {},
   "outputs": [],
   "source": [
    "### CONVERT VALUE COLUMN INTO INTEGERS ###\n",
    "def value_clean(string):\n",
    "    string = sub(r'[\\D]','',string) # Substitutes all non-numerals with an empty string\n",
    "    try:\n",
    "        return int(string)\n",
    "    except:\n",
    "        return 0"
   ]
  },
  {
   "cell_type": "code",
   "execution_count": 116,
   "metadata": {},
   "outputs": [
    {
     "data": {
      "text/plain": [
       "0    200\n",
       "1    200\n",
       "2    200\n",
       "Name: clean_value, dtype: int64"
      ]
     },
     "execution_count": 116,
     "metadata": {},
     "output_type": "execute_result"
    }
   ],
   "source": [
    "jeopardy[\"clean_value\"] = jeopardy[\"Value\"].apply(value_clean)\n",
    "# Check if everything worked out correctly.\n",
    "jeopardy[\"clean_value\"].head(3)"
   ]
  },
  {
   "cell_type": "code",
   "execution_count": 117,
   "metadata": {},
   "outputs": [
    {
     "data": {
      "text/plain": [
       "0   2004-12-31\n",
       "1   2004-12-31\n",
       "2   2004-12-31\n",
       "Name: air_datetime, dtype: datetime64[ns]"
      ]
     },
     "execution_count": 117,
     "metadata": {},
     "output_type": "execute_result"
    }
   ],
   "source": [
    "### CONVERT AIR DATE COLUMN INTO DATETIME OBJECTS ###\n",
    "jeopardy[\"air_datetime\"] = pd.to_datetime(jeopardy[\"Air Date\"])\n",
    "# Check if everything worked out correctly.\n",
    "jeopardy[\"air_datetime\"].head(3)"
   ]
  },
  {
   "cell_type": "markdown",
   "metadata": {},
   "source": [
    "## Data analysis\n",
    "### Questions and answers\n",
    "The first data analysis tasks will revolve around the 'Question' and 'Answer' columns (or rather their cleaned-up versions).\n",
    "- How often can answers be deduced from the question, i.e. on average, how many words from the question are repeated in the answer? \n",
    "- Which words or themes are the most recurrent? \n",
    "- Which words or themes are the most valuable in terms of question Value?"
   ]
  },
  {
   "cell_type": "markdown",
   "metadata": {},
   "source": [
    "### First task\n",
    "*On average, how many words from the question are repeated in the answer?*\n",
    "\n",
    "A dedicated function may be used for this."
   ]
  },
  {
   "cell_type": "code",
   "execution_count": 118,
   "metadata": {},
   "outputs": [],
   "source": [
    "def shared_words(row):\n",
    "    split_1 = set(row[7].split(\" \")) # Split the string and use set() to remove duplicates\n",
    "    try:\n",
    "        split_1.remove(\"the\") # Remove 'the' as this will be repeated often and is not informative\n",
    "        split_1.remove(\"\") # This can happen where the clean-up left consecutive whitespace\n",
    "    except:\n",
    "        pass\n",
    "    split_2 = set(row[8].split(\" \")) # Same as above but for the second string\n",
    "    try:    \n",
    "        split_1.remove(\"the\") # Same as above\n",
    "        split_2.remove(\"\")  # Same as above\n",
    "    except:\n",
    "        pass\n",
    "    shared_words = [x for x in split_1 if x in split_2] # Find shared elements\n",
    "    return len(shared_words) # Return the number of shared words"
   ]
  },
  {
   "cell_type": "code",
   "execution_count": 119,
   "metadata": {},
   "outputs": [
    {
     "data": {
      "text/plain": [
       "0     0\n",
       "1     0\n",
       "2     0\n",
       "3     0\n",
       "4     0\n",
       "5     0\n",
       "6     0\n",
       "7     0\n",
       "8     0\n",
       "9     0\n",
       "10    0\n",
       "11    0\n",
       "12    0\n",
       "13    0\n",
       "14    1\n",
       "15    0\n",
       "16    0\n",
       "17    0\n",
       "18    0\n",
       "19    0\n",
       "Name: shared_words, dtype: int64"
      ]
     },
     "execution_count": 119,
     "metadata": {},
     "output_type": "execute_result"
    }
   ],
   "source": [
    "jeopardy[\"shared_words\"] = jeopardy.apply(shared_words,axis=1)\n",
    "# Check that everything worked out correctly.\n",
    "jeopardy[\"shared_words\"].head(20)"
   ]
  },
  {
   "cell_type": "markdown",
   "metadata": {},
   "source": [
    "Here's a detailed look at question 14:"
   ]
  },
  {
   "cell_type": "code",
   "execution_count": 120,
   "metadata": {},
   "outputs": [
    {
     "name": "stdout",
     "output_type": "stream",
     "text": [
      "on june 28 1994 the natl weather service began issuing this index that rates the intensity of the suns radiation\n"
     ]
    }
   ],
   "source": [
    "print(jeopardy.iloc[14,7])"
   ]
  },
  {
   "cell_type": "code",
   "execution_count": 121,
   "metadata": {},
   "outputs": [
    {
     "name": "stdout",
     "output_type": "stream",
     "text": [
      "the uv index\n"
     ]
    }
   ],
   "source": [
    "print(jeopardy.iloc[14,8])"
   ]
  },
  {
   "cell_type": "markdown",
   "metadata": {},
   "source": [
    "The word \"index\" is both in the question and the answer so the function seems to have done its job. Furthermore \"the\" is in both question and answer but wasn't counted. We can now calculate the mean:"
   ]
  },
  {
   "cell_type": "code",
   "execution_count": 122,
   "metadata": {},
   "outputs": [
    {
     "data": {
      "text/plain": [
       "0.143957197859893"
      ]
     },
     "execution_count": 122,
     "metadata": {},
     "output_type": "execute_result"
    }
   ],
   "source": [
    "jeopardy[\"shared_words\"].mean()"
   ]
  },
  {
   "cell_type": "markdown",
   "metadata": {},
   "source": [
    "On average there are about 0.144 words repeated in the answer per each question. Words are discrete objects of course, so this simply means that one can expect (on average) to find a repeated word about once every seven questions. \n",
    "\n",
    "Note that this metric is skewed by answers containing multiple words repeated from the question - a better account can be given by:"
   ]
  },
  {
   "cell_type": "code",
   "execution_count": 123,
   "metadata": {},
   "outputs": [],
   "source": [
    "def shared_words2(row):\n",
    "    split_1 = set(row[7].split(\" \")) # Split the string and use set() to remove duplicates\n",
    "    try:\n",
    "        split_1.remove(\"the\") # Remove 'the' as this will be repeated often and is not informative\n",
    "        split_1.remove(\"\") # This can happen where the clean-up left consecutive whitespace\n",
    "    except:\n",
    "        pass\n",
    "    split_2 = set(row[8].split(\" \")) # Same as above but for the second string\n",
    "    try:    \n",
    "        split_1.remove(\"the\") # Same as above\n",
    "        split_2.remove(\"\")  # Same as above\n",
    "    except:\n",
    "        pass\n",
    "    shared_words = [x for x in split_1 if x in split_2] # Find shared elements\n",
    "    if len(shared_words) > 0:\n",
    "        return 1\n",
    "    else:\n",
    "        return 0"
   ]
  },
  {
   "cell_type": "code",
   "execution_count": 124,
   "metadata": {},
   "outputs": [
    {
     "data": {
      "text/plain": [
       "0.12650632531626582"
      ]
     },
     "execution_count": 124,
     "metadata": {},
     "output_type": "execute_result"
    }
   ],
   "source": [
    "jeopardy[\"shared_words2\"] = jeopardy.apply(shared_words2,axis=1)\n",
    "jeopardy[\"shared_words2\"].mean()"
   ]
  },
  {
   "cell_type": "markdown",
   "metadata": {},
   "source": [
    "Only 12.7% of the answers repeat the questions in some form. This seems to be far too unreliable a factor to grant any help in winning. \n",
    "\n",
    "It should also be noted that in general the repetitions do invite an answer, but are also of limited help in and by themselves. The example taken from row 14 shows this, with the question clearly asking for an answer containing an index of some type: however, the contestant would still need to know what UVs are and that there is a specific index for them to answer correctly."
   ]
  },
  {
   "cell_type": "markdown",
   "metadata": {},
   "source": [
    "Before moving on, it may be interesting to see how many words are repeated between question and answer limitedly to the question-answer pairs that do display repetitions."
   ]
  },
  {
   "cell_type": "code",
   "execution_count": 125,
   "metadata": {},
   "outputs": [
    {
     "data": {
      "text/plain": [
       "1.1379446640316206"
      ]
     },
     "execution_count": 125,
     "metadata": {},
     "output_type": "execute_result"
    }
   ],
   "source": [
    "jeopardy_justreps = jeopardy[jeopardy[\"shared_words\"] > 0].copy()\n",
    "jeopardy_justreps[\"shared_words\"].mean()"
   ]
  },
  {
   "cell_type": "markdown",
   "metadata": {},
   "source": [
    "When there is indeed a repetition, the results tell that in most cases it is a single-word repetition, further adding to the unreliability of the repetition factor towards gaining a winning edge in the game."
   ]
  },
  {
   "cell_type": "markdown",
   "metadata": {},
   "source": [
    "### Second task \n",
    "*Which words or themes are the most recurrent?*\n",
    "\n",
    "The dataset is a selection of only about 10% of the complete one, so this question cannot be answered fully. The problem can still be investigated though, as long as the fact that the dataset is a sample and not a population is kept in mind. These will be the steps:\n",
    "- Separate and count all words that appear in the questions.\n",
    "- Filtering the set so that only relevant words are left. This should probably involve a pure list of nouns, since these are the words that usually convey a topic or subject the most. Ideally, the list would contain several thousands of English nouns, including separate singular and plural versions of the words since many nouns in English have irregular plural forms. In practice, this is very difficult to achieve. A good compromise may be [this list](http://www.desiquintans.com/nounlist) of 4554 English nouns (as of 23/08/2018). An alternative approach may be filtering out words which are too common (e.g. words that appear in more than 5% of the questions)."
   ]
  },
  {
   "cell_type": "code",
   "execution_count": 126,
   "metadata": {},
   "outputs": [],
   "source": [
    "# The number of appearances of each word in the questions are counted here. A dictionary is used because it is a very fast method\n",
    "# With several thousand words to go through, this is very important\n",
    "words = {}\n",
    "def split_unique(x):\n",
    "    temp = set(x.split(\" \"))\n",
    "    return [w for w in temp]\n",
    "jeopardy[\"wordsplit\"] = jeopardy[\"clean_question\"].apply(split_unique)\n",
    "for j in range(jeopardy.shape[0]):\n",
    "    for w in jeopardy.iat[j,13]:\n",
    "        wdict = {\"count\": 1}\n",
    "        if w in words:\n",
    "            words[w][\"count\"] += 1\n",
    "        else:\n",
    "            words[w] = wdict"
   ]
  },
  {
   "cell_type": "code",
   "execution_count": 127,
   "metadata": {},
   "outputs": [],
   "source": [
    "# The words are filtered using a list of nouns - this will leave out prepositions, articles etc.\n",
    "nouns = pd.read_table(\"nounlist.txt\",header=None).loc[:,0].tolist()\n",
    "filtered_words = {}\n",
    "for w in words:\n",
    "    if w in nouns:\n",
    "        filtered_words[w] = words[w]"
   ]
  },
  {
   "cell_type": "code",
   "execution_count": 128,
   "metadata": {},
   "outputs": [
    {
     "data": {
      "text/html": [
       "<div>\n",
       "<style scoped>\n",
       "    .dataframe tbody tr th:only-of-type {\n",
       "        vertical-align: middle;\n",
       "    }\n",
       "\n",
       "    .dataframe tbody tr th {\n",
       "        vertical-align: top;\n",
       "    }\n",
       "\n",
       "    .dataframe thead th {\n",
       "        text-align: right;\n",
       "    }\n",
       "</style>\n",
       "<table border=\"1\" class=\"dataframe\">\n",
       "  <thead>\n",
       "    <tr style=\"text-align: right;\">\n",
       "      <th></th>\n",
       "      <th>theory</th>\n",
       "      <th>house</th>\n",
       "      <th>life</th>\n",
       "      <th>star</th>\n",
       "      <th>school</th>\n",
       "      <th>football</th>\n",
       "      <th>city</th>\n",
       "      <th>record</th>\n",
       "      <th>year</th>\n",
       "      <th>state</th>\n",
       "      <th>...</th>\n",
       "      <th>gliding</th>\n",
       "      <th>access</th>\n",
       "      <th>astronomy</th>\n",
       "      <th>analog</th>\n",
       "      <th>prose</th>\n",
       "      <th>shack</th>\n",
       "      <th>vitality</th>\n",
       "      <th>percentage</th>\n",
       "      <th>godmother</th>\n",
       "      <th>llama</th>\n",
       "    </tr>\n",
       "  </thead>\n",
       "  <tbody>\n",
       "    <tr>\n",
       "      <th>count</th>\n",
       "      <td>25</td>\n",
       "      <td>160</td>\n",
       "      <td>172</td>\n",
       "      <td>165</td>\n",
       "      <td>115</td>\n",
       "      <td>46</td>\n",
       "      <td>558</td>\n",
       "      <td>61</td>\n",
       "      <td>134</td>\n",
       "      <td>422</td>\n",
       "      <td>...</td>\n",
       "      <td>1</td>\n",
       "      <td>1</td>\n",
       "      <td>1</td>\n",
       "      <td>1</td>\n",
       "      <td>1</td>\n",
       "      <td>1</td>\n",
       "      <td>1</td>\n",
       "      <td>1</td>\n",
       "      <td>1</td>\n",
       "      <td>1</td>\n",
       "    </tr>\n",
       "  </tbody>\n",
       "</table>\n",
       "<p>1 rows × 3137 columns</p>\n",
       "</div>"
      ],
      "text/plain": [
       "       theory  house  life  star  school  football  city  record  year  state  \\\n",
       "count      25    160   172   165     115        46   558      61   134    422   \n",
       "\n",
       "       ...    gliding  access  astronomy  analog  prose  shack  vitality  \\\n",
       "count  ...          1       1          1       1      1      1         1   \n",
       "\n",
       "       percentage  godmother  llama  \n",
       "count           1          1      1  \n",
       "\n",
       "[1 rows x 3137 columns]"
      ]
     },
     "execution_count": 128,
     "metadata": {},
     "output_type": "execute_result"
    }
   ],
   "source": [
    "# The dictionary is converted into a dataframe for ease of analysis\n",
    "word_list_df = pd.DataFrame(filtered_words)\n",
    "word_list_df"
   ]
  },
  {
   "cell_type": "code",
   "execution_count": 129,
   "metadata": {},
   "outputs": [
    {
     "data": {
      "text/html": [
       "<div>\n",
       "<style scoped>\n",
       "    .dataframe tbody tr th:only-of-type {\n",
       "        vertical-align: middle;\n",
       "    }\n",
       "\n",
       "    .dataframe tbody tr th {\n",
       "        vertical-align: top;\n",
       "    }\n",
       "\n",
       "    .dataframe thead th {\n",
       "        text-align: right;\n",
       "    }\n",
       "</style>\n",
       "<table border=\"1\" class=\"dataframe\">\n",
       "  <thead>\n",
       "    <tr style=\"text-align: right;\">\n",
       "      <th></th>\n",
       "      <th>count</th>\n",
       "    </tr>\n",
       "  </thead>\n",
       "  <tbody>\n",
       "    <tr>\n",
       "      <th>theory</th>\n",
       "      <td>25</td>\n",
       "    </tr>\n",
       "    <tr>\n",
       "      <th>house</th>\n",
       "      <td>160</td>\n",
       "    </tr>\n",
       "    <tr>\n",
       "      <th>life</th>\n",
       "      <td>172</td>\n",
       "    </tr>\n",
       "    <tr>\n",
       "      <th>star</th>\n",
       "      <td>165</td>\n",
       "    </tr>\n",
       "    <tr>\n",
       "      <th>school</th>\n",
       "      <td>115</td>\n",
       "    </tr>\n",
       "  </tbody>\n",
       "</table>\n",
       "</div>"
      ],
      "text/plain": [
       "        count\n",
       "theory     25\n",
       "house     160\n",
       "life      172\n",
       "star      165\n",
       "school    115"
      ]
     },
     "execution_count": 129,
     "metadata": {},
     "output_type": "execute_result"
    }
   ],
   "source": [
    "# The dataframe should be transposed\n",
    "word_list_df = word_list_df.transpose()\n",
    "word_list_df.head()"
   ]
  },
  {
   "cell_type": "markdown",
   "metadata": {},
   "source": [
    "Having calculated the number of times each of the words appeared in the list of questions, the word list is ordered by count to produce a set of the most frequent nouns."
   ]
  },
  {
   "cell_type": "code",
   "execution_count": 130,
   "metadata": {},
   "outputs": [
    {
     "data": {
      "text/plain": [
       "Text(0,0.5,'Word')"
      ]
     },
     "execution_count": 130,
     "metadata": {},
     "output_type": "execute_result"
    },
    {
     "data": {
      "image/png": "[encoded data removed]",
      "text/plain": [
       "<Figure size 432x360 with 1 Axes>"
      ]
     },
     "metadata": {},
     "output_type": "display_data"
    }
   ],
   "source": [
    "# Order the dataframe by count and select the first 20 words\n",
    "word_list_df_ordered = word_list_df.sort_values(\"count\", ascending=False)\n",
    "top_20 = word_list_df_ordered.head(20).sort_values(\"count\", ascending=True) # Re-sort the top 20 so that plot.barh shows the most frequent first\n",
    "# Visualise the list using a horizontal bar plot\n",
    "colours = [plt.cm.winter(i) for i in np.linspace(0,1,20)]\n",
    "fig, ax = plt.subplots(figsize=(6,5))\n",
    "top_20.plot.barh(y=\"count\",ax=ax,legend=False,color=colours)\n",
    "ax.set_title(\"Most represented words in Jeopardy question list\")\n",
    "ax.set_xlabel(\"Number of appearances\")\n",
    "ax.set_ylabel(\"Word\")"
   ]
  },
  {
   "cell_type": "markdown",
   "metadata": {},
   "source": [
    "#### Observations\n",
    "- The noun list apparently included \"it\" and \"if\". Their frequency doesn't provide useful information.\n",
    "- The word \"can\" appears, but it is very likely that it mostly appears as a verb. It passed the filter in its meaning as a metal container.\n",
    "- The words \"city\", \"country\", \"state\" all appear in the top 20 list. While \"state\" has ulterior meaning too (as does \"country\" to a lesser degree) this indicates that geography may be a good topic to study in preparation for the game.\n",
    "- The appearance of \"film\" and \"novel\" indicates that cinema and literature may be good topics to study as well. The word \"title\" is present as well and may correlate.\n",
    "- The appearance of \"world\" in the list may indicate that world records are often asked about.\n",
    "- The appearance of \"term\" and \"word\" may indicate that rare and/or technical words are often asked about.\n",
    "- Other words are too generic to identify specific topics and themes to study. Words like \"one\", \"you\", \"man\", \"she\" provide very little specificity, as do \"type\", \"name\" and \"clue\"."
   ]
  },
  {
   "cell_type": "markdown",
   "metadata": {},
   "source": [
    "### Third task \n",
    "*Which words or themes are the most valuable?*\n",
    "\n",
    "Having created a list of nouns which appear in the Jeopardy questions, it is also possible to cross-reference the number of appearances with the value of each question. These will be the steps:\n",
    "- Determine the value of each word as the sum total of the dollar values of all questions which contained the word. The value will be already weighted by the number of occurrences.\n",
    "- Scale to produce a value score metric for each word in the list."
   ]
  },
  {
   "cell_type": "code",
   "execution_count": 131,
   "metadata": {},
   "outputs": [],
   "source": [
    "# The values can be added to the existing 'words' dictionary\n",
    "# Prepare the dictionary\n",
    "for w in words:\n",
    "    words[w][\"value\"] = 0\n",
    "# Fill in the word values\n",
    "for j in range(jeopardy.shape[0]):\n",
    "    for w in jeopardy.iat[j,13]:\n",
    "        words[w][\"value\"] += jeopardy.iat[j,9]"
   ]
  },
  {
   "cell_type": "code",
   "execution_count": 132,
   "metadata": {},
   "outputs": [],
   "source": [
    "### The following steps are repetition of previous ones - counts and values should have been handled together to begin with\n",
    "### The analysis is still presented in this fashion to reflect the incremental nature of the procedure\n",
    "# The words are filtered using a list of nouns - this will leave out prepositions, articles etc.\n",
    "filtered_words = {}\n",
    "for w in words:\n",
    "    if w in nouns:\n",
    "        filtered_words[w] = words[w]"
   ]
  },
  {
   "cell_type": "code",
   "execution_count": 133,
   "metadata": {},
   "outputs": [
    {
     "data": {
      "text/html": [
       "<div>\n",
       "<style scoped>\n",
       "    .dataframe tbody tr th:only-of-type {\n",
       "        vertical-align: middle;\n",
       "    }\n",
       "\n",
       "    .dataframe tbody tr th {\n",
       "        vertical-align: top;\n",
       "    }\n",
       "\n",
       "    .dataframe thead th {\n",
       "        text-align: right;\n",
       "    }\n",
       "</style>\n",
       "<table border=\"1\" class=\"dataframe\">\n",
       "  <thead>\n",
       "    <tr style=\"text-align: right;\">\n",
       "      <th></th>\n",
       "      <th>theory</th>\n",
       "      <th>house</th>\n",
       "      <th>life</th>\n",
       "      <th>star</th>\n",
       "      <th>school</th>\n",
       "      <th>football</th>\n",
       "      <th>city</th>\n",
       "      <th>record</th>\n",
       "      <th>year</th>\n",
       "      <th>state</th>\n",
       "      <th>...</th>\n",
       "      <th>gliding</th>\n",
       "      <th>access</th>\n",
       "      <th>astronomy</th>\n",
       "      <th>analog</th>\n",
       "      <th>prose</th>\n",
       "      <th>shack</th>\n",
       "      <th>vitality</th>\n",
       "      <th>percentage</th>\n",
       "      <th>godmother</th>\n",
       "      <th>llama</th>\n",
       "    </tr>\n",
       "  </thead>\n",
       "  <tbody>\n",
       "    <tr>\n",
       "      <th>count</th>\n",
       "      <td>25</td>\n",
       "      <td>160</td>\n",
       "      <td>172</td>\n",
       "      <td>165</td>\n",
       "      <td>115</td>\n",
       "      <td>46</td>\n",
       "      <td>558</td>\n",
       "      <td>61</td>\n",
       "      <td>134</td>\n",
       "      <td>422</td>\n",
       "      <td>...</td>\n",
       "      <td>1</td>\n",
       "      <td>1</td>\n",
       "      <td>1</td>\n",
       "      <td>1</td>\n",
       "      <td>1</td>\n",
       "      <td>1</td>\n",
       "      <td>1</td>\n",
       "      <td>1</td>\n",
       "      <td>1</td>\n",
       "      <td>1</td>\n",
       "    </tr>\n",
       "    <tr>\n",
       "      <th>value</th>\n",
       "      <td>23200</td>\n",
       "      <td>131500</td>\n",
       "      <td>131100</td>\n",
       "      <td>97500</td>\n",
       "      <td>93700</td>\n",
       "      <td>29800</td>\n",
       "      <td>406800</td>\n",
       "      <td>37500</td>\n",
       "      <td>92900</td>\n",
       "      <td>312900</td>\n",
       "      <td>...</td>\n",
       "      <td>800</td>\n",
       "      <td>1200</td>\n",
       "      <td>1600</td>\n",
       "      <td>200</td>\n",
       "      <td>400</td>\n",
       "      <td>800</td>\n",
       "      <td>400</td>\n",
       "      <td>800</td>\n",
       "      <td>800</td>\n",
       "      <td>100</td>\n",
       "    </tr>\n",
       "  </tbody>\n",
       "</table>\n",
       "<p>2 rows × 3137 columns</p>\n",
       "</div>"
      ],
      "text/plain": [
       "       theory   house    life   star  school  football    city  record   year  \\\n",
       "count      25     160     172    165     115        46     558      61    134   \n",
       "value   23200  131500  131100  97500   93700     29800  406800   37500  92900   \n",
       "\n",
       "        state  ...    gliding  access  astronomy  analog  prose  shack  \\\n",
       "count     422  ...          1       1          1       1      1      1   \n",
       "value  312900  ...        800    1200       1600     200    400    800   \n",
       "\n",
       "       vitality  percentage  godmother  llama  \n",
       "count         1           1          1      1  \n",
       "value       400         800        800    100  \n",
       "\n",
       "[2 rows x 3137 columns]"
      ]
     },
     "execution_count": 133,
     "metadata": {},
     "output_type": "execute_result"
    }
   ],
   "source": [
    "# The dictionary is converted into a dataframe for ease of analysis\n",
    "word_list_df = pd.DataFrame(filtered_words)\n",
    "word_list_df"
   ]
  },
  {
   "cell_type": "code",
   "execution_count": 134,
   "metadata": {},
   "outputs": [
    {
     "data": {
      "text/html": [
       "<div>\n",
       "<style scoped>\n",
       "    .dataframe tbody tr th:only-of-type {\n",
       "        vertical-align: middle;\n",
       "    }\n",
       "\n",
       "    .dataframe tbody tr th {\n",
       "        vertical-align: top;\n",
       "    }\n",
       "\n",
       "    .dataframe thead th {\n",
       "        text-align: right;\n",
       "    }\n",
       "</style>\n",
       "<table border=\"1\" class=\"dataframe\">\n",
       "  <thead>\n",
       "    <tr style=\"text-align: right;\">\n",
       "      <th></th>\n",
       "      <th>count</th>\n",
       "      <th>value</th>\n",
       "    </tr>\n",
       "  </thead>\n",
       "  <tbody>\n",
       "    <tr>\n",
       "      <th>theory</th>\n",
       "      <td>25</td>\n",
       "      <td>23200</td>\n",
       "    </tr>\n",
       "    <tr>\n",
       "      <th>house</th>\n",
       "      <td>160</td>\n",
       "      <td>131500</td>\n",
       "    </tr>\n",
       "    <tr>\n",
       "      <th>life</th>\n",
       "      <td>172</td>\n",
       "      <td>131100</td>\n",
       "    </tr>\n",
       "    <tr>\n",
       "      <th>star</th>\n",
       "      <td>165</td>\n",
       "      <td>97500</td>\n",
       "    </tr>\n",
       "    <tr>\n",
       "      <th>school</th>\n",
       "      <td>115</td>\n",
       "      <td>93700</td>\n",
       "    </tr>\n",
       "  </tbody>\n",
       "</table>\n",
       "</div>"
      ],
      "text/plain": [
       "        count   value\n",
       "theory     25   23200\n",
       "house     160  131500\n",
       "life      172  131100\n",
       "star      165   97500\n",
       "school    115   93700"
      ]
     },
     "execution_count": 134,
     "metadata": {},
     "output_type": "execute_result"
    }
   ],
   "source": [
    "# The dataframe should be transposed\n",
    "word_list_df = word_list_df.transpose()\n",
    "word_list_df.head()"
   ]
  },
  {
   "cell_type": "code",
   "execution_count": 135,
   "metadata": {},
   "outputs": [],
   "source": [
    "# The dollar value is scaled to provide a score metric\n",
    "word_list_df[\"value_score\"] = word_list_df[\"value\"]/word_list_df[\"value\"].max()"
   ]
  },
  {
   "cell_type": "markdown",
   "metadata": {},
   "source": [
    "Having calculated the value score of each of the words, the word list is ordered by count to produce a set of the most valuable nouns."
   ]
  },
  {
   "cell_type": "code",
   "execution_count": 136,
   "metadata": {},
   "outputs": [
    {
     "data": {
      "text/plain": [
       "Text(0,0.5,'Word')"
      ]
     },
     "execution_count": 136,
     "metadata": {},
     "output_type": "execute_result"
    },
    {
     "data": {
      "image/png": "[encoded data removed]",
      "text/plain": [
       "<Figure size 432x360 with 1 Axes>"
      ]
     },
     "metadata": {},
     "output_type": "display_data"
    }
   ],
   "source": [
    "# Order the dataframe by value score and select the first 20 words\n",
    "word_list_df_ordered_val = word_list_df.sort_values(\"value_score\", ascending=False)\n",
    "top_20_val = word_list_df_ordered_val.head(20).sort_values(\"value_score\", ascending=True) # Re-sort the top 20 so that plot.barh shows the most frequent first\n",
    "# Visualise the list using a horizontal bar plot\n",
    "colours = [plt.cm.winter(i) for i in np.linspace(0,1,20)]\n",
    "fig, ax = plt.subplots(figsize=(6,5))\n",
    "top_20_val.plot.barh(y=\"value_score\",ax=ax,legend=False,color=colours)\n",
    "ax.set_title(\"Most valuable words in Jeopardy question list\")\n",
    "ax.set_xlabel(\"Value score [0,1]\")\n",
    "ax.set_ylabel(\"Word\")"
   ]
  },
  {
   "cell_type": "markdown",
   "metadata": {},
   "source": [
    "## Observations\n",
    "- The top 20 largely carries over from the top 20 of word appearances. While the average value per question of these words may be lower than others, the sheer amount of questions containing them propels them to the top of the list.\n",
    "- The word \"part\" is new, but is quite generic."
   ]
  },
  {
   "cell_type": "markdown",
   "metadata": {},
   "source": [
    "# Alternative approach: frequency filter\n",
    "How would the results for the second and third task change if the noun filter was exchanged for a frequency filter i.e. all words more frequent than a set threshold (e.g. 5% of the questions) were removed?"
   ]
  },
  {
   "cell_type": "code",
   "execution_count": 137,
   "metadata": {},
   "outputs": [],
   "source": [
    "# The number of appearances and the value of each word are counted here. \n",
    "words = {}\n",
    "def split_unique(x):\n",
    "    temp = set(x.split(\" \"))\n",
    "    return [w for w in temp]\n",
    "jeopardy[\"wordsplit\"] = jeopardy[\"clean_question\"].apply(split_unique)\n",
    "for j in range(jeopardy.shape[0]):\n",
    "    for w in jeopardy.iat[j,13]:\n",
    "        wdict = {\"count\": 1, \"value\": 0}\n",
    "        if w in words:\n",
    "            words[w][\"count\"] += 1\n",
    "            words[w][\"value\"] += jeopardy.iat[j,9]\n",
    "        else:\n",
    "            words[w] = wdict"
   ]
  },
  {
   "cell_type": "code",
   "execution_count": 138,
   "metadata": {},
   "outputs": [],
   "source": [
    "# The dictionary is converted into a dataframe for ease of analysis and transposed\n",
    "word_list_df = pd.DataFrame(filtered_words)\n",
    "word_list_df = word_list_df.transpose()"
   ]
  },
  {
   "cell_type": "code",
   "execution_count": 139,
   "metadata": {},
   "outputs": [],
   "source": [
    "# The dataframe is filtered by frequency\n",
    "word_list_df = word_list_df[word_list_df[\"count\"].between(1,jeopardy.shape[0]*.05)]"
   ]
  },
  {
   "cell_type": "code",
   "execution_count": 141,
   "metadata": {},
   "outputs": [
    {
     "data": {
      "text/plain": [
       "Text(0,0.5,'Word')"
      ]
     },
     "execution_count": 141,
     "metadata": {},
     "output_type": "execute_result"
    },
    {
     "data": {
      "image/png": "[encoded data removed]",
      "text/plain": [
       "<Figure size 432x360 with 1 Axes>"
      ]
     },
     "metadata": {},
     "output_type": "display_data"
    }
   ],
   "source": [
    "# Order the dataframe by count and select the first 20 words\n",
    "word_list_df_ordered = word_list_df.sort_values(\"count\", ascending=False)\n",
    "top_20 = word_list_df_ordered.head(20).sort_values(\"count\", ascending=True) # Re-sort the top 20 so that plot.barh shows the most frequent first\n",
    "# Visualise the list using a horizontal bar plot\n",
    "colours = [plt.cm.winter(i) for i in np.linspace(0,1,20)]\n",
    "fig, ax = plt.subplots(figsize=(6,5))\n",
    "top_20.plot.barh(y=\"count\",ax=ax,legend=False,color=colours)\n",
    "ax.set_title(\"Most represented words in Jeopardy question list\")\n",
    "ax.set_xlabel(\"Number of appearances\")\n",
    "ax.set_ylabel(\"Word\")"
   ]
  },
  {
   "cell_type": "markdown",
   "metadata": {},
   "source": [
    "#### Observations\n",
    "- The top 20 is largely similar to that given by the previous approach, although \"president\" now appears. US presidents may be a good topic for contestants to study."
   ]
  },
  {
   "cell_type": "code",
   "execution_count": 142,
   "metadata": {},
   "outputs": [],
   "source": [
    "# The dollar value is here scaled to provide a score metric\n",
    "word_list_df[\"value_score\"] = word_list_df[\"value\"]/word_list_df[\"value\"].max()"
   ]
  },
  {
   "cell_type": "code",
   "execution_count": 144,
   "metadata": {},
   "outputs": [
    {
     "data": {
      "text/plain": [
       "Text(0,0.5,'Word')"
      ]
     },
     "execution_count": 144,
     "metadata": {},
     "output_type": "execute_result"
    },
    {
     "data": {
      "image/png": "[encoded data removed]",
      "text/plain": [
       "<Figure size 432x360 with 1 Axes>"
      ]
     },
     "metadata": {},
     "output_type": "display_data"
    }
   ],
   "source": [
    "# Order the dataframe by value score and select the first 20 words\n",
    "word_list_df_ordered_val = word_list_df.sort_values(\"value_score\", ascending=False)\n",
    "top_20_val = word_list_df_ordered_val.head(20).sort_values(\"value_score\", ascending=True) # Re-sort the top 20 so that plot.barh shows the most frequent first\n",
    "# Visualise the list using a horizontal bar plot\n",
    "colours = [plt.cm.winter(i) for i in np.linspace(0,1,20)]\n",
    "fig, ax = plt.subplots(figsize=(6,5))\n",
    "top_20_val.plot.barh(y=\"value_score\",ax=ax,legend=False,color=colours)\n",
    "ax.set_title(\"Most valuable words in Jeopardy question list\")\n",
    "ax.set_xlabel(\"Value score [0,1]\")\n",
    "ax.set_ylabel(\"Word\")"
   ]
  },
  {
   "cell_type": "markdown",
   "metadata": {},
   "source": [
    "#### Observations\n",
    "- Once again the top 20 largely carries over from the top 20 of word appearances. \n",
    "- The word \"king\" appears as well, so king histories and names may be a good topic to study."
   ]
  },
  {
   "cell_type": "code",
   "execution_count": null,
   "metadata": {},
   "outputs": [],
   "source": []
  }
 ],
 "metadata": {
  "kernelspec": {
   "display_name": "Python 3",
   "language": "python",
   "name": "python3"
  },
  "language_info": {
   "codemirror_mode": {
    "name": "ipython",
    "version": 3
   },
   "file_extension": ".py",
   "mimetype": "text/x-python",
   "name": "python",
   "nbconvert_exporter": "python",
   "pygments_lexer": "ipython3",
   "version": "3.6.5"
  }
 },
 "nbformat": 4,
 "nbformat_minor": 1
}
